{
  "nbformat": 4,
  "nbformat_minor": 0,
  "metadata": {
    "kernelspec": {
      "display_name": "Python 3",
      "language": "python",
      "name": "python3"
    },
    "language_info": {
      "codemirror_mode": {
        "name": "ipython",
        "version": 3
      },
      "file_extension": ".py",
      "mimetype": "text/x-python",
      "name": "python",
      "nbconvert_exporter": "python",
      "pygments_lexer": "ipython3",
      "version": "3.6.7"
    },
    "colab": {
      "name": "basic_text_features.ipynb",
      "provenance": []
    }
  },
  "cells": [
    {
      "cell_type": "markdown",
      "metadata": {
        "id": "bhX_8L5hucDa",
        "colab_type": "text"
      },
      "source": [
        "# Basic Text Features"
      ]
    },
    {
      "cell_type": "code",
      "metadata": {
        "id": "fBUIz-NBucDd",
        "colab_type": "code",
        "colab": {}
      },
      "source": [
        "# sample text string\n",
        "text = \"Dark matter is one of the greatest enigmas of astrophysics and cosmology\""
      ],
      "execution_count": 0,
      "outputs": []
    },
    {
      "cell_type": "markdown",
      "metadata": {
        "id": "QKXLpfM1ucDq",
        "colab_type": "text"
      },
      "source": [
        "We will split the string into individual words or tokens. This is also known as __tokenization__."
      ]
    },
    {
      "cell_type": "code",
      "metadata": {
        "id": "7bXC3gkjucDw",
        "colab_type": "code",
        "colab": {},
        "outputId": "82bd6eb1-4055-4bf8-ee77-edf6955d6cfd"
      },
      "source": [
        "# split words of the text\n",
        "text.split()"
      ],
      "execution_count": 0,
      "outputs": [
        {
          "output_type": "execute_result",
          "data": {
            "text/plain": [
              "['Dark',\n",
              " 'matter',\n",
              " 'is',\n",
              " 'one',\n",
              " 'of',\n",
              " 'the',\n",
              " 'greatest',\n",
              " 'enigmas',\n",
              " 'of',\n",
              " 'astrophysics',\n",
              " 'and',\n",
              " 'cosmology']"
            ]
          },
          "metadata": {
            "tags": []
          },
          "execution_count": 2
        }
      ]
    },
    {
      "cell_type": "code",
      "metadata": {
        "id": "KLQnI4ssucD8",
        "colab_type": "code",
        "colab": {}
      },
      "source": [
        "# store the individual words in a variable\n",
        "words = text.split()"
      ],
      "execution_count": 0,
      "outputs": []
    },
    {
      "cell_type": "markdown",
      "metadata": {
        "id": "aMIPRHA4ucEF",
        "colab_type": "text"
      },
      "source": [
        "### 1. Number of Words"
      ]
    },
    {
      "cell_type": "code",
      "metadata": {
        "id": "dFp5gy72ucEI",
        "colab_type": "code",
        "colab": {},
        "outputId": "dfc9fee4-b24d-4fd5-9da0-93d1ea90f843"
      },
      "source": [
        "# word count\n",
        "len(words)"
      ],
      "execution_count": 0,
      "outputs": [
        {
          "output_type": "execute_result",
          "data": {
            "text/plain": [
              "12"
            ]
          },
          "metadata": {
            "tags": []
          },
          "execution_count": 5
        }
      ]
    },
    {
      "cell_type": "markdown",
      "metadata": {
        "id": "CoPRle-jucEQ",
        "colab_type": "text"
      },
      "source": [
        "### 2. Number of Spaces"
      ]
    },
    {
      "cell_type": "code",
      "metadata": {
        "id": "-exJ9LYuucER",
        "colab_type": "code",
        "colab": {},
        "outputId": "d4dd8a48-ee79-4e0a-94bc-247ccd9240a6"
      },
      "source": [
        "# spaces count\n",
        "text.count(' ')"
      ],
      "execution_count": 0,
      "outputs": [
        {
          "output_type": "execute_result",
          "data": {
            "text/plain": [
              "11"
            ]
          },
          "metadata": {
            "tags": []
          },
          "execution_count": 5
        }
      ]
    },
    {
      "cell_type": "markdown",
      "metadata": {
        "id": "6VeORBvjucEc",
        "colab_type": "text"
      },
      "source": [
        "### 3. Number of Characters"
      ]
    },
    {
      "cell_type": "code",
      "metadata": {
        "id": "urE-yApuucEd",
        "colab_type": "code",
        "colab": {},
        "outputId": "da0c7b37-6247-4c06-c44a-e024c528f4cc"
      },
      "source": [
        "# character count\n",
        "len(text)"
      ],
      "execution_count": 0,
      "outputs": [
        {
          "output_type": "execute_result",
          "data": {
            "text/plain": [
              "72"
            ]
          },
          "metadata": {
            "tags": []
          },
          "execution_count": 6
        }
      ]
    },
    {
      "cell_type": "markdown",
      "metadata": {
        "id": "NK9jp8zkucEl",
        "colab_type": "text"
      },
      "source": [
        "Even the spaces have been included."
      ]
    },
    {
      "cell_type": "code",
      "metadata": {
        "id": "RbjjqXq9ucEm",
        "colab_type": "code",
        "colab": {},
        "outputId": "119a55e3-f168-4c85-856d-f2f07164be79"
      },
      "source": [
        "# character count (excluding spaces)\n",
        "len(text)-text.count(' ')"
      ],
      "execution_count": 0,
      "outputs": [
        {
          "output_type": "execute_result",
          "data": {
            "text/plain": [
              "61"
            ]
          },
          "metadata": {
            "tags": []
          },
          "execution_count": 7
        }
      ]
    },
    {
      "cell_type": "markdown",
      "metadata": {
        "id": "VAmsnfJxucEs",
        "colab_type": "text"
      },
      "source": [
        "So, the text string has 61 characters excluding spaces."
      ]
    },
    {
      "cell_type": "markdown",
      "metadata": {
        "id": "4W1Wf6XVucEu",
        "colab_type": "text"
      },
      "source": [
        "### 4. Average Word Length"
      ]
    },
    {
      "cell_type": "code",
      "metadata": {
        "id": "qjRFuAX-ucEw",
        "colab_type": "code",
        "colab": {},
        "outputId": "9130de4a-9326-4b38-c4af-08386be90a9d"
      },
      "source": [
        "# empty list for\n",
        "word_lengths = []\n",
        "\n",
        "for i in text.split():\n",
        "    word_lengths.append(len(i))\n",
        "    \n",
        "print(word_lengths)"
      ],
      "execution_count": 0,
      "outputs": [
        {
          "output_type": "stream",
          "text": [
            "[4, 6, 2, 3, 2, 3, 8, 7, 2, 12, 3, 9]\n"
          ],
          "name": "stdout"
        }
      ]
    },
    {
      "cell_type": "code",
      "metadata": {
        "id": "G8fxqCh3ucE3",
        "colab_type": "code",
        "colab": {},
        "outputId": "3f42554d-9cca-44df-867d-5f275b258710"
      },
      "source": [
        "# average word length\n",
        "sum(word_lengths)/len(word_lengths)"
      ],
      "execution_count": 0,
      "outputs": [
        {
          "output_type": "execute_result",
          "data": {
            "text/plain": [
              "5.083333333333333"
            ]
          },
          "metadata": {
            "tags": []
          },
          "execution_count": 9
        }
      ]
    },
    {
      "cell_type": "markdown",
      "metadata": {
        "id": "iXo5yhG3ucE-",
        "colab_type": "text"
      },
      "source": [
        "---"
      ]
    },
    {
      "cell_type": "markdown",
      "metadata": {
        "id": "KP-YezqBucFA",
        "colab_type": "text"
      },
      "source": [
        "# Create Features for Twitter Dataset\n",
        "\n",
        "Let's create the above mentioned features for a real-life dataset. "
      ]
    },
    {
      "cell_type": "code",
      "metadata": {
        "id": "bYu56wGLucFC",
        "colab_type": "code",
        "colab": {}
      },
      "source": [
        "import pandas as pd"
      ],
      "execution_count": 0,
      "outputs": []
    },
    {
      "cell_type": "code",
      "metadata": {
        "id": "vFIfchHvucFI",
        "colab_type": "code",
        "colab": {}
      },
      "source": [
        "tweets = pd.read_csv(\"tweets.csv\")"
      ],
      "execution_count": 0,
      "outputs": []
    },
    {
      "cell_type": "markdown",
      "metadata": {
        "id": "4oSKtfAWucFR",
        "colab_type": "text"
      },
      "source": [
        "Have a glimpse at the data."
      ]
    },
    {
      "cell_type": "code",
      "metadata": {
        "id": "8ySR4uiCucFS",
        "colab_type": "code",
        "colab": {},
        "outputId": "f1ebe9c2-4d73-42bb-a7a6-3908a9a3f40b"
      },
      "source": [
        "tweets.head()"
      ],
      "execution_count": 0,
      "outputs": [
        {
          "output_type": "execute_result",
          "data": {
            "text/html": [
              "<div>\n",
              "<style scoped>\n",
              "    .dataframe tbody tr th:only-of-type {\n",
              "        vertical-align: middle;\n",
              "    }\n",
              "\n",
              "    .dataframe tbody tr th {\n",
              "        vertical-align: top;\n",
              "    }\n",
              "\n",
              "    .dataframe thead th {\n",
              "        text-align: right;\n",
              "    }\n",
              "</style>\n",
              "<table border=\"1\" class=\"dataframe\">\n",
              "  <thead>\n",
              "    <tr style=\"text-align: right;\">\n",
              "      <th></th>\n",
              "      <th>id</th>\n",
              "      <th>label</th>\n",
              "      <th>tweet</th>\n",
              "    </tr>\n",
              "  </thead>\n",
              "  <tbody>\n",
              "    <tr>\n",
              "      <th>0</th>\n",
              "      <td>1</td>\n",
              "      <td>0</td>\n",
              "      <td>#fingerprint #Pregnancy Test https://goo.gl/h1...</td>\n",
              "    </tr>\n",
              "    <tr>\n",
              "      <th>1</th>\n",
              "      <td>2</td>\n",
              "      <td>0</td>\n",
              "      <td>Finally a transparant silicon case ^^ Thanks t...</td>\n",
              "    </tr>\n",
              "    <tr>\n",
              "      <th>2</th>\n",
              "      <td>3</td>\n",
              "      <td>0</td>\n",
              "      <td>We love this! Would you go? #talk #makememorie...</td>\n",
              "    </tr>\n",
              "    <tr>\n",
              "      <th>3</th>\n",
              "      <td>4</td>\n",
              "      <td>0</td>\n",
              "      <td>I'm wired I know I'm George I was made that wa...</td>\n",
              "    </tr>\n",
              "    <tr>\n",
              "      <th>4</th>\n",
              "      <td>5</td>\n",
              "      <td>1</td>\n",
              "      <td>What amazing service! Apple won't even talk to...</td>\n",
              "    </tr>\n",
              "  </tbody>\n",
              "</table>\n",
              "</div>"
            ],
            "text/plain": [
              "   id  label                                              tweet\n",
              "0   1      0  #fingerprint #Pregnancy Test https://goo.gl/h1...\n",
              "1   2      0  Finally a transparant silicon case ^^ Thanks t...\n",
              "2   3      0  We love this! Would you go? #talk #makememorie...\n",
              "3   4      0  I'm wired I know I'm George I was made that wa...\n",
              "4   5      1  What amazing service! Apple won't even talk to..."
            ]
          },
          "metadata": {
            "tags": []
          },
          "execution_count": 5
        }
      ]
    },
    {
      "cell_type": "markdown",
      "metadata": {
        "id": "wHJv-hi2ucFY",
        "colab_type": "text"
      },
      "source": [
        "This dataset has 3 features right now. \n",
        "\n",
        "1. __id:__ tweet id number, unique for every tweet\n",
        "2. __label:__ 1 for negative tweet and 0 for positive or neutral tweet\n",
        "3. __tweet:__ text data\n",
        "\n",
        "We will create new features from the feature \"tweet\".\n"
      ]
    },
    {
      "cell_type": "markdown",
      "metadata": {
        "id": "6CxWsoEEucFa",
        "colab_type": "text"
      },
      "source": [
        "### 1. Word Count Feature"
      ]
    },
    {
      "cell_type": "code",
      "metadata": {
        "id": "xaIF7dxEucFb",
        "colab_type": "code",
        "colab": {}
      },
      "source": [
        "# number of words/terms in the tweets\n",
        "tweets['word_count'] = [len(i.split()) for i in tweets['tweet']]"
      ],
      "execution_count": 0,
      "outputs": []
    },
    {
      "cell_type": "code",
      "metadata": {
        "id": "roqUkKzeucFi",
        "colab_type": "code",
        "colab": {},
        "outputId": "04e2b000-6e29-464c-e79d-c68c42b89765"
      },
      "source": [
        "tweets.head()"
      ],
      "execution_count": 0,
      "outputs": [
        {
          "output_type": "execute_result",
          "data": {
            "text/html": [
              "<div>\n",
              "<style scoped>\n",
              "    .dataframe tbody tr th:only-of-type {\n",
              "        vertical-align: middle;\n",
              "    }\n",
              "\n",
              "    .dataframe tbody tr th {\n",
              "        vertical-align: top;\n",
              "    }\n",
              "\n",
              "    .dataframe thead th {\n",
              "        text-align: right;\n",
              "    }\n",
              "</style>\n",
              "<table border=\"1\" class=\"dataframe\">\n",
              "  <thead>\n",
              "    <tr style=\"text-align: right;\">\n",
              "      <th></th>\n",
              "      <th>id</th>\n",
              "      <th>label</th>\n",
              "      <th>tweet</th>\n",
              "      <th>word_count</th>\n",
              "    </tr>\n",
              "  </thead>\n",
              "  <tbody>\n",
              "    <tr>\n",
              "      <th>0</th>\n",
              "      <td>1</td>\n",
              "      <td>0</td>\n",
              "      <td>#fingerprint #Pregnancy Test https://goo.gl/h1...</td>\n",
              "      <td>13</td>\n",
              "    </tr>\n",
              "    <tr>\n",
              "      <th>1</th>\n",
              "      <td>2</td>\n",
              "      <td>0</td>\n",
              "      <td>Finally a transparant silicon case ^^ Thanks t...</td>\n",
              "      <td>17</td>\n",
              "    </tr>\n",
              "    <tr>\n",
              "      <th>2</th>\n",
              "      <td>3</td>\n",
              "      <td>0</td>\n",
              "      <td>We love this! Would you go? #talk #makememorie...</td>\n",
              "      <td>15</td>\n",
              "    </tr>\n",
              "    <tr>\n",
              "      <th>3</th>\n",
              "      <td>4</td>\n",
              "      <td>0</td>\n",
              "      <td>I'm wired I know I'm George I was made that wa...</td>\n",
              "      <td>17</td>\n",
              "    </tr>\n",
              "    <tr>\n",
              "      <th>4</th>\n",
              "      <td>5</td>\n",
              "      <td>1</td>\n",
              "      <td>What amazing service! Apple won't even talk to...</td>\n",
              "      <td>23</td>\n",
              "    </tr>\n",
              "  </tbody>\n",
              "</table>\n",
              "</div>"
            ],
            "text/plain": [
              "   id  label                                              tweet  word_count\n",
              "0   1      0  #fingerprint #Pregnancy Test https://goo.gl/h1...          13\n",
              "1   2      0  Finally a transparant silicon case ^^ Thanks t...          17\n",
              "2   3      0  We love this! Would you go? #talk #makememorie...          15\n",
              "3   4      0  I'm wired I know I'm George I was made that wa...          17\n",
              "4   5      1  What amazing service! Apple won't even talk to...          23"
            ]
          },
          "metadata": {
            "tags": []
          },
          "execution_count": 7
        }
      ]
    },
    {
      "cell_type": "markdown",
      "metadata": {
        "id": "_6A2YSuHucFn",
        "colab_type": "text"
      },
      "source": [
        "As you can see, we have a new feature __word_count__. Now let's create a feature of number of spaces in the tweets."
      ]
    },
    {
      "cell_type": "markdown",
      "metadata": {
        "id": "kGvUBpWrucFq",
        "colab_type": "text"
      },
      "source": [
        "### 2. Space Count Feature"
      ]
    },
    {
      "cell_type": "code",
      "metadata": {
        "id": "TxJbkBBCucFs",
        "colab_type": "code",
        "colab": {}
      },
      "source": [
        "tweets['space_count'] = [i.count(' ') for i in tweets['tweet']]"
      ],
      "execution_count": 0,
      "outputs": []
    },
    {
      "cell_type": "code",
      "metadata": {
        "id": "0pVXsK1zucFw",
        "colab_type": "code",
        "colab": {},
        "outputId": "42a34cd7-fe73-454c-fe9c-4c4c9f6f08ae"
      },
      "source": [
        "tweets.head()"
      ],
      "execution_count": 0,
      "outputs": [
        {
          "output_type": "execute_result",
          "data": {
            "text/html": [
              "<div>\n",
              "<style scoped>\n",
              "    .dataframe tbody tr th:only-of-type {\n",
              "        vertical-align: middle;\n",
              "    }\n",
              "\n",
              "    .dataframe tbody tr th {\n",
              "        vertical-align: top;\n",
              "    }\n",
              "\n",
              "    .dataframe thead th {\n",
              "        text-align: right;\n",
              "    }\n",
              "</style>\n",
              "<table border=\"1\" class=\"dataframe\">\n",
              "  <thead>\n",
              "    <tr style=\"text-align: right;\">\n",
              "      <th></th>\n",
              "      <th>id</th>\n",
              "      <th>label</th>\n",
              "      <th>tweet</th>\n",
              "      <th>word_count</th>\n",
              "      <th>space_count</th>\n",
              "    </tr>\n",
              "  </thead>\n",
              "  <tbody>\n",
              "    <tr>\n",
              "      <th>0</th>\n",
              "      <td>1</td>\n",
              "      <td>0</td>\n",
              "      <td>#fingerprint #Pregnancy Test https://goo.gl/h1...</td>\n",
              "      <td>13</td>\n",
              "      <td>12</td>\n",
              "    </tr>\n",
              "    <tr>\n",
              "      <th>1</th>\n",
              "      <td>2</td>\n",
              "      <td>0</td>\n",
              "      <td>Finally a transparant silicon case ^^ Thanks t...</td>\n",
              "      <td>17</td>\n",
              "      <td>16</td>\n",
              "    </tr>\n",
              "    <tr>\n",
              "      <th>2</th>\n",
              "      <td>3</td>\n",
              "      <td>0</td>\n",
              "      <td>We love this! Would you go? #talk #makememorie...</td>\n",
              "      <td>15</td>\n",
              "      <td>14</td>\n",
              "    </tr>\n",
              "    <tr>\n",
              "      <th>3</th>\n",
              "      <td>4</td>\n",
              "      <td>0</td>\n",
              "      <td>I'm wired I know I'm George I was made that wa...</td>\n",
              "      <td>17</td>\n",
              "      <td>16</td>\n",
              "    </tr>\n",
              "    <tr>\n",
              "      <th>4</th>\n",
              "      <td>5</td>\n",
              "      <td>1</td>\n",
              "      <td>What amazing service! Apple won't even talk to...</td>\n",
              "      <td>23</td>\n",
              "      <td>22</td>\n",
              "    </tr>\n",
              "  </tbody>\n",
              "</table>\n",
              "</div>"
            ],
            "text/plain": [
              "   id  label                                              tweet  word_count  \\\n",
              "0   1      0  #fingerprint #Pregnancy Test https://goo.gl/h1...          13   \n",
              "1   2      0  Finally a transparant silicon case ^^ Thanks t...          17   \n",
              "2   3      0  We love this! Would you go? #talk #makememorie...          15   \n",
              "3   4      0  I'm wired I know I'm George I was made that wa...          17   \n",
              "4   5      1  What amazing service! Apple won't even talk to...          23   \n",
              "\n",
              "   space_count  \n",
              "0           12  \n",
              "1           16  \n",
              "2           14  \n",
              "3           16  \n",
              "4           22  "
            ]
          },
          "metadata": {
            "tags": []
          },
          "execution_count": 9
        }
      ]
    },
    {
      "cell_type": "markdown",
      "metadata": {
        "id": "QF6GgSawucF3",
        "colab_type": "text"
      },
      "source": [
        "### 3. Character Count Feature"
      ]
    },
    {
      "cell_type": "code",
      "metadata": {
        "id": "NTkV-XYaucF4",
        "colab_type": "code",
        "colab": {}
      },
      "source": [
        "tweets['character_count'] = [len(i) - i.count(' ') for i in tweets['tweet']]"
      ],
      "execution_count": 0,
      "outputs": []
    },
    {
      "cell_type": "code",
      "metadata": {
        "id": "DEwOONkyucGD",
        "colab_type": "code",
        "colab": {},
        "outputId": "15f163b4-7196-4fdf-faa1-e4b1465b00bc"
      },
      "source": [
        "tweets.head()"
      ],
      "execution_count": 0,
      "outputs": [
        {
          "output_type": "execute_result",
          "data": {
            "text/html": [
              "<div>\n",
              "<style scoped>\n",
              "    .dataframe tbody tr th:only-of-type {\n",
              "        vertical-align: middle;\n",
              "    }\n",
              "\n",
              "    .dataframe tbody tr th {\n",
              "        vertical-align: top;\n",
              "    }\n",
              "\n",
              "    .dataframe thead th {\n",
              "        text-align: right;\n",
              "    }\n",
              "</style>\n",
              "<table border=\"1\" class=\"dataframe\">\n",
              "  <thead>\n",
              "    <tr style=\"text-align: right;\">\n",
              "      <th></th>\n",
              "      <th>id</th>\n",
              "      <th>label</th>\n",
              "      <th>tweet</th>\n",
              "      <th>word_count</th>\n",
              "      <th>space_count</th>\n",
              "      <th>character_count</th>\n",
              "    </tr>\n",
              "  </thead>\n",
              "  <tbody>\n",
              "    <tr>\n",
              "      <th>0</th>\n",
              "      <td>1</td>\n",
              "      <td>0</td>\n",
              "      <td>#fingerprint #Pregnancy Test https://goo.gl/h1...</td>\n",
              "      <td>13</td>\n",
              "      <td>12</td>\n",
              "      <td>116</td>\n",
              "    </tr>\n",
              "    <tr>\n",
              "      <th>1</th>\n",
              "      <td>2</td>\n",
              "      <td>0</td>\n",
              "      <td>Finally a transparant silicon case ^^ Thanks t...</td>\n",
              "      <td>17</td>\n",
              "      <td>16</td>\n",
              "      <td>115</td>\n",
              "    </tr>\n",
              "    <tr>\n",
              "      <th>2</th>\n",
              "      <td>3</td>\n",
              "      <td>0</td>\n",
              "      <td>We love this! Would you go? #talk #makememorie...</td>\n",
              "      <td>15</td>\n",
              "      <td>14</td>\n",
              "      <td>109</td>\n",
              "    </tr>\n",
              "    <tr>\n",
              "      <th>3</th>\n",
              "      <td>4</td>\n",
              "      <td>0</td>\n",
              "      <td>I'm wired I know I'm George I was made that wa...</td>\n",
              "      <td>17</td>\n",
              "      <td>16</td>\n",
              "      <td>96</td>\n",
              "    </tr>\n",
              "    <tr>\n",
              "      <th>4</th>\n",
              "      <td>5</td>\n",
              "      <td>1</td>\n",
              "      <td>What amazing service! Apple won't even talk to...</td>\n",
              "      <td>23</td>\n",
              "      <td>22</td>\n",
              "      <td>102</td>\n",
              "    </tr>\n",
              "  </tbody>\n",
              "</table>\n",
              "</div>"
            ],
            "text/plain": [
              "   id  label                                              tweet  word_count  \\\n",
              "0   1      0  #fingerprint #Pregnancy Test https://goo.gl/h1...          13   \n",
              "1   2      0  Finally a transparant silicon case ^^ Thanks t...          17   \n",
              "2   3      0  We love this! Would you go? #talk #makememorie...          15   \n",
              "3   4      0  I'm wired I know I'm George I was made that wa...          17   \n",
              "4   5      1  What amazing service! Apple won't even talk to...          23   \n",
              "\n",
              "   space_count  character_count  \n",
              "0           12              116  \n",
              "1           16              115  \n",
              "2           14              109  \n",
              "3           16               96  \n",
              "4           22              102  "
            ]
          },
          "metadata": {
            "tags": []
          },
          "execution_count": 11
        }
      ]
    },
    {
      "cell_type": "markdown",
      "metadata": {
        "id": "0QLgYM-3ucGK",
        "colab_type": "text"
      },
      "source": [
        "### 4. Average Word Length Feature"
      ]
    },
    {
      "cell_type": "code",
      "metadata": {
        "id": "TwygThKbucGM",
        "colab_type": "code",
        "colab": {}
      },
      "source": [
        "avg_word_length = []\n",
        "\n",
        "# nested for loop\n",
        "for i in tweets['tweet']:\n",
        "    word_lengths = []\n",
        "    for j in i.split():\n",
        "        # length of terms in a tweet\n",
        "        word_lengths.append(len(j))\n",
        "    \n",
        "    # average word length of a tweet\n",
        "    l = sum(word_lengths)/len(word_lengths)\n",
        "    \n",
        "    avg_word_length.append(l)"
      ],
      "execution_count": 0,
      "outputs": []
    },
    {
      "cell_type": "code",
      "metadata": {
        "id": "zd6gmVjMucGR",
        "colab_type": "code",
        "colab": {}
      },
      "source": [
        "# create new feature \n",
        "tweets['average_word_length'] = avg_word_length"
      ],
      "execution_count": 0,
      "outputs": []
    },
    {
      "cell_type": "markdown",
      "metadata": {
        "id": "LxBOkbISucGX",
        "colab_type": "text"
      },
      "source": [
        "# Build Model"
      ]
    },
    {
      "cell_type": "code",
      "metadata": {
        "id": "WHzG6TV1ucGY",
        "colab_type": "code",
        "colab": {},
        "outputId": "69d36a79-b692-4443-e09e-dde05a1311d2"
      },
      "source": [
        "tweets.head()"
      ],
      "execution_count": 0,
      "outputs": [
        {
          "output_type": "execute_result",
          "data": {
            "text/html": [
              "<div>\n",
              "<style scoped>\n",
              "    .dataframe tbody tr th:only-of-type {\n",
              "        vertical-align: middle;\n",
              "    }\n",
              "\n",
              "    .dataframe tbody tr th {\n",
              "        vertical-align: top;\n",
              "    }\n",
              "\n",
              "    .dataframe thead th {\n",
              "        text-align: right;\n",
              "    }\n",
              "</style>\n",
              "<table border=\"1\" class=\"dataframe\">\n",
              "  <thead>\n",
              "    <tr style=\"text-align: right;\">\n",
              "      <th></th>\n",
              "      <th>id</th>\n",
              "      <th>label</th>\n",
              "      <th>tweet</th>\n",
              "      <th>word_count</th>\n",
              "      <th>space_count</th>\n",
              "      <th>character_count</th>\n",
              "      <th>average_word_length</th>\n",
              "    </tr>\n",
              "  </thead>\n",
              "  <tbody>\n",
              "    <tr>\n",
              "      <th>0</th>\n",
              "      <td>1</td>\n",
              "      <td>0</td>\n",
              "      <td>#fingerprint #Pregnancy Test https://goo.gl/h1...</td>\n",
              "      <td>13</td>\n",
              "      <td>12</td>\n",
              "      <td>116</td>\n",
              "      <td>8.923077</td>\n",
              "    </tr>\n",
              "    <tr>\n",
              "      <th>1</th>\n",
              "      <td>2</td>\n",
              "      <td>0</td>\n",
              "      <td>Finally a transparant silicon case ^^ Thanks t...</td>\n",
              "      <td>17</td>\n",
              "      <td>16</td>\n",
              "      <td>115</td>\n",
              "      <td>6.764706</td>\n",
              "    </tr>\n",
              "    <tr>\n",
              "      <th>2</th>\n",
              "      <td>3</td>\n",
              "      <td>0</td>\n",
              "      <td>We love this! Would you go? #talk #makememorie...</td>\n",
              "      <td>15</td>\n",
              "      <td>14</td>\n",
              "      <td>109</td>\n",
              "      <td>7.266667</td>\n",
              "    </tr>\n",
              "    <tr>\n",
              "      <th>3</th>\n",
              "      <td>4</td>\n",
              "      <td>0</td>\n",
              "      <td>I'm wired I know I'm George I was made that wa...</td>\n",
              "      <td>17</td>\n",
              "      <td>16</td>\n",
              "      <td>96</td>\n",
              "      <td>5.647059</td>\n",
              "    </tr>\n",
              "    <tr>\n",
              "      <th>4</th>\n",
              "      <td>5</td>\n",
              "      <td>1</td>\n",
              "      <td>What amazing service! Apple won't even talk to...</td>\n",
              "      <td>23</td>\n",
              "      <td>22</td>\n",
              "      <td>102</td>\n",
              "      <td>4.434783</td>\n",
              "    </tr>\n",
              "  </tbody>\n",
              "</table>\n",
              "</div>"
            ],
            "text/plain": [
              "   id  label                                              tweet  word_count  \\\n",
              "0   1      0  #fingerprint #Pregnancy Test https://goo.gl/h1...          13   \n",
              "1   2      0  Finally a transparant silicon case ^^ Thanks t...          17   \n",
              "2   3      0  We love this! Would you go? #talk #makememorie...          15   \n",
              "3   4      0  I'm wired I know I'm George I was made that wa...          17   \n",
              "4   5      1  What amazing service! Apple won't even talk to...          23   \n",
              "\n",
              "   space_count  character_count  average_word_length  \n",
              "0           12              116             8.923077  \n",
              "1           16              115             6.764706  \n",
              "2           14              109             7.266667  \n",
              "3           16               96             5.647059  \n",
              "4           22              102             4.434783  "
            ]
          },
          "metadata": {
            "tags": []
          },
          "execution_count": 14
        }
      ]
    },
    {
      "cell_type": "code",
      "metadata": {
        "id": "WZ7hrpgNucGf",
        "colab_type": "code",
        "colab": {}
      },
      "source": [
        "X = tweets[['word_count', 'space_count', 'character_count', 'average_word_length']]\n",
        "y = tweets['label']"
      ],
      "execution_count": 0,
      "outputs": []
    },
    {
      "cell_type": "code",
      "metadata": {
        "id": "Q9lpVoRjucGj",
        "colab_type": "code",
        "colab": {}
      },
      "source": [
        "from sklearn.linear_model import LogisticRegression\n",
        "from sklearn.model_selection import train_test_split\n",
        "from sklearn.metrics import roc_auc_score\n",
        "from sklearn.preprocessing import StandardScaler # for standardization"
      ],
      "execution_count": 0,
      "outputs": []
    },
    {
      "cell_type": "code",
      "metadata": {
        "id": "a21bGfsEucGq",
        "colab_type": "code",
        "colab": {},
        "outputId": "a2286386-13d7-4c8d-dbe5-6a81d094957f"
      },
      "source": [
        "# split dataset into train and test set\n",
        "xtrain, xtest, ytrain, ytest = train_test_split(StandardScaler().fit_transform(X), y, \n",
        "                                                test_size=0.33, random_state=42)"
      ],
      "execution_count": 0,
      "outputs": [
        {
          "output_type": "stream",
          "text": [
            "/home/analyticsvidhya/miniconda3/envs/datahack/lib/python3.6/site-packages/sklearn/preprocessing/data.py:625: DataConversionWarning: Data with input dtype int64, float64 were all converted to float64 by StandardScaler.\n",
            "  return self.partial_fit(X, y)\n",
            "/home/analyticsvidhya/miniconda3/envs/datahack/lib/python3.6/site-packages/sklearn/base.py:462: DataConversionWarning: Data with input dtype int64, float64 were all converted to float64 by StandardScaler.\n",
            "  return self.fit(X, **fit_params).transform(X)\n"
          ],
          "name": "stderr"
        }
      ]
    },
    {
      "cell_type": "code",
      "metadata": {
        "id": "4XeNSfwbucGu",
        "colab_type": "code",
        "colab": {},
        "outputId": "6ed6b339-f335-4124-a050-3d078788da4b"
      },
      "source": [
        "xtrain.shape, xtest.shape"
      ],
      "execution_count": 0,
      "outputs": [
        {
          "output_type": "execute_result",
          "data": {
            "text/plain": [
              "((5306, 4), (2614, 4))"
            ]
          },
          "metadata": {
            "tags": []
          },
          "execution_count": 38
        }
      ]
    },
    {
      "cell_type": "code",
      "metadata": {
        "id": "vdt7BNUVucG0",
        "colab_type": "code",
        "colab": {},
        "outputId": "f55fd86d-33a9-4fb5-b6e6-5c4c047774c0"
      },
      "source": [
        "# fit model\n",
        "lr = LogisticRegression()\n",
        "lr.fit(xtrain, ytrain)"
      ],
      "execution_count": 0,
      "outputs": [
        {
          "output_type": "stream",
          "text": [
            "/home/analyticsvidhya/miniconda3/envs/datahack/lib/python3.6/site-packages/sklearn/linear_model/logistic.py:433: FutureWarning: Default solver will be changed to 'lbfgs' in 0.22. Specify a solver to silence this warning.\n",
            "  FutureWarning)\n"
          ],
          "name": "stderr"
        },
        {
          "output_type": "execute_result",
          "data": {
            "text/plain": [
              "LogisticRegression(C=1.0, class_weight=None, dual=False, fit_intercept=True,\n",
              "          intercept_scaling=1, max_iter=100, multi_class='warn',\n",
              "          n_jobs=None, penalty='l2', random_state=None, solver='warn',\n",
              "          tol=0.0001, verbose=0, warm_start=False)"
            ]
          },
          "metadata": {
            "tags": []
          },
          "execution_count": 40
        }
      ]
    },
    {
      "cell_type": "code",
      "metadata": {
        "id": "2OsSOSV0ucG4",
        "colab_type": "code",
        "colab": {}
      },
      "source": [
        "# predict on test set\n",
        "preds = lr.predict_proba(xtest)"
      ],
      "execution_count": 0,
      "outputs": []
    },
    {
      "cell_type": "code",
      "metadata": {
        "id": "9MsnC21yucG9",
        "colab_type": "code",
        "colab": {},
        "outputId": "ea2601cf-858c-4680-a663-491ffc72b916"
      },
      "source": [
        "preds"
      ],
      "execution_count": 0,
      "outputs": [
        {
          "output_type": "execute_result",
          "data": {
            "text/plain": [
              "array([[0.92237069, 0.07762931],\n",
              "       [0.59906325, 0.40093675],\n",
              "       [0.95121387, 0.04878613],\n",
              "       ...,\n",
              "       [0.22827648, 0.77172352],\n",
              "       [0.57339926, 0.42660074],\n",
              "       [0.85059379, 0.14940621]])"
            ]
          },
          "metadata": {
            "tags": []
          },
          "execution_count": 42
        }
      ]
    },
    {
      "cell_type": "code",
      "metadata": {
        "id": "8GxDVfjtucHF",
        "colab_type": "code",
        "colab": {},
        "outputId": "1a81e034-c490-41a2-ad1c-7a2795960ff6"
      },
      "source": [
        "roc_auc_score(ytest, preds[:,1])"
      ],
      "execution_count": 0,
      "outputs": [
        {
          "output_type": "execute_result",
          "data": {
            "text/plain": [
              "0.8634915906355785"
            ]
          },
          "metadata": {
            "tags": []
          },
          "execution_count": 43
        }
      ]
    }
  ]
}