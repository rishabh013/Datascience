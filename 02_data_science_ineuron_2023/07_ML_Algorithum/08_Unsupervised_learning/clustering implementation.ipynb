{
 "cells": [
  {
   "cell_type": "markdown",
   "id": "bbf1ac6f",
   "metadata": {},
   "source": [
    "kmeans clustering\n",
    "\n",
    "hirarchical clustering\n",
    "\n",
    "dbscan clustering"
   ]
  },
  {
   "cell_type": "code",
   "execution_count": 1,
   "id": "ddc814cd",
   "metadata": {},
   "outputs": [
    {
     "name": "stderr",
     "output_type": "stream",
     "text": [
      "/home/user01/.local/lib/python3.8/site-packages/pandas/core/computation/expressions.py:20: UserWarning: Pandas requires version '2.7.3' or newer of 'numexpr' (version '2.7.1' currently installed).\n",
      "  from pandas.core.computation.check import NUMEXPR_INSTALLED\n"
     ]
    }
   ],
   "source": [
    "import pandas as pd\n",
    "import numpy as np\n",
    "import matplotlib.pyplot as plt\n",
    "from sklearn.datasets import make_blobs"
   ]
  },
  {
   "cell_type": "code",
   "execution_count": 2,
   "id": "d494e9bc",
   "metadata": {},
   "outputs": [],
   "source": [
    "from sklearn.cluster import KMeans\n",
    "X = np.array([[1, 2], [1, 4], [1, 0],[10, 2], [10, 4], [10, 0],[100,110],[1000,1200]])"
   ]
  },
  {
   "cell_type": "code",
   "execution_count": 3,
   "id": "65733032",
   "metadata": {},
   "outputs": [
    {
     "data": {
      "text/plain": [
       "dtype('int64')"
      ]
     },
     "execution_count": 3,
     "metadata": {},
     "output_type": "execute_result"
    }
   ],
   "source": [
    "X.dtype"
   ]
  },
  {
   "cell_type": "code",
   "execution_count": 4,
   "id": "f73434d2",
   "metadata": {},
   "outputs": [
    {
     "data": {
      "text/plain": [
       "array([[   1,    2],\n",
       "       [   1,    4],\n",
       "       [   1,    0],\n",
       "       [  10,    2],\n",
       "       [  10,    4],\n",
       "       [  10,    0],\n",
       "       [ 100,  110],\n",
       "       [1000, 1200]])"
      ]
     },
     "execution_count": 4,
     "metadata": {},
     "output_type": "execute_result"
    }
   ],
   "source": [
    "X"
   ]
  },
  {
   "cell_type": "code",
   "execution_count": 5,
   "id": "8c65dfd9",
   "metadata": {},
   "outputs": [],
   "source": [
    "kmeans = KMeans(n_clusters=4)"
   ]
  },
  {
   "cell_type": "code",
   "execution_count": 6,
   "id": "e638a1e8",
   "metadata": {},
   "outputs": [
    {
     "name": "stderr",
     "output_type": "stream",
     "text": [
      "/home/user01/.local/lib/python3.8/site-packages/sklearn/cluster/_kmeans.py:870: FutureWarning: The default value of `n_init` will change from 10 to 'auto' in 1.4. Set the value of `n_init` explicitly to suppress the warning\n",
      "  warnings.warn(\n"
     ]
    },
    {
     "data": {
      "text/html": [
       "<style>#sk-container-id-1 {color: black;background-color: white;}#sk-container-id-1 pre{padding: 0;}#sk-container-id-1 div.sk-toggleable {background-color: white;}#sk-container-id-1 label.sk-toggleable__label {cursor: pointer;display: block;width: 100%;margin-bottom: 0;padding: 0.3em;box-sizing: border-box;text-align: center;}#sk-container-id-1 label.sk-toggleable__label-arrow:before {content: \"▸\";float: left;margin-right: 0.25em;color: #696969;}#sk-container-id-1 label.sk-toggleable__label-arrow:hover:before {color: black;}#sk-container-id-1 div.sk-estimator:hover label.sk-toggleable__label-arrow:before {color: black;}#sk-container-id-1 div.sk-toggleable__content {max-height: 0;max-width: 0;overflow: hidden;text-align: left;background-color: #f0f8ff;}#sk-container-id-1 div.sk-toggleable__content pre {margin: 0.2em;color: black;border-radius: 0.25em;background-color: #f0f8ff;}#sk-container-id-1 input.sk-toggleable__control:checked~div.sk-toggleable__content {max-height: 200px;max-width: 100%;overflow: auto;}#sk-container-id-1 input.sk-toggleable__control:checked~label.sk-toggleable__label-arrow:before {content: \"▾\";}#sk-container-id-1 div.sk-estimator input.sk-toggleable__control:checked~label.sk-toggleable__label {background-color: #d4ebff;}#sk-container-id-1 div.sk-label input.sk-toggleable__control:checked~label.sk-toggleable__label {background-color: #d4ebff;}#sk-container-id-1 input.sk-hidden--visually {border: 0;clip: rect(1px 1px 1px 1px);clip: rect(1px, 1px, 1px, 1px);height: 1px;margin: -1px;overflow: hidden;padding: 0;position: absolute;width: 1px;}#sk-container-id-1 div.sk-estimator {font-family: monospace;background-color: #f0f8ff;border: 1px dotted black;border-radius: 0.25em;box-sizing: border-box;margin-bottom: 0.5em;}#sk-container-id-1 div.sk-estimator:hover {background-color: #d4ebff;}#sk-container-id-1 div.sk-parallel-item::after {content: \"\";width: 100%;border-bottom: 1px solid gray;flex-grow: 1;}#sk-container-id-1 div.sk-label:hover label.sk-toggleable__label {background-color: #d4ebff;}#sk-container-id-1 div.sk-serial::before {content: \"\";position: absolute;border-left: 1px solid gray;box-sizing: border-box;top: 0;bottom: 0;left: 50%;z-index: 0;}#sk-container-id-1 div.sk-serial {display: flex;flex-direction: column;align-items: center;background-color: white;padding-right: 0.2em;padding-left: 0.2em;position: relative;}#sk-container-id-1 div.sk-item {position: relative;z-index: 1;}#sk-container-id-1 div.sk-parallel {display: flex;align-items: stretch;justify-content: center;background-color: white;position: relative;}#sk-container-id-1 div.sk-item::before, #sk-container-id-1 div.sk-parallel-item::before {content: \"\";position: absolute;border-left: 1px solid gray;box-sizing: border-box;top: 0;bottom: 0;left: 50%;z-index: -1;}#sk-container-id-1 div.sk-parallel-item {display: flex;flex-direction: column;z-index: 1;position: relative;background-color: white;}#sk-container-id-1 div.sk-parallel-item:first-child::after {align-self: flex-end;width: 50%;}#sk-container-id-1 div.sk-parallel-item:last-child::after {align-self: flex-start;width: 50%;}#sk-container-id-1 div.sk-parallel-item:only-child::after {width: 0;}#sk-container-id-1 div.sk-dashed-wrapped {border: 1px dashed gray;margin: 0 0.4em 0.5em 0.4em;box-sizing: border-box;padding-bottom: 0.4em;background-color: white;}#sk-container-id-1 div.sk-label label {font-family: monospace;font-weight: bold;display: inline-block;line-height: 1.2em;}#sk-container-id-1 div.sk-label-container {text-align: center;}#sk-container-id-1 div.sk-container {/* jupyter's `normalize.less` sets `[hidden] { display: none; }` but bootstrap.min.css set `[hidden] { display: none !important; }` so we also need the `!important` here to be able to override the default hidden behavior on the sphinx rendered scikit-learn.org. See: https://github.com/scikit-learn/scikit-learn/issues/21755 */display: inline-block !important;position: relative;}#sk-container-id-1 div.sk-text-repr-fallback {display: none;}</style><div id=\"sk-container-id-1\" class=\"sk-top-container\"><div class=\"sk-text-repr-fallback\"><pre>KMeans(n_clusters=4)</pre><b>In a Jupyter environment, please rerun this cell to show the HTML representation or trust the notebook. <br />On GitHub, the HTML representation is unable to render, please try loading this page with nbviewer.org.</b></div><div class=\"sk-container\" hidden><div class=\"sk-item\"><div class=\"sk-estimator sk-toggleable\"><input class=\"sk-toggleable__control sk-hidden--visually\" id=\"sk-estimator-id-1\" type=\"checkbox\" checked><label for=\"sk-estimator-id-1\" class=\"sk-toggleable__label sk-toggleable__label-arrow\">KMeans</label><div class=\"sk-toggleable__content\"><pre>KMeans(n_clusters=4)</pre></div></div></div></div></div>"
      ],
      "text/plain": [
       "KMeans(n_clusters=4)"
      ]
     },
     "execution_count": 6,
     "metadata": {},
     "output_type": "execute_result"
    }
   ],
   "source": [
    "kmeans.fit(X)"
   ]
  },
  {
   "cell_type": "code",
   "execution_count": 7,
   "id": "02a4f17e",
   "metadata": {},
   "outputs": [
    {
     "data": {
      "text/plain": [
       "array([0, 0, 0, 3, 3, 3, 2, 1], dtype=int32)"
      ]
     },
     "execution_count": 7,
     "metadata": {},
     "output_type": "execute_result"
    }
   ],
   "source": [
    "kmeans.labels_"
   ]
  },
  {
   "cell_type": "code",
   "execution_count": 8,
   "id": "d7b3ca78",
   "metadata": {},
   "outputs": [],
   "source": [
    "data=pd.DataFrame(X)"
   ]
  },
  {
   "cell_type": "code",
   "execution_count": 9,
   "id": "405af123",
   "metadata": {},
   "outputs": [],
   "source": [
    "labels=pd.DataFrame(kmeans.labels_)"
   ]
  },
  {
   "cell_type": "code",
   "execution_count": 10,
   "id": "faa479f9",
   "metadata": {},
   "outputs": [],
   "source": [
    "datawithlabel=pd.concat([data,labels],axis=1)"
   ]
  },
  {
   "cell_type": "code",
   "execution_count": 11,
   "id": "9ab20d83",
   "metadata": {},
   "outputs": [
    {
     "data": {
      "text/html": [
       "<div>\n",
       "<style scoped>\n",
       "    .dataframe tbody tr th:only-of-type {\n",
       "        vertical-align: middle;\n",
       "    }\n",
       "\n",
       "    .dataframe tbody tr th {\n",
       "        vertical-align: top;\n",
       "    }\n",
       "\n",
       "    .dataframe thead th {\n",
       "        text-align: right;\n",
       "    }\n",
       "</style>\n",
       "<table border=\"1\" class=\"dataframe\">\n",
       "  <thead>\n",
       "    <tr style=\"text-align: right;\">\n",
       "      <th></th>\n",
       "      <th>0</th>\n",
       "      <th>1</th>\n",
       "      <th>0</th>\n",
       "    </tr>\n",
       "  </thead>\n",
       "  <tbody>\n",
       "    <tr>\n",
       "      <th>0</th>\n",
       "      <td>1</td>\n",
       "      <td>2</td>\n",
       "      <td>0</td>\n",
       "    </tr>\n",
       "    <tr>\n",
       "      <th>1</th>\n",
       "      <td>1</td>\n",
       "      <td>4</td>\n",
       "      <td>0</td>\n",
       "    </tr>\n",
       "    <tr>\n",
       "      <th>2</th>\n",
       "      <td>1</td>\n",
       "      <td>0</td>\n",
       "      <td>0</td>\n",
       "    </tr>\n",
       "    <tr>\n",
       "      <th>3</th>\n",
       "      <td>10</td>\n",
       "      <td>2</td>\n",
       "      <td>3</td>\n",
       "    </tr>\n",
       "    <tr>\n",
       "      <th>4</th>\n",
       "      <td>10</td>\n",
       "      <td>4</td>\n",
       "      <td>3</td>\n",
       "    </tr>\n",
       "    <tr>\n",
       "      <th>5</th>\n",
       "      <td>10</td>\n",
       "      <td>0</td>\n",
       "      <td>3</td>\n",
       "    </tr>\n",
       "    <tr>\n",
       "      <th>6</th>\n",
       "      <td>100</td>\n",
       "      <td>110</td>\n",
       "      <td>2</td>\n",
       "    </tr>\n",
       "    <tr>\n",
       "      <th>7</th>\n",
       "      <td>1000</td>\n",
       "      <td>1200</td>\n",
       "      <td>1</td>\n",
       "    </tr>\n",
       "  </tbody>\n",
       "</table>\n",
       "</div>"
      ],
      "text/plain": [
       "      0     1  0\n",
       "0     1     2  0\n",
       "1     1     4  0\n",
       "2     1     0  0\n",
       "3    10     2  3\n",
       "4    10     4  3\n",
       "5    10     0  3\n",
       "6   100   110  2\n",
       "7  1000  1200  1"
      ]
     },
     "execution_count": 11,
     "metadata": {},
     "output_type": "execute_result"
    }
   ],
   "source": [
    "datawithlabel"
   ]
  },
  {
   "cell_type": "code",
   "execution_count": 12,
   "id": "bdec5438",
   "metadata": {},
   "outputs": [
    {
     "data": {
      "text/plain": [
       "array([[ 0,  0],\n",
       "       [12,  3]])"
      ]
     },
     "execution_count": 12,
     "metadata": {},
     "output_type": "execute_result"
    }
   ],
   "source": [
    "np.array([[0, 0], [12, 3]])"
   ]
  },
  {
   "cell_type": "code",
   "execution_count": 13,
   "id": "cc45e8a0",
   "metadata": {},
   "outputs": [
    {
     "data": {
      "text/plain": [
       "array([0, 3], dtype=int32)"
      ]
     },
     "execution_count": 13,
     "metadata": {},
     "output_type": "execute_result"
    }
   ],
   "source": [
    "kmeans.predict([[0, 0], [12, 3]])"
   ]
  },
  {
   "cell_type": "code",
   "execution_count": 14,
   "id": "351e1e8c",
   "metadata": {},
   "outputs": [
    {
     "data": {
      "text/plain": [
       "array([[1.0e+00, 2.0e+00],\n",
       "       [1.0e+03, 1.2e+03],\n",
       "       [1.0e+02, 1.1e+02],\n",
       "       [1.0e+01, 2.0e+00]])"
      ]
     },
     "execution_count": 14,
     "metadata": {},
     "output_type": "execute_result"
    }
   ],
   "source": [
    "kmeans.cluster_centers_\n"
   ]
  },
  {
   "cell_type": "code",
   "execution_count": 15,
   "id": "8342464c",
   "metadata": {},
   "outputs": [],
   "source": [
    "X,y=make_blobs(n_samples=1000,centers=3,n_features=2,random_state=10)"
   ]
  },
  {
   "cell_type": "code",
   "execution_count": 16,
   "id": "0d822626",
   "metadata": {},
   "outputs": [
    {
     "data": {
      "text/plain": [
       "array([[ 4.56889035, -9.9492391 ],\n",
       "       [ 2.35388502,  3.51466401],\n",
       "       [-0.01750156, -6.05038477],\n",
       "       ...,\n",
       "       [ 4.89123569,  4.86995972],\n",
       "       [ 1.09272697,  4.04641343],\n",
       "       [ 0.97077866, -4.8289551 ]])"
      ]
     },
     "execution_count": 16,
     "metadata": {},
     "output_type": "execute_result"
    }
   ],
   "source": [
    "X"
   ]
  },
  {
   "cell_type": "code",
   "execution_count": 17,
   "id": "4246319b",
   "metadata": {},
   "outputs": [
    {
     "data": {
      "text/plain": [
       "array([0, 1, 2, 2, 1, 2, 2, 2, 2, 2, 0, 1, 0, 0, 2, 2, 2, 0, 0, 0, 2, 0,\n",
       "       2, 2, 1, 1, 0, 1, 0, 0, 0, 0, 0, 0, 0, 1, 1, 0, 1, 1, 1, 2, 1, 1,\n",
       "       0, 1, 2, 2, 0, 0, 0, 2, 1, 2, 1, 2, 2, 0, 1, 1, 2, 2, 0, 1, 2, 0,\n",
       "       1, 0, 1, 1, 1, 2, 2, 0, 2, 2, 0, 0, 0, 2, 2, 2, 1, 2, 1, 0, 1, 2,\n",
       "       2, 1, 1, 0, 0, 1, 2, 0, 1, 0, 0, 1, 1, 2, 1, 1, 2, 0, 2, 1, 0, 2,\n",
       "       2, 1, 0, 1, 2, 0, 1, 2, 2, 1, 0, 0, 0, 0, 0, 0, 1, 2, 1, 1, 1, 2,\n",
       "       1, 2, 2, 2, 2, 0, 2, 2, 0, 1, 2, 0, 1, 0, 2, 1, 1, 2, 1, 0, 0, 2,\n",
       "       2, 1, 2, 2, 1, 2, 1, 2, 0, 0, 1, 1, 1, 1, 0, 2, 1, 2, 2, 2, 0, 0,\n",
       "       2, 0, 0, 0, 2, 2, 0, 2, 1, 1, 2, 2, 2, 1, 2, 2, 0, 0, 1, 0, 1, 1,\n",
       "       2, 2, 2, 0, 1, 2, 0, 0, 1, 1, 1, 2, 1, 1, 1, 1, 1, 1, 0, 0, 1, 2,\n",
       "       1, 2, 0, 0, 2, 1, 2, 1, 0, 2, 1, 0, 1, 0, 2, 2, 0, 1, 2, 2, 1, 2,\n",
       "       1, 0, 0, 1, 2, 2, 2, 1, 2, 1, 0, 1, 1, 1, 1, 2, 1, 1, 0, 0, 1, 2,\n",
       "       1, 0, 2, 0, 1, 0, 0, 1, 2, 0, 2, 0, 1, 1, 0, 0, 0, 1, 2, 1, 1, 0,\n",
       "       0, 0, 0, 2, 2, 1, 1, 1, 2, 1, 2, 0, 0, 2, 2, 0, 2, 0, 0, 0, 2, 2,\n",
       "       0, 1, 0, 0, 2, 0, 0, 1, 2, 0, 2, 2, 2, 1, 1, 0, 2, 0, 1, 2, 0, 2,\n",
       "       1, 2, 0, 2, 0, 0, 0, 0, 2, 0, 0, 1, 2, 1, 0, 1, 1, 1, 0, 1, 0, 0,\n",
       "       0, 1, 1, 2, 2, 0, 1, 2, 2, 2, 0, 2, 0, 1, 2, 2, 1, 2, 2, 2, 0, 1,\n",
       "       2, 2, 0, 0, 2, 0, 0, 1, 2, 1, 1, 1, 0, 2, 0, 0, 2, 2, 1, 2, 2, 1,\n",
       "       0, 2, 2, 2, 1, 0, 2, 2, 2, 0, 1, 2, 1, 2, 0, 0, 2, 2, 2, 0, 2, 0,\n",
       "       0, 1, 2, 0, 2, 0, 2, 0, 1, 1, 1, 1, 2, 0, 2, 0, 0, 1, 1, 2, 1, 2,\n",
       "       0, 1, 0, 0, 1, 1, 0, 0, 2, 1, 1, 1, 2, 0, 0, 1, 1, 0, 1, 0, 1, 2,\n",
       "       0, 0, 2, 1, 0, 2, 2, 1, 2, 0, 2, 2, 0, 0, 0, 2, 0, 0, 1, 1, 2, 0,\n",
       "       2, 2, 0, 0, 0, 2, 1, 2, 0, 2, 2, 2, 0, 2, 1, 0, 0, 2, 2, 2, 0, 0,\n",
       "       0, 0, 2, 2, 1, 0, 1, 1, 0, 0, 2, 1, 2, 2, 1, 2, 1, 2, 2, 1, 0, 1,\n",
       "       2, 2, 0, 2, 1, 1, 1, 1, 2, 2, 2, 2, 2, 1, 1, 2, 1, 0, 2, 1, 1, 0,\n",
       "       2, 2, 1, 1, 0, 0, 1, 0, 1, 1, 0, 0, 2, 0, 1, 0, 1, 0, 1, 1, 2, 0,\n",
       "       0, 2, 0, 2, 2, 2, 1, 1, 1, 2, 1, 0, 1, 2, 0, 0, 0, 1, 1, 1, 1, 1,\n",
       "       1, 0, 2, 2, 2, 2, 2, 1, 1, 0, 1, 1, 0, 0, 2, 1, 2, 1, 2, 1, 2, 1,\n",
       "       0, 1, 0, 2, 2, 0, 0, 2, 1, 2, 2, 0, 1, 0, 0, 2, 1, 1, 1, 0, 1, 0,\n",
       "       1, 0, 1, 0, 1, 1, 0, 0, 2, 2, 1, 2, 2, 1, 0, 2, 2, 0, 1, 0, 1, 0,\n",
       "       1, 0, 2, 2, 2, 2, 1, 2, 2, 2, 2, 0, 0, 1, 1, 1, 1, 0, 2, 2, 1, 0,\n",
       "       2, 2, 1, 0, 0, 1, 2, 1, 0, 0, 0, 0, 0, 0, 0, 1, 0, 2, 1, 2, 0, 1,\n",
       "       2, 2, 2, 2, 0, 1, 0, 2, 0, 1, 2, 1, 2, 1, 2, 1, 1, 1, 1, 1, 0, 1,\n",
       "       2, 0, 0, 1, 0, 0, 0, 2, 1, 0, 0, 0, 2, 1, 0, 1, 2, 2, 2, 0, 1, 0,\n",
       "       1, 0, 1, 1, 0, 0, 1, 0, 1, 2, 1, 1, 1, 0, 2, 1, 0, 2, 0, 0, 2, 1,\n",
       "       2, 1, 0, 1, 1, 1, 2, 1, 2, 1, 2, 1, 1, 1, 1, 0, 2, 0, 2, 0, 2, 0,\n",
       "       2, 1, 1, 2, 1, 2, 0, 1, 2, 1, 0, 2, 2, 1, 0, 1, 1, 0, 0, 0, 1, 2,\n",
       "       1, 0, 2, 1, 2, 1, 0, 1, 0, 1, 0, 1, 0, 1, 1, 2, 2, 0, 1, 0, 1, 0,\n",
       "       2, 1, 2, 0, 2, 0, 2, 2, 0, 2, 2, 0, 0, 0, 1, 0, 0, 2, 0, 2, 0, 0,\n",
       "       2, 2, 1, 2, 1, 0, 2, 1, 1, 0, 2, 2, 0, 2, 0, 0, 0, 1, 2, 0, 0, 0,\n",
       "       1, 2, 0, 2, 2, 2, 0, 1, 1, 0, 0, 0, 1, 1, 2, 2, 1, 1, 2, 2, 0, 0,\n",
       "       1, 1, 2, 1, 0, 0, 2, 0, 1, 1, 1, 0, 2, 1, 1, 0, 0, 1, 0, 0, 0, 2,\n",
       "       2, 2, 0, 1, 0, 1, 1, 1, 2, 1, 0, 0, 0, 2, 1, 2, 0, 0, 1, 0, 2, 1,\n",
       "       2, 2, 2, 0, 1, 1, 1, 2, 1, 1, 1, 2, 1, 0, 2, 2, 1, 0, 0, 2, 1, 0,\n",
       "       0, 1, 2, 0, 0, 2, 2, 1, 0, 2, 1, 0, 1, 0, 2, 1, 1, 1, 2, 1, 2, 2,\n",
       "       0, 0, 2, 1, 0, 2, 0, 1, 1, 2])"
      ]
     },
     "execution_count": 17,
     "metadata": {},
     "output_type": "execute_result"
    }
   ],
   "source": [
    "y"
   ]
  },
  {
   "cell_type": "code",
   "execution_count": 18,
   "id": "98ba482a",
   "metadata": {},
   "outputs": [
    {
     "data": {
      "text/plain": [
       "<matplotlib.collections.PathCollection at 0x7f5cc5eba700>"
      ]
     },
     "execution_count": 18,
     "metadata": {},
     "output_type": "execute_result"
    },
    {
     "data": {
      "image/png": "[encoded data removed]",
      "text/plain": [
       "<Figure size 432x288 with 1 Axes>"
      ]
     },
     "metadata": {
      "needs_background": "light"
     },
     "output_type": "display_data"
    }
   ],
   "source": [
    "plt.scatter(X[:,0],X[:,1])"
   ]
  },
  {
   "cell_type": "code",
   "execution_count": 19,
   "id": "37247904",
   "metadata": {},
   "outputs": [],
   "source": [
    "from sklearn.model_selection import train_test_split\n",
    "X_train,X_test,y_train,y_test=train_test_split(X,y,test_size=0.33,random_state=20)"
   ]
  },
  {
   "cell_type": "code",
   "execution_count": 20,
   "id": "8c769910",
   "metadata": {},
   "outputs": [
    {
     "name": "stderr",
     "output_type": "stream",
     "text": [
      "/home/user01/.local/lib/python3.8/site-packages/sklearn/cluster/_kmeans.py:870: FutureWarning: The default value of `n_init` will change from 10 to 'auto' in 1.4. Set the value of `n_init` explicitly to suppress the warning\n",
      "  warnings.warn(\n",
      "/home/user01/.local/lib/python3.8/site-packages/sklearn/cluster/_kmeans.py:870: FutureWarning: The default value of `n_init` will change from 10 to 'auto' in 1.4. Set the value of `n_init` explicitly to suppress the warning\n",
      "  warnings.warn(\n",
      "/home/user01/.local/lib/python3.8/site-packages/sklearn/cluster/_kmeans.py:870: FutureWarning: The default value of `n_init` will change from 10 to 'auto' in 1.4. Set the value of `n_init` explicitly to suppress the warning\n",
      "  warnings.warn(\n",
      "/home/user01/.local/lib/python3.8/site-packages/sklearn/cluster/_kmeans.py:870: FutureWarning: The default value of `n_init` will change from 10 to 'auto' in 1.4. Set the value of `n_init` explicitly to suppress the warning\n",
      "  warnings.warn(\n",
      "/home/user01/.local/lib/python3.8/site-packages/sklearn/cluster/_kmeans.py:870: FutureWarning: The default value of `n_init` will change from 10 to 'auto' in 1.4. Set the value of `n_init` explicitly to suppress the warning\n",
      "  warnings.warn(\n",
      "/home/user01/.local/lib/python3.8/site-packages/sklearn/cluster/_kmeans.py:870: FutureWarning: The default value of `n_init` will change from 10 to 'auto' in 1.4. Set the value of `n_init` explicitly to suppress the warning\n",
      "  warnings.warn(\n",
      "/home/user01/.local/lib/python3.8/site-packages/sklearn/cluster/_kmeans.py:870: FutureWarning: The default value of `n_init` will change from 10 to 'auto' in 1.4. Set the value of `n_init` explicitly to suppress the warning\n",
      "  warnings.warn(\n",
      "/home/user01/.local/lib/python3.8/site-packages/sklearn/cluster/_kmeans.py:870: FutureWarning: The default value of `n_init` will change from 10 to 'auto' in 1.4. Set the value of `n_init` explicitly to suppress the warning\n",
      "  warnings.warn(\n",
      "/home/user01/.local/lib/python3.8/site-packages/sklearn/cluster/_kmeans.py:870: FutureWarning: The default value of `n_init` will change from 10 to 'auto' in 1.4. Set the value of `n_init` explicitly to suppress the warning\n",
      "  warnings.warn(\n"
     ]
    }
   ],
   "source": [
    "wcss=[]\n",
    "for k in range(2,11):\n",
    "    kmean=KMeans(n_clusters=k,init=\"k-means++\")\n",
    "    kmean.fit(X_train)\n",
    "    wcss.append(kmean.inertia_)\n",
    "    "
   ]
  },
  {
   "cell_type": "code",
   "execution_count": 21,
   "id": "6b2829b4",
   "metadata": {},
   "outputs": [
    {
     "data": {
      "text/plain": [
       "[6350.499237030179,\n",
       " 1230.8405264123764,\n",
       " 1083.0673959855267,\n",
       " 934.7698999121162,\n",
       " 818.6598863644565,\n",
       " 708.1987366939477,\n",
       " 607.059218389229,\n",
       " 528.680803981086,\n",
       " 486.4487305079185]"
      ]
     },
     "execution_count": 21,
     "metadata": {},
     "output_type": "execute_result"
    }
   ],
   "source": [
    "wcss"
   ]
  },
  {
   "cell_type": "code",
   "execution_count": 22,
   "id": "891fbe4e",
   "metadata": {},
   "outputs": [
    {
     "data": {
      "image/png": "[encoded data removed]",
      "text/plain": [
       "<Figure size 432x288 with 1 Axes>"
      ]
     },
     "metadata": {
      "needs_background": "light"
     },
     "output_type": "display_data"
    }
   ],
   "source": [
    "plt.plot(range(2,11),wcss)\n",
    "plt.xticks(range(2,11))\n",
    "plt.xlabel(\"number of cluster\")\n",
    "plt.ylabel(\"WCSS\")\n",
    "plt.show()"
   ]
  },
  {
   "attachments": {
    "image.png": {
     "image/png": "[encoded data removed]"
    }
   },
   "cell_type": "markdown",
   "id": "b3e4a2ed",
   "metadata": {},
   "source": [
    "![image.png](attachment:image.png)|"
   ]
  },
  {
   "cell_type": "code",
   "execution_count": 23,
   "id": "b5f9c1c7",
   "metadata": {},
   "outputs": [
    {
     "data": {
      "text/plain": [
       "<matplotlib.collections.PathCollection at 0x7f5cc5d627c0>"
      ]
     },
     "execution_count": 23,
     "metadata": {},
     "output_type": "execute_result"
    },
    {
     "data": {
      "image/png": "[encoded data removed]",
      "text/plain": [
       "<Figure size 432x288 with 1 Axes>"
      ]
     },
     "metadata": {
      "needs_background": "light"
     },
     "output_type": "display_data"
    }
   ],
   "source": [
    "plt.scatter(X[:,0],X[:,1])"
   ]
  },
  {
   "cell_type": "code",
   "execution_count": 24,
   "id": "a7aa7fa9",
   "metadata": {},
   "outputs": [],
   "source": [
    "kmeans=KMeans(n_clusters=3,init=\"k-means++\")"
   ]
  },
  {
   "cell_type": "code",
   "execution_count": 25,
   "id": "ba4916a3",
   "metadata": {},
   "outputs": [
    {
     "name": "stderr",
     "output_type": "stream",
     "text": [
      "/home/user01/.local/lib/python3.8/site-packages/sklearn/cluster/_kmeans.py:870: FutureWarning: The default value of `n_init` will change from 10 to 'auto' in 1.4. Set the value of `n_init` explicitly to suppress the warning\n",
      "  warnings.warn(\n"
     ]
    }
   ],
   "source": [
    "y_lables=kmeans.fit_predict(X_train)"
   ]
  },
  {
   "cell_type": "code",
   "execution_count": 26,
   "id": "482308e9",
   "metadata": {},
   "outputs": [
    {
     "data": {
      "text/plain": [
       "array([2, 0, 2, 0, 2, 2, 0, 1, 0, 1, 1, 1, 2, 2, 2, 2, 2, 2, 1, 2, 0, 1,\n",
       "       0, 0, 1, 0, 1, 2, 0, 1, 2, 2, 1, 1, 1, 0, 0, 1, 0, 2, 0, 0, 1, 0,\n",
       "       1, 0, 0, 2, 1, 2, 1, 1, 2, 1, 2, 2, 0, 2, 1, 2, 0, 1, 2, 1, 1, 2,\n",
       "       2, 2, 1, 2, 0, 1, 2, 2, 2, 0, 0, 0, 0, 0, 2, 2, 0, 0, 1, 2, 0, 1,\n",
       "       0, 2, 0, 0, 0, 2, 2, 1, 1, 1, 1, 1, 2, 2, 1, 2, 0, 0, 2, 1, 0, 0,\n",
       "       0, 2, 1, 2, 1, 0, 2, 2, 1, 1, 2, 2, 2, 0, 0, 2, 2, 1, 2, 2, 1, 2,\n",
       "       2, 0, 0, 2, 0, 2, 0, 1, 0, 0, 1, 0, 0, 0, 2, 1, 0, 1, 0, 1, 1, 2,\n",
       "       0, 0, 0, 1, 1, 1, 0, 1, 0, 2, 0, 1, 0, 0, 1, 2, 1, 1, 2, 1, 2, 1,\n",
       "       0, 0, 0, 1, 1, 2, 2, 1, 2, 1, 2, 0, 0, 0, 2, 0, 2, 1, 1, 1, 2, 1,\n",
       "       0, 1, 1, 2, 1, 1, 1, 2, 0, 0, 2, 1, 0, 1, 1, 1, 0, 2, 2, 0, 0, 0,\n",
       "       2, 0, 0, 2, 2, 1, 1, 2, 0, 1, 2, 2, 2, 1, 0, 2, 2, 1, 0, 2, 1, 2,\n",
       "       0, 0, 0, 1, 1, 0, 1, 0, 2, 1, 0, 1, 2, 1, 0, 1, 2, 2, 0, 1, 1, 1,\n",
       "       0, 0, 1, 1, 0, 1, 0, 2, 1, 1, 2, 2, 0, 1, 1, 1, 1, 2, 2, 0, 1, 1,\n",
       "       2, 2, 1, 2, 0, 0, 2, 1, 1, 0, 2, 0, 1, 0, 2, 2, 0, 1, 2, 1, 2, 1,\n",
       "       1, 2, 0, 1, 0, 1, 1, 0, 2, 2, 1, 1, 0, 1, 2, 1, 1, 1, 1, 0, 0, 2,\n",
       "       0, 2, 0, 2, 2, 0, 0, 0, 0, 0, 0, 2, 0, 1, 2, 1, 2, 0, 1, 2, 1, 0,\n",
       "       1, 1, 1, 2, 1, 2, 1, 1, 1, 1, 1, 1, 2, 1, 1, 2, 2, 2, 0, 1, 2, 1,\n",
       "       1, 0, 1, 2, 1, 1, 1, 1, 0, 1, 0, 1, 2, 0, 2, 0, 2, 0, 0, 1, 0, 0,\n",
       "       1, 2, 2, 1, 2, 0, 0, 0, 0, 1, 1, 2, 0, 2, 2, 1, 1, 0, 0, 0, 0, 2,\n",
       "       0, 1, 0, 1, 1, 0, 1, 1, 1, 0, 0, 1, 0, 1, 0, 0, 1, 2, 2, 2, 2, 0,\n",
       "       0, 2, 2, 1, 2, 2, 2, 1, 1, 0, 2, 2, 0, 2, 0, 0, 1, 1, 1, 0, 2, 1,\n",
       "       2, 2, 0, 2, 0, 2, 1, 1, 1, 0, 1, 2, 2, 1, 0, 2, 0, 1, 0, 2, 2, 0,\n",
       "       2, 1, 0, 1, 0, 0, 1, 0, 0, 2, 0, 1, 2, 0, 2, 0, 0, 1, 1, 0, 1, 2,\n",
       "       1, 1, 0, 1, 2, 0, 0, 2, 0, 0, 1, 1, 2, 2, 2, 0, 2, 2, 0, 2, 1, 2,\n",
       "       0, 1, 0, 0, 1, 1, 0, 1, 0, 0, 0, 1, 2, 1, 1, 2, 1, 0, 1, 0, 2, 0,\n",
       "       1, 0, 1, 2, 1, 2, 2, 2, 1, 2, 1, 2, 0, 0, 2, 0, 0, 2, 1, 1, 2, 1,\n",
       "       0, 0, 1, 0, 1, 1, 0, 2, 1, 0, 2, 2, 2, 0, 1, 2, 1, 1, 2, 2, 2, 2,\n",
       "       1, 0, 1, 0, 0, 1, 1, 0, 2, 2, 2, 2, 2, 1, 2, 1, 2, 1, 0, 2, 2, 2,\n",
       "       1, 1, 1, 0, 2, 1, 2, 0, 1, 2, 0, 0, 0, 1, 0, 2, 2, 2, 2, 2, 1, 2,\n",
       "       2, 2, 1, 2, 1, 2, 1, 1, 2, 1, 2, 2, 1, 0, 1, 1, 1, 1, 1, 2, 0, 0,\n",
       "       2, 2, 2, 2, 1, 2, 0, 1, 0, 2], dtype=int32)"
      ]
     },
     "execution_count": 26,
     "metadata": {},
     "output_type": "execute_result"
    }
   ],
   "source": [
    "y_lables"
   ]
  },
  {
   "cell_type": "code",
   "execution_count": 27,
   "id": "ec96ff44",
   "metadata": {},
   "outputs": [
    {
     "data": {
      "text/plain": [
       "array([2, 0, 2, 0, 2, 2, 0, 1, 0, 1, 1, 1, 2, 2, 2, 2, 2, 2, 1, 2, 0, 1,\n",
       "       0, 0, 1, 0, 1, 2, 0, 1, 2, 2, 1, 1, 1, 0, 0, 1, 0, 2, 0, 0, 1, 0,\n",
       "       1, 0, 0, 2, 1, 2, 1, 1, 2, 1, 2, 2, 0, 2, 1, 2, 0, 1, 2, 1, 1, 2,\n",
       "       2, 2, 1, 2, 0, 1, 2, 2, 2, 0, 0, 0, 0, 0, 2, 2, 0, 0, 1, 2, 0, 1,\n",
       "       0, 2, 0, 0, 0, 2, 2, 1, 1, 1, 1, 1, 2, 2, 1, 2, 0, 0, 2, 1, 0, 0,\n",
       "       0, 2, 1, 2, 1, 0, 2, 2, 1, 1, 2, 2, 2, 0, 0, 2, 2, 1, 2, 2, 1, 2,\n",
       "       2, 0, 0, 2, 0, 2, 0, 1, 0, 0, 1, 0, 0, 0, 2, 1, 0, 1, 0, 1, 1, 2,\n",
       "       0, 0, 0, 1, 1, 1, 0, 1, 0, 2, 0, 1, 0, 0, 1, 2, 1, 1, 2, 1, 2, 1,\n",
       "       0, 0, 0, 1, 1, 2, 2, 1, 2, 1, 2, 0, 0, 0, 2, 0, 2, 1, 1, 1, 2, 1,\n",
       "       0, 1, 1, 2, 1, 1, 1, 2, 0, 0, 2, 1, 0, 1, 1, 1, 0, 2, 2, 0, 0, 0,\n",
       "       2, 0, 0, 2, 2, 1, 1, 2, 0, 1, 2, 2, 2, 1, 0, 2, 2, 1, 0, 2, 1, 2,\n",
       "       0, 0, 0, 1, 1, 0, 1, 0, 2, 1, 0, 1, 2, 1, 0, 1, 2, 2, 0, 1, 1, 1,\n",
       "       0, 0, 1, 1, 0, 1, 0, 2, 1, 1, 2, 2, 0, 1, 1, 1, 1, 2, 2, 0, 1, 1,\n",
       "       2, 2, 1, 2, 0, 0, 2, 1, 1, 0, 2, 0, 1, 0, 2, 2, 0, 1, 2, 1, 2, 1,\n",
       "       1, 2, 0, 1, 0, 1, 1, 0, 2, 2, 1, 1, 0, 1, 2, 1, 1, 1, 1, 0, 0, 2,\n",
       "       0, 2, 0, 2, 2, 0, 0, 0, 0, 0, 0, 2, 0, 1, 2, 1, 2, 0, 1, 2, 1, 0,\n",
       "       1, 1, 1, 2, 1, 2, 1, 1, 1, 1, 1, 1, 2, 1, 1, 2, 2, 2, 0, 1, 2, 1,\n",
       "       1, 0, 1, 2, 1, 1, 1, 1, 0, 1, 0, 1, 2, 0, 2, 0, 2, 0, 0, 1, 0, 0,\n",
       "       1, 2, 2, 1, 2, 0, 0, 0, 0, 1, 1, 2, 0, 2, 2, 1, 1, 0, 0, 0, 0, 2,\n",
       "       0, 1, 0, 1, 1, 0, 1, 1, 1, 0, 0, 1, 0, 1, 0, 0, 1, 2, 2, 2, 2, 0,\n",
       "       0, 2, 2, 1, 2, 2, 2, 1, 1, 0, 2, 2, 0, 2, 0, 0, 1, 1, 1, 0, 2, 1,\n",
       "       0, 2, 0, 2, 0, 2, 1, 1, 1, 0, 1, 2, 2, 1, 0, 2, 0, 1, 0, 2, 2, 0,\n",
       "       2, 1, 0, 1, 0, 0, 1, 0, 0, 2, 0, 1, 2, 0, 2, 0, 0, 1, 1, 0, 1, 2,\n",
       "       1, 1, 0, 1, 2, 0, 0, 2, 0, 0, 1, 1, 2, 2, 2, 0, 2, 2, 0, 2, 1, 2,\n",
       "       0, 1, 0, 0, 1, 1, 0, 1, 0, 0, 0, 1, 2, 1, 1, 2, 1, 0, 1, 0, 2, 0,\n",
       "       1, 0, 1, 2, 1, 2, 2, 2, 1, 2, 1, 2, 0, 0, 2, 0, 0, 2, 1, 1, 2, 1,\n",
       "       0, 0, 1, 0, 1, 1, 0, 2, 1, 0, 2, 2, 2, 0, 1, 2, 1, 1, 2, 2, 2, 2,\n",
       "       1, 0, 1, 0, 0, 1, 1, 0, 2, 2, 2, 2, 2, 1, 2, 1, 2, 1, 0, 2, 2, 2,\n",
       "       1, 1, 1, 0, 2, 1, 2, 0, 1, 2, 0, 0, 0, 1, 0, 2, 2, 2, 2, 2, 1, 2,\n",
       "       2, 2, 1, 2, 1, 2, 1, 1, 2, 1, 2, 2, 1, 0, 1, 1, 1, 1, 1, 2, 0, 0,\n",
       "       2, 2, 2, 2, 1, 2, 0, 1, 0, 2])"
      ]
     },
     "execution_count": 27,
     "metadata": {},
     "output_type": "execute_result"
    }
   ],
   "source": [
    "y_train"
   ]
  },
  {
   "cell_type": "code",
   "execution_count": 28,
   "id": "d4d2b689",
   "metadata": {},
   "outputs": [
    {
     "data": {
      "text/plain": [
       "array([-1.41832204e+00,  4.48697951e+00,  2.24704936e-01,  5.02494005e+00,\n",
       "       -1.20566991e+00, -2.40528658e-01,  4.53522594e+00,  3.24289824e+00,\n",
       "        6.37353894e+00,  3.51963962e+00,  9.40643276e-01,  3.33435966e+00,\n",
       "       -1.84803616e+00,  2.79746994e-01, -1.66299054e-01,  9.88739486e-01,\n",
       "        1.10858193e+00, -6.71428928e-01,  3.03222019e+00, -1.88949319e-01,\n",
       "        5.37758235e+00,  3.97323375e+00,  6.51163994e+00,  5.26001217e+00,\n",
       "        3.87259410e+00,  5.29579194e+00,  2.93975071e+00, -1.42179319e+00,\n",
       "        4.34083423e+00,  2.43172588e+00, -9.12224291e-01, -1.78309239e+00,\n",
       "        3.39546910e+00,  3.44338367e+00,  1.55855578e+00,  5.45250939e+00,\n",
       "        7.83073847e+00,  6.23354172e-01,  6.40648699e+00,  8.18809420e-01,\n",
       "        6.70146197e+00,  3.83803205e+00,  2.66513548e+00,  4.98738663e+00,\n",
       "        1.24625586e+00,  6.34773330e+00,  5.61898570e+00, -1.03617272e+00,\n",
       "        3.71294266e+00,  9.25618971e-01,  3.17537051e+00,  4.87785040e+00,\n",
       "        1.25485940e-01,  3.01441800e+00,  9.37259730e-01,  6.35312401e-01,\n",
       "        5.68402360e+00, -1.05000519e-01,  1.21985560e+00,  2.36795419e+00,\n",
       "        4.60847649e+00,  2.27708054e+00, -3.31490655e-01,  1.97880909e+00,\n",
       "        1.39929960e+00, -3.48997293e-01,  5.73504730e-01, -5.21882041e-01,\n",
       "        3.00406552e+00,  2.54215627e-01,  6.77096229e+00,  5.32365458e+00,\n",
       "        3.32504763e-01,  4.39218878e-01,  5.70201667e-01,  5.86477810e+00,\n",
       "        4.75438943e+00,  4.29421513e+00,  5.96063783e+00,  5.90942900e+00,\n",
       "        8.06874177e-01,  3.14208365e-01,  6.07494228e+00,  6.69610415e+00,\n",
       "        3.83106106e+00,  1.94950017e-01,  7.24419547e+00,  2.47464420e+00,\n",
       "        6.39422328e+00,  6.19710657e-01,  5.16617298e+00,  5.96468151e+00,\n",
       "        3.91133719e+00,  9.19702812e-01, -3.44677044e-01,  2.10147449e+00,\n",
       "        2.32381657e+00,  4.43143762e+00,  3.94478532e+00,  2.72275706e+00,\n",
       "       -3.57064060e-01, -5.66414021e-01,  2.12411614e+00,  9.70778655e-01,\n",
       "        6.61472962e+00,  4.41984430e+00,  3.53331464e-01,  2.94568252e+00,\n",
       "        5.18940868e+00,  6.13837188e+00,  4.81210802e+00, -7.24854240e-01,\n",
       "        1.33023061e+00, -9.09485281e-01,  2.72774210e+00,  5.19423061e+00,\n",
       "        1.59081010e+00, -6.49415494e-01,  3.31366678e+00,  3.38860104e+00,\n",
       "        7.43764308e-01,  4.00680525e-01,  8.23375123e-01,  4.85329950e+00,\n",
       "        6.35552416e+00, -7.30955346e-01, -6.00024913e-01,  2.30742513e+00,\n",
       "        9.61573888e-01, -7.49350870e-01,  4.19881674e+00, -6.62854658e-01,\n",
       "       -4.16983254e-01,  5.45581366e+00,  6.00546132e+00, -1.85509444e-01,\n",
       "        7.07117400e+00, -2.27541712e+00,  4.80279386e+00,  2.71188172e+00,\n",
       "        5.97484093e+00,  5.64690976e+00,  3.17460123e+00,  3.96756849e+00,\n",
       "        6.45425326e+00,  4.95951024e+00,  1.05759950e-01,  2.93349405e+00,\n",
       "        6.52754907e+00,  4.04633820e+00,  6.50614354e+00,  2.34113695e+00,\n",
       "        2.91231763e+00,  7.85256031e-01,  5.69248303e+00,  5.02068334e+00,\n",
       "        4.34671548e+00,  3.37623577e+00,  1.14793041e+00,  2.12162213e+00,\n",
       "        5.55255773e+00,  2.64909415e+00,  3.40869421e+00, -3.04375856e-01,\n",
       "        5.54388853e+00,  3.06154272e+00,  4.24755850e+00,  4.20057688e+00,\n",
       "        1.77932475e+00,  7.86329066e-01,  2.52198765e+00,  2.14635666e+00,\n",
       "       -1.00269034e+00,  2.76313756e+00, -2.54984532e-01,  1.59677373e+00,\n",
       "        4.43378038e+00,  5.10539013e+00,  4.56889035e+00,  2.97453749e+00,\n",
       "        2.46530509e+00, -1.11213187e-01, -1.99606451e+00,  3.25259775e+00,\n",
       "        1.15699339e+00,  2.60946113e+00, -1.75015621e-02,  5.39003033e+00,\n",
       "        6.82423225e+00,  7.10048841e+00, -9.75902587e-01,  3.98411398e+00,\n",
       "        7.81105434e-02,  3.32025018e+00,  1.56703440e+00,  2.36407029e+00,\n",
       "        7.76913608e-01,  3.46520418e+00,  5.43070430e+00,  3.91407706e+00,\n",
       "        2.10341301e+00, -4.35935983e-01,  1.15516847e+00,  1.79415319e+00,\n",
       "        2.60126431e+00,  2.04708707e-02,  6.52654224e+00,  7.49203858e+00,\n",
       "        1.24982959e+00,  3.08489099e+00,  5.04093605e+00,  3.96769370e+00,\n",
       "        2.33145306e+00,  2.80513285e+00,  4.97763373e+00, -1.73874484e+00,\n",
       "        2.32829740e+00,  4.94501831e+00,  8.10632317e+00,  7.65146250e+00,\n",
       "        1.15190930e+00,  5.93068434e+00,  4.72179286e+00, -9.36931618e-02,\n",
       "        9.31499654e-01,  1.09371236e+00,  3.06509850e+00, -8.43345958e-02,\n",
       "        5.63374243e+00,  4.83822719e+00,  9.08808339e-01,  7.28508682e-01,\n",
       "        3.20739157e-01,  2.82983681e+00,  6.43327400e+00, -2.02995845e-01,\n",
       "        1.21674099e+00,  4.86856144e+00,  7.08312949e+00,  1.70990734e+00,\n",
       "        3.26081437e+00, -1.51598385e+00,  6.59358123e+00,  6.31078047e+00,\n",
       "        5.69946219e+00,  2.24804398e+00,  2.90478693e+00,  5.96029767e+00,\n",
       "        3.67974749e+00,  5.87848009e+00,  1.00863979e+00,  4.89123569e+00,\n",
       "        5.86259816e+00,  3.17150377e+00,  7.48836543e-02,  3.28419448e+00,\n",
       "        5.61583271e+00,  3.47935569e+00, -3.51802478e-01, -1.20615879e+00,\n",
       "        5.55955036e+00,  2.90576104e+00,  2.30054895e+00,  3.28694274e+00,\n",
       "        6.13029159e+00,  4.87309444e+00,  3.24113178e+00,  2.87779729e+00,\n",
       "        5.21062297e+00,  2.53354474e+00,  4.77415151e+00,  1.42323280e+00,\n",
       "        3.01834045e+00,  3.57945686e+00, -1.17063045e+00,  1.05258125e+00,\n",
       "        5.14041086e+00,  4.05230283e+00,  7.27448339e-01,  3.71813420e+00,\n",
       "        1.46529546e+00, -1.15093329e+00, -9.68335619e-01,  6.61433086e+00,\n",
       "        1.56375620e+00,  3.54794113e+00,  4.88573612e-01,  7.02214513e-01,\n",
       "        2.54406041e+00, -4.92761504e-01,  5.76447221e+00,  4.15739734e+00,\n",
       "        2.58304542e-01,  3.28828464e+00,  2.39589431e+00,  6.64119552e+00,\n",
       "       -1.35656794e+00,  5.59670756e+00,  2.59635969e+00,  5.83801528e+00,\n",
       "        6.44279764e-01,  3.92649805e-01,  5.43719429e+00,  1.34023944e+00,\n",
       "       -6.58469693e-01,  2.17068826e+00,  1.12565253e+00,  2.30585003e+00,\n",
       "        1.93147546e+00, -2.16314850e+00,  7.82111653e+00,  9.02625392e-01,\n",
       "        4.44182622e+00,  2.05891154e+00,  2.77890107e+00,  5.48714069e+00,\n",
       "        8.31654803e-01, -1.15478489e-01,  3.91461689e+00,  1.61025798e+00,\n",
       "        4.50350360e+00,  2.37830662e+00, -6.02588678e-01,  9.56149116e-01,\n",
       "        3.45301101e+00,  2.51260763e+00,  2.49884790e+00,  6.73490002e+00,\n",
       "        6.66261819e+00, -1.10365758e+00,  4.93780461e+00, -6.03913826e-01,\n",
       "        5.20988793e+00,  6.69440314e-01,  1.42400389e+00,  5.20364679e+00,\n",
       "        4.71361343e+00,  5.28007206e+00,  4.46134719e+00,  5.27189109e+00,\n",
       "        6.53412110e+00, -2.44438215e-01,  5.77276444e+00,  2.28274683e+00,\n",
       "       -6.64413821e-01,  3.81797336e+00,  6.83263626e-01,  6.21150936e+00,\n",
       "        3.78030085e+00,  2.46504165e+00,  2.88649383e+00,  6.91463126e+00,\n",
       "        3.39790668e-01,  1.69090142e+00,  4.24289220e+00, -3.96626463e-01,\n",
       "        3.65799147e+00, -5.65655355e-02,  4.13847739e+00,  1.61446621e+00,\n",
       "        3.64313269e+00,  2.55620314e+00,  3.12365638e+00,  3.90889818e+00,\n",
       "        2.50179364e-01,  1.67701774e+00,  1.45785110e+00,  1.67075301e-01,\n",
       "       -4.87590638e-02, -9.29481588e-01,  3.71534167e+00,  2.47613698e+00,\n",
       "        4.09075617e-01,  3.71061889e+00,  1.16793795e+00,  6.68288513e+00,\n",
       "        2.26733810e+00, -1.68843963e+00,  1.84455400e+00,  2.96602707e+00,\n",
       "        2.69400792e+00,  4.25151798e+00,  5.61934885e+00,  2.56460472e+00,\n",
       "        7.28936453e+00,  4.40135328e+00, -9.38879585e-01,  5.37837154e+00,\n",
       "        3.65389770e-01,  6.08664442e+00,  2.31238265e-01,  5.57537357e+00,\n",
       "        5.92960205e+00,  1.59236820e+00,  5.40050753e+00,  4.74019725e+00,\n",
       "        1.82862222e+00,  5.52107206e-01,  4.83191444e-01,  4.62210287e-01,\n",
       "        6.79335996e-01,  6.44892897e+00,  4.68458803e+00,  5.71935359e+00,\n",
       "        5.82888196e+00,  3.37952335e+00,  1.63916863e+00,  3.91292139e-01,\n",
       "        5.59516647e+00,  2.37047279e-03, -2.27345379e-01,  1.84901198e+00,\n",
       "        2.36487231e+00,  5.49521434e+00,  6.73488595e+00,  4.39580465e+00,\n",
       "        5.31753932e+00, -1.60771314e+00,  5.70058565e+00,  4.39335157e+00,\n",
       "        6.21112351e+00,  2.14879088e+00,  3.32902873e+00,  5.65423023e+00,\n",
       "        2.64710628e+00,  1.51703861e+00,  1.70270143e+00,  6.80964509e+00,\n",
       "        4.62182172e+00,  1.30212841e+00,  3.57022738e+00,  2.54309761e+00,\n",
       "        5.94635518e+00,  4.07738750e+00,  2.46352874e+00, -2.02597119e-01,\n",
       "        1.07847075e+00,  1.40880788e+00,  1.87851486e+00,  5.15991100e+00,\n",
       "        5.96181425e+00,  4.17887633e-01,  5.74797494e-01,  2.39765768e+00,\n",
       "       -8.24532685e-01,  4.10269267e-01, -1.01797342e+00,  3.23312508e+00,\n",
       "        4.34403119e+00,  4.93390540e+00,  3.31946926e-01, -2.89786978e-01,\n",
       "        4.79044365e+00, -8.55931462e-01,  4.59890285e+00,  5.99710632e+00,\n",
       "        3.77629596e+00,  2.72170741e+00,  3.23835095e+00,  3.91809138e+00,\n",
       "        9.91028359e-01,  2.38732905e+00,  2.22201152e+00, -2.32247974e+00,\n",
       "        4.24807493e+00,  4.13256165e-02,  5.13042901e+00,  4.88349896e-01,\n",
       "        2.51687112e+00,  2.26762732e+00,  3.07992439e+00,  4.99059695e+00,\n",
       "        2.14154474e+00,  8.79331713e-02, -9.84185280e-01,  4.16750231e+00,\n",
       "        6.31218772e+00, -6.64619985e-01,  3.43930872e+00,  1.65611544e+00,\n",
       "        5.82313886e+00, -1.91786142e+00, -1.32846154e+00,  4.88653379e+00,\n",
       "       -1.87694135e+00,  3.16625915e+00,  3.79146873e+00,  1.04651788e+00,\n",
       "        5.48272759e+00,  4.00553235e+00,  2.16543471e+00,  6.97157463e+00,\n",
       "        5.62021348e+00, -1.03881652e+00,  4.84195771e+00,  2.06693562e+00,\n",
       "        1.04960377e-01,  5.91141549e+00, -4.75162165e-01,  5.46002940e+00,\n",
       "        5.59031712e+00,  2.51484797e+00,  2.08570187e+00,  4.15659327e+00,\n",
       "        9.88887296e-01, -5.73815392e-01,  2.44849793e+00,  3.15466954e+00,\n",
       "        6.18171282e+00,  2.25884520e+00,  8.08520155e-01,  5.10404937e+00,\n",
       "        6.44039750e+00,  7.55139122e-01,  5.45222046e+00,  5.76913926e+00,\n",
       "        3.73709334e+00,  2.61104849e+00, -9.13800518e-01, -1.90825302e-01,\n",
       "       -1.38218621e+00,  5.49073227e+00, -4.95152955e-01,  6.93357226e-01,\n",
       "        5.58342785e+00,  6.94970037e-01,  7.36761411e-01, -4.30627721e-01,\n",
       "        4.07907139e+00,  3.92722244e+00,  3.79082625e+00,  5.64367801e+00,\n",
       "        2.13986127e+00,  3.42787608e+00,  8.09809795e+00,  2.98834901e+00,\n",
       "        5.31533242e+00,  4.29593758e+00,  5.09331170e+00,  3.14246090e+00,\n",
       "        9.39302807e-02,  3.08268009e+00,  3.24397206e+00, -1.01162462e+00,\n",
       "        1.90207768e+00,  5.88879842e+00,  3.43527705e+00,  5.57834029e+00,\n",
       "        1.37484001e+00,  5.49969587e+00,  1.72201571e+00,  5.26233757e+00,\n",
       "        3.02557766e+00,  3.23333140e-01,  2.10742120e-01,  1.04134183e+00,\n",
       "       -5.59456430e-01, -1.89568144e+00,  3.37892474e+00, -8.91531908e-02,\n",
       "        3.77008553e+00, -1.50297503e-01,  5.88730132e+00,  5.01548926e+00,\n",
       "        5.04376753e-01,  5.80171842e+00,  4.47288045e+00, -1.79545301e+00,\n",
       "        3.04218071e+00,  2.35329373e+00,  1.79691273e-01,  8.33790120e-01,\n",
       "        2.61041165e+00,  4.94431973e+00,  1.51424704e+00,  4.44268474e+00,\n",
       "        2.37543450e+00,  1.92119280e+00,  7.03787016e+00,  1.74534391e+00,\n",
       "        2.01523663e+00,  6.04774884e+00,  6.16862092e-01,  8.14285876e-01,\n",
       "        7.16793229e-01,  6.55519802e+00,  2.19731956e+00, -1.62561740e+00,\n",
       "        4.78100271e+00,  2.27293672e+00,  4.00714699e-01, -1.17632500e-01,\n",
       "       -4.20491833e-01,  8.96247183e-01,  2.34526500e+00,  6.07317120e+00,\n",
       "        2.41929798e+00,  5.80416595e+00,  5.08727262e+00,  1.29867976e+00,\n",
       "        2.77415978e+00,  5.93712728e+00, -1.81733919e+00, -2.53352639e+00,\n",
       "       -6.43653668e-03, -3.14250470e+00,  3.21252323e-01,  2.35713934e+00,\n",
       "       -1.26000167e+00,  2.59999776e+00, -7.91213298e-01,  3.85675371e+00,\n",
       "        6.25341149e+00,  3.71338676e-02,  3.56851337e-01, -1.56426703e+00,\n",
       "        2.20600613e+00,  3.02340770e+00,  1.92306867e+00,  5.35146400e+00,\n",
       "       -4.06044511e-02,  2.47886217e+00, -1.63528356e+00,  4.18616423e+00,\n",
       "        3.51333086e+00, -1.00872116e+00,  6.62931579e+00,  6.67456216e+00,\n",
       "        4.53496146e+00,  3.00455593e+00,  5.74576929e+00, -6.65726527e-01,\n",
       "        1.82313451e-01, -1.85059162e+00,  1.04914874e+00, -1.52407939e+00,\n",
       "        2.52942226e+00,  2.39993622e-01, -2.05692871e+00,  2.79032284e-01,\n",
       "        1.51650105e+00,  1.17873647e+00,  1.13656949e+00,  6.23808844e-01,\n",
       "        2.61326210e+00,  1.91423973e+00, -4.76647395e-01,  3.58389709e+00,\n",
       "        1.17721301e-01, -3.17914130e-01,  2.86885802e+00,  6.18588420e+00,\n",
       "        2.35726342e+00,  3.72144096e+00,  1.09272697e+00,  1.60111675e+00,\n",
       "        4.12698304e+00, -7.16133776e-01,  5.85943906e+00,  6.64456172e+00,\n",
       "       -4.37164221e-01, -7.66262044e-01,  1.19491758e-01,  7.02458930e-01,\n",
       "        2.52799018e+00,  2.28637187e-02,  5.69192445e+00,  1.34537554e+00,\n",
       "        5.20131601e+00, -4.31549889e-01])"
      ]
     },
     "execution_count": 28,
     "metadata": {},
     "output_type": "execute_result"
    }
   ],
   "source": [
    "X_train[:,0]"
   ]
  },
  {
   "cell_type": "code",
   "execution_count": 29,
   "id": "3a36fd18",
   "metadata": {},
   "outputs": [
    {
     "data": {
      "text/plain": [
       "<matplotlib.collections.PathCollection at 0x7f5cc5d0bcd0>"
      ]
     },
     "execution_count": 29,
     "metadata": {},
     "output_type": "execute_result"
    },
    {
     "data": {
      "image/png": "[encoded data removed]",
      "text/plain": [
       "<Figure size 432x288 with 1 Axes>"
      ]
     },
     "metadata": {
      "needs_background": "light"
     },
     "output_type": "display_data"
    }
   ],
   "source": [
    "plt.scatter(X_train[:,0],X_train[:,1],c=y_lables)"
   ]
  },
  {
   "cell_type": "code",
   "execution_count": 30,
   "id": "d351daa9",
   "metadata": {},
   "outputs": [
    {
     "data": {
      "text/plain": [
       "[6350.499237030179,\n",
       " 1230.8405264123764,\n",
       " 1083.0673959855267,\n",
       " 934.7698999121162,\n",
       " 818.6598863644565,\n",
       " 708.1987366939477,\n",
       " 607.059218389229,\n",
       " 528.680803981086,\n",
       " 486.4487305079185]"
      ]
     },
     "execution_count": 30,
     "metadata": {},
     "output_type": "execute_result"
    }
   ],
   "source": [
    "wcss"
   ]
  },
  {
   "cell_type": "code",
   "execution_count": 36,
   "id": "9dbe2937",
   "metadata": {},
   "outputs": [
    {
     "ename": "ModuleNotFoundError",
     "evalue": "No module named 'kneed'",
     "output_type": "error",
     "traceback": [
      "\u001b[0;31m---------------------------------------------------------------------------\u001b[0m",
      "\u001b[0;31mModuleNotFoundError\u001b[0m                       Traceback (most recent call last)",
      "\u001b[0;32m<ipython-input-36-55e9acb7424c>\u001b[0m in \u001b[0;36m<module>\u001b[0;34m\u001b[0m\n\u001b[0;32m----> 1\u001b[0;31m \u001b[0;32mfrom\u001b[0m \u001b[0mkneed\u001b[0m \u001b[0;32mimport\u001b[0m \u001b[0mKneeLocator\u001b[0m\u001b[0;34m\u001b[0m\u001b[0;34m\u001b[0m\u001b[0m\n\u001b[0m",
      "\u001b[0;31mModuleNotFoundError\u001b[0m: No module named 'kneed'"
     ]
    }
   ],
   "source": [
    "from kneed import KneeLocator"
   ]
  },
  {
   "cell_type": "code",
   "execution_count": 38,
   "id": "8ac9962e",
   "metadata": {},
   "outputs": [
    {
     "name": "stdout",
     "output_type": "stream",
     "text": [
      "Collecting kneed\n",
      "\u001b[33m  WARNING: Retrying (Retry(total=4, connect=None, read=None, redirect=None, status=None)) after connection broken by 'NewConnectionError('<urllib3.connection.VerifiedHTTPSConnection object at 0x7f6b2e7b66a0>: Failed to establish a new connection: [Errno -3] Temporary failure in name resolution')': /packages/22/55/f42149c6d3ff9eed1808a1741b0e814202d12af1ddb87765f879c3b32703/kneed-0.8.3-py3-none-any.whl\u001b[0m\n",
      "\u001b[33m  WARNING: Retrying (Retry(total=3, connect=None, read=None, redirect=None, status=None)) after connection broken by 'NewConnectionError('<urllib3.connection.VerifiedHTTPSConnection object at 0x7f6b2e7b67c0>: Failed to establish a new connection: [Errno -3] Temporary failure in name resolution')': /packages/22/55/f42149c6d3ff9eed1808a1741b0e814202d12af1ddb87765f879c3b32703/kneed-0.8.3-py3-none-any.whl\u001b[0m\n",
      "  Downloading kneed-0.8.3-py3-none-any.whl (10 kB)\n",
      "Requirement already satisfied: scipy>=1.0.0 in /home/user01/.local/lib/python3.8/site-packages (from kneed) (1.9.3)\n",
      "Requirement already satisfied: numpy>=1.14.2 in /home/user01/.local/lib/python3.8/site-packages (from kneed) (1.24.2)\n",
      "Installing collected packages: kneed\n",
      "Successfully installed kneed-0.8.3\n"
     ]
    }
   ],
   "source": [
    "!pip install kneed"
   ]
  },
  {
   "cell_type": "code",
   "execution_count": 32,
   "id": "0356d509",
   "metadata": {},
   "outputs": [
    {
     "ename": "NameError",
     "evalue": "name 'KneeLocator' is not defined",
     "output_type": "error",
     "traceback": [
      "\u001b[0;31m---------------------------------------------------------------------------\u001b[0m",
      "\u001b[0;31mNameError\u001b[0m                                 Traceback (most recent call last)",
      "\u001b[0;32m<ipython-input-32-92a996a8382e>\u001b[0m in \u001b[0;36m<module>\u001b[0;34m\u001b[0m\n\u001b[0;32m----> 1\u001b[0;31m \u001b[0mk\u001b[0m\u001b[0;34m=\u001b[0m\u001b[0mKneeLocator\u001b[0m\u001b[0;34m(\u001b[0m\u001b[0mrange\u001b[0m\u001b[0;34m(\u001b[0m\u001b[0;36m2\u001b[0m\u001b[0;34m,\u001b[0m\u001b[0;36m11\u001b[0m\u001b[0;34m)\u001b[0m\u001b[0;34m,\u001b[0m\u001b[0mwcss\u001b[0m\u001b[0;34m,\u001b[0m\u001b[0mcurve\u001b[0m\u001b[0;34m=\u001b[0m\u001b[0;34m'convex'\u001b[0m\u001b[0;34m,\u001b[0m\u001b[0mdirection\u001b[0m\u001b[0;34m=\u001b[0m\u001b[0;34m'decreasing'\u001b[0m\u001b[0;34m)\u001b[0m\u001b[0;34m\u001b[0m\u001b[0;34m\u001b[0m\u001b[0m\n\u001b[0m",
      "\u001b[0;31mNameError\u001b[0m: name 'KneeLocator' is not defined"
     ]
    }
   ],
   "source": [
    "k=KneeLocator(range(2,11),wcss,curve='convex',direction='decreasing')"
   ]
  },
  {
   "cell_type": "code",
   "execution_count": 33,
   "id": "88696281",
   "metadata": {},
   "outputs": [
    {
     "ename": "AttributeError",
     "evalue": "'int' object has no attribute 'elbow'",
     "output_type": "error",
     "traceback": [
      "\u001b[0;31m---------------------------------------------------------------------------\u001b[0m",
      "\u001b[0;31mAttributeError\u001b[0m                            Traceback (most recent call last)",
      "\u001b[0;32m<ipython-input-33-8bfa2b393f52>\u001b[0m in \u001b[0;36m<module>\u001b[0;34m\u001b[0m\n\u001b[0;32m----> 1\u001b[0;31m \u001b[0mk\u001b[0m\u001b[0;34m.\u001b[0m\u001b[0melbow\u001b[0m\u001b[0;34m\u001b[0m\u001b[0;34m\u001b[0m\u001b[0m\n\u001b[0m",
      "\u001b[0;31mAttributeError\u001b[0m: 'int' object has no attribute 'elbow'"
     ]
    }
   ],
   "source": [
    "k.elbow"
   ]
  },
  {
   "cell_type": "code",
   "execution_count": 34,
   "id": "7b44c384",
   "metadata": {},
   "outputs": [],
   "source": [
    "from sklearn.metrics import silhouette_score"
   ]
  },
  {
   "cell_type": "code",
   "execution_count": 9,
   "id": "6d4aaa98",
   "metadata": {},
   "outputs": [],
   "source": [
    "from sklearn.cluster import KMeans\n",
    "silhouette_coefficients=[]\n",
    "for k in range(2,11):\n",
    "    kmeans=KMeans(n_clusters=k,init=\"k-means++\")\n",
    "    kmeans.fit(X_train)\n",
    "    score=silhouette_score(X_train,kmeans.labels_)\n",
    "    silhouette_coefficients.append(score)"
   ]
  },
  {
   "cell_type": "code",
   "execution_count": 10,
   "id": "62895059",
   "metadata": {},
   "outputs": [
    {
     "data": {
      "text/plain": [
       "[0.7273220153669463,\n",
       " 0.7835543034796946,\n",
       " 0.6296864214964658,\n",
       " 0.44467573166547414,\n",
       " 0.31462644441690624,\n",
       " 0.3279696423058667,\n",
       " 0.341213768252892,\n",
       " 0.3488979056718377,\n",
       " 0.3441929537548391]"
      ]
     },
     "execution_count": 10,
     "metadata": {},
     "output_type": "execute_result"
    }
   ],
   "source": [
    "silhouette_coefficients"
   ]
  },
  {
   "cell_type": "code",
   "execution_count": 11,
   "id": "86241e5c",
   "metadata": {},
   "outputs": [
    {
     "data": {
      "image/png": "[encoded data removed]",
      "text/plain": [
       "<Figure size 432x288 with 1 Axes>"
      ]
     },
     "metadata": {
      "needs_background": "light"
     },
     "output_type": "display_data"
    }
   ],
   "source": [
    "plt.plot(range(2,11),silhouette_coefficients)\n",
    "plt.xticks(range(2,11))\n",
    "plt.xlabel(\"number of cluster\")\n",
    "plt.ylabel(\"Silhoutte Coeffecient\")\n",
    "plt.show()"
   ]
  },
  {
   "cell_type": "code",
   "execution_count": null,
   "id": "f4992802",
   "metadata": {},
   "outputs": [],
   "source": [
    "# you have a data set\n",
    "\n",
    "# unsupervised+supervised=semisupervised\n",
    "\n",
    "classification data(wafer data)\n",
    "\n",
    "you have a multiple files \n",
    "\n",
    "take all the files and create a single dataframe\n",
    "\n",
    "then you have to perform clustering(kmean,hirarchical,dbscan)\n",
    "\n",
    "after clustering the data will be segeregated in different clsuters\n",
    "\n",
    "then you have to perform supervised mllearning(log reg,svc,DTC,RF, boosting classifier) on each and every cluster\n",
    "and find out the best algorithm\n"
   ]
  }
 ],
 "metadata": {
  "kernelspec": {
   "display_name": "Python 3",
   "language": "python",
   "name": "python3"
  },
  "language_info": {
   "codemirror_mode": {
    "name": "ipython",
    "version": 3
   },
   "file_extension": ".py",
   "mimetype": "text/x-python",
   "name": "python",
   "nbconvert_exporter": "python",
   "pygments_lexer": "ipython3",
   "version": "3.8.10"
  }
 },
 "nbformat": 4,
 "nbformat_minor": 5
}
