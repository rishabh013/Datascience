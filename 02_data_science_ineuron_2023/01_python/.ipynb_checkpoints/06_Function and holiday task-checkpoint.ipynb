{
 "cells": [
  {
   "cell_type": "code",
   "execution_count": 1,
   "metadata": {},
   "outputs": [
    {
     "data": {
      "text/plain": [
       "4"
      ]
     },
     "execution_count": 1,
     "metadata": {},
     "output_type": "execute_result"
    }
   ],
   "source": [
    "len(\"sudh\")"
   ]
  },
  {
   "cell_type": "code",
   "execution_count": 2,
   "metadata": {},
   "outputs": [
    {
     "name": "stdout",
     "output_type": "stream",
     "text": [
      "sdafsadfdsa\n"
     ]
    }
   ],
   "source": [
    "print(\"sdafsadfdsa\")"
   ]
  },
  {
   "cell_type": "code",
   "execution_count": 3,
   "metadata": {},
   "outputs": [],
   "source": [
    "def test(): \n",
    "    pass"
   ]
  },
  {
   "cell_type": "code",
   "execution_count": 4,
   "metadata": {},
   "outputs": [],
   "source": [
    "def test1():\n",
    "    print(\"this is my first fun\")"
   ]
  },
  {
   "cell_type": "code",
   "execution_count": 5,
   "metadata": {},
   "outputs": [
    {
     "name": "stdout",
     "output_type": "stream",
     "text": [
      "this is my first fun\n"
     ]
    }
   ],
   "source": [
    "test1()"
   ]
  },
  {
   "cell_type": "code",
   "execution_count": 7,
   "metadata": {},
   "outputs": [
    {
     "name": "stdout",
     "output_type": "stream",
     "text": [
      "this is my first fun\n"
     ]
    }
   ],
   "source": [
    "a = test1()"
   ]
  },
  {
   "cell_type": "code",
   "execution_count": 8,
   "metadata": {},
   "outputs": [
    {
     "name": "stdout",
     "output_type": "stream",
     "text": [
      "this is my first fun\n"
     ]
    },
    {
     "ename": "TypeError",
     "evalue": "unsupported operand type(s) for +: 'NoneType' and 'str'",
     "output_type": "error",
     "traceback": [
      "\u001b[0;31m---------------------------------------------------------------------------\u001b[0m",
      "\u001b[0;31mTypeError\u001b[0m                                 Traceback (most recent call last)",
      "\u001b[0;32m/tmp/ipykernel_139106/969084270.py\u001b[0m in \u001b[0;36m<module>\u001b[0;34m\u001b[0m\n\u001b[0;32m----> 1\u001b[0;31m \u001b[0mtest1\u001b[0m\u001b[0;34m(\u001b[0m\u001b[0;34m)\u001b[0m \u001b[0;34m+\u001b[0m\u001b[0;34m\"sudh\"\u001b[0m\u001b[0;34m\u001b[0m\u001b[0;34m\u001b[0m\u001b[0m\n\u001b[0m",
      "\u001b[0;31mTypeError\u001b[0m: unsupported operand type(s) for +: 'NoneType' and 'str'"
     ]
    }
   ],
   "source": [
    "test1() +\"sudh\""
   ]
  },
  {
   "cell_type": "code",
   "execution_count": 9,
   "metadata": {},
   "outputs": [
    {
     "data": {
      "text/plain": [
       "'sudhkuamr'"
      ]
     },
     "execution_count": 9,
     "metadata": {},
     "output_type": "execute_result"
    }
   ],
   "source": [
    "\"sudh\" + \"kuamr\""
   ]
  },
  {
   "cell_type": "code",
   "execution_count": 10,
   "metadata": {},
   "outputs": [
    {
     "name": "stdout",
     "output_type": "stream",
     "text": [
      "this is my first fun\n"
     ]
    },
    {
     "data": {
      "text/plain": [
       "NoneType"
      ]
     },
     "execution_count": 10,
     "metadata": {},
     "output_type": "execute_result"
    }
   ],
   "source": [
    "type(test1())"
   ]
  },
  {
   "cell_type": "code",
   "execution_count": 11,
   "metadata": {},
   "outputs": [
    {
     "name": "stdout",
     "output_type": "stream",
     "text": [
      "this is my first fun\n"
     ]
    }
   ],
   "source": [
    "a = test1()"
   ]
  },
  {
   "cell_type": "code",
   "execution_count": 12,
   "metadata": {},
   "outputs": [
    {
     "data": {
      "text/plain": [
       "'None'"
      ]
     },
     "execution_count": 12,
     "metadata": {},
     "output_type": "execute_result"
    }
   ],
   "source": [
    "str(a)"
   ]
  },
  {
   "cell_type": "code",
   "execution_count": 13,
   "metadata": {},
   "outputs": [],
   "source": [
    "def test2():\n",
    "    return \"this is my first fun\""
   ]
  },
  {
   "cell_type": "code",
   "execution_count": 14,
   "metadata": {},
   "outputs": [
    {
     "data": {
      "text/plain": [
       "str"
      ]
     },
     "execution_count": 14,
     "metadata": {},
     "output_type": "execute_result"
    }
   ],
   "source": [
    "type(test2())"
   ]
  },
  {
   "cell_type": "code",
   "execution_count": 15,
   "metadata": {},
   "outputs": [
    {
     "data": {
      "text/plain": [
       "'this is my first funsudh'"
      ]
     },
     "execution_count": 15,
     "metadata": {},
     "output_type": "execute_result"
    }
   ],
   "source": [
    "test2() + \"sudh\""
   ]
  },
  {
   "cell_type": "code",
   "execution_count": 16,
   "metadata": {},
   "outputs": [],
   "source": [
    "def test3() : \n",
    "    return 235435"
   ]
  },
  {
   "cell_type": "code",
   "execution_count": 17,
   "metadata": {},
   "outputs": [
    {
     "data": {
      "text/plain": [
       "int"
      ]
     },
     "execution_count": 17,
     "metadata": {},
     "output_type": "execute_result"
    }
   ],
   "source": [
    "type(test3())"
   ]
  },
  {
   "cell_type": "code",
   "execution_count": 18,
   "metadata": {},
   "outputs": [],
   "source": [
    "def test4():\n",
    "    return 4,3, \"sudh\" , [1,2,3,4,5]"
   ]
  },
  {
   "cell_type": "code",
   "execution_count": 19,
   "metadata": {},
   "outputs": [
    {
     "data": {
      "text/plain": [
       "(4, 3, 'sudh', [1, 2, 3, 4, 5])"
      ]
     },
     "execution_count": 19,
     "metadata": {},
     "output_type": "execute_result"
    }
   ],
   "source": [
    "b = test4()\n",
    "b"
   ]
  },
  {
   "cell_type": "code",
   "execution_count": 20,
   "metadata": {},
   "outputs": [],
   "source": [
    "a = 1\n",
    "b  = 5 \n",
    "c = \"sudh\"\n",
    "d = [345354,435435,543,543,5435]"
   ]
  },
  {
   "cell_type": "code",
   "execution_count": 21,
   "metadata": {},
   "outputs": [],
   "source": [
    "a ,b,c,d = 34, 45, \"sudh\" , \"dfasdfa\""
   ]
  },
  {
   "cell_type": "code",
   "execution_count": 22,
   "metadata": {},
   "outputs": [
    {
     "ename": "ValueError",
     "evalue": "not enough values to unpack (expected 5, got 4)",
     "output_type": "error",
     "traceback": [
      "\u001b[0;31m---------------------------------------------------------------------------\u001b[0m",
      "\u001b[0;31mValueError\u001b[0m                                Traceback (most recent call last)",
      "\u001b[0;32m/tmp/ipykernel_139106/2928206786.py\u001b[0m in \u001b[0;36m<module>\u001b[0;34m\u001b[0m\n\u001b[0;32m----> 1\u001b[0;31m \u001b[0mx\u001b[0m\u001b[0;34m,\u001b[0m\u001b[0my\u001b[0m\u001b[0;34m,\u001b[0m\u001b[0mu\u001b[0m\u001b[0;34m,\u001b[0m\u001b[0mv\u001b[0m\u001b[0;34m,\u001b[0m\u001b[0md\u001b[0m \u001b[0;34m=\u001b[0m \u001b[0mtest4\u001b[0m\u001b[0;34m(\u001b[0m\u001b[0;34m)\u001b[0m\u001b[0;34m\u001b[0m\u001b[0;34m\u001b[0m\u001b[0m\n\u001b[0m",
      "\u001b[0;31mValueError\u001b[0m: not enough values to unpack (expected 5, got 4)"
     ]
    }
   ],
   "source": [
    "x,y,u,v,d = test4()"
   ]
  },
  {
   "cell_type": "code",
   "execution_count": 23,
   "metadata": {},
   "outputs": [],
   "source": [
    "def test5():\n",
    "    a = 6*7 /6\n",
    "    return a "
   ]
  },
  {
   "cell_type": "code",
   "execution_count": 24,
   "metadata": {},
   "outputs": [
    {
     "data": {
      "text/plain": [
       "7.0"
      ]
     },
     "execution_count": 24,
     "metadata": {},
     "output_type": "execute_result"
    }
   ],
   "source": [
    "test5()"
   ]
  },
  {
   "cell_type": "code",
   "execution_count": 25,
   "metadata": {},
   "outputs": [],
   "source": [
    "l = [3,4,5,6,7,7 ,\"sudh\" , [1,3,4,54,56]]"
   ]
  },
  {
   "cell_type": "code",
   "execution_count": 26,
   "metadata": {},
   "outputs": [],
   "source": [
    "def test6(a):\n",
    "    n = []\n",
    "    if type(a) == list:\n",
    "        for i in a:\n",
    "            if type(i) == int:\n",
    "                n.append(i)                \n",
    "    return n"
   ]
  },
  {
   "cell_type": "code",
   "execution_count": 27,
   "metadata": {},
   "outputs": [
    {
     "data": {
      "text/plain": [
       "list"
      ]
     },
     "execution_count": 27,
     "metadata": {},
     "output_type": "execute_result"
    }
   ],
   "source": [
    "type(test6(l))"
   ]
  },
  {
   "cell_type": "code",
   "execution_count": 28,
   "metadata": {},
   "outputs": [
    {
     "data": {
      "text/plain": [
       "[2, 3, 3, 4, 56, 76, 7]"
      ]
     },
     "execution_count": 28,
     "metadata": {},
     "output_type": "execute_result"
    }
   ],
   "source": [
    "test6([2,3,3,4,56,76,7,\"dsfdsf\" , (\"fdsf\",\"fsdf\" , 45)])"
   ]
  },
  {
   "cell_type": "code",
   "execution_count": 29,
   "metadata": {},
   "outputs": [],
   "source": [
    "def test7(a):\n",
    "    n =[]\n",
    "    if type(a) == list:\n",
    "        for i in a:\n",
    "            if type(i) == int:\n",
    "                n.append(i)\n",
    "    return n \n"
   ]
  },
  {
   "cell_type": "code",
   "execution_count": 30,
   "metadata": {},
   "outputs": [
    {
     "data": {
      "text/plain": [
       "[3, 4, 5, 6, 7, 7]"
      ]
     },
     "execution_count": 30,
     "metadata": {},
     "output_type": "execute_result"
    }
   ],
   "source": [
    "test7(l)"
   ]
  },
  {
   "cell_type": "code",
   "execution_count": 31,
   "metadata": {},
   "outputs": [],
   "source": [
    "l = [3,4,5,6,7,7,\"sudh\",[1,3,4,54,56],6,7]\n",
    "def test6(a):\n",
    "    n = []\n",
    "    if type(a) == list:\n",
    "        for i in a:\n",
    "            if type(i) == int:\n",
    "                n.append(i)\n",
    "            elif type(i) == list:\n",
    "                for j in i:\n",
    "                    if type(j) == int:\n",
    "                        n.append(j)\n",
    "    return n\n"
   ]
  },
  {
   "cell_type": "code",
   "execution_count": 32,
   "metadata": {},
   "outputs": [
    {
     "data": {
      "text/plain": [
       "[3, 4, 5, 6, 7, 7, 1, 3, 4, 54, 56, 6, 7]"
      ]
     },
     "execution_count": 32,
     "metadata": {},
     "output_type": "execute_result"
    }
   ],
   "source": [
    "test6(l)"
   ]
  },
  {
   "cell_type": "code",
   "execution_count": 33,
   "metadata": {},
   "outputs": [],
   "source": [
    "def test6(a):\n",
    "    n = []\n",
    "    if type(l) == list:\n",
    "        for i in a:\n",
    "            if type(i) == int:\n",
    "                n.append(i)\n",
    "       \n",
    "    return n\n"
   ]
  },
  {
   "cell_type": "code",
   "execution_count": 34,
   "metadata": {},
   "outputs": [
    {
     "data": {
      "text/plain": [
       "[3, 4, 5, 6, 7, 7, 6, 7]"
      ]
     },
     "execution_count": 34,
     "metadata": {},
     "output_type": "execute_result"
    }
   ],
   "source": [
    "test6(l)"
   ]
  },
  {
   "cell_type": "code",
   "execution_count": 35,
   "metadata": {},
   "outputs": [],
   "source": [
    "def test6():\n",
    "    a = input()\n",
    "    b = []\n",
    "    if type(a) ==  int:\n",
    "        for i in a:\n",
    "            b.append()\n",
    "        \n",
    "    return b\n"
   ]
  },
  {
   "cell_type": "code",
   "execution_count": 36,
   "metadata": {},
   "outputs": [],
   "source": [
    "def test6(a):\n",
    "    n=\"sardar\"\n",
    "    if type(a)==list:\n",
    "        for i in a:\n",
    "            if type(i)==int:\n",
    "                n.append(i)\n",
    "    return n\n"
   ]
  },
  {
   "cell_type": "code",
   "execution_count": 37,
   "metadata": {},
   "outputs": [],
   "source": [
    "def test6(a):\n",
    "    if type(a)==list:\n",
    "        for i in l:\n",
    "            if type(i)==int:\n",
    "               n = print(i,end=\" \")\n",
    "    return n\n"
   ]
  },
  {
   "cell_type": "code",
   "execution_count": 38,
   "metadata": {},
   "outputs": [],
   "source": [
    "def test8(c) :\n",
    "    if type(c) == dict :\n",
    "        return c.keys()\n",
    "    else :\n",
    "        return \"you have not passed a dic\""
   ]
  },
  {
   "cell_type": "code",
   "execution_count": 39,
   "metadata": {},
   "outputs": [
    {
     "data": {
      "text/plain": [
       "'you have not passed a dic'"
      ]
     },
     "execution_count": 39,
     "metadata": {},
     "output_type": "execute_result"
    }
   ],
   "source": [
    "test8(\"fsadfsaf\")"
   ]
  },
  {
   "cell_type": "code",
   "execution_count": 40,
   "metadata": {},
   "outputs": [
    {
     "data": {
      "text/plain": [
       "dict_keys(['a', 'b', 'c'])"
      ]
     },
     "execution_count": 40,
     "metadata": {},
     "output_type": "execute_result"
    }
   ],
   "source": [
    "test8({\"a\":\"dsfsf\" , \"b\" :2354234 , \"c\" : [4,5,76,78]})"
   ]
  },
  {
   "cell_type": "code",
   "execution_count": 41,
   "metadata": {},
   "outputs": [],
   "source": [
    "def test9(a,b) :\n",
    "    if type(a) == list and type(b) == list:\n",
    "        a.extend(b)\n",
    "        return a\n",
    "    else :\n",
    "        return \"either of your data is not a list \""
   ]
  },
  {
   "cell_type": "code",
   "execution_count": 42,
   "metadata": {},
   "outputs": [
    {
     "data": {
      "text/plain": [
       "'either of your data is not a list '"
      ]
     },
     "execution_count": 42,
     "metadata": {},
     "output_type": "execute_result"
    }
   ],
   "source": [
    "test9(2424,\"uisdeh\")"
   ]
  },
  {
   "cell_type": "code",
   "execution_count": 43,
   "metadata": {},
   "outputs": [
    {
     "data": {
      "text/plain": [
       "[2, 3, 4, 5, 6, 4, 5, 7, 788]"
      ]
     },
     "execution_count": 43,
     "metadata": {},
     "output_type": "execute_result"
    }
   ],
   "source": [
    "test9([2,3,4,5,6] , [4,5,7,788])"
   ]
  },
  {
   "cell_type": "code",
   "execution_count": 44,
   "metadata": {},
   "outputs": [
    {
     "ename": "NameError",
     "evalue": "name 'n' is not defined",
     "output_type": "error",
     "traceback": [
      "\u001b[0;31m---------------------------------------------------------------------------\u001b[0m",
      "\u001b[0;31mNameError\u001b[0m                                 Traceback (most recent call last)",
      "\u001b[0;32m/tmp/ipykernel_139106/1249512285.py\u001b[0m in \u001b[0;36m<module>\u001b[0;34m\u001b[0m\n\u001b[0;32m----> 1\u001b[0;31m \u001b[0mn\u001b[0m\u001b[0;34m\u001b[0m\u001b[0;34m\u001b[0m\u001b[0m\n\u001b[0m",
      "\u001b[0;31mNameError\u001b[0m: name 'n' is not defined"
     ]
    }
   ],
   "source": [
    "n"
   ]
  },
  {
   "cell_type": "code",
   "execution_count": 45,
   "metadata": {},
   "outputs": [],
   "source": [
    "a = [2,3,4,5,6]\n",
    "b = [4,5,7,788]"
   ]
  },
  {
   "cell_type": "code",
   "execution_count": 46,
   "metadata": {},
   "outputs": [
    {
     "data": {
      "text/plain": [
       "[2, 3, 4, 5, 6, 4, 5, 7, 788]"
      ]
     },
     "execution_count": 46,
     "metadata": {},
     "output_type": "execute_result"
    }
   ],
   "source": [
    "test9(a,b)"
   ]
  },
  {
   "cell_type": "code",
   "execution_count": 47,
   "metadata": {},
   "outputs": [
    {
     "data": {
      "text/plain": [
       "[2, 3, 4, 5, 6, 4, 5, 7, 788]"
      ]
     },
     "execution_count": 47,
     "metadata": {},
     "output_type": "execute_result"
    }
   ],
   "source": [
    "a"
   ]
  },
  {
   "cell_type": "code",
   "execution_count": 48,
   "metadata": {},
   "outputs": [
    {
     "name": "stdout",
     "output_type": "stream",
     "text": [
      "  * \n",
      "\n",
      " * * \n",
      "\n",
      "* * * \n",
      "\n"
     ]
    }
   ],
   "source": [
    "def Create_Triangle(row_num):\n",
    "    n= row_num\n",
    "    k = n - 1\n",
    "    \n",
    "    for i in range(0, n):\n",
    "\n",
    "        for j in range(0, k):\n",
    "            print(end=\" \")\n",
    "     \n",
    "        k = k - 1\n",
    "     \n",
    "        for j in range(0, i+1):        \n",
    "            print(\"* \", end=\"\")\n",
    "     \n",
    "        print(\"\\n\")\n",
    "\n",
    "Create_Triangle(3)\n"
   ]
  },
  {
   "cell_type": "code",
   "execution_count": 49,
   "metadata": {},
   "outputs": [
    {
     "name": "stdout",
     "output_type": "stream",
     "text": [
      "         * \n",
      "\n",
      "        * * \n",
      "\n",
      "       * * * \n",
      "\n",
      "      * * * * \n",
      "\n",
      "     * * * * * \n",
      "\n",
      "    * * * * * * \n",
      "\n",
      "   * * * * * * * \n",
      "\n",
      "  * * * * * * * * \n",
      "\n",
      " * * * * * * * * * \n",
      "\n",
      "* * * * * * * * * * \n",
      "\n"
     ]
    }
   ],
   "source": [
    "Create_Triangle(10)"
   ]
  },
  {
   "cell_type": "code",
   "execution_count": 50,
   "metadata": {},
   "outputs": [
    {
     "name": "stdout",
     "output_type": "stream",
     "text": [
      "    * \n",
      "\n",
      "   * * \n",
      "\n",
      "  * * * \n",
      "\n",
      " * * * * \n",
      "\n",
      "* * * * * \n",
      "\n"
     ]
    }
   ],
   "source": [
    "Create_Triangle(5)"
   ]
  },
  {
   "cell_type": "code",
   "execution_count": 51,
   "metadata": {},
   "outputs": [],
   "source": [
    "def triangle (rows):\n",
    "    if type(rows) == int:\n",
    "        for i in range(1,rows):\n",
    "            for j in range(i):\n",
    "                print(\".\",end=\" \")\n",
    "            print(\"\\n\")\n"
   ]
  },
  {
   "cell_type": "code",
   "execution_count": 52,
   "metadata": {},
   "outputs": [
    {
     "name": "stdout",
     "output_type": "stream",
     "text": [
      ". \n",
      "\n",
      ". . \n",
      "\n",
      ". . . \n",
      "\n"
     ]
    }
   ],
   "source": [
    "triangle(4)"
   ]
  },
  {
   "cell_type": "code",
   "execution_count": null,
   "metadata": {},
   "outputs": [],
   "source": []
  },
  {
   "cell_type": "code",
   "execution_count": 53,
   "metadata": {},
   "outputs": [],
   "source": [
    "def test10(n):\n",
    "    \"\"\"\n",
    "    this is a fun to craete a tri \n",
    "    you can give input as an int \n",
    "    and you will be able to get output as a traingle \n",
    "    \"\"\"\n",
    "    for i in range(0,n):\n",
    "        for j in range (0, i+1):\n",
    "            print(\"*\", end= \"\")\n",
    "        print(\"\\r\")\n"
   ]
  },
  {
   "cell_type": "code",
   "execution_count": 54,
   "metadata": {},
   "outputs": [
    {
     "name": "stdout",
     "output_type": "stream",
     "text": [
      "*\r\n",
      "**\r\n",
      "***\r\n",
      "****\r\n",
      "*****\r\n",
      "******\r\n",
      "*******\r\n",
      "********\r\n",
      "*********\r\n",
      "**********\r\n",
      "***********\r\n",
      "************\r\n",
      "*************\r\n",
      "**************\r\n",
      "***************\r\n",
      "****************\r\n",
      "*****************\r\n",
      "******************\r\n",
      "*******************\r\n",
      "********************\r\n",
      "*********************\r\n",
      "**********************\r\n",
      "***********************\r\n",
      "************************\r\n",
      "*************************\r\n",
      "**************************\r\n",
      "***************************\r\n",
      "****************************\r\n",
      "*****************************\r\n",
      "******************************\r\n",
      "*******************************\r\n",
      "********************************\r\n",
      "*********************************\r\n",
      "**********************************\r\n",
      "***********************************\r\n",
      "************************************\r\n",
      "*************************************\r\n",
      "**************************************\r\n",
      "***************************************\r\n",
      "****************************************\r\n"
     ]
    }
   ],
   "source": [
    "test10(40)"
   ]
  },
  {
   "cell_type": "code",
   "execution_count": 55,
   "metadata": {},
   "outputs": [
    {
     "name": "stdout",
     "output_type": "stream",
     "text": [
      "Help on function test10 in module __main__:\n",
      "\n",
      "test10(n)\n",
      "    this is a fun to craete a tri \n",
      "    you can give input as an int \n",
      "    and you will be able to get output as a traingle\n",
      "\n"
     ]
    }
   ],
   "source": [
    "help(test10)"
   ]
  },
  {
   "cell_type": "code",
   "execution_count": 56,
   "metadata": {},
   "outputs": [],
   "source": [
    "#dsgfsafdsa dsafsadf sadfdsa fsaf dsaf"
   ]
  },
  {
   "cell_type": "code",
   "execution_count": 57,
   "metadata": {},
   "outputs": [
    {
     "data": {
      "text/plain": [
       "'fsad\\ndsafsa\\nfsa\\nfsad\\nfas\\ndf\\nasdfasf'"
      ]
     },
     "execution_count": 57,
     "metadata": {},
     "output_type": "execute_result"
    }
   ],
   "source": [
    "\"\"\"fsad\n",
    "dsafsa\n",
    "fsa\n",
    "fsad\n",
    "fas\n",
    "df\n",
    "asdfasf\"\"\""
   ]
  },
  {
   "cell_type": "code",
   "execution_count": 58,
   "metadata": {},
   "outputs": [
    {
     "name": "stdout",
     "output_type": "stream",
     "text": [
      "*\r\n",
      "**\r\n",
      "***\r\n",
      "****\r\n",
      "*****\r\n",
      "Help on NoneType object:\n",
      "\n",
      "class NoneType(object)\n",
      " |  Methods defined here:\n",
      " |  \n",
      " |  __bool__(self, /)\n",
      " |      self != 0\n",
      " |  \n",
      " |  __repr__(self, /)\n",
      " |      Return repr(self).\n",
      " |  \n",
      " |  ----------------------------------------------------------------------\n",
      " |  Static methods defined here:\n",
      " |  \n",
      " |  __new__(*args, **kwargs) from builtins.type\n",
      " |      Create and return a new object.  See help(type) for accurate signature.\n",
      "\n"
     ]
    }
   ],
   "source": [
    "help(test10(5))"
   ]
  },
  {
   "cell_type": "code",
   "execution_count": 59,
   "metadata": {},
   "outputs": [
    {
     "name": "stdout",
     "output_type": "stream",
     "text": [
      "Help on function test10 in module __main__:\n",
      "\n",
      "test10(n)\n",
      "    this is a fun to craete a tri \n",
      "    you can give input as an int \n",
      "    and you will be able to get output as a traingle\n",
      "\n"
     ]
    }
   ],
   "source": [
    "help(test10)"
   ]
  },
  {
   "cell_type": "code",
   "execution_count": 60,
   "metadata": {},
   "outputs": [],
   "source": [
    "def ext(a,b):\n",
    "    if type(a) == list and type(b) == list:\n",
    "        a.extend(b)\n",
    "        return a\n",
    "    else:\n",
    "        print( \"IT is not list\")"
   ]
  },
  {
   "cell_type": "code",
   "execution_count": 61,
   "metadata": {},
   "outputs": [
    {
     "data": {
      "text/plain": [
       "[3, 4, 5, 6, 76, 4, 5, 6, 76]"
      ]
     },
     "execution_count": 61,
     "metadata": {},
     "output_type": "execute_result"
    }
   ],
   "source": [
    "ext([3,4,5,6,76] , [4,5,6,76])"
   ]
  },
  {
   "cell_type": "code",
   "execution_count": null,
   "metadata": {},
   "outputs": [],
   "source": [
    "1 . you have to write a fun which will take string and return a len of \n",
    "it without using a inbuilt fun len\n",
    "2 . write a fun which will be able to print an index of all premitive element which you will pass \n",
    "3 . Write a fun which will take input as a dict and give me out as a list of all the values \n",
    "even in case of 2 level nesting it should work . \n",
    "4 . write a fun which will take another function as an input and return me an output \n",
    "5. write a function whihc will take multiple list as a input and give me concatnation of all the element as \n",
    "and output \n",
    "6 . write a function which will be able to take a list as an input return an index of each element \n",
    "like a inbuilt index function but even if we have repetative element it should return index \n",
    "7 . Write a function which will whould return list of all the file name from a directory . \n",
    "8  . write a function which will be able to show your system configuration . \n",
    "9 . write a function which will be able to show date and time  . \n",
    "10 . write a function whihc will be able to read a image file and show it to you .\n",
    "11 . write a function which can read video file and play for you . \n",
    "12  . write a function whihc can move a file from one directory to another directory . \n",
    "13 . write a function which will be able to shutdonw your system . \n",
    "14 . write a function whihc will be able to access your mail . \n",
    "15 . write a func bywhcih i can send a mail to anyone \n",
    "16. write a func to read a complete PDf file . \n",
    "17. write a function to read a word file . \n",
    "18 . write a function which can help you to filter only word file from a directory . \n",
    "19 . write a function by which you can print an ip address of your system . \n",
    "20 . write a function by which you will be able to append two PDF files . "
   ]
  },
  {
   "cell_type": "code",
   "execution_count": null,
   "metadata": {},
   "outputs": [],
   "source": [
    "sudhanshu@ineuron.ai"
   ]
  },
  {
   "cell_type": "code",
   "execution_count": null,
   "metadata": {},
   "outputs": [],
   "source": []
  }
 ],
 "metadata": {
  "kernelspec": {
   "display_name": "Python 3 (ipykernel)",
   "language": "python",
   "name": "python3"
  },
  "language_info": {
   "codemirror_mode": {
    "name": "ipython",
    "version": 3
   },
   "file_extension": ".py",
   "mimetype": "text/x-python",
   "name": "python",
   "nbconvert_exporter": "python",
   "pygments_lexer": "ipython3",
   "version": "3.9.7"
  }
 },
 "nbformat": 4,
 "nbformat_minor": 4
}
