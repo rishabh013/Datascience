{
 "cells": [
  {
   "cell_type": "code",
   "execution_count": 11,
   "id": "a443b06b",
   "metadata": {},
   "outputs": [],
   "source": [
    "import logging"
   ]
  },
  {
   "cell_type": "code",
   "execution_count": 12,
   "id": "78d50b2b",
   "metadata": {},
   "outputs": [],
   "source": [
    "logging.basicConfig(filename = \"test1.log\" ,level = logging.INFO)"
   ]
  },
  {
   "cell_type": "code",
   "execution_count": 13,
   "id": "32082e01",
   "metadata": {},
   "outputs": [],
   "source": [
    "def additional(*args):\n",
    "    logging.info(\"This is additional function\")\n",
    "    sum1 = 0\n",
    "    for i in args:\n",
    "        logging.info(str(i))\n",
    "        sum1=sum1+i\n",
    "    return sum1"
   ]
  },
  {
   "cell_type": "code",
   "execution_count": 14,
   "id": "b7dedb8c",
   "metadata": {},
   "outputs": [
    {
     "data": {
      "text/plain": [
       "10"
      ]
     },
     "execution_count": 14,
     "metadata": {},
     "output_type": "execute_result"
    }
   ],
   "source": [
    "additional(1,2,3,4)"
   ]
  },
  {
   "cell_type": "code",
   "execution_count": 15,
   "id": "f7547bed",
   "metadata": {},
   "outputs": [
    {
     "name": "stdout",
     "output_type": "stream",
     "text": [
      "INFO:root:This is additional function\n",
      "INFO:root:1\n",
      "INFO:root:2\n",
      "INFO:root:3\n",
      "INFO:root:4\n",
      "INFO:root:This is additional function\n",
      "INFO:root:1\n",
      "INFO:root:2\n",
      "INFO:root:3\n",
      "INFO:root:4\n",
      "INFO:root:This is additional function\n",
      "INFO:root:1\n",
      "INFO:root:2\n",
      "INFO:root:3\n",
      "INFO:root:4\n",
      "\n"
     ]
    }
   ],
   "source": [
    "f = open('test1.log','r')\n",
    "print(f.read())"
   ]
  },
  {
   "cell_type": "code",
   "execution_count": null,
   "id": "d76c5e24",
   "metadata": {},
   "outputs": [],
   "source": []
  }
 ],
 "metadata": {
  "kernelspec": {
   "display_name": "Python 3",
   "language": "python",
   "name": "python3"
  },
  "language_info": {
   "codemirror_mode": {
    "name": "ipython",
    "version": 3
   },
   "file_extension": ".py",
   "mimetype": "text/x-python",
   "name": "python",
   "nbconvert_exporter": "python",
   "pygments_lexer": "ipython3",
   "version": "3.8.10"
  }
 },
 "nbformat": 4,
 "nbformat_minor": 5
}
