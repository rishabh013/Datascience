{
 "cells": [
  {
   "cell_type": "markdown",
   "id": "096a26fb",
   "metadata": {
    "id": "GK0NW_2EjULQ"
   },
   "source": [
    "<table align=\"left\" width=100%>\n",
    "    <tr>\n",
    "        <td width=\"20%\">\n",
    "            <img src=\"GL-2.png\">\n",
    "        </td>\n",
    "        <td>\n",
    "            <div align=\"center\">\n",
    "                <font color=\"#21618C\" size=8px>\n",
    "                  <b> Faculty Notebook <br> ( Day 4) </b>\n",
    "                </font>\n",
    "            </div>\n",
    "        </td>\n",
    "    </tr>\n",
    "</table>"
   ]
  },
  {
   "cell_type": "markdown",
   "id": "a66606fa",
   "metadata": {
    "id": "zvAE5vE3jULR"
   },
   "source": [
    "## Table of Content\n",
    "\n",
    "1. **[Import Libraries](#lib)**\n",
    "2. **[Large Sample Test](#z)**\n",
    "    - 2.1 - **[Two Sample Z Test](#2z)**\n",
    "3. **[Small Sample Test](#t)**\n",
    "    - 3.1 - **[Two Sample t Test (Unpaired)](#2t)**\n",
    "    - 3.2 - **[Paired t Test](#paired)**\n",
    "4. **[Chi-Square Test](#chisq)**\n",
    "    - 4.1 - **[Chi-Square Test for Goodness of Fit](#goodness)**\n",
    "    - 4.2 - **[Chi-Square Test for Independence](#ind)**\n",
    "5. **[One-way ANOVA](#1way)**\n",
    "    - 5.1 - **[Post-hoc Analysis](#post-hoc)**"
   ]
  },
  {
   "cell_type": "markdown",
   "id": "f9f330ad",
   "metadata": {
    "id": "PfsUFjVbjULS"
   },
   "source": [
    "<a id=\"lib\"></a>\n",
    "# 1. Import Libraries"
   ]
  },
  {
   "cell_type": "markdown",
   "id": "a42a4706",
   "metadata": {
    "id": "soadpiTzjULT"
   },
   "source": [
    "**Let us import the required libraries.**"
   ]
  },
  {
   "cell_type": "code",
   "execution_count": 2,
   "id": "58bbc6ce",
   "metadata": {},
   "outputs": [
    {
     "name": "stdout",
     "output_type": "stream",
     "text": [
      "Requirement already satisfied: scikit_posthocs in c:\\users\\davidpratap\\anaconda3\\lib\\site-packages (0.6.7)\n",
      "Requirement already satisfied: numpy in c:\\users\\davidpratap\\appdata\\roaming\\python\\python39\\site-packages (from scikit_posthocs) (1.19.5)\n",
      "Requirement already satisfied: statsmodels in c:\\users\\davidpratap\\anaconda3\\lib\\site-packages (from scikit_posthocs) (0.12.2)\n",
      "Requirement already satisfied: scipy in c:\\users\\davidpratap\\anaconda3\\lib\\site-packages (from scikit_posthocs) (1.7.1)\n",
      "Requirement already satisfied: seaborn in c:\\users\\davidpratap\\anaconda3\\lib\\site-packages (from scikit_posthocs) (0.11.2)\n",
      "Requirement already satisfied: matplotlib in c:\\users\\davidpratap\\anaconda3\\lib\\site-packages (from scikit_posthocs) (3.4.3)\n",
      "Requirement already satisfied: pandas>=0.20.0 in c:\\users\\davidpratap\\anaconda3\\lib\\site-packages (from scikit_posthocs) (1.3.4)\n",
      "Requirement already satisfied: pytz>=2017.3 in c:\\users\\davidpratap\\anaconda3\\lib\\site-packages (from pandas>=0.20.0->scikit_posthocs) (2021.3)\n",
      "Requirement already satisfied: python-dateutil>=2.7.3 in c:\\users\\davidpratap\\anaconda3\\lib\\site-packages (from pandas>=0.20.0->scikit_posthocs) (2.8.2)\n",
      "Requirement already satisfied: pyparsing>=2.2.1 in c:\\users\\davidpratap\\anaconda3\\lib\\site-packages (from matplotlib->scikit_posthocs) (3.0.4)\n",
      "Requirement already satisfied: pillow>=6.2.0 in c:\\users\\davidpratap\\anaconda3\\lib\\site-packages (from matplotlib->scikit_posthocs) (8.4.0)\n",
      "Requirement already satisfied: kiwisolver>=1.0.1 in c:\\users\\davidpratap\\anaconda3\\lib\\site-packages (from matplotlib->scikit_posthocs) (1.3.1)\n",
      "Requirement already satisfied: cycler>=0.10 in c:\\users\\davidpratap\\anaconda3\\lib\\site-packages (from matplotlib->scikit_posthocs) (0.10.0)\n",
      "Requirement already satisfied: patsy>=0.5 in c:\\users\\davidpratap\\anaconda3\\lib\\site-packages (from statsmodels->scikit_posthocs) (0.5.2)\n",
      "Requirement already satisfied: six in c:\\users\\davidpratap\\anaconda3\\lib\\site-packages (from cycler>=0.10->matplotlib->scikit_posthocs) (1.16.0)\n"
     ]
    },
    {
     "name": "stderr",
     "output_type": "stream",
     "text": [
      "WARNING: Ignoring invalid distribution -heel (c:\\users\\davidpratap\\anaconda3\\lib\\site-packages)\n",
      "WARNING: Ignoring invalid distribution -heel (c:\\users\\davidpratap\\anaconda3\\lib\\site-packages)\n",
      "WARNING: Ignoring invalid distribution -heel (c:\\users\\davidpratap\\anaconda3\\lib\\site-packages)\n",
      "WARNING: Ignoring invalid distribution -heel (c:\\users\\davidpratap\\anaconda3\\lib\\site-packages)\n",
      "WARNING: Ignoring invalid distribution -heel (c:\\users\\davidpratap\\anaconda3\\lib\\site-packages)\n",
      "WARNING: Ignoring invalid distribution -heel (c:\\users\\davidpratap\\anaconda3\\lib\\site-packages)\n",
      "WARNING: You are using pip version 21.3.1; however, version 22.0.4 is available.\n",
      "You should consider upgrading via the 'C:\\Users\\davidpratap\\Anaconda3\\python.exe -m pip install --upgrade pip' command.\n"
     ]
    }
   ],
   "source": [
    "!pip install scikit_posthocs"
   ]
  },
  {
   "cell_type": "code",
   "execution_count": 3,
   "id": "79574235",
   "metadata": {
    "id": "6FixCmEsjULU"
   },
   "outputs": [],
   "source": [
    "# import 'pandas' \n",
    "import pandas as pd \n",
    "\n",
    "# import 'numpy' \n",
    "import numpy as np\n",
    "\n",
    "# import subpackage of matplotlib\n",
    "import matplotlib.pyplot as plt\n",
    "\n",
    "# import 'seaborn'\n",
    "import seaborn as sns\n",
    "\n",
    "# to suppress warnings \n",
    "from warnings import filterwarnings\n",
    "filterwarnings('ignore')\n",
    "\n",
    "# import statsmodels\n",
    "import statsmodels.api as sm\n",
    "\n",
    "# import 'stats' package from scipy library\n",
    "from scipy import stats\n",
    "\n",
    "# import statistics to perform statistical computations\n",
    "import statistics\n",
    "\n",
    "# to test the normality \n",
    "from scipy.stats import shapiro\n",
    "\n",
    "# import a library to perform Z-test\n",
    "from statsmodels.stats import weightstats as stests\n",
    "\n",
    "# import statsmodels\n",
    "import statsmodels.api as sm\n",
    "from statsmodels.formula.api import ols\n",
    "from statsmodels.stats.anova import anova_lm\n",
    "\n",
    "# import the functions to perform Chi-square tests\n",
    "from scipy.stats import chi2_contingency\n",
    "from scipy.stats import chi2\n",
    "from scipy.stats import chisquare\n",
    "\n",
    "# function to perform post-hoc test\n",
    "import statsmodels.stats.multicomp as mc\n",
    "\n",
    "# import function to perform post-hoc\n",
    "# install scikit_posthocs using \"!pip install scikit_posthocs\" \n",
    "import scikit_posthocs"
   ]
  },
  {
   "cell_type": "code",
   "execution_count": 4,
   "id": "2b5387d7",
   "metadata": {
    "id": "0xOunnbOjULY"
   },
   "outputs": [],
   "source": [
    "# set the plot size using 'rcParams'\n",
    "# once the plot size is set using 'rcParams', it sets the size of all the forthcoming plots in the file\n",
    "# pass width and height in inches to 'figure.figsize' \n",
    "plt.rcParams['figure.figsize'] = [15,8]"
   ]
  },
  {
   "cell_type": "markdown",
   "id": "14ddcb5a",
   "metadata": {
    "id": "sxaVFsW9jULb"
   },
   "source": [
    "<a id=\"z\"></a>\n",
    "# 2. Large Sample Test"
   ]
  },
  {
   "cell_type": "markdown",
   "id": "b4c0073b",
   "metadata": {
    "id": "ekSYxRw5jULd"
   },
   "source": [
    "If the sample size is sufficiently large (usually, n > 30) then we use the `Z-test`. If population standard deviation ($\\sigma$) is unknown, then the sample standard deviation (s) is used to calculate the test statistic."
   ]
  },
  {
   "cell_type": "markdown",
   "id": "f8292603",
   "metadata": {
    "id": "6PdOJPyjjUMK"
   },
   "source": [
    "<a id=\"2z\"></a>\n",
    "## 2.1 Two Sample Z Test"
   ]
  },
  {
   "cell_type": "markdown",
   "id": "77aa0423",
   "metadata": {
    "id": "AZjn-F3qjUMK"
   },
   "source": [
    "Let us perform a two sample Z test for the population mean. We compare the means of the two independent populations. The samples are assumed to be taken from populations such that they follow a normal distribution. Also, the sample must have equal variance.\n",
    "\n",
    "The `Shapiro-Wilk Test` is used to check the normality of the data. The assumption of equal variances of the populations is tested using the `Levene's Test`. \n",
    "The hypothesis of the Levene's test is given as:\n",
    "<p style='text-indent:25em'> <strong> H<sub>0</sub>:  The variances are equal</strong> </p>\n",
    "<p style='text-indent:25em'> <strong> H<sub>1</sub>:  The variances are not equal </strong> </p>\n",
    "\n",
    "The `levene()` from scipy library performs a Levene's test. \n",
    "\n",
    "The null and alternative hypothesis of two sample Z-test is given as:\n",
    "\n",
    "<p style='text-indent:25em'> <strong> $H_{0}: \\mu_{1} - \\mu_{2} = \\mu_{0}$ or $\\mu_{1} - \\mu_{2} \\geq \\mu_{0}$ or $\\mu_{1} -\\mu_{2} \\leq \\mu_{0}$</strong></p>\n",
    "<p style='text-indent:25em'> <strong> $H_{1}: \\mu_{1} - \\mu_{2} \\neq \\mu_{0} $ or $\\mu_{1} - \\mu_{2} < \\mu_{0}$ or $\\mu_{1} -\\mu_{2} > \\mu_{0}$</strong></p>"
   ]
  },
  {
   "cell_type": "markdown",
   "id": "79c37bdf",
   "metadata": {
    "id": "r4ANXi-rjUMK"
   },
   "source": [
    "Consider two normally distributed independent populations. Let us take a sample of size ($n_{1}$) from the first population with standard deviation ($\\sigma_1$) and sample of size ($n_{2}$) from a second population with standard deviation ($\\sigma_2$) such that $n_{1}, n_{2} > 30$. \n",
    "\n",
    "The test statistic for two sample Z-test is given as:\n",
    "<p style='text-indent:25em'> <strong> $Z = \\frac{(\\overline{X_{1}} - \\overline{X_{2}})  - \\mu_{0}} {\\sqrt{\\frac{\\sigma_{1}^{2}}{n_{1}} + \\frac{\\sigma_{2}^{2}}{n_{2}}}}$</strong></p>\n",
    "\n",
    "Where, <br>\n",
    "$\\overline{X_{1}}$, $\\overline{X_{2}}$ : Mean of both the samples<br>\n",
    "$\\mu_{0}$: Mean difference given in the null hypothesis<br>\n",
    "$\\sigma_{1}, \\sigma_{2}$: Standard deviation of both the populations<br>\n",
    "$n_{1}, n_{2}$: Size of samples from both the populations\n",
    "\n",
    "Under $H_{0}$ the test statistic follows a standard normal distribution.\n",
    "\n",
    "If standard deviations of populations are unknown, use the standard deviations of samples ($s_{1}, s_{2}$) instead of $\\sigma_{1}$ and $\\sigma_{2}$ to calculate the test statistic.\n",
    "i.e. <p style='text-indent:25em'> <strong> $Z = \\frac{(\\overline{X_{1}} - \\overline{X_{2}})  - \\mu_{0}} {\\sqrt{\\frac{s_{1}^{2}}{n_{1}} + \\frac{s_{2}^{2}}{n_{2}}}}$</strong></p>\n"
   ]
  },
  {
   "cell_type": "markdown",
   "id": "fd3cecdb",
   "metadata": {
    "id": "cyTUiATWjUML"
   },
   "source": [
    "### Example:\n",
    "\n",
    "#### 1. The training institute <i>Nature Learning</i> claims that the students trained in their institute have overall better performance than the students trained in their competitor institute <i>Speak Global Learning</i>. We have a sample data of 500 students from each institute along with their total score collected from independent normal populations. Frame a hypothesis and test the Nature Learning's claim with 99% confidence."
   ]
  },
  {
   "cell_type": "markdown",
   "id": "edfa2f72",
   "metadata": {
    "id": "ohcYrsuzjUML"
   },
   "source": [
    "Consider the total score for students given in the CSV file `StudentsPerformance.csv`. "
   ]
  },
  {
   "cell_type": "code",
   "execution_count": 5,
   "id": "9e11cf45",
   "metadata": {
    "colab": {
     "base_uri": "https://localhost:8080/",
     "height": 235
    },
    "executionInfo": {
     "elapsed": 2087,
     "status": "error",
     "timestamp": 1606967017634,
     "user": {
      "displayName": "Mallikarjuna Doddamane",
      "photoUrl": "https://lh3.googleusercontent.com/a-/AOh14GjOdnL6KUzzQMPHfk6as2xRMsOSbJoBMF9oJSaK=s64",
      "userId": "11697854241316775674"
     },
     "user_tz": -330
    },
    "id": "Xp_CVnoljUMM",
    "outputId": "b2177636-4c8a-4e14-c90e-192f05e4022f",
    "scrolled": true
   },
   "outputs": [
    {
     "data": {
      "text/html": [
       "<div>\n",
       "<style scoped>\n",
       "    .dataframe tbody tr th:only-of-type {\n",
       "        vertical-align: middle;\n",
       "    }\n",
       "\n",
       "    .dataframe tbody tr th {\n",
       "        vertical-align: top;\n",
       "    }\n",
       "\n",
       "    .dataframe thead th {\n",
       "        text-align: right;\n",
       "    }\n",
       "</style>\n",
       "<table border=\"1\" class=\"dataframe\">\n",
       "  <thead>\n",
       "    <tr style=\"text-align: right;\">\n",
       "      <th></th>\n",
       "      <th>gender</th>\n",
       "      <th>race/ethnicity</th>\n",
       "      <th>lunch</th>\n",
       "      <th>test preparation course</th>\n",
       "      <th>math score</th>\n",
       "      <th>reading score</th>\n",
       "      <th>writing score</th>\n",
       "      <th>total score</th>\n",
       "      <th>training institute</th>\n",
       "    </tr>\n",
       "  </thead>\n",
       "  <tbody>\n",
       "    <tr>\n",
       "      <th>0</th>\n",
       "      <td>female</td>\n",
       "      <td>group B</td>\n",
       "      <td>standard</td>\n",
       "      <td>none</td>\n",
       "      <td>89</td>\n",
       "      <td>55</td>\n",
       "      <td>56</td>\n",
       "      <td>200</td>\n",
       "      <td>Nature Learning</td>\n",
       "    </tr>\n",
       "    <tr>\n",
       "      <th>1</th>\n",
       "      <td>female</td>\n",
       "      <td>group C</td>\n",
       "      <td>standard</td>\n",
       "      <td>completed</td>\n",
       "      <td>55</td>\n",
       "      <td>63</td>\n",
       "      <td>72</td>\n",
       "      <td>190</td>\n",
       "      <td>Nature Learning</td>\n",
       "    </tr>\n",
       "  </tbody>\n",
       "</table>\n",
       "</div>"
      ],
      "text/plain": [
       "   gender race/ethnicity     lunch test preparation course  math score  \\\n",
       "0  female        group B  standard                    none          89   \n",
       "1  female        group C  standard               completed          55   \n",
       "\n",
       "   reading score  writing score  total score training institute  \n",
       "0             55             56          200    Nature Learning  \n",
       "1             63             72          190    Nature Learning  "
      ]
     },
     "execution_count": 5,
     "metadata": {},
     "output_type": "execute_result"
    }
   ],
   "source": [
    "# read the students performance data \n",
    "df_student = pd.read_csv('StudentsPerformance.csv')\n",
    "\n",
    "# display the first two observations\n",
    "df_student.head(2)"
   ]
  },
  {
   "cell_type": "code",
   "execution_count": 6,
   "id": "d0387cd2",
   "metadata": {
    "colab": {
     "base_uri": "https://localhost:8080/",
     "height": 235
    },
    "executionInfo": {
     "elapsed": 5085,
     "status": "error",
     "timestamp": 1606967020642,
     "user": {
      "displayName": "Mallikarjuna Doddamane",
      "photoUrl": "https://lh3.googleusercontent.com/a-/AOh14GjOdnL6KUzzQMPHfk6as2xRMsOSbJoBMF9oJSaK=s64",
      "userId": "11697854241316775674"
     },
     "user_tz": -330
    },
    "id": "v8OPjxTxjUMO",
    "outputId": "f93877ac-28f9-4d55-efc5-7f1f4807d0b2"
   },
   "outputs": [],
   "source": [
    "# consider total score of the students trained from the institute 'Nature Learning'\n",
    "nl_scores = df_student[(df_student['training institute'] == 'Nature Learning')]['total score']\n",
    "\n",
    "# number of students trained from the institute 'Nature Learning'\n",
    "n_1 = len(nl_scores)\n",
    "\n",
    "# mean total score \n",
    "nl_mean = np.mean(nl_scores)\n",
    "\n",
    "# standard deviation of total score \n",
    "nl_std = statistics.stdev(nl_scores)\n",
    "\n",
    "# consider total score of the students trained from the 'Speak Global Learning' institute\n",
    "sgl_scores = df_student[(df_student['training institute'] == 'Speak Global Learning')]['total score']\n",
    "\n",
    "# number of students trained from the 'Speak Global Learning' institute\n",
    "n_2 = len(sgl_scores)\n",
    "\n",
    "# mean total score \n",
    "sgl_mean = np.mean(sgl_scores)\n",
    "\n",
    "# standard deviation of total score\n",
    "sgl_std = statistics.stdev(sgl_scores)"
   ]
  },
  {
   "cell_type": "markdown",
   "id": "136fa354",
   "metadata": {
    "id": "eSDa1_VhjUMR"
   },
   "source": [
    "Let us check the normality of total score for the students trained from both the institutes."
   ]
  },
  {
   "cell_type": "code",
   "execution_count": 7,
   "id": "206cf386",
   "metadata": {
    "executionInfo": {
     "elapsed": 5070,
     "status": "aborted",
     "timestamp": 1606967020630,
     "user": {
      "displayName": "Mallikarjuna Doddamane",
      "photoUrl": "https://lh3.googleusercontent.com/a-/AOh14GjOdnL6KUzzQMPHfk6as2xRMsOSbJoBMF9oJSaK=s64",
      "userId": "11697854241316775674"
     },
     "user_tz": -330
    },
    "id": "aFqcI0oFjUMS"
   },
   "outputs": [
    {
     "name": "stdout",
     "output_type": "stream",
     "text": [
      "Test statistic: 0.998780369758606\n",
      "P-Value: 0.7420849204063416\n"
     ]
    }
   ],
   "source": [
    "# perform Shapiro-Wilk test\n",
    "# shapiro() returns a tuple having the values of test statistics and the corresponding p-value\n",
    "# pass the total score students to perform the test\n",
    "stat, p_value = shapiro(df_student['total score'])\n",
    "\n",
    "# print the test statistic and corresponding p-value \n",
    "print('Test statistic:', stat)\n",
    "print('P-Value:', p_value)"
   ]
  },
  {
   "cell_type": "markdown",
   "id": "cca2b526",
   "metadata": {
    "id": "aJe_d9JFjUMU"
   },
   "source": [
    "From the above result, we can see that the p-value is greater than 0.05, thus we can say that the total scores of the students trained from both the institutes are normally distributed."
   ]
  },
  {
   "cell_type": "markdown",
   "id": "eea3b805",
   "metadata": {
    "id": "yI8KK-v-jUMV"
   },
   "source": [
    "Let us check the equality of variances."
   ]
  },
  {
   "cell_type": "code",
   "execution_count": 8,
   "id": "6ef41db3",
   "metadata": {
    "executionInfo": {
     "elapsed": 5070,
     "status": "aborted",
     "timestamp": 1606967020632,
     "user": {
      "displayName": "Mallikarjuna Doddamane",
      "photoUrl": "https://lh3.googleusercontent.com/a-/AOh14GjOdnL6KUzzQMPHfk6as2xRMsOSbJoBMF9oJSaK=s64",
      "userId": "11697854241316775674"
     },
     "user_tz": -330
    },
    "id": "Rlrj4Vr3jUMV"
   },
   "outputs": [
    {
     "name": "stdout",
     "output_type": "stream",
     "text": [
      "Test statistic: 0.6422721347822817\n",
      "P-Value: 0.42307998325221574\n"
     ]
    }
   ],
   "source": [
    "# perform Levene's test\n",
    "# levene() returns a tuple having the values of test statistics and the corresponding p-value\n",
    "# pass the total scores of students trained from 'Nature Learning' and 'Speak Global Learning' institutes to perform the test\n",
    "stat, p_value = stats.levene(nl_scores, sgl_scores)\n",
    "\n",
    "# print the test statistic and corresponding p-value \n",
    "print('Test statistic:', stat)\n",
    "print('P-Value:', p_value)"
   ]
  },
  {
   "cell_type": "markdown",
   "id": "06af6737",
   "metadata": {
    "id": "rhfAXozwjUMY"
   },
   "source": [
    "From the above result, we can see that the p-value is greater than 0.05, thus we can say that the population variances are equal."
   ]
  },
  {
   "cell_type": "markdown",
   "id": "a7306a71",
   "metadata": {
    "id": "E9Yz-2UYjUMY"
   },
   "source": [
    "The null and alternative hypothesis is:\n",
    "\n",
    "H<sub>0</sub>: $\\mu_{1} - \\mu_{2} \\leq 0$ <br>\n",
    "H<sub>1</sub>: $\\mu_{1} - \\mu_{2} > 0$ \n",
    "\n",
    "Here ⍺ = 0.01, for a one-tailed test calculate the critical z-value."
   ]
  },
  {
   "cell_type": "code",
   "execution_count": 9,
   "id": "c42351fe",
   "metadata": {
    "executionInfo": {
     "elapsed": 5071,
     "status": "aborted",
     "timestamp": 1606967020635,
     "user": {
      "displayName": "Mallikarjuna Doddamane",
      "photoUrl": "https://lh3.googleusercontent.com/a-/AOh14GjOdnL6KUzzQMPHfk6as2xRMsOSbJoBMF9oJSaK=s64",
      "userId": "11697854241316775674"
     },
     "user_tz": -330
    },
    "id": "z9seBMcajUMY"
   },
   "outputs": [
    {
     "name": "stdout",
     "output_type": "stream",
     "text": [
      "Critical value for one-tailed Z-test: 2.33\n"
     ]
    }
   ],
   "source": [
    "# calculate the z-value for 99% of confidence level\n",
    "# use 'stats.norm.isf()' to find the z-value corresponding to the upper tail probability 'q'\n",
    "# pass the value of 'alpha' to the parameter 'q', here alpha = 0.01\n",
    "# use 'round()' to round-off the value to 2 digits\n",
    "z_val = np.abs(round(stats.norm.isf(q = 0.01), 2))\n",
    "\n",
    "print('Critical value for one-tailed Z-test:', z_val)"
   ]
  },
  {
   "cell_type": "markdown",
   "id": "a4073667",
   "metadata": {
    "id": "18WHhekkjUMc"
   },
   "source": [
    "i.e. if z is greater than 2.33 then we reject the null hypothesis."
   ]
  },
  {
   "cell_type": "code",
   "execution_count": 10,
   "id": "0b7e6b92",
   "metadata": {
    "executionInfo": {
     "elapsed": 5070,
     "status": "aborted",
     "timestamp": 1606967020636,
     "user": {
      "displayName": "Mallikarjuna Doddamane",
      "photoUrl": "https://lh3.googleusercontent.com/a-/AOh14GjOdnL6KUzzQMPHfk6as2xRMsOSbJoBMF9oJSaK=s64",
      "userId": "11697854241316775674"
     },
     "user_tz": -330
    },
    "id": "2EUZWhs0jUMc"
   },
   "outputs": [
    {
     "name": "stdout",
     "output_type": "stream",
     "text": [
      "Z-score:  0.15125511253949914\n",
      "p-value:  0.43988723840898025\n"
     ]
    }
   ],
   "source": [
    "# 'ztest()' returns the test statistic and corresponding p-value\n",
    "# pass the scores of students from 'Nature Learning' to the parameter, 'x1'\n",
    "# pass the scores of students from 'Speak Global Learning' to the parameter, 'x2'\n",
    "# pass the value in null hypothesis to the parameter, 'value'\n",
    "# pass the one-tailed condition to the parameter, 'alternative'\n",
    "z_score, pval = stests.ztest(x1 = nl_scores, x2 = sgl_scores, value = 0, alternative = 'larger')\n",
    "\n",
    "# print the test statistic and corresponding p-value\n",
    "print(\"Z-score: \", z_score)\n",
    "print(\"p-value: \", pval)"
   ]
  },
  {
   "cell_type": "code",
   "execution_count": 11,
   "id": "51b1d438",
   "metadata": {
    "executionInfo": {
     "elapsed": 5069,
     "status": "aborted",
     "timestamp": 1606967020637,
     "user": {
      "displayName": "Mallikarjuna Doddamane",
      "photoUrl": "https://lh3.googleusercontent.com/a-/AOh14GjOdnL6KUzzQMPHfk6as2xRMsOSbJoBMF9oJSaK=s64",
      "userId": "11697854241316775674"
     },
     "user_tz": -330
    },
    "id": "AzdGM59hjUMf",
    "scrolled": true
   },
   "outputs": [
    {
     "name": "stdout",
     "output_type": "stream",
     "text": [
      "Confidence interval: (-3.5585935666371427, 4.002593566637103)\n"
     ]
    }
   ],
   "source": [
    "# calculate the 99% confidence interval for the population mean\n",
    "# pass the difference between the sample means to the parameter, 'loc'\n",
    "# pass the scaling factor np.sqrt((nl_std^2 / n1 + (sgl_std^2 / n2)) to the parameter, 'scale'\n",
    "print('Confidence interval:', stats.norm.interval(0.99, loc = nl_mean - sgl_mean, \n",
    "                                                scale = np.sqrt(((nl_std**2) / n_1) + ((sgl_std**2) / n_2))))"
   ]
  },
  {
   "cell_type": "markdown",
   "id": "d51f611b",
   "metadata": {
    "id": "ScUpwCq8jUMh"
   },
   "source": [
    "Here the z score is less than 2.33, the p-value is greater than 0.01, also the confidence interval contains the value in the null hypothesis (i.e. 0), thus we fail to reject (i.e. accept) the null hypothesis and we do not have enough evidence to conclude that the claim of the 'Nature Learning' institute that their students perform better than the students from 'Speak Global Learning' institute is correct."
   ]
  },
  {
   "cell_type": "markdown",
   "id": "0a89a54a",
   "metadata": {
    "id": "imcAea0tjUMh"
   },
   "source": [
    "Let us plot the acceptance and rejection region for a right-tailed test with 99% confidence."
   ]
  },
  {
   "cell_type": "code",
   "execution_count": 12,
   "id": "22eeb148",
   "metadata": {
    "executionInfo": {
     "elapsed": 5067,
     "status": "aborted",
     "timestamp": 1606967020637,
     "user": {
      "displayName": "Mallikarjuna Doddamane",
      "photoUrl": "https://lh3.googleusercontent.com/a-/AOh14GjOdnL6KUzzQMPHfk6as2xRMsOSbJoBMF9oJSaK=s64",
      "userId": "11697854241316775674"
     },
     "user_tz": -330
    },
    "id": "Mz8bmN6QjUMi",
    "scrolled": false
   },
   "outputs": [
    {
     "data": {
      "image/png": "[encoded data removed]",
      "text/plain": [
       "<Figure size 1080x576 with 1 Axes>"
      ]
     },
     "metadata": {
      "needs_background": "light"
     },
     "output_type": "display_data"
    }
   ],
   "source": [
    "# consider a random variable 'X' that follows a standard normal distribution \n",
    "# pass the required number of observations to the parameter, 'size'\n",
    "# set 'random_state' to obtain the same observations every time you run the code \n",
    "X = stats.norm.rvs(size = 2000000, random_state = 18)\n",
    "\n",
    "# plot the distribution of X\n",
    "# pass the data to the parameter, 'a'\n",
    "# 'hist=False' does not return the histogram \n",
    "# 'cumulative=False' in 'kde_kws' does not return the cumulative kernel density estimator\n",
    "ax = sns.distplot(a = X, hist = False, kde_kws = dict(cumulative=False))\n",
    "\n",
    "# set the limit for y-axis\n",
    "plt.ylim(0, 0.42)\n",
    "\n",
    "# use 'stats.norm.isf()' to calculate the critical z-value for alpha = 0.01\n",
    "# pass the value of 'alpha' to the parameter 'q'\n",
    "z = stats.norm.isf(q = 0.01)\n",
    "\n",
    "# plot a vertical line at z-value\n",
    "x, y = [z, z], [0, 0.3]\n",
    "plt.plot(x, y, color = 'black')\n",
    "\n",
    "# plot a vertical line at z-score value\n",
    "x, y = [z_score, z_score], [0, 0.03]\n",
    "plt.plot(x, y, color = 'black')\n",
    "\n",
    "# add the color to the right of the z-value\n",
    "# get the data for x and y axes\n",
    "l1 = ax.lines[0]\n",
    "x1 = l1.get_xydata()[:,0]\n",
    "y1 = l1.get_xydata()[:,1]\n",
    "\n",
    "# fill the color for the region where x-values are greater than the critical z-value\n",
    "# pass the condition to shade the required region\n",
    "# pass the required color to the parameter, 'color'\n",
    "ax.fill_between(x1[x1 >= z], y1[x1 >= z], color = 'lightblue')\n",
    "\n",
    "# use 'annonate' function to draw an arrow between points xy and xytext\n",
    "# 's' is a argument to write text\n",
    "# we can change the facecolor and arrowstyle; this is only for representation purpose\n",
    "plt.annotate(s = 'α = 0.01\\n(Rejection Region for H0)', xy = (2.5, 0.008), xytext = (2.5, 0.058), \n",
    "             arrowprops = dict(facecolor = 'black', arrowstyle = 'simple'))\n",
    "\n",
    "plt.annotate(s = 'z_crit = '+ str(round(z,2)), xy = (z, 0.2), xytext = (z-1.1, 0.24), \n",
    "             arrowprops = dict(facecolor = 'black', arrowstyle = 'simple'))\n",
    "\n",
    "# use below code to print the values in the graph\n",
    "# 'x' and 'y' gives position of the text\n",
    "# 's' is the text \n",
    "plt.text(x = -1.1, y = 0.2, s = 'Acceptance Region for H0 (1 - α)')\n",
    "\n",
    "# assign the x-axis labels\n",
    "# pass the position of labels to the parameter, 'ticks'\n",
    "# pass the required labels to the parameter, 'labels'\n",
    "plt.xticks(ticks = [-4, -2, 2, 4, round(z_score,2)], \n",
    "           labels = [-4, -2, 2, 4, 'z_test = '+str(round(z_score,2))])\n",
    "\n",
    "# set plot and axes labels\n",
    "# set text size using 'fontsize'\n",
    "plt.xlabel('Z', fontsize = 15)\n",
    "plt.ylabel('Probability', fontsize = 15)\n",
    "plt.title('Right-Tailed Test', fontsize = 15)\n",
    "\n",
    "# display the plot\n",
    "plt.show()"
   ]
  },
  {
   "cell_type": "markdown",
   "id": "edc09274",
   "metadata": {
    "id": "IVQPuJaOjUMk"
   },
   "source": [
    "The above plot shows that the test statistic value is in the acceptance region, which implies we fail to reject (i.e. accept) $H_{0}$."
   ]
  },
  {
   "cell_type": "markdown",
   "id": "0d428b62",
   "metadata": {
    "id": "obvwn0HrjUMk"
   },
   "source": [
    "#### 2. A study was carried out to understand amount of haemoglobin in blood for males and females. A random sample of 160 males and 180 females have means of 13 g/dl and 15 g/dl. The two samples have standard deviation of 4.1 g/dl for male donors and 3.5 g/dl for female donor . Can it be said the population means of concentrations of the elements are the same for men and women? Use  α = 0.01."
   ]
  },
  {
   "cell_type": "markdown",
   "id": "8dd8d4a5",
   "metadata": {
    "id": "Rr8nzeh_jUMl"
   },
   "source": [
    "The null and alternative hypothesis is:\n",
    "\n",
    "H<sub>0</sub>: $\\mu_{1} - \\mu_{2} = 0$<br>\n",
    "H<sub>1</sub>: $\\mu_{1} - \\mu_{2} \\neq 0$\n",
    "\n",
    "Here ⍺ = 0.01, for a two-tailed test calculate the critical z-value."
   ]
  },
  {
   "cell_type": "code",
   "execution_count": 13,
   "id": "5efb0c3b",
   "metadata": {
    "executionInfo": {
     "elapsed": 5066,
     "status": "aborted",
     "timestamp": 1606967020638,
     "user": {
      "displayName": "Mallikarjuna Doddamane",
      "photoUrl": "https://lh3.googleusercontent.com/a-/AOh14GjOdnL6KUzzQMPHfk6as2xRMsOSbJoBMF9oJSaK=s64",
      "userId": "11697854241316775674"
     },
     "user_tz": -330
    },
    "id": "VnWc9QsfjUMl"
   },
   "outputs": [
    {
     "name": "stdout",
     "output_type": "stream",
     "text": [
      "Critical value for two-tailed Z-test: 2.58\n"
     ]
    }
   ],
   "source": [
    "# calculate the z-value for 99% of confidence level\n",
    "# use 'stats.norm.isf()' to find the z-value corresponding to the upper tail probability 'q'\n",
    "# pass the value of 'alpha/2' for a two-tailed test to the parameter 'q', here alpha = 0.01\n",
    "# use 'round()' to round-off the value to 2 digits\n",
    "z_val = np.abs(round(stats.norm.isf(q = 0.01/2), 2))\n",
    "\n",
    "print('Critical value for two-tailed Z-test:', z_val)"
   ]
  },
  {
   "cell_type": "markdown",
   "id": "1abe8bdf",
   "metadata": {
    "id": "Uo00FmmbjUMo"
   },
   "source": [
    "i.e. if z is less than -2.58 or z is greater than 2.58 then we reject the null hypothesis."
   ]
  },
  {
   "cell_type": "code",
   "execution_count": 14,
   "id": "ce7e5680",
   "metadata": {
    "executionInfo": {
     "elapsed": 5066,
     "status": "aborted",
     "timestamp": 1606967020640,
     "user": {
      "displayName": "Mallikarjuna Doddamane",
      "photoUrl": "https://lh3.googleusercontent.com/a-/AOh14GjOdnL6KUzzQMPHfk6as2xRMsOSbJoBMF9oJSaK=s64",
      "userId": "11697854241316775674"
     },
     "user_tz": -330
    },
    "id": "PV-QXFOajUMp"
   },
   "outputs": [
    {
     "name": "stdout",
     "output_type": "stream",
     "text": [
      "z-score: -4.806830552525058\n"
     ]
    }
   ],
   "source": [
    "# define a function to calculate the test statistic and corresponding p-value\n",
    "# here the standard deviations for populations are unknown, thus use the sample standard deviations\n",
    "# pass the sample mean, sample standard deviation and sample size for both the samples as the function input\n",
    "# 'value' denotes the value in null hypothesis\n",
    "def TwoSampZTest(samp_mean_1, samp_mean_2, samp_std_1, samp_std_2, value, n1, n2):\n",
    "    \n",
    "    # calculate the test statistic\n",
    "    denominator = np.sqrt((samp_std_1**2 / n1) + (samp_std_2**2 / n2))\n",
    "    zscore = ((samp_mean_1 - samp_mean_2) - (value)) / denominator\n",
    "    \n",
    "    # return the z-score\n",
    "    return zscore\n",
    "\n",
    "# given data\n",
    "sm_1 = 13\n",
    "sm_2 = 15\n",
    "sstd_1 = 4.1\n",
    "sstd_2 = 3.5\n",
    "null_val = 0\n",
    "n_1 = 160\n",
    "n_2 = 180\n",
    "\n",
    "# pass the given data to the function 'TwoSampZTest'\n",
    "zscore = TwoSampZTest(samp_mean_1 = sm_1, samp_mean_2 = sm_2, samp_std_1 = sstd_1, samp_std_2 = sstd_2, value = null_val, \n",
    "                      n1 = n_1, n2 = n_2)\n",
    "\n",
    "print('z-score:', zscore)"
   ]
  },
  {
   "cell_type": "code",
   "execution_count": 15,
   "id": "0fd37cba",
   "metadata": {
    "executionInfo": {
     "elapsed": 5062,
     "status": "aborted",
     "timestamp": 1606967020640,
     "user": {
      "displayName": "Mallikarjuna Doddamane",
      "photoUrl": "https://lh3.googleusercontent.com/a-/AOh14GjOdnL6KUzzQMPHfk6as2xRMsOSbJoBMF9oJSaK=s64",
      "userId": "11697854241316775674"
     },
     "user_tz": -330
    },
    "id": "vYB2K-5ZjUMr"
   },
   "outputs": [
    {
     "name": "stdout",
     "output_type": "stream",
     "text": [
      "p-value: 1.5334185117556497e-06\n"
     ]
    }
   ],
   "source": [
    "# calculate the corresponding p-value for the test statistic\n",
    "# use 'cdf()' to calculate P(Z <= z_score)\n",
    "p_value = stats.norm.cdf(zscore)\n",
    "\n",
    "# for a two-tailed test multiply the p-value by 2\n",
    "req_p = p_value*2\n",
    "print('p-value:', req_p)"
   ]
  },
  {
   "cell_type": "code",
   "execution_count": 16,
   "id": "7584e5ac",
   "metadata": {
    "executionInfo": {
     "elapsed": 5061,
     "status": "aborted",
     "timestamp": 1606967020641,
     "user": {
      "displayName": "Mallikarjuna Doddamane",
      "photoUrl": "https://lh3.googleusercontent.com/a-/AOh14GjOdnL6KUzzQMPHfk6as2xRMsOSbJoBMF9oJSaK=s64",
      "userId": "11697854241316775674"
     },
     "user_tz": -330
    },
    "id": "37Q1qRJ4jUMt",
    "scrolled": false
   },
   "outputs": [
    {
     "name": "stdout",
     "output_type": "stream",
     "text": [
      "Confidence interval: (-3.0717370938718864, -0.9282629061281136)\n"
     ]
    }
   ],
   "source": [
    "# calculate the 99% confidence interval for the population mean\n",
    "# pass the sample mean to the parameter, 'loc'\n",
    "# pass the scaling factor (sample_std / n^(1/2)) to the parameter, 'scale'\n",
    "print('Confidence interval:', stats.norm.interval(0.99, loc = sm_1 - sm_2, \n",
    "                                                  scale = np.sqrt((sstd_1**2/n_1) + (sstd_2**2/n_2))))"
   ]
  },
  {
   "cell_type": "markdown",
   "id": "78abe67e",
   "metadata": {
    "id": "zfmer40-jUMv"
   },
   "source": [
    "Here the z-score is less than -2.58, the p-value is less than 0.01, also the confidence interval does not contain the value in the null hypothesis (i.e. 0). Thus, we reject the null hypothesis and conclude that both males and females have different hemoglobin averages."
   ]
  },
  {
   "cell_type": "markdown",
   "id": "84c0fcca",
   "metadata": {
    "id": "1FHZAY-0jUMv"
   },
   "source": [
    "<a id=\"t\"></a>\n",
    "# 3. Small Sample Test"
   ]
  },
  {
   "cell_type": "markdown",
   "id": "fc1ba73e",
   "metadata": {
    "id": "gliE2djJjUMv"
   },
   "source": [
    "If the sample size is small (usually, n < 30) then we use the `t-test`. These tests are also known as `exact tests`."
   ]
  },
  {
   "cell_type": "markdown",
   "id": "21e221bb",
   "metadata": {
    "id": "xB0iAEpyjUNV"
   },
   "source": [
    "<a id=\"2t\"></a>\n",
    "## 3.1 Two Sample t Test (Unpaired)"
   ]
  },
  {
   "cell_type": "markdown",
   "id": "f5eac262",
   "metadata": {
    "id": "T0GSiOeFjUNV"
   },
   "source": [
    "The two sample t-test is used to compare the means of two independent populations. This test assumes that the populations are normally distributed from which the samples are taken.\n",
    "\n",
    "The null and alternative hypothesis is given as:\n",
    "<p style='text-indent:25em'> <strong> $H_{0}: \\mu_{1} - \\mu_{2} = \\mu_{0}$ or $\\mu_{1} - \\mu_{2} \\geq \\mu_{0}$ or $\\mu_{1} -\\mu_{2} \\leq \\mu_{0}$</strong></p>\n",
    "<p style='text-indent:25em'> <strong> $H_{1}: \\mu_{1} - \\mu_{2} \\neq \\mu_{0} $ or $\\mu_{1} - \\mu_{2} < \\mu_{0}$ or $\\mu_{1} -\\mu_{2} > \\mu_{0}$</strong></p>"
   ]
  },
  {
   "cell_type": "markdown",
   "id": "9fa6770d",
   "metadata": {
    "id": "Ydl-oa6djUNV"
   },
   "source": [
    "Let us take a sample of size ($n_{1}$) from the first population and sample of size ($n_{2}$) from a second independent population. If both $n_{1}$ and $n_{2}$ are less than 30 and standard deviation of populations are unknown. We use two-sample t-test.\n",
    "\n",
    "Consider the equal variance for both the populations. The test statistic for two sample t-test is given as:\n",
    "<p style='text-indent:25em'> <strong> $t = \\frac{(\\overline{X_{1}} - \\overline{X_{2}}) - \\mu_{0}} {s \\sqrt{\\frac{1}{n_{1}} + \\frac{1}{n_{2}}}}$</strong></p>\n",
    "\n",
    "Where, <br>\n",
    "$\\overline{X_{1}}$, $\\overline{X_{2}}$: Mean of both the samples<br>\n",
    "$\\mu_{0}$: Mean difference given in the null hypothesis<br>\n",
    "$s$: Pooled standard deviation<br>\n",
    "$n_{1}, n_{2}$: Size of samples from both the populations\n",
    "\n",
    "The pooled standard deviation is defined as:\n",
    "$s = \\sqrt{\\frac{(n_{1} - 1)s_{1}^{2} + (n_{2} - 1)s_{2}^{2}}{n_{1} + n_{2} - 2}}$ $\\hspace{2cm}$  Where, $s_{1}, s_{2}$: Standard deviation of both the samples\n",
    "\n",
    "Under $H_{0}$, the test statistic follows a t-distribution with $(n_{1}+n_{2}-2)$ degrees of freedom."
   ]
  },
  {
   "cell_type": "markdown",
   "id": "802f9315",
   "metadata": {
    "id": "ugMmycEPjUNW"
   },
   "source": [
    "If the population variances are equal and also the sample size is the same for both the samples then the test statistic is given as:\n",
    "<p style='text-indent:25em'> <strong> $t = \\frac{(\\overline{X_{1}} - \\overline{X_{2}}) - \\mu_{0}} {s \\sqrt{\\frac{2}{n}}}$</strong></p>\n",
    "\n",
    "Where the pooled standard deviation $s = \\sqrt{\\frac{s_{1}^{2} + s_{2}^{2}}{2}}$\n",
    "\n",
    "Under $H_{0}$, the test statistic follows a t-distribution with $(2n-2)$ degrees of freedom."
   ]
  },
  {
   "cell_type": "markdown",
   "id": "9d07d51c",
   "metadata": {
    "id": "6FlpZGqkjUNX"
   },
   "source": [
    "If both the population variances and the sample sizes are not equal then the Welch's test is used."
   ]
  },
  {
   "cell_type": "markdown",
   "id": "cf5bc75c",
   "metadata": {
    "id": "pdA-6L1tjUNX"
   },
   "source": [
    "### Example: \n",
    "\n",
    "#### 1. The teachers' association claims that the total score of the students who completed the test preparation course is different than the total score of the students who have not completed the course. The sample data consists of 15 students who completed the course and 18 students who have not completed the course. Test the association's claim with ⍺ = 0.05."
   ]
  },
  {
   "cell_type": "markdown",
   "id": "9102b2b6",
   "metadata": {
    "id": "rDve_0ZzjUNY"
   },
   "source": [
    "Consider the total score of the students who have/ have not completed the preparation course are given in the CSV file `totalmarks_2ttest.csv`."
   ]
  },
  {
   "cell_type": "code",
   "execution_count": 17,
   "id": "ae1c9b7d",
   "metadata": {
    "id": "tXitheyTjUNY",
    "outputId": "99b4f609-fbc3-4de5-82ab-2f7288f3f510",
    "scrolled": false
   },
   "outputs": [
    {
     "data": {
      "text/html": [
       "<div>\n",
       "<style scoped>\n",
       "    .dataframe tbody tr th:only-of-type {\n",
       "        vertical-align: middle;\n",
       "    }\n",
       "\n",
       "    .dataframe tbody tr th {\n",
       "        vertical-align: top;\n",
       "    }\n",
       "\n",
       "    .dataframe thead th {\n",
       "        text-align: right;\n",
       "    }\n",
       "</style>\n",
       "<table border=\"1\" class=\"dataframe\">\n",
       "  <thead>\n",
       "    <tr style=\"text-align: right;\">\n",
       "      <th></th>\n",
       "      <th>gender</th>\n",
       "      <th>race/ethnicity</th>\n",
       "      <th>lunch</th>\n",
       "      <th>test preparation course</th>\n",
       "      <th>math score</th>\n",
       "      <th>reading score</th>\n",
       "      <th>writing score</th>\n",
       "      <th>total score</th>\n",
       "      <th>training institute</th>\n",
       "    </tr>\n",
       "  </thead>\n",
       "  <tbody>\n",
       "    <tr>\n",
       "      <th>0</th>\n",
       "      <td>male</td>\n",
       "      <td>group E</td>\n",
       "      <td>standard</td>\n",
       "      <td>completed</td>\n",
       "      <td>84</td>\n",
       "      <td>83</td>\n",
       "      <td>78</td>\n",
       "      <td>245</td>\n",
       "      <td>Speak Global Learning</td>\n",
       "    </tr>\n",
       "    <tr>\n",
       "      <th>1</th>\n",
       "      <td>male</td>\n",
       "      <td>group C</td>\n",
       "      <td>free/reduced</td>\n",
       "      <td>completed</td>\n",
       "      <td>79</td>\n",
       "      <td>77</td>\n",
       "      <td>75</td>\n",
       "      <td>231</td>\n",
       "      <td>Speak Global Learning</td>\n",
       "    </tr>\n",
       "  </tbody>\n",
       "</table>\n",
       "</div>"
      ],
      "text/plain": [
       "  gender race/ethnicity         lunch test preparation course  math score  \\\n",
       "0   male        group E      standard               completed          84   \n",
       "1   male        group C  free/reduced               completed          79   \n",
       "\n",
       "   reading score  writing score  total score     training institute  \n",
       "0             83             78          245  Speak Global Learning  \n",
       "1             77             75          231  Speak Global Learning  "
      ]
     },
     "execution_count": 17,
     "metadata": {},
     "output_type": "execute_result"
    }
   ],
   "source": [
    "# read the students performance data \n",
    "df_prep_test = pd.read_csv('totalmarks_2ttest.csv')\n",
    "\n",
    "# display the first two observations\n",
    "df_prep_test.head(2)"
   ]
  },
  {
   "cell_type": "code",
   "execution_count": 18,
   "id": "6a5318c6",
   "metadata": {
    "id": "9E4fXDWSjUNa",
    "outputId": "c1d0dc69-cf2a-481b-b80c-a7c3a2954638"
   },
   "outputs": [
    {
     "name": "stdout",
     "output_type": "stream",
     "text": [
      "Degrees of freedom: 31\n"
     ]
    }
   ],
   "source": [
    "# consider the total marks of the students who completed the test prep course\n",
    "course_complete =  df_prep_test[(df_prep_test['test preparation course'] == 'completed')]['total score']\n",
    "\n",
    "# size of first sample\n",
    "n_1 = len(course_complete)\n",
    "\n",
    "# calculate average total marks of the students who completed the test prep course\n",
    "samp_avg_1 = np.mean(course_complete)\n",
    "\n",
    "# calculate sample standard deviation \n",
    "samp_std_1 = statistics.stdev(course_complete)\n",
    "\n",
    "# consider the total marks of the students who have not completed the test prep course\n",
    "course_incomplete = df_prep_test[(df_prep_test['test preparation course'] == 'none')]['total score']\n",
    "\n",
    "# size of second sample\n",
    "n_2 = len(course_incomplete)\n",
    "\n",
    "# calculate average total marks of the students who have not completed the test prep course\n",
    "samp_avg_2 = np.mean(course_incomplete)\n",
    "\n",
    "# calculate sample standard deviation \n",
    "samp_std_2 = statistics.stdev(course_incomplete)\n",
    "\n",
    "# degrees of freedom for 2 sample t-test\n",
    "print('Degrees of freedom:', n_1 + n_2 - 2)"
   ]
  },
  {
   "cell_type": "markdown",
   "id": "cb92bdbf",
   "metadata": {
    "id": "BAk7zdnmjUNc"
   },
   "source": [
    "Let us check the normality of the total marks of students who have/ have not completed the test preparation course."
   ]
  },
  {
   "cell_type": "code",
   "execution_count": 19,
   "id": "b93be40b",
   "metadata": {
    "id": "N0k0f_mKjUNc",
    "outputId": "6f2847d3-7809-48c6-fabd-f9e77b3d1119"
   },
   "outputs": [
    {
     "name": "stdout",
     "output_type": "stream",
     "text": [
      "Test statistic: 0.9845393300056458\n",
      "P-Value: 0.9080941677093506\n"
     ]
    }
   ],
   "source": [
    "# perform Shapiro-Wilk test to test the normality\n",
    "# shapiro() returns a tuple having the values of test statistics and the corresponding p-value\n",
    "# pass the total marks of students who have/ have not completed the test preparation course\n",
    "stat, p_value = shapiro(df_prep_test['total score'])\n",
    "\n",
    "# print the test statistic and corresponding p-value \n",
    "print('Test statistic:', stat)\n",
    "print('P-Value:', p_value)"
   ]
  },
  {
   "cell_type": "markdown",
   "id": "eaa78d56",
   "metadata": {
    "id": "ww3zlVTJjUNg"
   },
   "source": [
    "From the above result, we can see that the p-value is greater than 0.05, thus we can say that the total marks of students who have/ have not completed the test preparation course are normally distributed."
   ]
  },
  {
   "cell_type": "markdown",
   "id": "1465d6bc",
   "metadata": {
    "id": "NlEpLnCrjUNh"
   },
   "source": [
    "Let us check the equality of variances."
   ]
  },
  {
   "cell_type": "code",
   "execution_count": 20,
   "id": "d691a95b",
   "metadata": {
    "id": "eXbuEJGbjUNh",
    "outputId": "96bb2529-d5be-45ef-acb2-db9c03972073"
   },
   "outputs": [
    {
     "name": "stdout",
     "output_type": "stream",
     "text": [
      "Test statistic: 0.045113770764648356\n",
      "P-Value: 0.8331854285659768\n"
     ]
    }
   ],
   "source": [
    "# perform Levene's test\n",
    "# levene() returns a tuple having the values of test statistics and the corresponding p-value\n",
    "# pass the total scores of students who have/ have not completed the test prep course to perform the test\n",
    "stat, p_value = stats.levene(course_complete, course_incomplete)\n",
    "\n",
    "# print the test statistic and corresponding p-value \n",
    "print('Test statistic:', stat)\n",
    "print('P-Value:', p_value)"
   ]
  },
  {
   "cell_type": "markdown",
   "id": "ce2a22bb",
   "metadata": {
    "id": "ePPQot-ejUNk"
   },
   "source": [
    "From the above result, we can see that the p-value is greater than 0.05, thus we can say that the population variances are equal."
   ]
  },
  {
   "cell_type": "markdown",
   "id": "f6e9d116",
   "metadata": {
    "id": "qzlr-zfRjUNm"
   },
   "source": [
    "The null and alternative hypothesis is:\n",
    "\n",
    "H<sub>0</sub>: $\\mu_{1} - \\mu_{2} = 0$<br>\n",
    "H<sub>1</sub>: $\\mu_{1} - \\mu_{2} \\neq 0$\n",
    "\n",
    "Here ⍺ = 0.05 and degrees of freedom = 31, for a two-tailed test let us calculate the critical t-value."
   ]
  },
  {
   "cell_type": "code",
   "execution_count": 21,
   "id": "6eadd3ed",
   "metadata": {
    "id": "YwtveqfTjUNo",
    "outputId": "06e820b1-7ac7-4954-b993-3a74abd2cecf",
    "scrolled": true
   },
   "outputs": [
    {
     "name": "stdout",
     "output_type": "stream",
     "text": [
      "Critical value for two-tailed t-test: 2.04\n"
     ]
    }
   ],
   "source": [
    "# calculate the t-value for 95% of confidence level\n",
    "# use 'stats.t.isf()' to find the t-value corresponding to the upper tail probability 'q'\n",
    "# pass the value of 'alpha/2' to the parameter 'q', here alpha = 0.05\n",
    "# pass the degrees of freedom to the parameter, 'df' \n",
    "# use 'round()' to round-off the value to 2 digits\n",
    "t_val = np.abs(round(stats.t.isf(q = 0.05/2, df = 31), 2))\n",
    "\n",
    "print('Critical value for two-tailed t-test:', t_val)"
   ]
  },
  {
   "cell_type": "markdown",
   "id": "f0075a9c",
   "metadata": {
    "id": "WmdVuqlhjUNq"
   },
   "source": [
    "i.e. if t is less than -2.04 or greater than 2.04 then we reject the null hypothesis."
   ]
  },
  {
   "cell_type": "code",
   "execution_count": 22,
   "id": "d941f303",
   "metadata": {
    "id": "WdkD_tzkjUNr",
    "outputId": "d5324c01-4431-4f31-b728-d3e2014c8853",
    "scrolled": true
   },
   "outputs": [
    {
     "name": "stdout",
     "output_type": "stream",
     "text": [
      "Test Statistic: 1.4385323319823262\n",
      "p-value: 0.16030339806989594\n"
     ]
    }
   ],
   "source": [
    "# use 'ttest_ind()' to calculate the test statistic and corresponding p-value for 2 sample test\n",
    "# pass the sample data to the parameter, 'a' and 'b'\n",
    "t_stat, p_val = stats.ttest_ind(a = course_complete, b = course_incomplete)\n",
    "\n",
    "# print the test statistic value and corresponding p-value\n",
    "print('Test Statistic:', t_stat)\n",
    "print('p-value:', p_val)"
   ]
  },
  {
   "cell_type": "code",
   "execution_count": 23,
   "id": "37d9c510",
   "metadata": {
    "id": "d2dTQLuwjUNs",
    "outputId": "94aeb9b1-224b-45d3-b372-808e408debda",
    "scrolled": false
   },
   "outputs": [
    {
     "name": "stdout",
     "output_type": "stream",
     "text": [
      "95% confidence interval for population mean is (-7.25533827425955, 41.9886716075929)\n"
     ]
    }
   ],
   "source": [
    "# calculate pooled standard deviation\n",
    "s = np.sqrt((((n_1-1)*samp_std_1**2) + ((n_2-1)*samp_std_2**2)) / (n_1 + n_2 - 2))\n",
    "\n",
    "# calculate the 95% confidence interval for the population mean\n",
    "# pass the degrees of freedom to the parameter, 'df' \n",
    "# pass the difference in the sample means to the parameter, 'loc'\n",
    "# pass the scaling factor s*(1/n1 + 1/n2)^(1/2) to the parameter, 'scale'\n",
    "interval = stats.t.interval(0.95, df = n_1 + n_2 - 2, loc = samp_avg_1 - samp_avg_2, scale = s * np.sqrt(1/n_1 + 1/n_2))\n",
    "\n",
    "print('95% confidence interval for population mean is', interval)"
   ]
  },
  {
   "cell_type": "markdown",
   "id": "75e87884",
   "metadata": {
    "id": "YYdhgp4AjUNv"
   },
   "source": [
    "We can see that the test statistic value is less than 2.04 and greater than -2.04, the p-value is greater than 0.05, also the confidence interval contains the value in the null hypothesis (i.e. 0). Thus, we fail to reject (i.e. accept) the null hypothesis and conclude that there is no difference in the total marks of the students who have completed the preparation course and who have not completed the preparation course."
   ]
  },
  {
   "cell_type": "markdown",
   "id": "473f7df0",
   "metadata": {
    "id": "w746HClrjUNx"
   },
   "source": [
    "#### 2. An experiment was conducted to compare the pain relieving hours of two new medicines. Two groups of 14 and 15 patients were selected and were given comparable doses. Group 1 was given medicine 1 and group 2 was given medicine 2. The following data is obtained from the two samples. Test whether the two populations give the same mean hours of relief. Assume the data comes from normal distribution has an equal variance. Use α = 0.01"
   ]
  },
  {
   "cell_type": "markdown",
   "id": "ac0b1c96",
   "metadata": {
    "id": "W6v9wnzpjUNx"
   },
   "source": [
    "<img src='unpaired_2t.PNG'>"
   ]
  },
  {
   "cell_type": "code",
   "execution_count": 24,
   "id": "d12624c8",
   "metadata": {
    "id": "un24Ob9YjUNy",
    "outputId": "81f0a2d5-c6fb-483f-dcc9-a4c447068821"
   },
   "outputs": [
    {
     "name": "stdout",
     "output_type": "stream",
     "text": [
      "Degrees of freedom: 27\n"
     ]
    }
   ],
   "source": [
    "# size of first sample\n",
    "n_1 = 14\n",
    "\n",
    "# mean hours for medicine 1  \n",
    "samp_avg_1 = 6.4\n",
    "\n",
    "# standard deviation of hours for medicine 1\n",
    "samp_std_1 = 1.4\n",
    "\n",
    "# size of second sample\n",
    "n_2 = 15\n",
    "\n",
    "# mean hours for medicine 2 \n",
    "samp_avg_2 = 7.3\n",
    "\n",
    "# standard deviation of hours for medicine 2\n",
    "samp_std_2 = 1.5\n",
    "\n",
    "# degrees of freedom for 2 sample t-test\n",
    "print('Degrees of freedom:', n_1 + n_2 - 2)"
   ]
  },
  {
   "cell_type": "markdown",
   "id": "5b47b283",
   "metadata": {
    "id": "iICkuOPfjUN0"
   },
   "source": [
    "The null and alternative hypothesis is:\n",
    "\n",
    "H<sub>0</sub>: $\\mu_{1} - \\mu_{2} = 0$<br>\n",
    "H<sub>1</sub>: $\\mu_{1} - \\mu_{2} \\neq 0$\n",
    "\n",
    "Here ⍺ = 0.01 and degrees of freedom = 27, for a two-tailed test let us calculate the critical t-value."
   ]
  },
  {
   "cell_type": "code",
   "execution_count": 25,
   "id": "776ecc14",
   "metadata": {
    "id": "2zOFY2IojUN0",
    "outputId": "e756df06-18d1-4a06-b3cd-55c8d2735d3c",
    "scrolled": true
   },
   "outputs": [
    {
     "name": "stdout",
     "output_type": "stream",
     "text": [
      "Critical value for two-tailed t-test: 2.77\n"
     ]
    }
   ],
   "source": [
    "# calculate the t-value for 99% of confidence level\n",
    "# use 'stats.t.isf()' to find the t-value corresponding to the upper tail probability 'q'\n",
    "# pass the value of 'alpha/2' to the parameter 'q', here alpha = 0.01\n",
    "# pass the degrees of freedom to the parameter, 'df' \n",
    "# use 'round()' to round-off the value to 2 digits\n",
    "t_val = np.abs(round(stats.t.isf(q = 0.01/2, df = 27), 2))\n",
    "\n",
    "print('Critical value for two-tailed t-test:', t_val)"
   ]
  },
  {
   "cell_type": "markdown",
   "id": "4e1c1e54",
   "metadata": {
    "id": "fP6SOq3hjUN2"
   },
   "source": [
    "i.e. if t is less than -2.77 or greater than 2.77 then we reject the null hypothesis."
   ]
  },
  {
   "cell_type": "code",
   "execution_count": 26,
   "id": "1c802e5f",
   "metadata": {
    "id": "SKOfC4EUjUN2",
    "outputId": "8a0f8daf-ff4e-4041-9471-4a977134f1d4"
   },
   "outputs": [
    {
     "name": "stdout",
     "output_type": "stream",
     "text": [
      "Test Statistic: -1.667146701465023\n"
     ]
    }
   ],
   "source": [
    "# calculate pooled standard deviation\n",
    "s = np.sqrt((((n_1-1)*samp_std_1**2) + ((n_2-1)*samp_std_2**2)) / (n_1 + n_2 - 2))\n",
    "\n",
    "# calculate the test statistic \n",
    "t_stat = (samp_avg_1 - samp_avg_2) / (s * np.sqrt(1/n_1 + 1/n_2))\n",
    "\n",
    "# print the test statistic value \n",
    "print('Test Statistic:', t_stat)"
   ]
  },
  {
   "cell_type": "code",
   "execution_count": 27,
   "id": "a92368b7",
   "metadata": {
    "id": "Ovx2YaNPjUN4",
    "outputId": "4372b45e-afa0-4e02-80f6-b0d8c84b65c4"
   },
   "outputs": [
    {
     "name": "stdout",
     "output_type": "stream",
     "text": [
      "p-value: 0.10704510910964088\n"
     ]
    }
   ],
   "source": [
    "# calculate the corresponding p-value for the test statistic\n",
    "# use 'cdf()' to calculate P(t <= t_stat)\n",
    "# pass the degrees of freedom to the parameter, 'df'\n",
    "p_value = stats.t.cdf(t_stat, df = 27)\n",
    "\n",
    "# for a two-tailed test multiply the p-value by 2\n",
    "req_p = p_value*2\n",
    "print('p-value:', req_p)"
   ]
  },
  {
   "cell_type": "code",
   "execution_count": 28,
   "id": "841f1bff",
   "metadata": {
    "id": "IQV2SEY5jUN7",
    "outputId": "4c66e543-eff9-47fc-ed40-2321449f98ab",
    "scrolled": false
   },
   "outputs": [
    {
     "name": "stdout",
     "output_type": "stream",
     "text": [
      "95% confidence interval for population mean is (-2.395737993074164, 0.5957379930741649)\n"
     ]
    }
   ],
   "source": [
    "# calculate the 99% confidence interval for the population mean\n",
    "# pass the degrees of freedom to the parameter, 'df' \n",
    "# pass the difference in the sample means to the parameter, 'loc'\n",
    "# pass the scaling factor s*(1/n1 + 1/n2)^(1/2) to the parameter, 'scale'\n",
    "interval = stats.t.interval(0.99, df = n_1 + n_2 - 2, loc = samp_avg_1 - samp_avg_2, scale = s * np.sqrt(1/n_1 + 1/n_2))\n",
    "\n",
    "print('95% confidence interval for population mean is', interval)"
   ]
  },
  {
   "cell_type": "markdown",
   "id": "fc7ae247",
   "metadata": {
    "id": "E_u5MRgzjUN9"
   },
   "source": [
    "We can see that the test statistic value is greater than -2.77, the p-value is greater than 0.01, also the confidence interval contains the value in the null hypothesis (i.e. 0). Thus, we fail to reject (i.e. accept) the null hypothesis and conclude that the two medicines have the same hours of relief."
   ]
  },
  {
   "cell_type": "markdown",
   "id": "00f72bd9",
   "metadata": {
    "id": "L0LxrVdxjUN9"
   },
   "source": [
    "<a id=\"paired\"></a>\n",
    "## 3.2 Paired t Test"
   ]
  },
  {
   "cell_type": "markdown",
   "id": "fc86b701",
   "metadata": {
    "id": "eRwOufQqjUN9"
   },
   "source": [
    "A paired t-test is used to compare the mean of the population for two dependent samples. The dependent samples can be the scores before and after a specific treatment. \n",
    "\n",
    "Let $X_{i}$ be the sample before the treatment and $Y_{i}$ be the sample after the treatment. Let $\\mu_{X}$, $\\mu_{Y}$ be the mean of the data X and Y respectively. The mean difference $\\mu_{d} = \\mu_{Y} - \\mu_{X}$.\n",
    "\n",
    "The null and alternative hypothesis is given as:\n",
    "\n",
    "<p style='text-indent:25em'> <strong> $H_{0}: \\mu_{d} = \\mu_{0}$ or $\\mu_{d} \\geq \\mu_{0}$ or $\\mu_{d} \\leq \\mu_{0}$</strong></p>\n",
    "<p style='text-indent:25em'> <strong> $H_{1}: \\mu_{d} \\neq \\mu_{0}$ or $\\mu_{d} < \\mu_{0}$ or $\\mu_{d} > \\mu_{0}$</strong></p>\n",
    "\n",
    "The test statistic for paired t-test is given as:\n",
    "<p style='text-indent:25em'> <strong> $t = \\frac{\\overline{X_{D}} - \\mu_{0}} {\\frac{s_{D}}{\\sqrt{n}}}$</strong></p>\n",
    "\n",
    "Where, <br>\n",
    "$\\overline{X_{D}}$: Mean difference between the pairs<br>\n",
    "$\\mu_{0}$: Mean difference given in the null hypothesis<br>\n",
    "$s_{D}$: Standard deviation of differences between the pairs<br>\n",
    "$n$: Sample size\n",
    "\n",
    "Under $H_{0}$, the test statistic follows a t-distribution with (n-1) degrees of freedom."
   ]
  },
  {
   "cell_type": "markdown",
   "id": "2d67b42b",
   "metadata": {
    "id": "99MYxwsYjUN-"
   },
   "source": [
    "### Example:\n",
    "\n",
    "#### 1. A training institute wants to check if their writing training program was effective or not. 17 students are selected to check the hypothesis. Consider 0.05 as the level of significance.\n",
    "\n",
    "The writing scores before and after training are provided in the CSV file `WritingScores.csv`. "
   ]
  },
  {
   "cell_type": "code",
   "execution_count": 29,
   "id": "075a0574",
   "metadata": {
    "id": "qpwYwLRGjUN-",
    "outputId": "4633585a-faf2-4720-eeb7-fcb1fc63de42",
    "scrolled": true
   },
   "outputs": [
    {
     "data": {
      "text/html": [
       "<div>\n",
       "<style scoped>\n",
       "    .dataframe tbody tr th:only-of-type {\n",
       "        vertical-align: middle;\n",
       "    }\n",
       "\n",
       "    .dataframe tbody tr th {\n",
       "        vertical-align: top;\n",
       "    }\n",
       "\n",
       "    .dataframe thead th {\n",
       "        text-align: right;\n",
       "    }\n",
       "</style>\n",
       "<table border=\"1\" class=\"dataframe\">\n",
       "  <thead>\n",
       "    <tr style=\"text-align: right;\">\n",
       "      <th></th>\n",
       "      <th>score_before</th>\n",
       "      <th>score_after</th>\n",
       "    </tr>\n",
       "  </thead>\n",
       "  <tbody>\n",
       "    <tr>\n",
       "      <th>0</th>\n",
       "      <td>59</td>\n",
       "      <td>50</td>\n",
       "    </tr>\n",
       "    <tr>\n",
       "      <th>1</th>\n",
       "      <td>62</td>\n",
       "      <td>67</td>\n",
       "    </tr>\n",
       "  </tbody>\n",
       "</table>\n",
       "</div>"
      ],
      "text/plain": [
       "   score_before  score_after\n",
       "0            59           50\n",
       "1            62           67"
      ]
     },
     "execution_count": 29,
     "metadata": {},
     "output_type": "execute_result"
    }
   ],
   "source": [
    "# read the file containing writing scores  \n",
    "df_score = pd.read_csv('WritingScores.csv')\n",
    "\n",
    "# display the first two observations\n",
    "df_score.head(2)"
   ]
  },
  {
   "cell_type": "code",
   "execution_count": 30,
   "id": "9a7e8c31",
   "metadata": {
    "id": "K9-IW8FjjUN_",
    "outputId": "2a2e1b30-ea01-4db7-d55f-18678623f9ed"
   },
   "outputs": [
    {
     "name": "stdout",
     "output_type": "stream",
     "text": [
      "Degrees of freedom: 16\n"
     ]
    }
   ],
   "source": [
    "# calculate the difference between the marks\n",
    "diff_marks = df_score['score_after'] - df_score['score_before']\n",
    "\n",
    "# calculate mean difference\n",
    "mean_diff = np.mean(diff_marks)\n",
    "\n",
    "# calculate standard deviation of difference\n",
    "std_diff = statistics.stdev(diff_marks)\n",
    "\n",
    "# sample size\n",
    "n = len(df_score)\n",
    "\n",
    "print('Degrees of freedom:', n-1)"
   ]
  },
  {
   "cell_type": "markdown",
   "id": "7c061444",
   "metadata": {
    "id": "jpq4SPwbjUOB"
   },
   "source": [
    "Let us check the normality of the scores before the training."
   ]
  },
  {
   "cell_type": "code",
   "execution_count": 31,
   "id": "46aa6a6b",
   "metadata": {
    "id": "iXH_DB-6jUOB",
    "outputId": "5e69a6a8-a912-4550-dc16-cbc8cd1873f9"
   },
   "outputs": [
    {
     "name": "stdout",
     "output_type": "stream",
     "text": [
      "Test statistic: 0.9473825097084045\n",
      "P-Value: 0.416460782289505\n"
     ]
    }
   ],
   "source": [
    "# perform Shapiro-Wilk test to test the normality\n",
    "# shapiro() returns a tuple having the values of test statistics and the corresponding p-value\n",
    "# pass the writing scores of students before the training to perform the test\n",
    "stat, p_value = shapiro(df_score['score_before'])\n",
    "\n",
    "# print the test statistic and corresponding p-value \n",
    "print('Test statistic:', stat)\n",
    "print('P-Value:', p_value)"
   ]
  },
  {
   "cell_type": "markdown",
   "id": "105ed569",
   "metadata": {
    "id": "phm7-OTGjUOD"
   },
   "source": [
    "From the above result, we can see that the p-value is greater than 0.05, thus we can say that the scores before training are normally distributed."
   ]
  },
  {
   "cell_type": "markdown",
   "id": "da655275",
   "metadata": {
    "id": "YspQ9pvEjUOD"
   },
   "source": [
    "Let us check the normality of the score after the training."
   ]
  },
  {
   "cell_type": "code",
   "execution_count": 32,
   "id": "dff7c5ec",
   "metadata": {
    "id": "F0I_pTD1jUOE",
    "outputId": "994edaa8-54d5-4b63-9f20-8988d6804bc0"
   },
   "outputs": [
    {
     "name": "stdout",
     "output_type": "stream",
     "text": [
      "Test statistic: 0.9686523675918579\n",
      "P-Value: 0.7944130897521973\n"
     ]
    }
   ],
   "source": [
    "# perform Shapiro-Wilk test to test the normality\n",
    "# shapiro() returns a tuple having the values of test statistics and the corresponding p-value\n",
    "# pass the writing scores of students after the training to perform the test\n",
    "stat, p_value = shapiro(df_score['score_after'])\n",
    "\n",
    "# print the test statistic and corresponding p-value \n",
    "print('Test statistic:', stat)\n",
    "print('P-Value:', p_value)"
   ]
  },
  {
   "cell_type": "markdown",
   "id": "9c895c8b",
   "metadata": {
    "id": "sUAEaADtjUOF"
   },
   "source": [
    "From the above result, we can see that the p-value is greater than 0.05, thus we can say that the scores after training are normally distributed."
   ]
  },
  {
   "cell_type": "markdown",
   "id": "f7f4ac38",
   "metadata": {
    "id": "d3smCgeZjUOF"
   },
   "source": [
    "The null and alternative hypothesis is:\n",
    "\n",
    "H<sub>0</sub>: The training was not effective ($\\mu_{d} = 0$)<br>\n",
    "H<sub>1</sub>: The training was effective ($\\mu_{d} \\neq 0$)"
   ]
  },
  {
   "cell_type": "markdown",
   "id": "70462a9e",
   "metadata": {
    "id": "Km0LzLt3jUOG"
   },
   "source": [
    "Here ⍺ = 0.05 and degrees of freedom = 16, for a two-tailed test let us calculate the critical t-value."
   ]
  },
  {
   "cell_type": "code",
   "execution_count": 33,
   "id": "2754c3cc",
   "metadata": {
    "id": "PDx9EoDRjUOG",
    "outputId": "4af4ebe0-57c3-4437-9712-a5cad5000e57"
   },
   "outputs": [
    {
     "name": "stdout",
     "output_type": "stream",
     "text": [
      "Critical Value for two-tailed t-test: 2.12\n"
     ]
    }
   ],
   "source": [
    "# calculate the t-value for 95% of confidence level\n",
    "# use 'stats.t.isf()' to find the t-value corresponding to the upper tail probability 'q'\n",
    "# pass the value of 'alpha/2' to the parameter 'q', here alpha = 0.05\n",
    "# pass the degrees of freedom to the parameter, 'df' \n",
    "# use 'round()' to round-off the value to 2 digits\n",
    "t_val = np.abs(round(stats.t.isf(q = 0.05/2, df = 16), 2))\n",
    "\n",
    "print('Critical Value for two-tailed t-test:', t_val)"
   ]
  },
  {
   "cell_type": "markdown",
   "id": "7bbb2a43",
   "metadata": {
    "id": "ImR7pSL_jUOK"
   },
   "source": [
    "i.e. if t is less than -2.12 or greater than 2.12 then we reject the null hypothesis."
   ]
  },
  {
   "cell_type": "code",
   "execution_count": 34,
   "id": "9db45ee1",
   "metadata": {
    "id": "45TajZ6wjUOK",
    "outputId": "e5c68ef3-996a-4f16-a89e-3bfac62697c6"
   },
   "outputs": [
    {
     "name": "stdout",
     "output_type": "stream",
     "text": [
      "Test Statistic: 1.4394882729049499\n",
      "p-value: 0.16929012896279846\n"
     ]
    }
   ],
   "source": [
    "# use 'ttest_rel()' to calculate the t-statistic and corresponding p-value for paired samples\n",
    "# pass the before and after scores to the function\n",
    "t_stat, p_val = stats.ttest_rel(df_score['score_after'], df_score['score_before'])\n",
    "\n",
    "# print the the t-test statistic and corresponding p-value \n",
    "print(\"Test Statistic:\", t_stat)\n",
    "print(\"p-value:\", p_val)"
   ]
  },
  {
   "cell_type": "code",
   "execution_count": 35,
   "id": "3a46b440",
   "metadata": {
    "id": "-pzaUN_4jUOM",
    "outputId": "4509d9e0-26d2-4b95-933d-215307901269",
    "scrolled": false
   },
   "outputs": [
    {
     "name": "stdout",
     "output_type": "stream",
     "text": [
      "90% confidence interval for population mean is (-3.0029069531297283, 15.708789306070905)\n"
     ]
    }
   ],
   "source": [
    "# calculate the 95% confidence interval for the population mean\n",
    "# pass the 'n-1' degrees of freedom to the parameter, 'df' \n",
    "# pass the mean of the difference to the parameter, 'loc'\n",
    "# pass the scaling factor (std_diff / n^(1/2)) to the parameter, 'scale'\n",
    "interval = stats.t.interval(0.95, df = n-1, loc = mean_diff, scale = std_diff/np.sqrt(n))\n",
    "\n",
    "print('90% confidence interval for population mean is', interval)"
   ]
  },
  {
   "cell_type": "markdown",
   "id": "4744aec0",
   "metadata": {
    "id": "K5qVDX40jUOO"
   },
   "source": [
    "We can see that the test statistic value is less than 2.12 and greater than -2.12, the p-value is greater than 0.05, also the confidence interval contains the value in the null hypothesis (i.e. 0). Thus, we fail to reject (i.e. accept) the null hypothesis and conclude that the training was not effective."
   ]
  },
  {
   "cell_type": "markdown",
   "id": "60f6efb3",
   "metadata": {
    "id": "DZHZrGTxjUOS"
   },
   "source": [
    "#### 2. An energy drink distributor claims that a new advertisement poster, featuring a life-size picture of a well-known athlete, will increase the product sales in outlets by an average of 50 bottles in a week. For a random sample of 10 outlets, the following data was collected. Test that the null hypothesis that there the advertisement was effective in increasing sales. Test the hypothesis using critical region technique. Use α = 0.05.\n",
    "\n",
    "Given data:\n",
    "\n",
    "        sales_before = [33, 32, 38, 45, 37, 47, 48, 41, 45]\n",
    "        sales_after = [42, 35, 31, 41, 37, 36, 49, 49, 48]"
   ]
  },
  {
   "cell_type": "code",
   "execution_count": 47,
   "id": "755eba75",
   "metadata": {
    "id": "PKbYDiBOjUOT",
    "outputId": "cbe1ab76-94a1-4a76-e608-7aef27fdcac7"
   },
   "outputs": [
    {
     "name": "stdout",
     "output_type": "stream",
     "text": [
      "Degrees of freedom: 8\n"
     ]
    }
   ],
   "source": [
    "# sales before advertisement\n",
    "sales_before = [33, 32, 38, 45, 37, 47, 48, 41, 45]\n",
    "\n",
    "# sales after advertisement\n",
    "sales_after = [42, 35, 31, 41, 37, 36, 49, 49, 48]\n",
    "\n",
    "# sample size\n",
    "n = len(sales_before)\n",
    "\n",
    "# calculate the difference between the sale\n",
    "diff_sale = np.array(sales_after) - np.array(sales_before)\n",
    "\n",
    "# calculate mean difference\n",
    "mean_diff = np.mean(diff_sale)\n",
    "\n",
    "# calculate the standard deviation of difference\n",
    "# pass the mean difference to the parameter, 'xbar'\n",
    "std_diff = statistics.stdev(diff_sale, xbar = mean_diff)\n",
    "\n",
    "print('Degrees of freedom:', n-1)"
   ]
  },
  {
   "cell_type": "markdown",
   "id": "6ef1ff65",
   "metadata": {
    "id": "F7iaV6UXjUOU"
   },
   "source": [
    "Let us check the normality of the sales before the advertisement."
   ]
  },
  {
   "cell_type": "code",
   "execution_count": 48,
   "id": "cd2df8a5",
   "metadata": {
    "id": "FbENRokxjUOV",
    "outputId": "581824b2-702e-4f31-dc48-8fc45d12dfd2"
   },
   "outputs": [
    {
     "name": "stdout",
     "output_type": "stream",
     "text": [
      "Test statistic: 0.9187208414077759\n",
      "P-Value: 0.38175514340400696\n"
     ]
    }
   ],
   "source": [
    "# perform Shapiro-Wilk test to test the normality\n",
    "# shapiro() returns a tuple having the values of test statistics and the corresponding p-value\n",
    "# pass the sales before the advertisement to perform the test\n",
    "stat, p_value = shapiro(sales_before)\n",
    "\n",
    "# print the test statistic and corresponding p-value \n",
    "print('Test statistic:', stat)\n",
    "print('P-Value:', p_value)"
   ]
  },
  {
   "cell_type": "markdown",
   "id": "c625c92c",
   "metadata": {
    "id": "EpcCkuM0jUOW"
   },
   "source": [
    "From the above result, we can see that the p-value is greater than 0.05, thus we can say that the sales before advertisement are normally distributed."
   ]
  },
  {
   "cell_type": "markdown",
   "id": "0fda2f18",
   "metadata": {
    "id": "i46qEvmVjUOW"
   },
   "source": [
    "Let us check the normality of the sales after the advertisement."
   ]
  },
  {
   "cell_type": "code",
   "execution_count": 49,
   "id": "54a1c2d2",
   "metadata": {
    "id": "x5_EUbUujUOW",
    "outputId": "50ae7fc1-cdbd-4573-8cd3-79e95427e711"
   },
   "outputs": [
    {
     "name": "stdout",
     "output_type": "stream",
     "text": [
      "Test statistic: 0.9118874073028564\n",
      "P-Value: 0.3293096721172333\n"
     ]
    }
   ],
   "source": [
    "# perform Shapiro-Wilk test to test the normality\n",
    "# shapiro() returns a tuple having the values of test statistics and the corresponding p-value\n",
    "# pass the sales after the advertisement to perform the test\n",
    "stat, p_value = shapiro(sales_after)\n",
    "\n",
    "# print the test statistic and corresponding p-value \n",
    "print('Test statistic:', stat)\n",
    "print('P-Value:', p_value)"
   ]
  },
  {
   "cell_type": "markdown",
   "id": "895fd44e",
   "metadata": {
    "id": "VC1uO5ygjUOY"
   },
   "source": [
    "From the above result, we can see that the p-value is greater than 0.05, thus we can say that the  sales after the advertisement are normally distributed."
   ]
  },
  {
   "cell_type": "markdown",
   "id": "b2f43ca7",
   "metadata": {
    "id": "caBuf0CYjUOY"
   },
   "source": [
    "The null and alternative hypothesis is:\n",
    "\n",
    "H<sub>0</sub>: The advertisement was not effective in increasing sales ($\\mu_{d} \\leq 0$)<br>\n",
    "H<sub>1</sub>: The advertisement was effective in increasing sales ($\\mu_{d} > 0$)"
   ]
  },
  {
   "cell_type": "markdown",
   "id": "747f964d",
   "metadata": {
    "id": "wGJ__-jtjUOZ"
   },
   "source": [
    "Here ⍺ = 0.05 and degrees of freedom = 8, for a one-tailed test let us calculate the critical t-value."
   ]
  },
  {
   "cell_type": "code",
   "execution_count": 50,
   "id": "e5942c04",
   "metadata": {
    "id": "mETFRlpJjUOZ",
    "outputId": "85290f83-157b-4205-8681-df5bf7c08ad9"
   },
   "outputs": [
    {
     "name": "stdout",
     "output_type": "stream",
     "text": [
      "Critical Value for one-tailed t-test: 1.86\n"
     ]
    }
   ],
   "source": [
    "# calculate the t-value for 95% of confidence level\n",
    "# use 'stats.t.isf()' to find the t-value corresponding to the upper tail probability 'q'\n",
    "# pass the value of 'alpha' to the parameter 'q', here alpha = 0.05\n",
    "# pass the degrees of freedom to the parameter, 'df' \n",
    "# use 'round()' to round-off the value to 2 digits\n",
    "t_val = round(stats.t.isf(q = 0.05, df = 8), 2)\n",
    "\n",
    "print('Critical Value for one-tailed t-test:', t_val)"
   ]
  },
  {
   "cell_type": "markdown",
   "id": "fd20410d",
   "metadata": {
    "id": "foyp1rDjjUOc"
   },
   "source": [
    "i.e. if t is greater than 1.86 then we reject the null hypothesis."
   ]
  },
  {
   "cell_type": "code",
   "execution_count": 55,
   "id": "a09f098f",
   "metadata": {
    "id": "EsjAmoifjUOd",
    "outputId": "c2f7900f-afeb-4d26-d543-47fef6f64dd7"
   },
   "outputs": [
    {
     "name": "stdout",
     "output_type": "stream",
     "text": [
      "Test Statistic: 0.10085458113185983\n",
      "p-value: 0.46107385734626494\n"
     ]
    }
   ],
   "source": [
    "# use 'ttest_rel()' to calculate the t-statistic and corresponding p-value for paired samples\n",
    "# pass the after and before sales to the function\n",
    "t_stat, p_val = stats.ttest_rel(sales_after, sales_before,alternative='greater')\n",
    "\n",
    "# print the t-test statistic and corresponding p-value \n",
    "print(\"Test Statistic:\", t_stat)\n",
    "print(\"p-value:\", p_val)"
   ]
  },
  {
   "cell_type": "markdown",
   "id": "c4913def",
   "metadata": {
    "id": "jMWNOx-ajUOe"
   },
   "source": [
    "We can see that the test statistic value is less than 1.86. Thus, we fail to reject (i.e. accept) the null hypothesis and conclude that there is no effect of advertisement."
   ]
  },
  {
   "cell_type": "markdown",
   "id": "9e9c7827",
   "metadata": {},
   "source": [
    "<a id=\"chisq\"></a>\n",
    "# 4. Chi-Square Test"
   ]
  },
  {
   "cell_type": "markdown",
   "id": "a0a48ddd",
   "metadata": {},
   "source": [
    "It is a non-parametric test. `Non-parametric tests` do not require any assumptions on the parameter of the population from which the sample is taken. These tests can be applied to the ordinal/ nominal data. A non-parametric test can be performed on the data containing outliers.\n",
    "\n",
    "The chi-square test statistic follows a Chi-square ($\\chi^{2}$) distribution under the null hypothesis. It can be used to check the relationship between the categorical variables. \n",
    "\n",
    "Let us calculate the right-tailed $\\chi^{2}$ values for different levels of significance ($\\alpha$)."
   ]
  },
  {
   "cell_type": "code",
   "execution_count": 56,
   "id": "a0c31f6e",
   "metadata": {},
   "outputs": [
    {
     "data": {
      "text/html": [
       "<div>\n",
       "<style scoped>\n",
       "    .dataframe tbody tr th:only-of-type {\n",
       "        vertical-align: middle;\n",
       "    }\n",
       "\n",
       "    .dataframe tbody tr th {\n",
       "        vertical-align: top;\n",
       "    }\n",
       "\n",
       "    .dataframe thead th {\n",
       "        text-align: right;\n",
       "    }\n",
       "</style>\n",
       "<table border=\"1\" class=\"dataframe\">\n",
       "  <thead>\n",
       "    <tr style=\"text-align: right;\">\n",
       "      <th></th>\n",
       "      <th>alpha</th>\n",
       "      <th>χ2</th>\n",
       "    </tr>\n",
       "  </thead>\n",
       "  <tbody>\n",
       "    <tr>\n",
       "      <th>0</th>\n",
       "      <td>0.25</td>\n",
       "      <td>12.55</td>\n",
       "    </tr>\n",
       "    <tr>\n",
       "      <th>1</th>\n",
       "      <td>0.10</td>\n",
       "      <td>15.99</td>\n",
       "    </tr>\n",
       "    <tr>\n",
       "      <th>2</th>\n",
       "      <td>0.05</td>\n",
       "      <td>18.31</td>\n",
       "    </tr>\n",
       "    <tr>\n",
       "      <th>3</th>\n",
       "      <td>0.01</td>\n",
       "      <td>23.21</td>\n",
       "    </tr>\n",
       "  </tbody>\n",
       "</table>\n",
       "</div>"
      ],
      "text/plain": [
       "   alpha     χ2\n",
       "0   0.25  12.55\n",
       "1   0.10  15.99\n",
       "2   0.05  18.31\n",
       "3   0.01  23.21"
      ]
     },
     "execution_count": 56,
     "metadata": {},
     "output_type": "execute_result"
    }
   ],
   "source": [
    "# let us find the χ2-values for different alpha values with 10 degrees of freedom\n",
    "\n",
    "# create an empty dataframe to store the alpha and corresponding χ2-value\n",
    "df_χ2 = pd.DataFrame()\n",
    "\n",
    "# create a dictionary of different alpha values\n",
    "alpha =  [0.25, 0.1, 0.05, 0.01] \n",
    "\n",
    "# use for loop to calculate the χ2-value for each alpha value\n",
    "for i in range(len(alpha)):\n",
    "    \n",
    "    # use 'stats.chi2.isf()' to find the χ2-value corresponding to the upper tail probability 'q'\n",
    "    # pass the value of 'alpha' to the parameter 'q'\n",
    "    # pass the 10 degrees of freedom to the parameter 'df' \n",
    "    # use 'round()' to round-off the value to 2 digits\n",
    "    chi_sq = np.abs(round(stats.chi2.isf(q = alpha[i], df = 10), 2))\n",
    "\n",
    "    # create a dataframe using dictionary to store the alpha and corresponding χ2-value\n",
    "    # set the loop iterator 'i' as the index of the dataframe\n",
    "    row =  pd.DataFrame({\"alpha\": alpha[i], \"χ2\": chi_sq}, index = [i])\n",
    "\n",
    "    # append the row to the dataframe 'df_χ2'\n",
    "    df_χ2 = df_χ2.append(row)\n",
    "\n",
    "# print the final dataframe\n",
    "df_χ2"
   ]
  },
  {
   "cell_type": "markdown",
   "id": "aeb27902",
   "metadata": {},
   "source": [
    "Let us study the following tests:<br>\n",
    "$\\bullet$ Chi-square test for goodness of fit<br>\n",
    "$\\bullet$ Chi-square test for independence<br>\n",
    "$\\bullet$ Chi-square test for equality of variance"
   ]
  },
  {
   "cell_type": "markdown",
   "id": "4f8bee95",
   "metadata": {},
   "source": [
    "<a id=\"goodness\"></a>\n",
    "## 4.1 Chi-Square Test for Goodness of Fit"
   ]
  },
  {
   "cell_type": "markdown",
   "id": "dbee8fb0",
   "metadata": {},
   "source": [
    "This test is used to compare the distribution of the categorical data with the expected distribution. \n",
    "\n",
    "<p style='text-indent:6em'> <strong> $H_{0}$: There is no significant difference between the observed and expected frequencies from the expected distribution</strong></p>\n",
    "<p style='text-indent:6em'> <strong> $H_{1}$: There is a significant difference between the observed and expected frequencies from the expected distribution</strong></p>"
   ]
  },
  {
   "cell_type": "markdown",
   "id": "30bc2315",
   "metadata": {},
   "source": [
    "The test statistic is given as:\n",
    "<p style='text-indent:25em'> <strong> $\\chi^{2} = \\sum_{i = 1}^{k}\\frac{O_{i}^{2}}{E_{i}} - N$</strong></p>\n",
    "\n",
    "Where, <br>\n",
    "$O_{i}$: Observed frequency for category i <br>\n",
    "$E_{i}$: Expected frequency for category i<br>\n",
    "$N$: Total number of observations\n",
    "\n",
    "Under $H_{0}$, the test statistic follows a chi-square distribution with $(k - p - 1)$ degrees of freedom, where k is the number class frequencies and p is the number of estimated parameters. \n",
    "\n",
    "**Note:** All the expected frequencies should be greater than or equal to 5. If not, add the classes such that each class will have a frequency greater than or equal to 5."
   ]
  },
  {
   "cell_type": "markdown",
   "id": "6c3baf8c",
   "metadata": {},
   "source": [
    "### Example:\n",
    "\n",
    "#### 1. Check whether there is a significant difference between the observed and expected education values or not with 90% confidence. \n",
    "\n",
    "Consider the observed values from the performance dataset of students available in the CSV file `students_data.csv`. Consider the expected values from the demographic data given in the CSV file `demographic_data.csv`."
   ]
  },
  {
   "cell_type": "code",
   "execution_count": 57,
   "id": "f7483807",
   "metadata": {
    "scrolled": false
   },
   "outputs": [
    {
     "data": {
      "text/html": [
       "<div>\n",
       "<style scoped>\n",
       "    .dataframe tbody tr th:only-of-type {\n",
       "        vertical-align: middle;\n",
       "    }\n",
       "\n",
       "    .dataframe tbody tr th {\n",
       "        vertical-align: top;\n",
       "    }\n",
       "\n",
       "    .dataframe thead th {\n",
       "        text-align: right;\n",
       "    }\n",
       "</style>\n",
       "<table border=\"1\" class=\"dataframe\">\n",
       "  <thead>\n",
       "    <tr style=\"text-align: right;\">\n",
       "      <th></th>\n",
       "      <th>gender</th>\n",
       "      <th>ethnicity</th>\n",
       "      <th>education</th>\n",
       "      <th>lunch</th>\n",
       "      <th>test_prep_course</th>\n",
       "      <th>math_score</th>\n",
       "      <th>reading_score</th>\n",
       "      <th>writing_score</th>\n",
       "      <th>total_score</th>\n",
       "      <th>training_institute</th>\n",
       "    </tr>\n",
       "  </thead>\n",
       "  <tbody>\n",
       "    <tr>\n",
       "      <th>0</th>\n",
       "      <td>female</td>\n",
       "      <td>group B</td>\n",
       "      <td>bachelor's degree</td>\n",
       "      <td>standard</td>\n",
       "      <td>none</td>\n",
       "      <td>89</td>\n",
       "      <td>55</td>\n",
       "      <td>56</td>\n",
       "      <td>200</td>\n",
       "      <td>Nature Learning</td>\n",
       "    </tr>\n",
       "    <tr>\n",
       "      <th>1</th>\n",
       "      <td>female</td>\n",
       "      <td>group C</td>\n",
       "      <td>college</td>\n",
       "      <td>standard</td>\n",
       "      <td>completed</td>\n",
       "      <td>55</td>\n",
       "      <td>63</td>\n",
       "      <td>72</td>\n",
       "      <td>190</td>\n",
       "      <td>Nature Learning</td>\n",
       "    </tr>\n",
       "  </tbody>\n",
       "</table>\n",
       "</div>"
      ],
      "text/plain": [
       "   gender ethnicity          education     lunch test_prep_course  math_score  \\\n",
       "0  female   group B  bachelor's degree  standard             none          89   \n",
       "1  female   group C            college  standard        completed          55   \n",
       "\n",
       "   reading_score  writing_score  total_score training_institute  \n",
       "0             55             56          200    Nature Learning  \n",
       "1             63             72          190    Nature Learning  "
      ]
     },
     "execution_count": 57,
     "metadata": {},
     "output_type": "execute_result"
    }
   ],
   "source": [
    "# read the students performance data \n",
    "df_student = pd.read_csv('students_data.csv')\n",
    "\n",
    "# display the first two observations\n",
    "df_student.head(2)"
   ]
  },
  {
   "cell_type": "code",
   "execution_count": 58,
   "id": "13cd02f3",
   "metadata": {},
   "outputs": [
    {
     "data": {
      "text/html": [
       "<div>\n",
       "<style scoped>\n",
       "    .dataframe tbody tr th:only-of-type {\n",
       "        vertical-align: middle;\n",
       "    }\n",
       "\n",
       "    .dataframe tbody tr th {\n",
       "        vertical-align: top;\n",
       "    }\n",
       "\n",
       "    .dataframe thead th {\n",
       "        text-align: right;\n",
       "    }\n",
       "</style>\n",
       "<table border=\"1\" class=\"dataframe\">\n",
       "  <thead>\n",
       "    <tr style=\"text-align: right;\">\n",
       "      <th></th>\n",
       "      <th>education</th>\n",
       "    </tr>\n",
       "  </thead>\n",
       "  <tbody>\n",
       "    <tr>\n",
       "      <th>0</th>\n",
       "      <td>bachelor's degree</td>\n",
       "    </tr>\n",
       "    <tr>\n",
       "      <th>1</th>\n",
       "      <td>college</td>\n",
       "    </tr>\n",
       "  </tbody>\n",
       "</table>\n",
       "</div>"
      ],
      "text/plain": [
       "           education\n",
       "0  bachelor's degree\n",
       "1            college"
      ]
     },
     "execution_count": 58,
     "metadata": {},
     "output_type": "execute_result"
    }
   ],
   "source": [
    "# read the demographic data \n",
    "df_demographic = pd.read_csv('demographic_data.csv')\n",
    "\n",
    "# display the first two observations\n",
    "df_demographic.head(2)"
   ]
  },
  {
   "cell_type": "markdown",
   "id": "b654f823",
   "metadata": {},
   "source": [
    "The null and alternative hypothesis is:\n",
    "\n",
    "H<sub>0</sub>: There is no significant difference between the observed and expected values. <br>\n",
    "H<sub>1</sub>: There is a significant difference between the observed and expected values."
   ]
  },
  {
   "cell_type": "markdown",
   "id": "0669e248",
   "metadata": {},
   "source": [
    "Calculate the observed values using the dataframe `df_student`."
   ]
  },
  {
   "cell_type": "code",
   "execution_count": 59,
   "id": "60cd7c8a",
   "metadata": {
    "scrolled": false
   },
   "outputs": [
    {
     "data": {
      "text/plain": [
       "college               225\n",
       "associate's degree    222\n",
       "high school           197\n",
       "Ph.D.                 179\n",
       "bachelor's degree     118\n",
       "master's degree        59\n",
       "Name: education, dtype: int64"
      ]
     },
     "execution_count": 59,
     "metadata": {},
     "output_type": "execute_result"
    }
   ],
   "source": [
    "# use 'value_counts()' to calculate the count for each category in the variable 'education' \n",
    "observed_value = df_student['education'].value_counts()\n",
    "\n",
    "# observed values\n",
    "observed_value"
   ]
  },
  {
   "cell_type": "markdown",
   "id": "85791ad0",
   "metadata": {},
   "source": [
    "Now let us calculate the expected values using the dataframe `df_demographic`. The dataframe represents the population of the  education level of a student."
   ]
  },
  {
   "cell_type": "code",
   "execution_count": 60,
   "id": "fb6808c0",
   "metadata": {
    "scrolled": true
   },
   "outputs": [
    {
     "data": {
      "text/plain": [
       "college               1250\n",
       "associate's degree    1200\n",
       "high school           1100\n",
       "Ph.D.                 1050\n",
       "bachelor's degree      940\n",
       "master's degree        600\n",
       "Name: education, dtype: int64"
      ]
     },
     "execution_count": 60,
     "metadata": {},
     "output_type": "execute_result"
    }
   ],
   "source": [
    "# use 'value_counts()' to calculate the count for each category in the variable 'education' \n",
    "exp_count = df_demographic['education'].value_counts()\n",
    "\n",
    "# count of each category\n",
    "exp_count"
   ]
  },
  {
   "cell_type": "code",
   "execution_count": 61,
   "id": "9a553e4b",
   "metadata": {},
   "outputs": [],
   "source": [
    "# calculate the expected values for each category\n",
    "# multiply the count by sample size and divide it by total number of observations in the population\n",
    "expected_value = (exp_count * len(df_student)) / len(df_demographic)"
   ]
  },
  {
   "cell_type": "code",
   "execution_count": 62,
   "id": "ed0a7329",
   "metadata": {},
   "outputs": [
    {
     "name": "stdout",
     "output_type": "stream",
     "text": [
      "Observed Values:  [225, 222, 197, 179, 118, 59]\n",
      "Expected Values:  [203.5830618892508, 195.43973941368077, 179.1530944625407, 171.0097719869707, 153.09446254071662, 97.71986970684038]\n"
     ]
    }
   ],
   "source": [
    "# create a list of observed values\n",
    "print(\"Observed Values: \", list(observed_value))\n",
    "\n",
    "# create a list of expected values\n",
    "print(\"Expected Values: \", list(expected_value))"
   ]
  },
  {
   "cell_type": "markdown",
   "id": "2de11ae5",
   "metadata": {},
   "source": [
    "For ⍺ = 0.1 and degrees of freedom = 5, calculate the critical value."
   ]
  },
  {
   "cell_type": "code",
   "execution_count": 63,
   "id": "9362944c",
   "metadata": {},
   "outputs": [
    {
     "name": "stdout",
     "output_type": "stream",
     "text": [
      "Critical value for chi-square test: 9.2364\n"
     ]
    }
   ],
   "source": [
    "# calculate the χ2-value for 90% of confidence level\n",
    "# use 'stats.chi2.isf()' to find the χ2-value corresponding to the upper tail probability 'q'\n",
    "# pass the value of 'alpha' to the parameter 'q', here alpha = 0.1\n",
    "# pass the degrees of freedom to the parameter 'df' \n",
    "# use 'round()' to round-off the value to 4 digits\n",
    "chi2_val = np.abs(round(stats.chi2.isf(q = 0.1, df = 5), 4))\n",
    "\n",
    "print('Critical value for chi-square test:', chi2_val)"
   ]
  },
  {
   "cell_type": "markdown",
   "id": "cf8eb72e",
   "metadata": {},
   "source": [
    "i.e. if the chi-square value is greater than 9.2364 then we reject the null hypothesis."
   ]
  },
  {
   "cell_type": "code",
   "execution_count": 64,
   "id": "7595d420",
   "metadata": {
    "scrolled": true
   },
   "outputs": [
    {
     "name": "stdout",
     "output_type": "stream",
     "text": [
      "Test statistic: 31.400760035000467\n",
      "p-value: 7.8061673788274e-06\n"
     ]
    }
   ],
   "source": [
    "# use the 'chisquare()' to perform the goodness of fit test\n",
    "# the function returns the test statistic value and corresponding p-value\n",
    "# pass the observed values to the parameter, 'f_obs'\n",
    "# pass the expected values to the parameter, 'f_exp'\n",
    "test_stat, p_value = chisquare(f_obs = observed_value, f_exp = expected_value)\n",
    "\n",
    "print('Test statistic:', test_stat)\n",
    "print('p-value:', p_value)"
   ]
  },
  {
   "cell_type": "markdown",
   "id": "92636dc7",
   "metadata": {},
   "source": [
    "The above output shows that the chi-square test statistic is greater than 9.2364 and the p-value is less than 0.1, thus, we reject the null hypothesis and conclude that there is a significant difference between the observed and expected values."
   ]
  },
  {
   "cell_type": "markdown",
   "id": "7b343ecd",
   "metadata": {},
   "source": [
    "#### 2. At an emporium, the manager is interested in knowing the age group which visits the mall during the day. He defines categories as - children, teenagers, adults and senior citizens. He plans to have his inventory of goods accordingly. He claims that out of all the people who visited 5% are children, 38% are teenagers, 2% are senior citizens are remaining are adults. From a sample of 180 people, it was seen that 25 were children, 50 were teenagers, 90 were adults and  15 were senior citizens. Test the manager’s claim at a 95% confidence level.\n"
   ]
  },
  {
   "cell_type": "markdown",
   "id": "389e1cc1",
   "metadata": {},
   "source": [
    "The null and alternative hypothesis is:\n",
    "\n",
    "H<sub>0</sub>: The manager's claim is correct <br>\n",
    "H<sub>1</sub>: The manager's claim is not correct"
   ]
  },
  {
   "cell_type": "markdown",
   "id": "4e72c848",
   "metadata": {},
   "source": [
    "For ⍺ = 0.05 and degrees of freedom = 3, calculate the critical value."
   ]
  },
  {
   "cell_type": "code",
   "execution_count": 65,
   "id": "dc677ff3",
   "metadata": {},
   "outputs": [
    {
     "name": "stdout",
     "output_type": "stream",
     "text": [
      "Critical value for chi-square test: 7.8147\n"
     ]
    }
   ],
   "source": [
    "# calculate the χ2-value for 90% of confidence level\n",
    "# use 'stats.chi2.isf()' to find the χ2-value corresponding to the upper tail probability 'q'\n",
    "# pass the value of 'alpha' to the parameter 'q', here alpha = 0.1\n",
    "# pass the degrees of freedom to the parameter 'df' \n",
    "# use 'round()' to round-off the value to 4 digits\n",
    "chi2_val = np.abs(round(stats.chi2.isf(q = 0.05, df = 3), 4))\n",
    "\n",
    "print('Critical value for chi-square test:', chi2_val)"
   ]
  },
  {
   "cell_type": "markdown",
   "id": "74b7e88a",
   "metadata": {},
   "source": [
    "i.e. if the chi-square value is greater than 7.8147 then we reject the null hypothesis."
   ]
  },
  {
   "cell_type": "code",
   "execution_count": 66,
   "id": "8df634ee",
   "metadata": {
    "scrolled": true
   },
   "outputs": [
    {
     "name": "stdout",
     "output_type": "stream",
     "text": [
      "Test statistic: 64.2773321449792\n",
      "p-value: 7.160266387019384e-14\n"
     ]
    }
   ],
   "source": [
    "# given observed values\n",
    "observed_value = [25, 50, 90, 15]\n",
    "\n",
    "# expected count \n",
    "exp_count = [0.05, 0.38, 0.55, 0.02]\n",
    "\n",
    "# calculate the expected values for each category\n",
    "# expected_value = (np.array(exp_count) * 180) \n",
    "expected_value = [9, 68, 99, 4]\n",
    "\n",
    "# use the 'chisquare()' to perform the goodness of fit test\n",
    "# the function returns the test statistic value and corresponding p-value\n",
    "# pass the observed values to the parameter, 'f_obs'\n",
    "# pass the expected values to the parameter, 'f_exp'\n",
    "stat, p_value = chisquare(f_obs = observed_value, f_exp = expected_value)\n",
    "\n",
    "print('Test statistic:', stat)\n",
    "print('p-value:', p_value)"
   ]
  },
  {
   "cell_type": "markdown",
   "id": "7694699f",
   "metadata": {},
   "source": [
    "The above output shows that the chi-square test statistic is greater than 7.8147 and the p-value is less than 0.05. Thus, we reject the null hypothesis and conclude that manager's claim is not correct."
   ]
  },
  {
   "cell_type": "markdown",
   "id": "dcb2e1a7",
   "metadata": {},
   "source": [
    "<a id=\"ind\"></a>\n",
    "## 4.2 Chi-Square Test for Independence"
   ]
  },
  {
   "cell_type": "markdown",
   "id": "49259d5b",
   "metadata": {},
   "source": [
    "This test is used to test whether the categorical variables are independent or not.\n",
    "\n",
    "<p style='text-indent:20em'> <strong> $H_{0}$: The variables are independent</strong></p>\n",
    "<p style='text-indent:20em'> <strong> $H_{1}$: The variables are not independent (i.e. variables are dependent)</strong></p>"
   ]
  },
  {
   "cell_type": "markdown",
   "id": "7668b7ee",
   "metadata": {},
   "source": [
    "Consider a categorical variable `A` with `r` levels and variable `B` with `c` levels. Let us test the independence of variables A and B.\n",
    "\n",
    "The test statistic is given as:\n",
    "<p style='text-indent:25em'> <strong> $\\chi^{2} = \\sum_{i= 1}^{r}\\sum_{j = 1}^{c}\\frac{O_{ij}^{2}}{E_{ij}} - N$</strong></p>\n",
    "\n",
    "Where, <br>\n",
    "$O_{ij}$: Observed frequency for category (i,j) <br>\n",
    "$E_{ij}$: Expected frequency for category (i,j)<br>\n",
    "$N$: Total number of observations\n",
    "\n",
    "Under $H_{0}$, the test statistic follows a chi-square distribution with $(r-1)(c-1)$ degrees of freedom."
   ]
  },
  {
   "cell_type": "markdown",
   "id": "6dedf0f5",
   "metadata": {},
   "source": [
    "### Example:\n",
    "\n",
    "#### 1. Check if there is any relationship between the gender and education level of students with 95% confidence. \n",
    "\n",
    "Use the performance dataset of students available in the CSV file `students_data.csv`."
   ]
  },
  {
   "cell_type": "code",
   "execution_count": 67,
   "id": "2b3ec8dd",
   "metadata": {
    "scrolled": false
   },
   "outputs": [
    {
     "data": {
      "text/html": [
       "<div>\n",
       "<style scoped>\n",
       "    .dataframe tbody tr th:only-of-type {\n",
       "        vertical-align: middle;\n",
       "    }\n",
       "\n",
       "    .dataframe tbody tr th {\n",
       "        vertical-align: top;\n",
       "    }\n",
       "\n",
       "    .dataframe thead th {\n",
       "        text-align: right;\n",
       "    }\n",
       "</style>\n",
       "<table border=\"1\" class=\"dataframe\">\n",
       "  <thead>\n",
       "    <tr style=\"text-align: right;\">\n",
       "      <th></th>\n",
       "      <th>gender</th>\n",
       "      <th>ethnicity</th>\n",
       "      <th>education</th>\n",
       "      <th>lunch</th>\n",
       "      <th>test_prep_course</th>\n",
       "      <th>math_score</th>\n",
       "      <th>reading_score</th>\n",
       "      <th>writing_score</th>\n",
       "      <th>total_score</th>\n",
       "      <th>training_institute</th>\n",
       "    </tr>\n",
       "  </thead>\n",
       "  <tbody>\n",
       "    <tr>\n",
       "      <th>0</th>\n",
       "      <td>female</td>\n",
       "      <td>group B</td>\n",
       "      <td>bachelor's degree</td>\n",
       "      <td>standard</td>\n",
       "      <td>none</td>\n",
       "      <td>89</td>\n",
       "      <td>55</td>\n",
       "      <td>56</td>\n",
       "      <td>200</td>\n",
       "      <td>Nature Learning</td>\n",
       "    </tr>\n",
       "    <tr>\n",
       "      <th>1</th>\n",
       "      <td>female</td>\n",
       "      <td>group C</td>\n",
       "      <td>college</td>\n",
       "      <td>standard</td>\n",
       "      <td>completed</td>\n",
       "      <td>55</td>\n",
       "      <td>63</td>\n",
       "      <td>72</td>\n",
       "      <td>190</td>\n",
       "      <td>Nature Learning</td>\n",
       "    </tr>\n",
       "  </tbody>\n",
       "</table>\n",
       "</div>"
      ],
      "text/plain": [
       "   gender ethnicity          education     lunch test_prep_course  math_score  \\\n",
       "0  female   group B  bachelor's degree  standard             none          89   \n",
       "1  female   group C            college  standard        completed          55   \n",
       "\n",
       "   reading_score  writing_score  total_score training_institute  \n",
       "0             55             56          200    Nature Learning  \n",
       "1             63             72          190    Nature Learning  "
      ]
     },
     "execution_count": 67,
     "metadata": {},
     "output_type": "execute_result"
    }
   ],
   "source": [
    "# read the students performance data \n",
    "df_student = pd.read_csv('students_data.csv')\n",
    "\n",
    "# display the first two observations\n",
    "df_student.head(2)"
   ]
  },
  {
   "cell_type": "markdown",
   "id": "a64c2404",
   "metadata": {},
   "source": [
    "The null and alternative hypothesis is:\n",
    "\n",
    "H<sub>0</sub>: The variables gender and education are independent<br>\n",
    "H<sub>1</sub>: The variables gender and education are not independent"
   ]
  },
  {
   "cell_type": "code",
   "execution_count": 68,
   "id": "82833d49",
   "metadata": {},
   "outputs": [
    {
     "data": {
      "text/plain": [
       "array([[ 91, 116,  63, 117,  94,  36],\n",
       "       [ 88, 106,  55, 108, 103,  23]], dtype=int64)"
      ]
     },
     "execution_count": 68,
     "metadata": {},
     "output_type": "execute_result"
    }
   ],
   "source": [
    "# use 'crosstab()' to create a table for each education level and corresponding gender count \n",
    "table = pd.crosstab(df_student['gender'], df_student['education'])\n",
    "\n",
    "# observed values  \n",
    "observed_value = table.values\n",
    "observed_value"
   ]
  },
  {
   "cell_type": "markdown",
   "id": "b57d0787",
   "metadata": {},
   "source": [
    "For ⍺ = 0.05 and degrees of freedom = 5, calculate the critical value."
   ]
  },
  {
   "cell_type": "code",
   "execution_count": 69,
   "id": "582e4730",
   "metadata": {
    "scrolled": true
   },
   "outputs": [
    {
     "name": "stdout",
     "output_type": "stream",
     "text": [
      "Critical value for chi-square test: 11.0705\n"
     ]
    }
   ],
   "source": [
    "# calculate the χ2-value for 95% of confidence level\n",
    "# use 'stats.chi2.isf()' to find the χ2-value corresponding to the upper tail probability 'q'\n",
    "# pass the value of 'alpha' to the parameter 'q', here alpha = 0.05\n",
    "# pass the degrees of freedom to the parameter 'df' \n",
    "# use 'round()' to round-off the value to 4 digits\n",
    "chi2_val = np.abs(round(stats.chi2.isf(q = 0.05, df = 5), 4))\n",
    "\n",
    "print('Critical value for chi-square test:', chi2_val)"
   ]
  },
  {
   "cell_type": "markdown",
   "id": "7c1c007f",
   "metadata": {},
   "source": [
    "i.e. if the chi-square value is greater than 11.0705 then we reject the null hypothesis."
   ]
  },
  {
   "cell_type": "code",
   "execution_count": 70,
   "id": "eb7734cf",
   "metadata": {},
   "outputs": [
    {
     "name": "stdout",
     "output_type": "stream",
     "text": [
      "Test statistic: 3.5267538812534243\n",
      "p-value: 0.6193433487137843\n",
      "Degrees of freedom: 5\n",
      "Expected values: [[ 92.543 114.774  61.006 116.325 101.849  30.503]\n",
      " [ 86.457 107.226  56.994 108.675  95.151  28.497]]\n"
     ]
    }
   ],
   "source": [
    "# use the 'chi2_contingency()' to check the independence of variables\n",
    "# the function returns the test statistic value, corresponding p-value, degrees of freedom of the test and expected values\n",
    "# pass the observed values to the parameter, 'observed'\n",
    "# 'correction = False' will not apply the Yates' correction\n",
    "test_stat, p, dof, expected_value = chi2_contingency(observed = observed_value, correction = False)\n",
    "\n",
    "print(\"Test statistic:\", test_stat)\n",
    "print(\"p-value:\", p)\n",
    "print(\"Degrees of freedom:\", dof)\n",
    "print(\"Expected values:\", expected_value)"
   ]
  },
  {
   "cell_type": "markdown",
   "id": "cfc855de",
   "metadata": {},
   "source": [
    "The above output shows that the chi-square test statistic is less than 11.0705 and the p-value is greater than 0.05, thus we fail to reject (i.e. accept) the null hypothesis and conclude that the variables `gender` and `education` are independent."
   ]
  },
  {
   "cell_type": "markdown",
   "id": "9ac6266f",
   "metadata": {},
   "source": [
    "#### 2. A study was conducted to test the effect of the malaria parasite - plasmodium falciparum - on heterozygous and homozygous humans. The vaccine was given to a cohort of 252 humans. Test whether the heterozygous humans are better protected than homozygous. Consider 0.05 as a level of significance.\n",
    "\n",
    "<img src='chi2_ind.png'>"
   ]
  },
  {
   "cell_type": "markdown",
   "id": "3bb499bb",
   "metadata": {},
   "source": [
    "The null and alternative hypothesis is:\n",
    "\n",
    "H<sub>0</sub>: The zygote type and infection with malaria parasite is independent<br>\n",
    "H<sub>1</sub>: The zygote type and infection with malaria parasite is not independent"
   ]
  },
  {
   "cell_type": "code",
   "execution_count": 71,
   "id": "4edf9a11",
   "metadata": {},
   "outputs": [],
   "source": [
    "# observed values  \n",
    "observed_value = np.array([[93, 51], [68, 40]])"
   ]
  },
  {
   "cell_type": "markdown",
   "id": "e5a6cbbd",
   "metadata": {},
   "source": [
    "For ⍺ = 0.05 and degrees of freedom = 1, calculate the critical value."
   ]
  },
  {
   "cell_type": "code",
   "execution_count": 72,
   "id": "ed7727e1",
   "metadata": {},
   "outputs": [
    {
     "name": "stdout",
     "output_type": "stream",
     "text": [
      "Critical value for chi-square test: 3.8415\n"
     ]
    }
   ],
   "source": [
    "# calculate the χ2-value for 95% of confidence level\n",
    "# use 'stats.chi2.isf()' to find the χ2-value corresponding to the upper tail probability 'q'\n",
    "# pass the value of 'alpha' to the parameter 'q', here alpha = 0.05\n",
    "# pass the degrees of freedom to the parameter 'df' \n",
    "# use 'round()' to round-off the value to 4 digits\n",
    "chi2_val = np.abs(round(stats.chi2.isf(q = 0.05, df = 1), 4))\n",
    "\n",
    "print('Critical value for chi-square test:', chi2_val)"
   ]
  },
  {
   "cell_type": "markdown",
   "id": "64b8e57f",
   "metadata": {},
   "source": [
    "i.e. if the chi-square value is greater than 3.8415 then we reject the null hypothesis."
   ]
  },
  {
   "cell_type": "code",
   "execution_count": 73,
   "id": "d06276ee",
   "metadata": {},
   "outputs": [
    {
     "name": "stdout",
     "output_type": "stream",
     "text": [
      "Test statistic: 0.07023411371237459\n",
      "p-value: 0.790996215494177\n",
      "Degrees of freedom: 1\n",
      "Expected values: [[92. 52.]\n",
      " [69. 39.]]\n"
     ]
    }
   ],
   "source": [
    "# use the 'chi2_contingency()' to check the independence of variables\n",
    "# the function returns the test statistic value, corresponding p-value, degrees of freedom of the test and expected values\n",
    "# pass the observed values to the parameter, 'observed'\n",
    "# 'correction = False' will not apply the Yates' correction\n",
    "test_stat, p, dof, expected_value = chi2_contingency(observed = observed_value, correction = False)\n",
    "\n",
    "# print the output\n",
    "print(\"Test statistic:\", test_stat)\n",
    "print(\"p-value:\", p)\n",
    "print(\"Degrees of freedom:\", dof)\n",
    "print(\"Expected values:\", expected_value)"
   ]
  },
  {
   "cell_type": "markdown",
   "id": "f8ce2c7c",
   "metadata": {},
   "source": [
    "The above output shows that the chi-square test statistic is less than 3.8415 and the p-value is greater than 0.05. Thus we fail to reject (i.e. accept) the null hypothesis and conclude that the zygote type and infection of the malaria parasite are independent."
   ]
  },
  {
   "cell_type": "markdown",
   "id": "bd4a2267",
   "metadata": {},
   "source": [
    "<a id=\"1way\"></a>\n",
    "# 5. One-way ANOVA"
   ]
  },
  {
   "cell_type": "markdown",
   "id": "4483562e",
   "metadata": {},
   "source": [
    "It is used to check the equality of population means for more than two independent samples. Each group is considered as a `treatment`. It assumes that the samples are taken from normally distributed populations. To check this assumption we can use the `Shapiro-Wilk Test.` Also, the population variances should be equal; this can be tested using the `Levene's Test`.\n",
    "\n",
    "The null and alternative hypothesis is given as:\n",
    "<p style='text-indent:20em'> <strong> $H_{0}$: The averages of all treatments are the same. </strong></p>\n",
    "<p style='text-indent:20em'> <strong> $H_{1}$: At least one treatment has a different average. </strong></p>\n",
    "\n",
    "Consider there are `t` treatments and `N` number of total observations. The test statistic is given as:\n",
    "<p style='text-indent:28em'> <strong> $F = \\frac{MTrSS}{MESS} $</strong></p>\n",
    "\n",
    "Where,<br>\n",
    "MTrSS = $\\frac{TrSS}{df_{Tr}}$<br>\n",
    "\n",
    "TrSS = $\\sum_{i}^{t}\\sum_{j}^{n_{i}}n_{i}(\\bar{x_{i}}. - \\bar{x}..)$<br> $n_{i}$ is the number of observations in $i^{th}$ treatment. <br>$\\bar{x_{i}}.$ is the mean over $i^{th}$ treatment <br> $\\bar{x}..$ is the grand mean (i.e. mean of all the observations). <br>\n",
    "\n",
    "$df_{Tr}$ is the degrees of freedom for treatments (= $t-1$)\n",
    "\n",
    "MESS = $\\frac{ESS}{df_{e}}$<br>\n",
    "\n",
    "ESS = $\\sum_{i}^{t}\\sum_{j}^{n_{i}}{(x_{ij} - \\bar{x_{i}}.)}^{2}$\n",
    "\n",
    "$df_{e}$ is the degrees of freedom for error (= $N-t$)\n",
    "\n",
    "Under $H_{0}$, the test statistic follows F-distribution with ($t-1,  N-t$) degrees of freedom."
   ]
  },
  {
   "cell_type": "markdown",
   "id": "37bada97",
   "metadata": {},
   "source": [
    "Let us calculate the F values for different levels of significance ($\\alpha$)."
   ]
  },
  {
   "cell_type": "code",
   "execution_count": 74,
   "id": "6273ed5b",
   "metadata": {},
   "outputs": [
    {
     "data": {
      "text/html": [
       "<div>\n",
       "<style scoped>\n",
       "    .dataframe tbody tr th:only-of-type {\n",
       "        vertical-align: middle;\n",
       "    }\n",
       "\n",
       "    .dataframe tbody tr th {\n",
       "        vertical-align: top;\n",
       "    }\n",
       "\n",
       "    .dataframe thead th {\n",
       "        text-align: right;\n",
       "    }\n",
       "</style>\n",
       "<table border=\"1\" class=\"dataframe\">\n",
       "  <thead>\n",
       "    <tr style=\"text-align: right;\">\n",
       "      <th></th>\n",
       "      <th>alpha</th>\n",
       "      <th>F</th>\n",
       "    </tr>\n",
       "  </thead>\n",
       "  <tbody>\n",
       "    <tr>\n",
       "      <th>0</th>\n",
       "      <td>0.25</td>\n",
       "      <td>1.55</td>\n",
       "    </tr>\n",
       "    <tr>\n",
       "      <th>1</th>\n",
       "      <td>0.10</td>\n",
       "      <td>2.32</td>\n",
       "    </tr>\n",
       "    <tr>\n",
       "      <th>2</th>\n",
       "      <td>0.05</td>\n",
       "      <td>2.98</td>\n",
       "    </tr>\n",
       "    <tr>\n",
       "      <th>3</th>\n",
       "      <td>0.01</td>\n",
       "      <td>4.85</td>\n",
       "    </tr>\n",
       "  </tbody>\n",
       "</table>\n",
       "</div>"
      ],
      "text/plain": [
       "   alpha     F\n",
       "0   0.25  1.55\n",
       "1   0.10  2.32\n",
       "2   0.05  2.98\n",
       "3   0.01  4.85"
      ]
     },
     "execution_count": 74,
     "metadata": {},
     "output_type": "execute_result"
    }
   ],
   "source": [
    "# let us find the F-values for different alpha values with (10,10) degrees of freedom\n",
    "\n",
    "# create an empty dataframe to store the alpha and corresponding F-value\n",
    "df_F = pd.DataFrame()\n",
    "\n",
    "# create a dictionary of different alpha values\n",
    "alpha =  [0.25, 0.1, 0.05, 0.01] \n",
    "\n",
    "# use for loop to calculate the F-value for each alpha value\n",
    "for i in range(len(alpha)):\n",
    "    \n",
    "    # use 'stats.f.isf()' to find the F-value corresponding to the upper tail probability 'q'\n",
    "    # pass the value of 'alpha' to the parameter 'q'\n",
    "    # pass the (10,10) degrees of freedom to the parameter 'dfn' and 'dfd' respectively\n",
    "    # use 'round()' to round-off the value to 2 digits\n",
    "    f_val = np.abs(round(stats.f.isf(q = alpha[i], dfn = 10, dfd = 10), 2))\n",
    "\n",
    "    # create a dataframe using dictionary to store the alpha and corresponding F-value\n",
    "    # set the loop iterator 'i' as the index of the dataframe\n",
    "    row =  pd.DataFrame({\"alpha\": alpha[i], \"F\": f_val}, index = [i])\n",
    "\n",
    "    # append the row to the dataframe 'df_F'\n",
    "    df_F = df_F.append(row)\n",
    "\n",
    "# print the final dataframe\n",
    "df_F"
   ]
  },
  {
   "cell_type": "markdown",
   "id": "9322dcf5",
   "metadata": {},
   "source": [
    "### Example:\n",
    "\n",
    "#### 1. Total marks in aptitude exam are recorded for students with different race/ethnicity. Test whether all the races/ethnicities have an equal average score with 0.05 level of significance. "
   ]
  },
  {
   "cell_type": "markdown",
   "id": "801660ff",
   "metadata": {},
   "source": [
    "Use the performance dataset of students available in the CSV file `students_data.csv`."
   ]
  },
  {
   "cell_type": "code",
   "execution_count": 75,
   "id": "8c399cbc",
   "metadata": {
    "scrolled": false
   },
   "outputs": [
    {
     "data": {
      "text/html": [
       "<div>\n",
       "<style scoped>\n",
       "    .dataframe tbody tr th:only-of-type {\n",
       "        vertical-align: middle;\n",
       "    }\n",
       "\n",
       "    .dataframe tbody tr th {\n",
       "        vertical-align: top;\n",
       "    }\n",
       "\n",
       "    .dataframe thead th {\n",
       "        text-align: right;\n",
       "    }\n",
       "</style>\n",
       "<table border=\"1\" class=\"dataframe\">\n",
       "  <thead>\n",
       "    <tr style=\"text-align: right;\">\n",
       "      <th></th>\n",
       "      <th>gender</th>\n",
       "      <th>ethnicity</th>\n",
       "      <th>education</th>\n",
       "      <th>lunch</th>\n",
       "      <th>test_prep_course</th>\n",
       "      <th>math_score</th>\n",
       "      <th>reading_score</th>\n",
       "      <th>writing_score</th>\n",
       "      <th>total_score</th>\n",
       "      <th>training_institute</th>\n",
       "    </tr>\n",
       "  </thead>\n",
       "  <tbody>\n",
       "    <tr>\n",
       "      <th>0</th>\n",
       "      <td>female</td>\n",
       "      <td>group B</td>\n",
       "      <td>bachelor's degree</td>\n",
       "      <td>standard</td>\n",
       "      <td>none</td>\n",
       "      <td>89</td>\n",
       "      <td>55</td>\n",
       "      <td>56</td>\n",
       "      <td>200</td>\n",
       "      <td>Nature Learning</td>\n",
       "    </tr>\n",
       "    <tr>\n",
       "      <th>1</th>\n",
       "      <td>female</td>\n",
       "      <td>group C</td>\n",
       "      <td>college</td>\n",
       "      <td>standard</td>\n",
       "      <td>completed</td>\n",
       "      <td>55</td>\n",
       "      <td>63</td>\n",
       "      <td>72</td>\n",
       "      <td>190</td>\n",
       "      <td>Nature Learning</td>\n",
       "    </tr>\n",
       "  </tbody>\n",
       "</table>\n",
       "</div>"
      ],
      "text/plain": [
       "   gender ethnicity          education     lunch test_prep_course  math_score  \\\n",
       "0  female   group B  bachelor's degree  standard             none          89   \n",
       "1  female   group C            college  standard        completed          55   \n",
       "\n",
       "   reading_score  writing_score  total_score training_institute  \n",
       "0             55             56          200    Nature Learning  \n",
       "1             63             72          190    Nature Learning  "
      ]
     },
     "execution_count": 75,
     "metadata": {},
     "output_type": "execute_result"
    }
   ],
   "source": [
    "# read the students performance data \n",
    "df_student = pd.read_csv('students_data.csv')\n",
    "\n",
    "# display the first two observations\n",
    "df_student.head(2)"
   ]
  },
  {
   "cell_type": "markdown",
   "id": "087fc792",
   "metadata": {},
   "source": [
    "The null and alternative hypothesis is:\n",
    "\n",
    "H<sub>0</sub>: The average score of all races/ethnicities is same<br>\n",
    "H<sub>1</sub>: At least one race/ethnicity has a different average score"
   ]
  },
  {
   "cell_type": "code",
   "execution_count": 76,
   "id": "08747b71",
   "metadata": {},
   "outputs": [
    {
     "data": {
      "text/plain": [
       "array(['group B', 'group C', 'group A', 'group D', 'group E'],\n",
       "      dtype=object)"
      ]
     },
     "execution_count": 76,
     "metadata": {},
     "output_type": "execute_result"
    }
   ],
   "source": [
    "# unique race/ethnicity in the data\n",
    "df_student['ethnicity'].unique()"
   ]
  },
  {
   "cell_type": "markdown",
   "id": "a49e0fb2",
   "metadata": {},
   "source": [
    "There are total 5 unique race/ethnicity in the dataset."
   ]
  },
  {
   "cell_type": "code",
   "execution_count": 77,
   "id": "895477ec",
   "metadata": {},
   "outputs": [],
   "source": [
    "# given data\n",
    "# total marks of students from group A\n",
    "gr_A = df_student[df_student['ethnicity'] == 'group A']['total_score']\n",
    "\n",
    "# total marks of students from group B\n",
    "gr_B = df_student[df_student['ethnicity'] == 'group B']['total_score']\n",
    "\n",
    "# total marks of students from group C\n",
    "gr_C = df_student[df_student['ethnicity'] == 'group C']['total_score']\n",
    "\n",
    "# total marks of students from group D\n",
    "gr_D = df_student[df_student['ethnicity'] == 'group D']['total_score']\n",
    "\n",
    "# total marks of students from group E\n",
    "gr_E = df_student[df_student['ethnicity'] == 'group E']['total_score']"
   ]
  },
  {
   "cell_type": "markdown",
   "id": "9d85c0eb",
   "metadata": {},
   "source": [
    "#### Perform ANOVA to test the equality of means."
   ]
  },
  {
   "cell_type": "markdown",
   "id": "05f80bea",
   "metadata": {},
   "source": [
    "Let us check the normality of the total marks of students from all the groups."
   ]
  },
  {
   "cell_type": "code",
   "execution_count": 78,
   "id": "812a976c",
   "metadata": {},
   "outputs": [
    {
     "name": "stdout",
     "output_type": "stream",
     "text": [
      "p-value: 0.7420849204063416\n"
     ]
    }
   ],
   "source": [
    "# perform Shapiro-Wilk test to test the normality\n",
    "# shapiro() returns a tuple having the values of test statistics and the corresponding p-value\n",
    "# pass the total marks of students \n",
    "stat, p_value = stats.shapiro(df_student['total_score'])\n",
    "\n",
    "# print the p-value\n",
    "print('p-value:', p_value)"
   ]
  },
  {
   "cell_type": "markdown",
   "id": "fe506c95",
   "metadata": {},
   "source": [
    "From the above result, we can see that the p-value is greater than 0.05, thus we can say that the total marks of students from each group are normally distributed. Thus the assumption of normality is satisfied."
   ]
  },
  {
   "cell_type": "markdown",
   "id": "f7ec9350",
   "metadata": {},
   "source": [
    "Let us check the equality of variances."
   ]
  },
  {
   "cell_type": "code",
   "execution_count": 79,
   "id": "efc35af3",
   "metadata": {},
   "outputs": [
    {
     "name": "stdout",
     "output_type": "stream",
     "text": [
      "P-Value: 0.12649444001357793\n"
     ]
    }
   ],
   "source": [
    "# perform Levene's test for the equality of variances \n",
    "# levene() returns a tuple having the values of test statistics and the corresponding p-value\n",
    "# pass the total scores of students from each group\n",
    "stat, p_value = stats.levene(gr_A, gr_B, gr_C, gr_D, gr_E)\n",
    "\n",
    "# print the p-value \n",
    "print('P-Value:', p_value)"
   ]
  },
  {
   "cell_type": "markdown",
   "id": "1f0cf577",
   "metadata": {},
   "source": [
    "From the above result, we can see that the p-value is greater than 0.05, thus we can say that the population variances are equal for all the samples."
   ]
  },
  {
   "cell_type": "code",
   "execution_count": 80,
   "id": "6f09d063",
   "metadata": {},
   "outputs": [
    {
     "name": "stdout",
     "output_type": "stream",
     "text": [
      "t: 5\n",
      "N: 1000\n"
     ]
    }
   ],
   "source": [
    "# obtain number of unique ethnicities\n",
    "t = df_student['ethnicity'].nunique()\n",
    "print('t:', t)\n",
    "\n",
    "# calculate the number of students in each ethnicity\n",
    "# consider the total number of students in all ethnicities\n",
    "N = df_student['ethnicity'].value_counts().sum()\n",
    "print('N:', N)"
   ]
  },
  {
   "cell_type": "markdown",
   "id": "226a533f",
   "metadata": {},
   "source": [
    "For ⍺ = 0.05 and degrees of freedom (= t-1, N-t) = (4, 995), calculate the critical value."
   ]
  },
  {
   "cell_type": "code",
   "execution_count": 81,
   "id": "e52e97e4",
   "metadata": {},
   "outputs": [
    {
     "name": "stdout",
     "output_type": "stream",
     "text": [
      "Critical value for F-test: 2.3809\n"
     ]
    }
   ],
   "source": [
    "# calculate the F-value for 95% of confidence level\n",
    "# use 'stats.f.isf()' to find the F-value corresponding to the upper tail probability 'q'\n",
    "# pass the value of 'alpha' to the parameter 'q', here alpha = 0.05\n",
    "# pass the degrees of freedom (= 4) to the parameter 'dfn' \n",
    "# pass the degrees of freedom (= 995) to the parameter 'dfd' \n",
    "# use 'round()' to round-off the value to 4 digits\n",
    "f = np.abs(round(stats.f.isf(q = 0.05, dfn = 4, dfd = 995), 4))\n",
    "\n",
    "print('Critical value for F-test:', f)"
   ]
  },
  {
   "cell_type": "markdown",
   "id": "9d8fd03a",
   "metadata": {},
   "source": [
    "i.e. if the test statistic value is greater than 2.3809 then we reject the null hypothesis."
   ]
  },
  {
   "cell_type": "code",
   "execution_count": 83,
   "id": "8d3bf844",
   "metadata": {},
   "outputs": [
    {
     "name": "stdout",
     "output_type": "stream",
     "text": [
      "Test statistic: 0.789109595922189\n",
      "p-value: 0.5322937031083035\n"
     ]
    }
   ],
   "source": [
    "# perform one-way ANOVA\n",
    "# pass the given data\n",
    "f_test, p_val = stats.f_oneway(gr_A, gr_B, gr_C, gr_D, gr_E)\n",
    "\n",
    "# print the test statistic and corresponding p-value\n",
    "print('Test statistic:', f_test)\n",
    "print('p-value:', p_val)"
   ]
  },
  {
   "cell_type": "markdown",
   "id": "8e40fc25",
   "metadata": {},
   "source": [
    "We can also use the `anova_lm()` in statsmodels library to perform ANOVA."
   ]
  },
  {
   "cell_type": "code",
   "execution_count": 84,
   "id": "ff7d57f5",
   "metadata": {},
   "outputs": [
    {
     "data": {
      "text/html": [
       "<div>\n",
       "<style scoped>\n",
       "    .dataframe tbody tr th:only-of-type {\n",
       "        vertical-align: middle;\n",
       "    }\n",
       "\n",
       "    .dataframe tbody tr th {\n",
       "        vertical-align: top;\n",
       "    }\n",
       "\n",
       "    .dataframe thead th {\n",
       "        text-align: right;\n",
       "    }\n",
       "</style>\n",
       "<table border=\"1\" class=\"dataframe\">\n",
       "  <thead>\n",
       "    <tr style=\"text-align: right;\">\n",
       "      <th></th>\n",
       "      <th>df</th>\n",
       "      <th>sum_sq</th>\n",
       "      <th>mean_sq</th>\n",
       "      <th>F</th>\n",
       "      <th>PR(&gt;F)</th>\n",
       "    </tr>\n",
       "  </thead>\n",
       "  <tbody>\n",
       "    <tr>\n",
       "      <th>Q(\"ethnicity\")</th>\n",
       "      <td>4.0</td>\n",
       "      <td>1699.671655</td>\n",
       "      <td>424.917914</td>\n",
       "      <td>0.78911</td>\n",
       "      <td>0.532294</td>\n",
       "    </tr>\n",
       "    <tr>\n",
       "      <th>Residual</th>\n",
       "      <td>995.0</td>\n",
       "      <td>535785.303345</td>\n",
       "      <td>538.477692</td>\n",
       "      <td>NaN</td>\n",
       "      <td>NaN</td>\n",
       "    </tr>\n",
       "  </tbody>\n",
       "</table>\n",
       "</div>"
      ],
      "text/plain": [
       "                   df         sum_sq     mean_sq        F    PR(>F)\n",
       "Q(\"ethnicity\")    4.0    1699.671655  424.917914  0.78911  0.532294\n",
       "Residual        995.0  535785.303345  538.477692      NaN       NaN"
      ]
     },
     "execution_count": 84,
     "metadata": {},
     "output_type": "execute_result"
    }
   ],
   "source": [
    "# perform one-way ANOVA\n",
    "\n",
    "# fit an ols model on the datafreme 'df_student' \n",
    "# use 'Q()' to quote the variable name \n",
    "# use 'fit()' to fit the linear model\n",
    "test = ols('total_score ~ Q(\"ethnicity\")', df_student).fit()\n",
    "\n",
    "# create table for one-way ANOVA test\n",
    "# pass the linear model 'test'\n",
    "# 'typ = 1' performs two-way ANOVA\n",
    "anova_1 = anova_lm(test, typ = 1)\n",
    "\n",
    "# print the table\n",
    "anova_1"
   ]
  },
  {
   "cell_type": "markdown",
   "id": "8a56104a",
   "metadata": {},
   "source": [
    "The above output shows that the test statistic is less than 2.3809 and the p-value is greater than 0.05. Thus we fail to reject (i.e. accept) the null hypothesis and conclude that the average score of all races/ethnicities is the same."
   ]
  },
  {
   "cell_type": "markdown",
   "id": "6a4ef9d5",
   "metadata": {},
   "source": [
    "#### 2. Ryan is a production manager at an industry manufacturing alloy seals. They have 4 machines - A, B, C and D. Ryan wants to study whether all the machines have equal efficiency. Ryan collects data of tensile strength from all the 4 machines as given. Test at 5% level of significance.\n",
    "\n",
    "<img src='1_ANOVA.png'>"
   ]
  },
  {
   "cell_type": "markdown",
   "id": "9395b897",
   "metadata": {},
   "source": [
    "The null and alternative hypothesis is:\n",
    "\n",
    "H<sub>0</sub>: The average tensile strength due to all the machines is the same<br>\n",
    "H<sub>1</sub>: The average tensile strength due to at least one machines is different"
   ]
  },
  {
   "cell_type": "code",
   "execution_count": 85,
   "id": "f0706488",
   "metadata": {},
   "outputs": [],
   "source": [
    "# given data\n",
    "# tensile strength due to machine A\n",
    "A = [68.7, 75.4, 70.9, 79.1, 78.2]\n",
    "\n",
    "# tensile strength due to machine B\n",
    "B = [62.7, 68.5, 63.1, 62.2, 60.3]\n",
    "\n",
    "# tensile strength due to machine C\n",
    "C = [55.9, 56.1, 57.3, 59.2, 50.1]\n",
    "\n",
    "# tensile strength due to machine D\n",
    "D = [80.7, 70.3, 80.9, 85.4, 82.3]"
   ]
  },
  {
   "cell_type": "markdown",
   "id": "64b6bce6",
   "metadata": {},
   "source": [
    "#### Perform ANOVA to test the equality of means.\n",
    "\n",
    "Let us check the normality of the tensile strength of all the machines."
   ]
  },
  {
   "cell_type": "code",
   "execution_count": 86,
   "id": "78cbdff5",
   "metadata": {},
   "outputs": [],
   "source": [
    "# create a dataframe using a dictionary from given data\n",
    "df_machine = pd.DataFrame(data = {'machine': ['machine_A','machine_B','machine_C','machine_D']*5, \n",
    "                                  'strength': [68.7, 62.7, 55.9, 80.7, 75.4, 68.5, 56.1, 70.3, 70.9, 63.1, 57.3, 80.9, 79.1, \n",
    "                                               62.2, 59.2, 85.4, 78.2, 60.3, 50.1, 82.3]})"
   ]
  },
  {
   "cell_type": "code",
   "execution_count": 87,
   "id": "3f68af08",
   "metadata": {},
   "outputs": [
    {
     "name": "stdout",
     "output_type": "stream",
     "text": [
      "p-value: 0.3721875548362732\n"
     ]
    }
   ],
   "source": [
    "# perform Shapiro-Wilk test to test the normality\n",
    "# shapiro() returns a tuple having the values of test statistics and the corresponding p-value\n",
    "# pass the tensile strengths due to each machine\n",
    "stat, p_value = stats.shapiro(df_machine['strength'])\n",
    "\n",
    "# print the p-values for each group\n",
    "print('p-value:', p_value)"
   ]
  },
  {
   "cell_type": "markdown",
   "id": "a1fda1cf",
   "metadata": {},
   "source": [
    "From the above result, we can see that the p-value is greater than 0.05, thus we can say that the tensile strengths due to all the machines are normally distributed. Thus the assumption of normality is satisfied."
   ]
  },
  {
   "cell_type": "markdown",
   "id": "1d9784b6",
   "metadata": {},
   "source": [
    "Let us check the equality of variances."
   ]
  },
  {
   "cell_type": "code",
   "execution_count": 88,
   "id": "7e1ac34f",
   "metadata": {},
   "outputs": [
    {
     "name": "stdout",
     "output_type": "stream",
     "text": [
      "P-Value: 0.7570021212992085\n"
     ]
    }
   ],
   "source": [
    "# perform Levene's test for the equality of variances \n",
    "# levene() returns a tuple having the values of test statistics and the corresponding p-value\n",
    "# pass the tensile strengths of each machine\n",
    "stat, p_value = stats.levene(df_machine[df_machine['machine'] == 'machine_A']['strength'],\n",
    "                             df_machine[df_machine['machine'] == 'machine_B']['strength'],\n",
    "                             df_machine[df_machine['machine'] == 'machine_C']['strength'],\n",
    "                             df_machine[df_machine['machine'] == 'machine_D']['strength'])\n",
    "\n",
    "# print the p-value \n",
    "print('P-Value:', p_value)"
   ]
  },
  {
   "cell_type": "markdown",
   "id": "9b42dc10",
   "metadata": {},
   "source": [
    "From the above result, we can see that the p-value is greater than 0.05, thus we can say that the population variances are equal for all the samples."
   ]
  },
  {
   "cell_type": "markdown",
   "id": "dda1e461",
   "metadata": {},
   "source": [
    "Here t (=number of machines) = 4, N (=total observations) = 20 \n",
    "\n",
    "For ⍺ = 0.05 and degrees of freedom = (t-1, N-t) = (3, 16), calculate the critical value."
   ]
  },
  {
   "cell_type": "code",
   "execution_count": 89,
   "id": "c6a18650",
   "metadata": {},
   "outputs": [
    {
     "name": "stdout",
     "output_type": "stream",
     "text": [
      "Critical value for F-test: 3.2389\n"
     ]
    }
   ],
   "source": [
    "# calculate the F-value for 95% of confidence level\n",
    "# use 'stats.f.isf()' to find the F-value corresponding to the upper tail probability 'q'\n",
    "# pass the value of 'alpha' to the parameter 'q', here alpha = 0.05\n",
    "# pass the degrees of freedom (= 3) to the parameter 'dfn' \n",
    "# pass the degrees of freedom (= 16) to the parameter 'dfd' \n",
    "# use 'round()' to round-off the value to 4 digits\n",
    "f = np.abs(round(stats.f.isf(q = 0.05, dfn = 3, dfd = 16), 4))\n",
    "\n",
    "print('Critical value for F-test:', f)"
   ]
  },
  {
   "cell_type": "markdown",
   "id": "539972e8",
   "metadata": {},
   "source": [
    "i.e. if the test statistic value is greater than 3.2389 then we reject the null hypothesis."
   ]
  },
  {
   "cell_type": "code",
   "execution_count": 90,
   "id": "ed0a543f",
   "metadata": {},
   "outputs": [
    {
     "name": "stdout",
     "output_type": "stream",
     "text": [
      "Test statistic: 32.03072350199285\n",
      "p_value: 5.375613532781072e-07\n"
     ]
    }
   ],
   "source": [
    "# perform one-way ANOVA\n",
    "# pass the given data\n",
    "test_stat, p_val = stats.f_oneway(df_machine[df_machine['machine'] == 'machine_A']['strength'],\n",
    "                                  df_machine[df_machine['machine'] == 'machine_B']['strength'],\n",
    "                                  df_machine[df_machine['machine'] == 'machine_C']['strength'],\n",
    "                                  df_machine[df_machine['machine'] == 'machine_D']['strength'])\n",
    "\n",
    "# print the test statistic and p-value\n",
    "print('Test statistic:', test_stat)\n",
    "print('p_value:', p_val)"
   ]
  },
  {
   "cell_type": "markdown",
   "id": "e314e54b",
   "metadata": {},
   "source": [
    "The above output shows that the test statistic is greater than 3.2389 and the p-value is less than 0.05. Thus we reject the null hypothesis and conclude that the average tensile strength due to at least one machine is different."
   ]
  },
  {
   "cell_type": "markdown",
   "id": "eb4f0bcb",
   "metadata": {},
   "source": [
    "<a id=\"post-hoc\"></a>\n",
    "## 5.1 Post-hoc Analysis"
   ]
  },
  {
   "cell_type": "markdown",
   "id": "1c10a8de",
   "metadata": {},
   "source": [
    "If one-way ANOVA rejects the null hypothesis; we conclude that at least one treatment has a different mean. The test does not distinguish a treatment with the different average value. The post-hoc test or `multi comparison test` is used to identify such treatment(s).\n",
    "\n",
    "In this section, we study the `Tukey's HSD` test. The test calculates the mean difference for each pair of treatments and returns the pair(s) with different average. \n",
    "\n",
    "The test statistic of Tukey's HSD test is given as:\n",
    "<p style='text-indent:28em'> <strong> $T_{\\alpha} = q_{{\\alpha},(t , f)} \\sqrt{\\frac{MSE}{n}} $</strong></p>\n",
    "\n",
    "The value of $q_{{\\alpha},(t , f)}$ is obtained from the tukey table.<br>\n",
    "Where,<br>\n",
    "t: Number of treatments<br>\n",
    "f: degrees of freedom for error ($df_{e}$)<br>\n",
    "MSE: Mean error sum of squares (= $\\frac{ESS}{df_{e}}$ = $\\sum_{i}^{t}\\sum_{j}^{n_{i}}{(x_{ij} - \\bar{x_{i}}.)}^{2}$)<br>\n",
    "n: Number of observations in a treatment\n",
    "\n",
    "This test is efficient when the sample size for each treatment is equal. If the sample size is not equal fo each treatment then we can use the `Scheffe test`. The `scikit_posthocs.posthoc_scheffe()` can be used to perform the test."
   ]
  },
  {
   "cell_type": "markdown",
   "id": "48e706e3",
   "metadata": {},
   "source": [
    "### Example:\n",
    "\n",
    "#### 1. Ryan is a production manager at an industry manufacturing alloy seals. They have 4 machines - A, B, C and D. Ryan wants to study whether all the machines have equal efficiency. Ryan collects data of tensile strength from all the 4 machines as given. Perform the post-hoc test to find out which machine has a different average. Test at 5% level of significance.\n",
    "\n",
    "<img src='1_ANOVA.png'>"
   ]
  },
  {
   "cell_type": "code",
   "execution_count": 92,
   "id": "8753cc08",
   "metadata": {},
   "outputs": [],
   "source": [
    "# create a dataframe using a dictionary from given data\n",
    "df_machine = pd.DataFrame(data = {'machine': ['machine_A','machine_B','machine_C','machine_D']*5, \n",
    "                                  'strength': [68.7, 62.7, 55.9, 80.7, 75.4, 68.5, 56.1, 70.3, 70.9, 63.1, 57.3, 80.9, 79.1, \n",
    "                                               62.2, 59.2, 85.4, 78.2, 60.3, 50.1, 82.3]})"
   ]
  },
  {
   "cell_type": "code",
   "execution_count": 93,
   "id": "b916f477",
   "metadata": {
    "scrolled": true
   },
   "outputs": [
    {
     "data": {
      "text/html": [
       "<table class=\"simpletable\">\n",
       "<caption>Multiple Comparison of Means - Tukey HSD, FWER=0.05</caption>\n",
       "<tr>\n",
       "   <th>group1</th>    <th>group2</th>   <th>meandiff</th>  <th>p-adj</th>   <th>lower</th>    <th>upper</th>  <th>reject</th>\n",
       "</tr>\n",
       "<tr>\n",
       "  <td>machine_A</td> <td>machine_B</td>   <td>-11.1</td>  <td>0.0044</td> <td>-18.8842</td>  <td>-3.3158</td>  <td>True</td> \n",
       "</tr>\n",
       "<tr>\n",
       "  <td>machine_A</td> <td>machine_C</td>  <td>-18.74</td>   <td>0.001</td> <td>-26.5242</td> <td>-10.9558</td>  <td>True</td> \n",
       "</tr>\n",
       "<tr>\n",
       "  <td>machine_A</td> <td>machine_D</td>   <td>5.46</td>   <td>0.2265</td>  <td>-2.3242</td>  <td>13.2442</td>  <td>False</td>\n",
       "</tr>\n",
       "<tr>\n",
       "  <td>machine_B</td> <td>machine_C</td>   <td>-7.64</td>  <td>0.0553</td> <td>-15.4242</td>  <td>0.1442</td>   <td>False</td>\n",
       "</tr>\n",
       "<tr>\n",
       "  <td>machine_B</td> <td>machine_D</td>   <td>16.56</td>   <td>0.001</td>  <td>8.7758</td>   <td>24.3442</td>  <td>True</td> \n",
       "</tr>\n",
       "<tr>\n",
       "  <td>machine_C</td> <td>machine_D</td>   <td>24.2</td>    <td>0.001</td>  <td>16.4158</td>  <td>31.9842</td>  <td>True</td> \n",
       "</tr>\n",
       "</table>"
      ],
      "text/plain": [
       "<class 'statsmodels.iolib.table.SimpleTable'>"
      ]
     },
     "execution_count": 93,
     "metadata": {},
     "output_type": "execute_result"
    }
   ],
   "source": [
    "# perform tukey's range test to compare the mean efficiency for pair of machines\n",
    "# pass the tensile strength to the parameter, 'data'\n",
    "# pass the name of the machine to the parameter, 'groups'\n",
    "comp = mc.MultiComparison(data = df_machine['strength'], groups = df_machine['machine'])\n",
    "\n",
    "# tukey's range test\n",
    "post_hoc = comp.tukeyhsd()\n",
    "\n",
    "# print the summary table\n",
    "post_hoc.summary()"
   ]
  },
  {
   "cell_type": "markdown",
   "id": "5cd6c2ac",
   "metadata": {},
   "source": [
    "The `reject=False` for pairs (machine_A, machine_D) and (machine_B, machine_C) denotes that we fail to reject the null hypothesis; and conclude that the average tensile strength due to machine_A and machine_D, machine_B and machine_C is same.\n",
    "\n",
    "For the pairs (machine_A, machine_B), (machine_A, machine_C), (machine_B, machine_D), and (machine_C, machine_D) the average tensile strength is not the same.\n",
    "\n",
    "The values in the columns `lower` and `upper` represent the lower and upper bound of the 95% confidence interval for the mean difference. "
   ]
  },
  {
   "cell_type": "code",
   "execution_count": null,
   "id": "a9e9ac21",
   "metadata": {},
   "outputs": [],
   "source": []
  }
 ],
 "metadata": {
  "colab": {
   "name": "STAT - Faculty Notebook (Day 3) [v2.0 - 301020].ipynb",
   "provenance": []
  },
  "kernelspec": {
   "display_name": "Python 3",
   "language": "python",
   "name": "python3"
  },
  "language_info": {
   "codemirror_mode": {
    "name": "ipython",
    "version": 3
   },
   "file_extension": ".py",
   "mimetype": "text/x-python",
   "name": "python",
   "nbconvert_exporter": "python",
   "pygments_lexer": "ipython3",
   "version": "3.8.8"
  }
 },
 "nbformat": 4,
 "nbformat_minor": 5
}
