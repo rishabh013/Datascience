{
 "cells": [
  {
   "cell_type": "code",
   "execution_count": 1,
   "id": "c43ac759",
   "metadata": {},
   "outputs": [
    {
     "name": "stderr",
     "output_type": "stream",
     "text": [
      "/home/user01/.local/lib/python3.8/site-packages/pandas/core/computation/expressions.py:20: UserWarning: Pandas requires version '2.7.3' or newer of 'numexpr' (version '2.7.1' currently installed).\n",
      "  from pandas.core.computation.check import NUMEXPR_INSTALLED\n"
     ]
    }
   ],
   "source": [
    "import pandas as pd\n",
    "import numpy as np\n",
    "import matplotlib.pyplot as plt\n",
    "import seaborn as sns\n",
    "\n",
    "pd.set_option('display.max_rows', None)\n",
    "pd.set_option('display.max_columns', None)"
   ]
  },
  {
   "cell_type": "code",
   "execution_count": 2,
   "id": "a990f137",
   "metadata": {},
   "outputs": [
    {
     "data": {
      "text/html": [
       "<div>\n",
       "<style scoped>\n",
       "    .dataframe tbody tr th:only-of-type {\n",
       "        vertical-align: middle;\n",
       "    }\n",
       "\n",
       "    .dataframe tbody tr th {\n",
       "        vertical-align: top;\n",
       "    }\n",
       "\n",
       "    .dataframe thead th {\n",
       "        text-align: right;\n",
       "    }\n",
       "</style>\n",
       "<table border=\"1\" class=\"dataframe\">\n",
       "  <thead>\n",
       "    <tr style=\"text-align: right;\">\n",
       "      <th></th>\n",
       "      <th>property_type</th>\n",
       "      <th>society</th>\n",
       "      <th>sector</th>\n",
       "      <th>price</th>\n",
       "      <th>price_per_sqft</th>\n",
       "      <th>area</th>\n",
       "      <th>areaWithType</th>\n",
       "      <th>bedRoom</th>\n",
       "      <th>bathroom</th>\n",
       "      <th>balcony</th>\n",
       "      <th>floorNum</th>\n",
       "      <th>facing</th>\n",
       "      <th>agePossession</th>\n",
       "      <th>super_built_up_area</th>\n",
       "      <th>built_up_area</th>\n",
       "      <th>carpet_area</th>\n",
       "      <th>study room</th>\n",
       "      <th>servant room</th>\n",
       "      <th>store room</th>\n",
       "      <th>pooja room</th>\n",
       "      <th>others</th>\n",
       "      <th>furnishing_type</th>\n",
       "      <th>luxury_score</th>\n",
       "    </tr>\n",
       "  </thead>\n",
       "  <tbody>\n",
       "    <tr>\n",
       "      <th>0</th>\n",
       "      <td>flat</td>\n",
       "      <td>signature global park 4</td>\n",
       "      <td>sector 36</td>\n",
       "      <td>0.82</td>\n",
       "      <td>7585.0</td>\n",
       "      <td>1081.0</td>\n",
       "      <td>Super Built up area 1081(100.43 sq.m.)Carpet a...</td>\n",
       "      <td>3</td>\n",
       "      <td>2</td>\n",
       "      <td>2</td>\n",
       "      <td>2.0</td>\n",
       "      <td>NaN</td>\n",
       "      <td>New Property</td>\n",
       "      <td>1081.0</td>\n",
       "      <td>NaN</td>\n",
       "      <td>650.0</td>\n",
       "      <td>0</td>\n",
       "      <td>0</td>\n",
       "      <td>0</td>\n",
       "      <td>0</td>\n",
       "      <td>0</td>\n",
       "      <td>0</td>\n",
       "      <td>8</td>\n",
       "    </tr>\n",
       "    <tr>\n",
       "      <th>1</th>\n",
       "      <td>flat</td>\n",
       "      <td>smart world gems</td>\n",
       "      <td>sector 89</td>\n",
       "      <td>0.95</td>\n",
       "      <td>8600.0</td>\n",
       "      <td>1105.0</td>\n",
       "      <td>Carpet area: 1103 (102.47 sq.m.)</td>\n",
       "      <td>2</td>\n",
       "      <td>2</td>\n",
       "      <td>2</td>\n",
       "      <td>4.0</td>\n",
       "      <td>NaN</td>\n",
       "      <td>New Property</td>\n",
       "      <td>NaN</td>\n",
       "      <td>NaN</td>\n",
       "      <td>1103.0</td>\n",
       "      <td>1</td>\n",
       "      <td>1</td>\n",
       "      <td>0</td>\n",
       "      <td>0</td>\n",
       "      <td>0</td>\n",
       "      <td>0</td>\n",
       "      <td>38</td>\n",
       "    </tr>\n",
       "    <tr>\n",
       "      <th>2</th>\n",
       "      <td>flat</td>\n",
       "      <td>pyramid elite</td>\n",
       "      <td>sector 86</td>\n",
       "      <td>0.46</td>\n",
       "      <td>79.0</td>\n",
       "      <td>58228.0</td>\n",
       "      <td>Carpet area: 58141 (5401.48 sq.m.)</td>\n",
       "      <td>2</td>\n",
       "      <td>2</td>\n",
       "      <td>1</td>\n",
       "      <td>0.0</td>\n",
       "      <td>NaN</td>\n",
       "      <td>Under Construction</td>\n",
       "      <td>NaN</td>\n",
       "      <td>NaN</td>\n",
       "      <td>58141.0</td>\n",
       "      <td>0</td>\n",
       "      <td>0</td>\n",
       "      <td>0</td>\n",
       "      <td>0</td>\n",
       "      <td>0</td>\n",
       "      <td>0</td>\n",
       "      <td>15</td>\n",
       "    </tr>\n",
       "    <tr>\n",
       "      <th>3</th>\n",
       "      <td>flat</td>\n",
       "      <td>breez global hill view</td>\n",
       "      <td>sohna road</td>\n",
       "      <td>0.32</td>\n",
       "      <td>5470.0</td>\n",
       "      <td>585.0</td>\n",
       "      <td>Built Up area: 1000 (92.9 sq.m.)Carpet area: 5...</td>\n",
       "      <td>2</td>\n",
       "      <td>2</td>\n",
       "      <td>1</td>\n",
       "      <td>17.0</td>\n",
       "      <td>NaN</td>\n",
       "      <td>New Property</td>\n",
       "      <td>NaN</td>\n",
       "      <td>1000.0</td>\n",
       "      <td>585.0</td>\n",
       "      <td>0</td>\n",
       "      <td>0</td>\n",
       "      <td>0</td>\n",
       "      <td>0</td>\n",
       "      <td>0</td>\n",
       "      <td>0</td>\n",
       "      <td>49</td>\n",
       "    </tr>\n",
       "    <tr>\n",
       "      <th>4</th>\n",
       "      <td>flat</td>\n",
       "      <td>bestech park view sanskruti</td>\n",
       "      <td>sector 92</td>\n",
       "      <td>1.60</td>\n",
       "      <td>8020.0</td>\n",
       "      <td>1995.0</td>\n",
       "      <td>Super Built up area 1995(185.34 sq.m.)Built Up...</td>\n",
       "      <td>3</td>\n",
       "      <td>4</td>\n",
       "      <td>3+</td>\n",
       "      <td>10.0</td>\n",
       "      <td>North-West</td>\n",
       "      <td>Relatively New</td>\n",
       "      <td>1995.0</td>\n",
       "      <td>1615.0</td>\n",
       "      <td>1476.0</td>\n",
       "      <td>0</td>\n",
       "      <td>1</td>\n",
       "      <td>0</td>\n",
       "      <td>0</td>\n",
       "      <td>1</td>\n",
       "      <td>1</td>\n",
       "      <td>174</td>\n",
       "    </tr>\n",
       "  </tbody>\n",
       "</table>\n",
       "</div>"
      ],
      "text/plain": [
       "  property_type                      society      sector  price  \\\n",
       "0          flat      signature global park 4   sector 36   0.82   \n",
       "1          flat             smart world gems   sector 89   0.95   \n",
       "2          flat                pyramid elite   sector 86   0.46   \n",
       "3          flat       breez global hill view  sohna road   0.32   \n",
       "4          flat  bestech park view sanskruti   sector 92   1.60   \n",
       "\n",
       "   price_per_sqft     area                                       areaWithType  \\\n",
       "0          7585.0   1081.0  Super Built up area 1081(100.43 sq.m.)Carpet a...   \n",
       "1          8600.0   1105.0                   Carpet area: 1103 (102.47 sq.m.)   \n",
       "2            79.0  58228.0                 Carpet area: 58141 (5401.48 sq.m.)   \n",
       "3          5470.0    585.0  Built Up area: 1000 (92.9 sq.m.)Carpet area: 5...   \n",
       "4          8020.0   1995.0  Super Built up area 1995(185.34 sq.m.)Built Up...   \n",
       "\n",
       "   bedRoom  bathroom balcony  floorNum      facing       agePossession  \\\n",
       "0        3         2       2       2.0         NaN        New Property   \n",
       "1        2         2       2       4.0         NaN        New Property   \n",
       "2        2         2       1       0.0         NaN  Under Construction   \n",
       "3        2         2       1      17.0         NaN        New Property   \n",
       "4        3         4      3+      10.0  North-West      Relatively New   \n",
       "\n",
       "   super_built_up_area  built_up_area  carpet_area  study room  servant room  \\\n",
       "0               1081.0            NaN        650.0           0             0   \n",
       "1                  NaN            NaN       1103.0           1             1   \n",
       "2                  NaN            NaN      58141.0           0             0   \n",
       "3                  NaN         1000.0        585.0           0             0   \n",
       "4               1995.0         1615.0       1476.0           0             1   \n",
       "\n",
       "   store room  pooja room  others  furnishing_type  luxury_score  \n",
       "0           0           0       0                0             8  \n",
       "1           0           0       0                0            38  \n",
       "2           0           0       0                0            15  \n",
       "3           0           0       0                0            49  \n",
       "4           0           0       1                1           174  "
      ]
     },
     "execution_count": 2,
     "metadata": {},
     "output_type": "execute_result"
    }
   ],
   "source": [
    "df = pd.read_csv('gurgaon_properties_cleaned_v2.csv')\n",
    "df.head()"
   ]
  },
  {
   "cell_type": "code",
   "execution_count": 3,
   "id": "36327b29",
   "metadata": {},
   "outputs": [
    {
     "data": {
      "text/plain": [
       "(3803, 23)"
      ]
     },
     "execution_count": 3,
     "metadata": {},
     "output_type": "execute_result"
    }
   ],
   "source": [
    "df.shape"
   ]
  },
  {
   "cell_type": "code",
   "execution_count": 4,
   "id": "f8b5d7e7",
   "metadata": {},
   "outputs": [
    {
     "name": "stdout",
     "output_type": "stream",
     "text": [
      "<class 'pandas.core.frame.DataFrame'>\n",
      "RangeIndex: 3803 entries, 0 to 3802\n",
      "Data columns (total 23 columns):\n",
      " #   Column               Non-Null Count  Dtype  \n",
      "---  ------               --------------  -----  \n",
      " 0   property_type        3803 non-null   object \n",
      " 1   society              3802 non-null   object \n",
      " 2   sector               3803 non-null   object \n",
      " 3   price                3785 non-null   float64\n",
      " 4   price_per_sqft       3785 non-null   float64\n",
      " 5   area                 3785 non-null   float64\n",
      " 6   areaWithType         3803 non-null   object \n",
      " 7   bedRoom              3803 non-null   int64  \n",
      " 8   bathroom             3803 non-null   int64  \n",
      " 9   balcony              3803 non-null   object \n",
      " 10  floorNum             3784 non-null   float64\n",
      " 11  facing               2698 non-null   object \n",
      " 12  agePossession        3803 non-null   object \n",
      " 13  super_built_up_area  1915 non-null   float64\n",
      " 14  built_up_area        1733 non-null   float64\n",
      " 15  carpet_area          1944 non-null   float64\n",
      " 16  study room           3803 non-null   int64  \n",
      " 17  servant room         3803 non-null   int64  \n",
      " 18  store room           3803 non-null   int64  \n",
      " 19  pooja room           3803 non-null   int64  \n",
      " 20  others               3803 non-null   int64  \n",
      " 21  furnishing_type      3803 non-null   int64  \n",
      " 22  luxury_score         3803 non-null   int64  \n",
      "dtypes: float64(7), int64(9), object(7)\n",
      "memory usage: 683.5+ KB\n"
     ]
    }
   ],
   "source": [
    "df.info()"
   ]
  },
  {
   "cell_type": "code",
   "execution_count": 5,
   "id": "2cc573a6",
   "metadata": {},
   "outputs": [
    {
     "data": {
      "text/plain": [
       "126"
      ]
     },
     "execution_count": 5,
     "metadata": {},
     "output_type": "execute_result"
    }
   ],
   "source": [
    "df.duplicated().sum()"
   ]
  },
  {
   "cell_type": "code",
   "execution_count": 6,
   "id": "2efd7adf",
   "metadata": {},
   "outputs": [],
   "source": [
    "df.drop_duplicates(inplace=True)"
   ]
  },
  {
   "cell_type": "markdown",
   "id": "0e272780",
   "metadata": {},
   "source": [
    "### property_type"
   ]
  },
  {
   "cell_type": "code",
   "execution_count": 14,
   "id": "a5f2c40c",
   "metadata": {},
   "outputs": [
    {
     "data": {
      "image/png": "[encoded data removed]",
      "text/plain": [
       "<Figure size 500x400 with 1 Axes>"
      ]
     },
     "metadata": {},
     "output_type": "display_data"
    }
   ],
   "source": [
    "plt.figure(figsize = (5,4))\n",
    "df['property_type'].value_counts().plot(kind = 'bar')\n",
    "plt.show()"
   ]
  },
  {
   "cell_type": "markdown",
   "id": "c1aad1cc",
   "metadata": {},
   "source": [
    "#### Observations\n",
    "\n",
    "- Flats are in majority(75 percent) and there are less number of houses(~25 percent)\n",
    "- No missing values"
   ]
  },
  {
   "cell_type": "markdown",
   "id": "3cf6595a",
   "metadata": {},
   "source": [
    "### society"
   ]
  },
  {
   "cell_type": "code",
   "execution_count": 15,
   "id": "2363d351",
   "metadata": {},
   "outputs": [
    {
     "data": {
      "text/plain": [
       "(676,)"
      ]
     },
     "execution_count": 15,
     "metadata": {},
     "output_type": "execute_result"
    }
   ],
   "source": [
    "df['society'].value_counts().shape"
   ]
  },
  {
   "cell_type": "code",
   "execution_count": 16,
   "id": "54adace5",
   "metadata": {},
   "outputs": [
    {
     "data": {
      "text/plain": [
       "independent                                          486\n",
       "tulip violet                                          75\n",
       "ss the leaf                                           73\n",
       "dlf new town heights                                  42\n",
       "shapoorji pallonji joyville gurugram                  42\n",
       "signature global park                                 35\n",
       "shree vardhman victoria                               34\n",
       "emaar mgf emerald floors premier                      32\n",
       "smart world orchard                                   32\n",
       "paras dews                                            31\n",
       "dlf the ultima                                        31\n",
       "m3m woodshire                                         30\n",
       "dlf regal gardens                                     30\n",
       "shree vardhman flora                                  29\n",
       "la vida by tata housing                               28\n",
       "smart world gems                                      28\n",
       "godrej nature plus                                    27\n",
       "signature global solera                               27\n",
       "bptp terra                                            25\n",
       "tata primanti                                         24\n",
       "vatika gurgaon                                        24\n",
       "experion the heartsong                                24\n",
       "emaar gurgaon greens                                  24\n",
       "bestech park view residency                           22\n",
       "emaar palm gardens                                    22\n",
       "experion windchants                                   22\n",
       "eldeco accolade                                       22\n",
       "m3m heights                                           21\n",
       "ats triumph                                           21\n",
       "rof ananda                                            21\n",
       "sobha city                                            20\n",
       "indiabulls centrum park                               19\n",
       "sare crescent parc                                    19\n",
       "godrej                                                19\n",
       "sare homes                                            19\n",
       "vipul tatvam villa                                    19\n",
       "international city by sobha phase 2                   19\n",
       "chd avenue                                            18\n",
       "mapsko mount ville                                    18\n",
       "ats tourmaline                                        18\n",
       "ambience creacions                                    18\n",
       "m3m skywalk                                           18\n",
       "antriksh heights                                      18\n",
       "m3m golfestate                                        17\n",
       "hcbs sports ville                                     17\n",
       "emaar mgf marbella                                    17\n",
       "conscient heritage max                                17\n",
       "m3m merlin                                            16\n",
       "gls arawali homes                                     16\n",
       "godrej summit                                         15\n",
       "international city by sobha phase 1                   15\n",
       "ireo victory valley                                   15\n",
       "pareena coban residences                              15\n",
       "bestech park view grand spa                           15\n",
       "vatika the seven lamps                                15\n",
       "supertech araville                                    15\n",
       "dlf the skycourt                                      15\n",
       "emaar mgf the palm drive                              15\n",
       "bestech park view ananda                              14\n",
       "ireo skyon                                            14\n",
       "godrej oasis                                          14\n",
       "imperia the esfera                                    14\n",
       "orchid petals                                         14\n",
       "corona optus                                          14\n",
       "puri diplomatic greens                                14\n",
       "umang winter hills                                    13\n",
       "dlf the primus                                        13\n",
       "puri emerald bay                                      13\n",
       "indiabulls enigma                                     13\n",
       "ansal heights 86                                      13\n",
       "the close north                                       13\n",
       "ramsons kshitij                                       13\n",
       "umang monsoon breeze                                  13\n",
       "ats kocoon                                            13\n",
       "ireo the corridors                                    12\n",
       "central park flower valley                            12\n",
       "mvn athens                                            12\n",
       "unitech uniworld resorts                              12\n",
       "breez global heights                                  11\n",
       "dlf city plots phase 2                                11\n",
       "sbtl caladium                                         11\n",
       "unitech espace                                        11\n",
       "dlf city plots                                        11\n",
       "adani m2k oyster grande                               11\n",
       "godrej aria                                           11\n",
       "alpha corp gurgaonone                                 11\n",
       "bestech park view sanskruti                           11\n",
       "tarc maceo                                            11\n",
       "raheja vedaanta                                       11\n",
       "signature global synera                               10\n",
       "capital residences 360                                10\n",
       "pivotal devaan                                        10\n",
       "dlf regency park                                      10\n",
       "m3m soulitude                                         10\n",
       "pyramid urban homes 2                                 10\n",
       "parsvnath green ville                                  9\n",
       "pareena mi casa                                        9\n",
       "godrej air                                             9\n",
       "bestech park view city                                 9\n",
       "breez global hill view                                 9\n",
       "aipl the peaceful homes                                9\n",
       "bptp astaire gardens                                   9\n",
       "emaar mgf palm hills                                   9\n",
       "vatika city                                            9\n",
       "signature global city                                  8\n",
       "sare crescent parc royal greens phase 1                8\n",
       "ild greens                                             8\n",
       "microtek greenburg                                     8\n",
       "ss                                                     8\n",
       "zara aavaas                                            8\n",
       "gls avenue 51                                          8\n",
       "the lions cghs                                         8\n",
       "orris aster court premier                              8\n",
       "vatika lifestyle homes                                 8\n",
       "birla navya                                            8\n",
       "not applicable                                         8\n",
       "m3m capital                                            8\n",
       "bestech altura                                         8\n",
       "bptp visionnaire                                       8\n",
       "avl 36 gurgaon                                         7\n",
       "m3m skycity                                            7\n",
       "sushant lok 1 builder floors                           7\n",
       "ireo the grand arch                                    7\n",
       "aipl zen residences                                    7\n",
       "trisara our homes 3                                    7\n",
       "orris carnation residency                              7\n",
       "ramprastha the edge towers                             7\n",
       "hero homes                                             7\n",
       "uppal southend                                         7\n",
       "vipul lavanya                                          7\n",
       "tulip ivory                                            7\n",
       "signature andour heights                               7\n",
       "satya the hermitage                                    7\n",
       "emaar digihomes                                        7\n",
       "ansal housing highland park                            6\n",
       "sidhartha ncr one phase                                6\n",
       "parsvnath exotica                                      6\n",
       "mapsko casa bella                                      6\n",
       "emaar imperial gardens                                 6\n",
       "eldeco mansionz                                        6\n",
       "bestech park view spa next                             6\n",
       "pyramid urban                                          6\n",
       "mapsko royale ville                                    6\n",
       "signature global city 92                               6\n",
       "ashiana anmol                                          6\n",
       "sare green parc phase 3                                6\n",
       "pioneer araya                                          6\n",
       "ansals palam vihar                                     6\n",
       "m3m sierra 68                                          6\n",
       "supertech hues                                         6\n",
       "signature global park 4                                6\n",
       "ashiana mulberry                                       6\n",
       "suncity vatsal valley                                  6\n",
       "hsiidc sidco aravali                                   6\n",
       "kiran residency                                        6\n",
       "greenopolis                                            6\n",
       "pioneer park                                           5\n",
       "signature global orchard avenue                        5\n",
       "signature global city 81                               5\n",
       "emaar mgf emerald estate                               5\n",
       "green court                                            5\n",
       "pareena laxmi apartments                               5\n",
       "spaze privy                                            5\n",
       "housing board colony                                   5\n",
       "dlf park place                                         5\n",
       "godrej habitat                                         5\n",
       "conscient elevate                                      5\n",
       "signature global city 63a                              5\n",
       "central park resorts                                   5\n",
       "vatika city homes                                      5\n",
       "dlf city phase 1                                       5\n",
       "vatika india next                                      5\n",
       "central park flower valley aqua front towers           5\n",
       "m3m the marina                                         5\n",
       "signature the roselia                                  5\n",
       "adani brahma samsara vilasa                            5\n",
       "assotech blith                                         5\n",
       "ireo uptown                                            5\n",
       "nul                                                    5\n",
       "dlf the arbour                                         5\n",
       "tulip monsella                                         4\n",
       "godrej icon                                            4\n",
       "ansal sushant lok plots                                4\n",
       "malibu towne                                           4\n",
       "afnhb jalvayu vihar                                    4\n",
       "ardee city                                             4\n",
       "palam vihar extension west zone rwa                    4\n",
       "unitech fresco                                         4\n",
       "corona gracieux                                        4\n",
       "apna enclave                                           4\n",
       "ats marigold                                           4\n",
       "krisumi waterfall residences                           4\n",
       "godrej frontier                                        4\n",
       "bptp pedestal                                          4\n",
       "dlf city plots phase 3                                 4\n",
       "ss the coralwood                                       4\n",
       "vatika independent floors                              4\n",
       "hsiidc sidco shivalik apartments                       4\n",
       "silverglades the melia                                 4\n",
       "orris aster court                                      4\n",
       "unitech aspen greens                                   4\n",
       "lotus homz                                             4\n",
       "tata gurgaon gateway                                   4\n",
       "signature global the millennia                         4\n",
       "signature the serenas                                  4\n",
       "ansal api esencia                                      4\n",
       "ramprastha primera                                     4\n",
       "signature global grand iva                             4\n",
       "raheja navodaya                                        4\n",
       "emaar palm heights                                     4\n",
       "prime habitat                                          4\n",
       "ramprastha skyz                                        4\n",
       "signature global city 37d ph 2                         4\n",
       "unitech uniworld gardens                               4\n",
       "kendriya vihar                                         4\n",
       "tulip white                                            3\n",
       "railway officers rpf society                           3\n",
       "shri ram apartments                                    3\n",
       "eros rosewood villas                                   3\n",
       "krrish provence estate                                 3\n",
       "suncity avenue 76                                      3\n",
       "tulip purple                                           3\n",
       "valley view estate                                     3\n",
       "whiteland blissville                                   3\n",
       "sare green parc 2                                      3\n",
       "shree arihant apartment                                3\n",
       "spaze privvy the address                               3\n",
       "vatika xpressions                                      3\n",
       "pivotal riddhi siddhi                                  3\n",
       "apex our homes                                         3\n",
       "signature global solera 2                              3\n",
       "adani aangan arcade                                    3\n",
       "shri banke bihari society                              3\n",
       "paras quartier                                         3\n",
       "unitech sunbreeze                                      3\n",
       "guru gram haryana cghs                                 3\n",
       "aipl club residences                                   3\n",
       "ss hibiscus                                            3\n",
       "dlf royalton tower                                     3\n",
       "tulip lemon                                            3\n",
       "ansals florence villa                                  3\n",
       "sare petioles                                          3\n",
       "krrish florence estate                                 3\n",
       "ambience lagoon                                        3\n",
       "ss aaron ville                                         3\n",
       "my home                                                3\n",
       "dlf express greens                                     3\n",
       "sector 14 rwa                                          3\n",
       "piedmont taksila heights                               3\n",
       "smriti apartment                                       3\n",
       "raheja revanta                                         3\n",
       "satya element one                                      3\n",
       "ansal heights                                          3\n",
       "sare green parc                                        3\n",
       "pyramid elite                                          3\n",
       "ild grand                                              3\n",
       "unitech vistas                                         3\n",
       "essel towers                                           3\n",
       "dlf the grove                                          3\n",
       "eros rosewood city                                     3\n",
       "suncity platinum towers                                3\n",
       "sidhartha ncr one                                      3\n",
       "sidhartha ncr greens                                   3\n",
       "chintels paradiso                                      3\n",
       "spaze privy at                                         3\n",
       "sunischit apartments                                   3\n",
       "vatika signature villas                                3\n",
       "mahindra aura                                          3\n",
       "raheja atharva                                         3\n",
       "unitech nirvana birch court                            3\n",
       "unitech the residences                                 3\n",
       "raheja sampada                                         3\n",
       "deepak minda                                           3\n",
       "vatika sovereign park                                  3\n",
       "cghs airport apartment                                 2\n",
       "sukhshanti apartment                                   2\n",
       "dlf carlton estate                                     2\n",
       "m3m urbana                                             2\n",
       "green campus chs                                       2\n",
       "bestech spa signature                                  2\n",
       "bhagwati sadan                                         2\n",
       "professors enclave cghs                                2\n",
       "godrej meridien                                        2\n",
       "viridian the plaza 106                                 2\n",
       "siddhartha apartment                                   2\n",
       "puri the aravallis                                     2\n",
       "godrej nature plus serenity                            2\n",
       "vatika sovereign next                                  2\n",
       "unitech palms south city 1                             2\n",
       "m3m latitude                                           2\n",
       "awho shanti vihar                                      2\n",
       "pioneer urban presidia                                 2\n",
       "dlf the crest                                          2\n",
       "suncity heights                                        2\n",
       "raheja vanya                                           2\n",
       "unitech greenwood city                                 2\n",
       "nbcc heights                                           2\n",
       "vatika inxt floors                                     2\n",
       "mahindra luminare                                      2\n",
       "dhoot time residency                                   2\n",
       "luxury dlf city floors                                 2\n",
       "emaar emerald hills                                    2\n",
       "dlf the belaire                                        2\n",
       "orchid island                                          2\n",
       "project housing board colony                           2\n",
       "dlf the icon                                           2\n",
       "tulip orange                                           2\n",
       "ss almeria                                             2\n",
       "ss residency                                           2\n",
       "rattan garden                                          2\n",
       "vipul world                                            2\n",
       "ansal api celebrity suites                             2\n",
       "nirvana cedar crest                                    2\n",
       "4s aradhya homes                                       2\n",
       "jammu and kashmir bank employees cghs                  2\n",
       "palam vihar society                                    2\n",
       "elan the presidential                                  2\n",
       "the close south                                        2\n",
       "central park 2 bellevue                                2\n",
       "the penthouses at the hibiscus                         2\n",
       "vatika emilia floors                                   2\n",
       "ansal sushant residency                                2\n",
       "paras irene                                            2\n",
       "bptp freedom park life                                 2\n",
       "iffco nagar and 17b rwa                                2\n",
       "sahara grace                                           2\n",
       "park royal apartment                                   2\n",
       "shivpuri                                               2\n",
       "tulip leaf                                             2\n",
       "rwa sector 46                                          2\n",
       "m3m ikonic                                             2\n",
       "suncity essel towers                                   2\n",
       "unitech deerwood chase                                 2\n",
       "emaar mgf palm studios                                 2\n",
       "residency grand                                        2\n",
       "dlf belvedere towers                                   2\n",
       "central park flower valley cerise floors               2\n",
       "tulsiani easy in homes                                 2\n",
       "m3m sky lofts                                          2\n",
       "sector 38 rwa                                          2\n",
       "bptp mansions park prime                               2\n",
       "conscient habitat                                      2\n",
       "emaar mgf the enclave                                  2\n",
       "brisk lumbini terrace homes                            2\n",
       "suposhaa smartworld orchard                            2\n",
       "ramprastha city                                        2\n",
       "emaar mgf emerald floors                               2\n",
       "oriental valley chs                                    2\n",
       "vipul belmonte                                         2\n",
       "signature global the millennia 3                       2\n",
       "emaar the palm springs                                 2\n",
       "maxworth city residences                               2\n",
       "mapsko paradise                                        2\n",
       "bhim garh kheri                                        2\n",
       "global hill view                                       2\n",
       "sapphire eighty three                                  2\n",
       "unitech escape                                         2\n",
       "tulip petals                                           2\n",
       "adani aangan galleria                                  2\n",
       "mittal surya vihar                                     2\n",
       "suncity avenue                                         2\n",
       "suncity township                                       2\n",
       "rof aalayas                                            2\n",
       "project mianwali colony                                2\n",
       "ramprastha the atrium                                  2\n",
       "tulip yellow                                           2\n",
       "today callidora                                        2\n",
       "huda ashok vihar phase                                 2\n",
       "new colony, gurgaon                                    1\n",
       "shreeram apartment ii                                  1\n",
       "maruti vihar                                           1\n",
       "jacob pura                                             1\n",
       "park view apartment                                    1\n",
       "shree balaji appartment                                1\n",
       "ansal harmony homes                                    1\n",
       "adani oyster greens                                    1\n",
       "ansal                                                  1\n",
       "imt view society                                       1\n",
       "divya apartments                                       1\n",
       "huda                                                   1\n",
       "shivaji nagar residential                              1\n",
       "cghs vidya enclave                                     1\n",
       "jacobpura                                              1\n",
       "ambience caitriona                                     1\n",
       "awho sispal vihar                                      1\n",
       "prem kunj                                              1\n",
       "dlf city plot phase 3                                  1\n",
       "sanskriti apartment                                    1\n",
       "aindependentt raj estates                              1\n",
       "dlf floors phase 3                                     1\n",
       "ild grand centra                                       1\n",
       "aditya apartment                                       1\n",
       "the cocoon                                             1\n",
       "huda plots                                             1\n",
       "the serenas                                            1\n",
       "emaar palm premier                                     1\n",
       "vatika seven elements                                  1\n",
       "aardhya homesh                                         1\n",
       "unitech south city                                     1\n",
       "rose apartment                                         1\n",
       "unitech uniworld city                                  1\n",
       "naman residency                                        1\n",
       "on request                                             1\n",
       "lig flat                                               1\n",
       "spire woods now ananda by alpha corp                   1\n",
       "sagar apartment                                        1\n",
       "ashok vihar phase iii extension                        1\n",
       "raheja maheshwara                                      1\n",
       "m3m one key resiments                                  1\n",
       "emaar mgf palm terraces                                1\n",
       "millenium bajrang society                              1\n",
       ".                                                      1\n",
       "cghs hewo apartments                                   1\n",
       "shree krishna homes                                    1\n",
       "whiteland  the aspen                                   1\n",
       "rk tower                                               1\n",
       "rail vihar cghs                                        1\n",
       "the laburnum                                           1\n",
       "la lagune                                              1\n",
       "adani brahma samsara                                   1\n",
       "citizen apartment                                      1\n",
       "meditech apartment                                     1\n",
       "dlf wellington estate                                  1\n",
       "maruti vihar colony                                    1\n",
       "ganpati apartment  2, laxman vihar phase 1             1\n",
       "imperia elvedor                                        1\n",
       "kashish manor one                                      1\n",
       "maa bhagwati residency                                 1\n",
       "ansal maple crescent                                   1\n",
       "the castle society                                     1\n",
       "supertech hilltown                                     1\n",
       "bhim nagar, sector 6                                   1\n",
       "laxmi garden sector-11                                 1\n",
       "milan cghs 9                                           1\n",
       "baani city center                                      1\n",
       "antriksh green                                         1\n",
       "saan verdante                                          1\n",
       "ashiana apartment                                      1\n",
       "shyamkunj ashok vihar pahse 2                          1\n",
       "raheja vedas                                           1\n",
       "dnha group housing society                             1\n",
       "bajrang apartments                                     1\n",
       "ansal florence super                                   1\n",
       "experion heartsong                                     1\n",
       "signature global superbia                              1\n",
       "denso haryana housing society                          1\n",
       "karmyogi apartment                                     1\n",
       "ansal api spanish court                                1\n",
       "huda plot sector 38                                    1\n",
       "m3m golf hills                                         1\n",
       "radhakrishna society                                   1\n",
       "shree kirpalu gi sector 52                             1\n",
       "shri shyam residency                                   1\n",
       "rattan vihar rajendra park                             1\n",
       "godrej summit premia towers                            1\n",
       "ansal api sushant estate                               1\n",
       "krishna appartment                                     1\n",
       "vatika boulevard residences and heights                1\n",
       "uphar lakshya homes                                    1\n",
       "ramprasta awho                                         1\n",
       "vasant appartments                                     1\n",
       "landmark house                                         1\n",
       "micasa sec 68                                          1\n",
       "chintamani                                             1\n",
       "dlf 76                                                 1\n",
       "huda sector-56 gurgaon                                 1\n",
       "proxima tower                                          1\n",
       "huda housing board colony                              1\n",
       "511 sarahah tower                                      1\n",
       "smart world one dxp                                    1\n",
       "ansal sushant lok                                      1\n",
       "bestech park view aindependentda                       1\n",
       "bsf chs                                                1\n",
       "floor wise designer kothi                              1\n",
       "sai kripa floors 5                                     1\n",
       "irwo westend towers                                    1\n",
       "shyam sadan                                            1\n",
       "maruti kunj                                            1\n",
       "mrg world ultimus                                      1\n",
       "senate court                                           1\n",
       "row house                                              1\n",
       "om apartment dayanand colony                           1\n",
       "prasha apartments                                      1\n",
       "the rama apartment cghs                                1\n",
       "unitech harmony                                        1\n",
       "sonata group housing gh 24                             1\n",
       "woodstock floors                                       1\n",
       "ansal plaza                                            1\n",
       "housing apna enclave                                   1\n",
       "whiteland the aspen                                    1\n",
       "eden landmark                                          1\n",
       "ompee k s residency                                    1\n",
       "smart world one                                        1\n",
       "surya vihar rwa                                        1\n",
       "raj villas                                             1\n",
       "cancon enclave                                         1\n",
       "swarn jayanti cghs                                     1\n",
       "shree vardhman mantra                                  1\n",
       "madan puri                                             1\n",
       "elan mercado                                           1\n",
       "ansal maple heights                                    1\n",
       "breeze global heights                                  1\n",
       "ansal height 86                                        1\n",
       "grover homes sec 4                                     1\n",
       "shyam apartment                                        1\n",
       "parkwood westend                                       1\n",
       "city heights                                           1\n",
       "the new crpf apartments                                1\n",
       "allure homes                                           1\n",
       "bhim nagar society                                     1\n",
       "ansals highland park                                   1\n",
       "ansal celebrity homes                                  1\n",
       "professional society                                   1\n",
       "anshul                                                 1\n",
       "sbr minda sec-1 imt manesar                            1\n",
       "bhemerlei                                              1\n",
       "essel tower                                            1\n",
       "unitech the palms                                      1\n",
       "madhur jeevan apartments                               1\n",
       "kothi                                                  1\n",
       "satya the legend                                       1\n",
       "siddhi vinayak apartments                              1\n",
       "czar mahira homes 63a                                  1\n",
       "park view apartments                                   1\n",
       "eros wembley estate                                    1\n",
       "rwa                                                    1\n",
       "raisina residency                                      1\n",
       "sheetla enclave                                        1\n",
       "ramshanti cooperative society                          1\n",
       "emaar the palm drive                                   1\n",
       "beverley park 1                                        1\n",
       "raheja teachers apartments                             1\n",
       "navjyoti apartment                                     1\n",
       "earth copia                                            1\n",
       "laxmi pareena                                          1\n",
       "m3m the tree of life                                   1\n",
       "takshila heights sector 37 c                           1\n",
       "bptp amstoria                                          1\n",
       "millenia                                               1\n",
       "new sathi apartments                                   1\n",
       "arjun marg/ sector- 26 phase- 1/ golf course road      1\n",
       "mittal cosmos executive apartments                     1\n",
       "pooja apartment                                        1\n",
       "aipl joy square                                        1\n",
       "imperia aashiyara                                      1\n",
       "ansal sushant lok ci                                   1\n",
       "dlf city plots phase 4                                 1\n",
       "emaar mgf palm terraces select                         1\n",
       "project krishna colony                                 1\n",
       "saksham welfare association                            1\n",
       "ss radiance residency                                  1\n",
       "bhawna cghs                                            1\n",
       "the khushboo cooperative housing society ltd           1\n",
       "ramson kshitij sec-95 gurugram                         1\n",
       "apartment                                              1\n",
       "dlf garden city floors                                 1\n",
       "sanskriti apartments                                   1\n",
       "unitech south park                                     1\n",
       "vatika iris floors                                     1\n",
       "south city 1 floors                                    1\n",
       "breez global heights 88a                               1\n",
       "m m residency, krishna colony, gurgaon                 1\n",
       "the crew bos chs manesar                               1\n",
       "pivotal devaan apartments                              1\n",
       "dlf south city 1                                       1\n",
       "shri balaji apartment                                  1\n",
       "huda housing board society                             1\n",
       "ganpati heights apartment                              1\n",
       "the arzoo cghs                                         1\n",
       "chanderlok society                                     1\n",
       "bhawani enclave                                        1\n",
       "rk excelo                                              1\n",
       "kibithu villas                                         1\n",
       "global height                                          1\n",
       "adarsh nagar                                           1\n",
       "hector trimurti heights                                1\n",
       "the roselia 2                                          1\n",
       "cloudnine cottages                                     1\n",
       "ashok vihar phase 3 gurgaon                            1\n",
       "wings apartment                                        1\n",
       "anamika enclave                                        1\n",
       "surendra avenue 69                                     1\n",
       "dlf city plot phase 4                                  1\n",
       "sector 57 huda                                         1\n",
       "green homes                                            1\n",
       "unitech heritage city                                  1\n",
       "ninex city                                             1\n",
       "dlf trinity towers                                     1\n",
       "smartworld 1dxp                                        1\n",
       "uphaar residency 2                                     1\n",
       "spectrum centre                                        1\n",
       "jmd gardens                                            1\n",
       "bptp park generations                                  1\n",
       "signature global orchard avenue 2                      1\n",
       "dlf beverly park                                       1\n",
       "dlf ridgewood estate                                   1\n",
       "lotus elise                                            1\n",
       "supertech new soft launch                              1\n",
       "kamal residence                                        1\n",
       "nirvana country                                        1\n",
       "rajendra park gurgaon                                  1\n",
       "shapoorji pallonji joyville                            1\n",
       "pgr shree kripaluji apartment                          1\n",
       "ss omnia                                               1\n",
       "laxmi apartment sector 99a gurgaon                     1\n",
       "the pearl apartmen                                     1\n",
       "nirmal enclave, maruti kunj road                       1\n",
       "the center court                                       1\n",
       "house number b-34                                      1\n",
       "m3m golf hills phase 1                                 1\n",
       "u block dlf phase 3 road no 21                         1\n",
       "m3m antalya hills                                      1\n",
       "nagata group housing society                           1\n",
       "sbr apartment                                          1\n",
       "apex builders                                          1\n",
       "mrg skyline                                            1\n",
       "dlf alameda                                            1\n",
       "dlf icon                                               1\n",
       "dlf exclusive floors                                   1\n",
       "city shri ram apartments 1                             1\n",
       "independent house sector 45                            1\n",
       "signature signum 95a                                   1\n",
       "belgravia resort residences                            1\n",
       "uphaar homes                                           1\n",
       "central park resort belgravia residences               1\n",
       "g l s arawali homes                                    1\n",
       "mian wali                                              1\n",
       "sector 15 part 2 rwa                                   1\n",
       "silverglades hightown residences                       1\n",
       "conscient one                                          1\n",
       "friends apartment                                      1\n",
       "sbr minda sec 1 imt manesar                            1\n",
       "tashee capital gateway                                 1\n",
       "raheja atlantis                                        1\n",
       "huda flats                                             1\n",
       "vipul world floors                                     1\n",
       "lavanya apartments                                     1\n",
       "lord krishna                                           1\n",
       "kanchanjanga tower                                     1\n",
       "godrej 101, sector 79                                  1\n",
       "pyramid pride                                          1\n",
       "the nav manesar apartment                              1\n",
       "kamroon court                                          1\n",
       "signature global infinity mall                         1\n",
       "mariners home                                          1\n",
       "vidya apartment                                        1\n",
       "sneh vihar                                             1\n",
       "sobha smriti apartments                                1\n",
       "supertech basera                                       1\n",
       "raheja the vedaanta floors                             1\n",
       "signature global rosellia                              1\n",
       "malibu towers                                          1\n",
       "ansals duplex flat                                     1\n",
       "ansal sushant lok 2                                    1\n",
       "om appartments                                         1\n",
       "cghs rail vihar                                        1\n",
       "m3m crown                                              1\n",
       "ashok vihar phase 2                                    1\n",
       "dnha cghs                                              1\n",
       "espire south                                           1\n",
       "sidhivinayak apartments                                1\n",
       "huda floor                                             1\n",
       "ace palm floors                                        1\n",
       "vatika sovereign next sector-82 a gurgaon              1\n",
       "ansal estella                                          1\n",
       "smartworld one dxp                                     1\n",
       "aipl peaceful homes                                    1\n",
       "samadhan shri kamal cghs                               1\n",
       "private house                                          1\n",
       "elevate                                                1\n",
       "dlf pink town house                                    1\n",
       "dlf gardencity enclave                                 1\n",
       "nitin vihar                                            1\n",
       "landmark the residency                                 1\n",
       "kw royal court                                         1\n",
       "surendra homes dayaindependentd colony                 1\n",
       "Name: society, dtype: int64"
      ]
     },
     "execution_count": 16,
     "metadata": {},
     "output_type": "execute_result"
    }
   ],
   "source": [
    "df['society'].value_counts()"
   ]
  },
  {
   "cell_type": "code",
   "execution_count": 23,
   "id": "b4964711",
   "metadata": {
    "scrolled": true
   },
   "outputs": [
    {
     "data": {
      "text/plain": [
       "tulip violet                            0.023511\n",
       "ss the leaf                             0.046395\n",
       "shapoorji pallonji joyville gurugram    0.059561\n",
       "dlf new town heights                    0.072727\n",
       "signature global park                   0.083699\n",
       "shree vardhman victoria                 0.094357\n",
       "smart world orchard                     0.104389\n",
       "emaar mgf emerald floors premier        0.114420\n",
       "paras dews                              0.124138\n",
       "dlf the ultima                          0.133856\n",
       "m3m woodshire                           0.143260\n",
       "dlf regal gardens                       0.152665\n",
       "shree vardhman flora                    0.161755\n",
       "la vida by tata housing                 0.170533\n",
       "smart world gems                        0.179310\n",
       "godrej nature plus                      0.187774\n",
       "signature global solera                 0.196238\n",
       "bptp terra                              0.204075\n",
       "tata primanti                           0.211599\n",
       "vatika gurgaon                          0.219122\n",
       "experion the heartsong                  0.226646\n",
       "emaar gurgaon greens                    0.234169\n",
       "bestech park view residency             0.241066\n",
       "emaar palm gardens                      0.247962\n",
       "experion windchants                     0.254859\n",
       "eldeco accolade                         0.261755\n",
       "m3m heights                             0.268339\n",
       "ats triumph                             0.274922\n",
       "rof ananda                              0.281505\n",
       "sobha city                              0.287774\n",
       "indiabulls centrum park                 0.293730\n",
       "sare crescent parc                      0.299687\n",
       "godrej                                  0.305643\n",
       "sare homes                              0.311599\n",
       "vipul tatvam villa                      0.317555\n",
       "international city by sobha phase 2     0.323511\n",
       "chd avenue                              0.329154\n",
       "mapsko mount ville                      0.334796\n",
       "ats tourmaline                          0.340439\n",
       "ambience creacions                      0.346082\n",
       "m3m skywalk                             0.351724\n",
       "antriksh heights                        0.357367\n",
       "m3m golfestate                          0.362696\n",
       "hcbs sports ville                       0.368025\n",
       "emaar mgf marbella                      0.373354\n",
       "conscient heritage max                  0.378683\n",
       "m3m merlin                              0.383699\n",
       "gls arawali homes                       0.388715\n",
       "godrej summit                           0.393417\n",
       "international city by sobha phase 1     0.398119\n",
       "ireo victory valley                     0.402821\n",
       "pareena coban residences                0.407524\n",
       "bestech park view grand spa             0.412226\n",
       "vatika the seven lamps                  0.416928\n",
       "supertech araville                      0.421630\n",
       "dlf the skycourt                        0.426332\n",
       "emaar mgf the palm drive                0.431034\n",
       "bestech park view ananda                0.435423\n",
       "ireo skyon                              0.439812\n",
       "godrej oasis                            0.444201\n",
       "imperia the esfera                      0.448589\n",
       "orchid petals                           0.452978\n",
       "corona optus                            0.457367\n",
       "puri diplomatic greens                  0.461755\n",
       "umang winter hills                      0.465831\n",
       "dlf the primus                          0.469906\n",
       "puri emerald bay                        0.473981\n",
       "indiabulls enigma                       0.478056\n",
       "ansal heights 86                        0.482132\n",
       "the close north                         0.486207\n",
       "ramsons kshitij                         0.490282\n",
       "umang monsoon breeze                    0.494357\n",
       "ats kocoon                              0.498433\n",
       "ireo the corridors                      0.502194\n",
       "central park flower valley              0.505956\n",
       "Name: society, dtype: float64"
      ]
     },
     "execution_count": 23,
     "metadata": {},
     "output_type": "execute_result"
    }
   ],
   "source": [
    "df[df['society'] != 'independent']['society'].value_counts(normalize=True).cumsum().head(75)"
   ]
  },
  {
   "cell_type": "code",
   "execution_count": 26,
   "id": "90039db5",
   "metadata": {},
   "outputs": [
    {
     "data": {
      "text/plain": [
       "1"
      ]
     },
     "execution_count": 26,
     "metadata": {},
     "output_type": "execute_result"
    }
   ],
   "source": [
    "(df['society'].value_counts() > 100).sum()"
   ]
  },
  {
   "cell_type": "code",
   "execution_count": 27,
   "id": "3cecd829",
   "metadata": {},
   "outputs": [
    {
     "data": {
      "text/plain": [
       "{'Very High (>100)': 1,\n",
       " 'High (50-100)': 2,\n",
       " 'Average (10-49)': 92,\n",
       " 'Low (2-9)': 273,\n",
       " 'Very Low (1)': 308}"
      ]
     },
     "execution_count": 27,
     "metadata": {},
     "output_type": "execute_result"
    }
   ],
   "source": [
    "society_counts = df['society'].value_counts()\n",
    "\n",
    "# Frequency distribution for societies\n",
    "frequency_bins = {\n",
    "    \"Very High (>100)\": (society_counts > 100).sum(),\n",
    "    \"High (50-100)\": ((society_counts >= 50) & (society_counts <= 100)).sum(),\n",
    "    \"Average (10-49)\": ((society_counts >= 10) & (society_counts < 50)).sum(),\n",
    "    \"Low (2-9)\": ((society_counts > 1) & (society_counts < 10)).sum(),\n",
    "    \"Very Low (1)\": (society_counts == 1).sum()\n",
    "}\n",
    "frequency_bins"
   ]
  },
  {
   "cell_type": "code",
   "execution_count": 29,
   "id": "05724c8c",
   "metadata": {},
   "outputs": [
    {
     "data": {
      "image/png": "[encoded data removed]",
      "text/plain": [
       "<Figure size 500x400 with 1 Axes>"
      ]
     },
     "metadata": {},
     "output_type": "display_data"
    }
   ],
   "source": [
    "# top 10 socities\n",
    "plt.figure(figsize = (5,4))\n",
    "df[df['society'] != 'independent']['society'].value_counts().head(10).plot(kind='bar')\n",
    "plt.show()"
   ]
  },
  {
   "cell_type": "code",
   "execution_count": 30,
   "id": "8460963f",
   "metadata": {},
   "outputs": [
    {
     "data": {
      "text/plain": [
       "1"
      ]
     },
     "execution_count": 30,
     "metadata": {},
     "output_type": "execute_result"
    }
   ],
   "source": [
    "df['society'].isnull().sum()"
   ]
  },
  {
   "cell_type": "code",
   "execution_count": 31,
   "id": "997742c8",
   "metadata": {},
   "outputs": [
    {
     "data": {
      "text/html": [
       "<div>\n",
       "<style scoped>\n",
       "    .dataframe tbody tr th:only-of-type {\n",
       "        vertical-align: middle;\n",
       "    }\n",
       "\n",
       "    .dataframe tbody tr th {\n",
       "        vertical-align: top;\n",
       "    }\n",
       "\n",
       "    .dataframe thead th {\n",
       "        text-align: right;\n",
       "    }\n",
       "</style>\n",
       "<table border=\"1\" class=\"dataframe\">\n",
       "  <thead>\n",
       "    <tr style=\"text-align: right;\">\n",
       "      <th></th>\n",
       "      <th>property_type</th>\n",
       "      <th>society</th>\n",
       "      <th>sector</th>\n",
       "      <th>price</th>\n",
       "      <th>price_per_sqft</th>\n",
       "      <th>area</th>\n",
       "      <th>areaWithType</th>\n",
       "      <th>bedRoom</th>\n",
       "      <th>bathroom</th>\n",
       "      <th>balcony</th>\n",
       "      <th>floorNum</th>\n",
       "      <th>facing</th>\n",
       "      <th>agePossession</th>\n",
       "      <th>super_built_up_area</th>\n",
       "      <th>built_up_area</th>\n",
       "      <th>carpet_area</th>\n",
       "      <th>study room</th>\n",
       "      <th>servant room</th>\n",
       "      <th>store room</th>\n",
       "      <th>pooja room</th>\n",
       "      <th>others</th>\n",
       "      <th>furnishing_type</th>\n",
       "      <th>luxury_score</th>\n",
       "    </tr>\n",
       "  </thead>\n",
       "  <tbody>\n",
       "    <tr>\n",
       "      <th>2693</th>\n",
       "      <td>flat</td>\n",
       "      <td>NaN</td>\n",
       "      <td>sector 78</td>\n",
       "      <td>0.6</td>\n",
       "      <td>3692.0</td>\n",
       "      <td>1625.0</td>\n",
       "      <td>Built Up area: 1625 (150.97 sq.m.)</td>\n",
       "      <td>2</td>\n",
       "      <td>2</td>\n",
       "      <td>0</td>\n",
       "      <td>NaN</td>\n",
       "      <td>NaN</td>\n",
       "      <td>Under Construction</td>\n",
       "      <td>NaN</td>\n",
       "      <td>1625.0</td>\n",
       "      <td>NaN</td>\n",
       "      <td>0</td>\n",
       "      <td>0</td>\n",
       "      <td>0</td>\n",
       "      <td>0</td>\n",
       "      <td>0</td>\n",
       "      <td>0</td>\n",
       "      <td>0</td>\n",
       "    </tr>\n",
       "  </tbody>\n",
       "</table>\n",
       "</div>"
      ],
      "text/plain": [
       "     property_type society     sector  price  price_per_sqft    area  \\\n",
       "2693          flat     NaN  sector 78    0.6          3692.0  1625.0   \n",
       "\n",
       "                            areaWithType  bedRoom  bathroom balcony  floorNum  \\\n",
       "2693  Built Up area: 1625 (150.97 sq.m.)        2         2       0       NaN   \n",
       "\n",
       "     facing       agePossession  super_built_up_area  built_up_area  \\\n",
       "2693    NaN  Under Construction                  NaN         1625.0   \n",
       "\n",
       "      carpet_area  study room  servant room  store room  pooja room  others  \\\n",
       "2693          NaN           0             0           0           0       0   \n",
       "\n",
       "      furnishing_type  luxury_score  \n",
       "2693                0             0  "
      ]
     },
     "execution_count": 31,
     "metadata": {},
     "output_type": "execute_result"
    }
   ],
   "source": [
    "df[df['society'].isnull()]"
   ]
  },
  {
   "cell_type": "markdown",
   "id": "df295a75",
   "metadata": {},
   "source": [
    "#### Observations\n",
    "\n",
    "- Around 13% properties comes under independent tag.\n",
    "- There are 675 societies. \n",
    "- The top 75 societies have 50 percent of the preperties and the rest 50 percent of the properties come under the remaining 600 societies\n",
    "    - Very High (>100): Only 1 society has more than 100 listings.\n",
    "    - High (50-100): 2 societies have between 50 to 100 listings.\n",
    "    - Average (10-49): 92 societies fall in this range with 10 to 49 listings each.\n",
    "    - Low (2-9): 273 societies have between 2 to 9 listings.\n",
    "    - Very Low (1): A significant number, 308 societies, have only 1 listing.\n",
    "- 1 missing value"
   ]
  },
  {
   "cell_type": "markdown",
   "id": "3f87dc05",
   "metadata": {},
   "source": [
    "### sector"
   ]
  },
  {
   "cell_type": "code",
   "execution_count": 32,
   "id": "48ea4c24",
   "metadata": {},
   "outputs": [
    {
     "data": {
      "text/plain": [
       "(104,)"
      ]
     },
     "execution_count": 32,
     "metadata": {},
     "output_type": "execute_result"
    }
   ],
   "source": [
    "# unique sectors\n",
    "df['sector'].value_counts().shape"
   ]
  },
  {
   "cell_type": "code",
   "execution_count": 33,
   "id": "4d42aa6b",
   "metadata": {},
   "outputs": [
    {
     "data": {
      "text/plain": [
       "<AxesSubplot: >"
      ]
     },
     "execution_count": 33,
     "metadata": {},
     "output_type": "execute_result"
    },
    {
     "data": {
      "image/png": "[encoded data removed]",
      "text/plain": [
       "<Figure size 640x480 with 1 Axes>"
      ]
     },
     "metadata": {},
     "output_type": "display_data"
    }
   ],
   "source": [
    "# top 10 sectors\n",
    "df['sector'].value_counts().head(10).plot(kind='bar')"
   ]
  },
  {
   "cell_type": "code",
   "execution_count": 34,
   "id": "db8b2001",
   "metadata": {},
   "outputs": [
    {
     "data": {
      "text/plain": [
       "{'Very High (>100)': 3,\n",
       " 'High (50-100)': 25,\n",
       " 'Average (10-49)': 60,\n",
       " 'Low (2-9)': 16,\n",
       " 'Very Low (1)': 0}"
      ]
     },
     "execution_count": 34,
     "metadata": {},
     "output_type": "execute_result"
    }
   ],
   "source": [
    "# Frequency distribution for sectors\n",
    "sector_counts = df['sector'].value_counts()\n",
    "\n",
    "sector_frequency_bins = {\n",
    "    \"Very High (>100)\": (sector_counts > 100).sum(),\n",
    "    \"High (50-100)\": ((sector_counts >= 50) & (sector_counts <= 100)).sum(),\n",
    "    \"Average (10-49)\": ((sector_counts >= 10) & (sector_counts < 50)).sum(),\n",
    "    \"Low (2-9)\": ((sector_counts > 1) & (sector_counts < 10)).sum(),\n",
    "    \"Very Low (1)\": (sector_counts == 1).sum()\n",
    "}\n",
    "\n",
    "sector_frequency_bins"
   ]
  },
  {
   "cell_type": "markdown",
   "id": "b584d5eb",
   "metadata": {},
   "source": [
    "#### Observations\n",
    "\n",
    "- There are a total of 104 unique sectors in the dataset.\n",
    "- Frequency distribution of sectors:\n",
    "    - Very High (>100): 3 sectors have more than 100 listings.\n",
    "    - High (50-100): 25 sectors have between 50 to 100 listings.\n",
    "    - Average (10-49): A majority, 60 sectors, fall in this range with 10 to 49 listings each.\n",
    "    - Low (2-9): 16 sectors have between 2 to 9 listings.\n",
    "    - Very Low (1): Interestingly, there are no sectors with only 1 listing."
   ]
  },
  {
   "cell_type": "markdown",
   "id": "5cdf2b69",
   "metadata": {},
   "source": [
    "### Price"
   ]
  },
  {
   "cell_type": "code",
   "execution_count": 35,
   "id": "19016837",
   "metadata": {},
   "outputs": [
    {
     "data": {
      "text/plain": [
       "17"
      ]
     },
     "execution_count": 35,
     "metadata": {},
     "output_type": "execute_result"
    }
   ],
   "source": [
    "df['price'].isnull().sum()"
   ]
  },
  {
   "cell_type": "code",
   "execution_count": 36,
   "id": "c421f8c0",
   "metadata": {},
   "outputs": [
    {
     "data": {
      "text/plain": [
       "count    3660.000000\n",
       "mean        2.533664\n",
       "std         2.980623\n",
       "min         0.070000\n",
       "25%         0.950000\n",
       "50%         1.520000\n",
       "75%         2.750000\n",
       "max        31.500000\n",
       "Name: price, dtype: float64"
      ]
     },
     "execution_count": 36,
     "metadata": {},
     "output_type": "execute_result"
    }
   ],
   "source": [
    "df['price'].describe()"
   ]
  },
  {
   "cell_type": "code",
   "execution_count": 41,
   "id": "de08f631",
   "metadata": {},
   "outputs": [
    {
     "data": {
      "image/png": "[encoded data removed]",
      "text/plain": [
       "<Figure size 640x480 with 1 Axes>"
      ]
     },
     "metadata": {},
     "output_type": "display_data"
    }
   ],
   "source": [
    "sns.histplot(df['price'], kde=True, bins=40)\n",
    "plt.show()"
   ]
  },
  {
   "cell_type": "code",
   "execution_count": 46,
   "id": "bda44903",
   "metadata": {},
   "outputs": [
    {
     "data": {
      "image/png": "[encoded data removed]",
      "text/plain": [
       "<Figure size 700x500 with 1 Axes>"
      ]
     },
     "metadata": {},
     "output_type": "display_data"
    }
   ],
   "source": [
    "plt.figure(figsize = (7,5))\n",
    "sns.boxplot(x=df['price'], color='lightgreen')\n",
    "plt.grid()"
   ]
  },
  {
   "cell_type": "markdown",
   "id": "9577d6cd",
   "metadata": {},
   "source": [
    "- Descriptive Statistics:\n",
    "\n",
    "    - Count: There are 3,660 non-missing price entries.\n",
    "    - Mean Price: The average price is approximately 2.53 crores.\n",
    "    - Median Price: The median (or 50th percentile) price is 1.52 crores.\n",
    "    - Standard Deviation: The prices have a standard deviation of 2.98, indicating variability in the prices.\n",
    "    - Range: Prices range from a minimum of 0.07 crores to a maximum of 31.5 crores.\n",
    "    - IQR: The interquartile range (difference between 75th and 25th percentile) is from 0.95 crores to 2.75 crores.\n",
    "\n",
    "\n",
    "- Visualizations:\n",
    "\n",
    "    - Distribution: The histogram indicates that most properties are priced in the lower range (below 5 crores), with a few properties going beyond 10 crores.\n",
    "    - Box Plot: The box plot showcases the spread of the data and potential outliers. Properties priced above approximately 10 crores might be considered outliers as they lie beyond the upper whisker of the box plot.\n",
    " \n",
    "\n",
    "- Missing Values: There are 17 missing values in the price column."
   ]
  },
  {
   "cell_type": "code",
   "execution_count": 48,
   "id": "cc742e0f",
   "metadata": {},
   "outputs": [
    {
     "name": "stdout",
     "output_type": "stream",
     "text": [
      "3.2791704733134623 14.933372629214258\n"
     ]
    }
   ],
   "source": [
    "# Skewness and Kurtosis\n",
    "skewness = df['price'].skew()\n",
    "kurtosis = df['price'].kurt()\n",
    "\n",
    "print(skewness,kurtosis)"
   ]
  },
  {
   "cell_type": "markdown",
   "id": "50a8fbba",
   "metadata": {},
   "source": [
    "**Skewness**: The price distribution has a skewness of approximately 3.28, indicating a positive skew. This means that the distribution tail is skewed to the right, which aligns with our observation from the histogram where most properties have prices on the lower end with a few high-priced properties.\n",
    "\n",
    "**Kurtosis**: The kurtosis value is approximately 14.93. A kurtosis value greater than 3 indicates a distribution with heavier tails and more outliers compared to a normal distribution."
   ]
  },
  {
   "cell_type": "code",
   "execution_count": 49,
   "id": "749b3fc9",
   "metadata": {},
   "outputs": [
    {
     "data": {
      "text/plain": [
       "0.01     0.250\n",
       "0.05     0.370\n",
       "0.95     8.500\n",
       "0.99    15.264\n",
       "Name: price, dtype: float64"
      ]
     },
     "execution_count": 49,
     "metadata": {},
     "output_type": "execute_result"
    }
   ],
   "source": [
    "# Quantile Analysis\n",
    "quantiles = df['price'].quantile([0.01, 0.05, 0.95, 0.99])\n",
    "\n",
    "quantiles"
   ]
  },
  {
   "cell_type": "markdown",
   "id": "f271db8f",
   "metadata": {},
   "source": [
    "Quantile Analysis:\n",
    "\n",
    "- 1% Quantile: Only 1% of properties are priced below 0.25 crores.\n",
    "- 5% Quantile: 5% of properties are priced below 0.37 crores.\n",
    "- 95% Quantile: 95% of properties are priced below 8.5 crores.\n",
    "- 99% Quantile: 99% of properties are priced below 15.26 crores, indicating that very few properties are priced above this value."
   ]
  },
  {
   "cell_type": "code",
   "execution_count": 50,
   "id": "78e93eb0",
   "metadata": {},
   "outputs": [
    {
     "data": {
      "text/plain": [
       "1.8"
      ]
     },
     "execution_count": 50,
     "metadata": {},
     "output_type": "execute_result"
    }
   ],
   "source": [
    "# Identify potential outliers using IQR method\n",
    "Q1 = df['price'].describe()['25%']\n",
    "Q3 = df['price'].describe()['75%']\n",
    "IQR = Q3 - Q1\n",
    "\n",
    "IQR"
   ]
  },
  {
   "cell_type": "code",
   "execution_count": 51,
   "id": "69f95b57",
   "metadata": {},
   "outputs": [
    {
     "name": "stdout",
     "output_type": "stream",
     "text": [
      "-1.7500000000000002 5.45\n"
     ]
    }
   ],
   "source": [
    "lower_bound = Q1 - 1.5 * IQR\n",
    "upper_bound = Q3 + 1.5 * IQR\n",
    "\n",
    "print(lower_bound, upper_bound)"
   ]
  },
  {
   "cell_type": "code",
   "execution_count": 52,
   "id": "9f261d39",
   "metadata": {},
   "outputs": [
    {
     "data": {
      "text/plain": [
       "(425, 23)"
      ]
     },
     "execution_count": 52,
     "metadata": {},
     "output_type": "execute_result"
    }
   ],
   "source": [
    "outliers = df[(df['price'] < lower_bound) | (df['price'] > upper_bound)]\n",
    "outliers.shape"
   ]
  },
  {
   "cell_type": "code",
   "execution_count": 53,
   "id": "18df75a7",
   "metadata": {},
   "outputs": [
    {
     "data": {
      "text/plain": [
       "count    425.000000\n",
       "mean       9.235624\n",
       "std        4.065259\n",
       "min        5.460000\n",
       "25%        6.460000\n",
       "50%        8.000000\n",
       "75%       10.750000\n",
       "max       31.500000\n",
       "Name: price, dtype: float64"
      ]
     },
     "execution_count": 53,
     "metadata": {},
     "output_type": "execute_result"
    }
   ],
   "source": [
    "outliers['price'].describe()"
   ]
  },
  {
   "cell_type": "markdown",
   "id": "4e7cb48b",
   "metadata": {},
   "source": [
    "Outliers Analysis (using IQR method):\n",
    "\n",
    "- Based on the IQR method, there are 425 properties considered as outliers.\n",
    "- These outliers have an average price of approximately 9.24 crores.\n",
    "- The range for these outliers is from 5.46 crores to 31.5 crores."
   ]
  },
  {
   "cell_type": "code",
   "execution_count": 55,
   "id": "0603ef9f",
   "metadata": {},
   "outputs": [
    {
     "data": {
      "image/png": "[encoded data removed]",
      "text/plain": [
       "<Figure size 640x480 with 1 Axes>"
      ]
     },
     "metadata": {},
     "output_type": "display_data"
    }
   ],
   "source": [
    "# price binning\n",
    "bins = [0, 1, 2, 3, 5, 10, 20, 50]\n",
    "bin_labels = [\"0-1\", \"1-2\", \"2-3\", \"3-5\", \"5-10\", \"10-20\", \"20-50\"]\n",
    "pd.cut(df['price'], bins=bins, labels=bin_labels, right=False).value_counts().sort_index().plot(kind='bar')\n",
    "plt.show()"
   ]
  },
  {
   "cell_type": "markdown",
   "id": "6e134dc6",
   "metadata": {},
   "source": [
    "- The majority of properties are priced in the \"1-2 crores\" and \"2-3 crores\" ranges.\n",
    "- There's a significant drop in the number of properties priced above \"5 crores.\""
   ]
  },
  {
   "cell_type": "code",
   "execution_count": 101,
   "id": "7c123e0f",
   "metadata": {},
   "outputs": [
    {
     "data": {
      "image/png": "[encoded data removed]",
      "text/plain": [
       "<Figure size 432x288 with 1 Axes>"
      ]
     },
     "metadata": {
      "needs_background": "light"
     },
     "output_type": "display_data"
    }
   ],
   "source": [
    "# ecdf plot\n",
    "ecdf = df['price'].value_counts().sort_index().cumsum() / len(df['price'])\n",
    "plt.plot(ecdf.index, ecdf, marker='.', linestyle='none')\n",
    "plt.grid()"
   ]
  },
  {
   "cell_type": "code",
   "execution_count": 175,
   "id": "20f1a097",
   "metadata": {},
   "outputs": [
    {
     "data": {
      "image/png": "[encoded data removed]",
      "text/plain": [
       "<Figure size 1080x432 with 2 Axes>"
      ]
     },
     "metadata": {
      "needs_background": "light"
     },
     "output_type": "display_data"
    }
   ],
   "source": [
    "plt.figure(figsize=(15, 6))\n",
    "\n",
    "# Distribution plot without log transformation\n",
    "plt.subplot(1, 2, 1)\n",
    "sns.histplot(df['price'], kde=True, bins=50, color='skyblue')\n",
    "plt.title('Distribution of Prices (Original)')\n",
    "plt.xlabel('Price (in Crores)')\n",
    "plt.ylabel('Frequency')\n",
    "\n",
    "# Distribution plot with log transformation\n",
    "plt.subplot(1, 2, 2)\n",
    "sns.histplot(np.log1p(df['price']), kde=True, bins=50, color='lightgreen')\n",
    "plt.title('Distribution of Prices (Log Transformed)')\n",
    "plt.xlabel('Log(Price)')\n",
    "plt.ylabel('Frequency')\n",
    "\n",
    "plt.tight_layout()\n",
    "plt.show()"
   ]
  },
  {
   "cell_type": "markdown",
   "id": "d6a5f839",
   "metadata": {},
   "source": [
    "np.log1p(x): This function computes the natural logarithm of 1+x. \n",
    "It's designed to provide more accurate results for values of x that are very close to zero.\n",
    "\n",
    "Using np.log1p helps in transforming the price column while ensuring that any value (including zero, if present) is handled appropriately. When we need to reverse the transformation, we can use np.expm1 which computes e^x-1"
   ]
  },
  {
   "cell_type": "code",
   "execution_count": 104,
   "id": "ceaf145c",
   "metadata": {},
   "outputs": [
    {
     "name": "stdout",
     "output_type": "stream",
     "text": [
      "1.0740709565255315 0.9646692415449296\n"
     ]
    }
   ],
   "source": [
    "skewness = np.log1p(df['price']).skew()\n",
    "kurtosis = np.log1p(df['price']).kurt()\n",
    "\n",
    "print(skewness,kurtosis)"
   ]
  },
  {
   "cell_type": "code",
   "execution_count": 106,
   "id": "d3132336",
   "metadata": {},
   "outputs": [
    {
     "name": "stderr",
     "output_type": "stream",
     "text": [
      "C:\\Users\\Nitish\\anaconda3\\lib\\site-packages\\seaborn\\_decorators.py:36: FutureWarning: Pass the following variable as a keyword arg: x. From version 0.12, the only valid positional argument will be `data`, and passing other arguments without an explicit keyword will result in an error or misinterpretation.\n",
      "  warnings.warn(\n",
      "C:\\Users\\Nitish\\anaconda3\\lib\\site-packages\\seaborn\\_decorators.py:36: FutureWarning: Pass the following variable as a keyword arg: x. From version 0.12, the only valid positional argument will be `data`, and passing other arguments without an explicit keyword will result in an error or misinterpretation.\n",
      "  warnings.warn(\n"
     ]
    },
    {
     "data": {
      "image/png": "[encoded data removed]",
      "text/plain": [
       "<Figure size 1080x432 with 2 Axes>"
      ]
     },
     "metadata": {
      "needs_background": "light"
     },
     "output_type": "display_data"
    }
   ],
   "source": [
    "plt.figure(figsize=(15, 6))\n",
    "\n",
    "# Distribution plot without log transformation\n",
    "plt.subplot(1, 2, 1)\n",
    "sns.boxplot(df['price'], color='skyblue')\n",
    "plt.title('Distribution of Prices (Original)')\n",
    "plt.xlabel('Price (in Crores)')\n",
    "plt.ylabel('Frequency')\n",
    "\n",
    "# Distribution plot with log transformation\n",
    "plt.subplot(1, 2, 2)\n",
    "sns.boxplot(np.log1p(df['price']), color='lightgreen')\n",
    "plt.title('Distribution of Prices (Log Transformed)')\n",
    "plt.xlabel('Log(Price)')\n",
    "plt.ylabel('Frequency')\n",
    "\n",
    "plt.tight_layout()\n",
    "plt.show()"
   ]
  },
  {
   "cell_type": "markdown",
   "id": "b2037bc7",
   "metadata": {},
   "source": [
    "### price_per_sqft"
   ]
  },
  {
   "cell_type": "code",
   "execution_count": 112,
   "id": "bd13da97",
   "metadata": {},
   "outputs": [
    {
     "data": {
      "text/plain": [
       "17"
      ]
     },
     "execution_count": 112,
     "metadata": {},
     "output_type": "execute_result"
    }
   ],
   "source": [
    "df['price_per_sqft'].isnull().sum()"
   ]
  },
  {
   "cell_type": "code",
   "execution_count": 113,
   "id": "1d3612b5",
   "metadata": {},
   "outputs": [
    {
     "data": {
      "text/plain": [
       "count      3660.000000\n",
       "mean      13892.668306\n",
       "std       23210.067190\n",
       "min           4.000000\n",
       "25%        6817.250000\n",
       "50%        9020.000000\n",
       "75%       13880.500000\n",
       "max      600000.000000\n",
       "Name: price_per_sqft, dtype: float64"
      ]
     },
     "execution_count": 113,
     "metadata": {},
     "output_type": "execute_result"
    }
   ],
   "source": [
    "df['price_per_sqft'].describe()"
   ]
  },
  {
   "cell_type": "code",
   "execution_count": 109,
   "id": "0cf69b14",
   "metadata": {},
   "outputs": [
    {
     "data": {
      "text/plain": [
       "<AxesSubplot:xlabel='price_per_sqft', ylabel='Count'>"
      ]
     },
     "execution_count": 109,
     "metadata": {},
     "output_type": "execute_result"
    },
    {
     "data": {
      "image/png": "[encoded data removed]",
      "text/plain": [
       "<Figure size 432x288 with 1 Axes>"
      ]
     },
     "metadata": {
      "needs_background": "light"
     },
     "output_type": "display_data"
    }
   ],
   "source": [
    "sns.histplot(df['price_per_sqft'], bins=50, color='skyblue', kde=True)"
   ]
  },
  {
   "cell_type": "markdown",
   "id": "726c9ed9",
   "metadata": {},
   "source": [
    "Most properties have a price_per_sqft ranging between approximately ₹0 and ₹40,000. There is a significant concentration in the lower range, with a few properties having exceptionally high price_per_sqft."
   ]
  },
  {
   "cell_type": "code",
   "execution_count": 110,
   "id": "a900435b",
   "metadata": {},
   "outputs": [
    {
     "name": "stderr",
     "output_type": "stream",
     "text": [
      "C:\\Users\\Nitish\\anaconda3\\lib\\site-packages\\seaborn\\_decorators.py:36: FutureWarning: Pass the following variable as a keyword arg: x. From version 0.12, the only valid positional argument will be `data`, and passing other arguments without an explicit keyword will result in an error or misinterpretation.\n",
      "  warnings.warn(\n"
     ]
    },
    {
     "data": {
      "text/plain": [
       "<AxesSubplot:xlabel='price_per_sqft'>"
      ]
     },
     "execution_count": 110,
     "metadata": {},
     "output_type": "execute_result"
    },
    {
     "data": {
      "image/png": "[encoded data removed]",
      "text/plain": [
       "<Figure size 432x288 with 1 Axes>"
      ]
     },
     "metadata": {
      "needs_background": "light"
     },
     "output_type": "display_data"
    }
   ],
   "source": [
    "sns.boxplot(df['price_per_sqft'], color='lightgreen')"
   ]
  },
  {
   "cell_type": "markdown",
   "id": "47f80503",
   "metadata": {},
   "source": [
    "The box plot clearly shows several outliers, especially on the higher side. The interquartile range (IQR) is relatively compact, but there are many data points beyond the \"whiskers\" of the box plot, indicating potential outliers"
   ]
  },
  {
   "cell_type": "markdown",
   "id": "5de82778",
   "metadata": {},
   "source": [
    "#### Observations\n",
    "\n",
    "- Potential Outliers\n",
    "- Right Skewed\n",
    "- 17 missing values"
   ]
  },
  {
   "cell_type": "markdown",
   "id": "93986c38",
   "metadata": {},
   "source": [
    "### bedRoom"
   ]
  },
  {
   "cell_type": "code",
   "execution_count": 115,
   "id": "7e849819",
   "metadata": {},
   "outputs": [
    {
     "data": {
      "text/plain": [
       "0"
      ]
     },
     "execution_count": 115,
     "metadata": {},
     "output_type": "execute_result"
    }
   ],
   "source": [
    "df['bedRoom'].isnull().sum()"
   ]
  },
  {
   "cell_type": "code",
   "execution_count": 117,
   "id": "463c7df3",
   "metadata": {},
   "outputs": [
    {
     "data": {
      "text/plain": [
       "<AxesSubplot:>"
      ]
     },
     "execution_count": 117,
     "metadata": {},
     "output_type": "execute_result"
    },
    {
     "data": {
      "image/png": "[encoded data removed]",
      "text/plain": [
       "<Figure size 432x288 with 1 Axes>"
      ]
     },
     "metadata": {
      "needs_background": "light"
     },
     "output_type": "display_data"
    }
   ],
   "source": [
    "df['bedRoom'].value_counts().sort_index().plot(kind='bar')"
   ]
  },
  {
   "cell_type": "code",
   "execution_count": 121,
   "id": "94fb78a0",
   "metadata": {},
   "outputs": [
    {
     "name": "stderr",
     "output_type": "stream",
     "text": [
      "C:\\Users\\Nitish\\anaconda3\\lib\\site-packages\\pandas\\plotting\\_matplotlib\\core.py:1616: MatplotlibDeprecationWarning: normalize=None does not normalize if the sum is less than 1 but this behavior is deprecated since 3.3 until two minor releases later. After the deprecation period the default value will be normalize=True. To prevent normalization pass normalize=False \n",
      "  results = ax.pie(y, labels=blabels, **kwds)\n"
     ]
    },
    {
     "data": {
      "text/plain": [
       "<AxesSubplot:ylabel='bedRoom'>"
      ]
     },
     "execution_count": 121,
     "metadata": {},
     "output_type": "execute_result"
    },
    {
     "data": {
      "image/png": "[encoded data removed]",
      "text/plain": [
       "<Figure size 432x288 with 1 Axes>"
      ]
     },
     "metadata": {},
     "output_type": "display_data"
    }
   ],
   "source": [
    "df['bedRoom'].value_counts(normalize=True).head().plot(kind='pie',autopct='%0.2f%%')"
   ]
  },
  {
   "cell_type": "markdown",
   "id": "9be3bcfd",
   "metadata": {},
   "source": [
    "### bathroom"
   ]
  },
  {
   "cell_type": "code",
   "execution_count": 123,
   "id": "95852d0a",
   "metadata": {},
   "outputs": [
    {
     "data": {
      "text/plain": [
       "0"
      ]
     },
     "execution_count": 123,
     "metadata": {},
     "output_type": "execute_result"
    }
   ],
   "source": [
    "df['bathroom'].isnull().sum()"
   ]
  },
  {
   "cell_type": "code",
   "execution_count": 124,
   "id": "dcd5f002",
   "metadata": {},
   "outputs": [
    {
     "data": {
      "text/plain": [
       "<AxesSubplot:>"
      ]
     },
     "execution_count": 124,
     "metadata": {},
     "output_type": "execute_result"
    },
    {
     "data": {
      "image/png": "[encoded data removed]",
      "text/plain": [
       "<Figure size 432x288 with 1 Axes>"
      ]
     },
     "metadata": {
      "needs_background": "light"
     },
     "output_type": "display_data"
    }
   ],
   "source": [
    "df['bathroom'].value_counts().sort_index().plot(kind='bar')"
   ]
  },
  {
   "cell_type": "code",
   "execution_count": 125,
   "id": "f02786e2",
   "metadata": {},
   "outputs": [
    {
     "name": "stderr",
     "output_type": "stream",
     "text": [
      "C:\\Users\\Nitish\\anaconda3\\lib\\site-packages\\pandas\\plotting\\_matplotlib\\core.py:1616: MatplotlibDeprecationWarning: normalize=None does not normalize if the sum is less than 1 but this behavior is deprecated since 3.3 until two minor releases later. After the deprecation period the default value will be normalize=True. To prevent normalization pass normalize=False \n",
      "  results = ax.pie(y, labels=blabels, **kwds)\n"
     ]
    },
    {
     "data": {
      "text/plain": [
       "<AxesSubplot:ylabel='bathroom'>"
      ]
     },
     "execution_count": 125,
     "metadata": {},
     "output_type": "execute_result"
    },
    {
     "data": {
      "image/png": "[encoded data removed]",
      "text/plain": [
       "<Figure size 432x288 with 1 Axes>"
      ]
     },
     "metadata": {},
     "output_type": "display_data"
    }
   ],
   "source": [
    "df['bathroom'].value_counts(normalize=True).head().plot(kind='pie',autopct='%0.2f%%')"
   ]
  },
  {
   "cell_type": "code",
   "execution_count": 126,
   "id": "58b6e0c2",
   "metadata": {},
   "outputs": [
    {
     "data": {
      "text/html": [
       "<div>\n",
       "<style scoped>\n",
       "    .dataframe tbody tr th:only-of-type {\n",
       "        vertical-align: middle;\n",
       "    }\n",
       "\n",
       "    .dataframe tbody tr th {\n",
       "        vertical-align: top;\n",
       "    }\n",
       "\n",
       "    .dataframe thead th {\n",
       "        text-align: right;\n",
       "    }\n",
       "</style>\n",
       "<table border=\"1\" class=\"dataframe\">\n",
       "  <thead>\n",
       "    <tr style=\"text-align: right;\">\n",
       "      <th></th>\n",
       "      <th>property_type</th>\n",
       "      <th>society</th>\n",
       "      <th>sector</th>\n",
       "      <th>price</th>\n",
       "      <th>price_per_sqft</th>\n",
       "      <th>area</th>\n",
       "      <th>areaWithType</th>\n",
       "      <th>bedRoom</th>\n",
       "      <th>bathroom</th>\n",
       "      <th>balcony</th>\n",
       "      <th>...</th>\n",
       "      <th>super_built_up_area</th>\n",
       "      <th>built_up_area</th>\n",
       "      <th>carpet_area</th>\n",
       "      <th>study room</th>\n",
       "      <th>servant room</th>\n",
       "      <th>store room</th>\n",
       "      <th>pooja room</th>\n",
       "      <th>others</th>\n",
       "      <th>furnishing_type</th>\n",
       "      <th>luxury_score</th>\n",
       "    </tr>\n",
       "  </thead>\n",
       "  <tbody>\n",
       "    <tr>\n",
       "      <th>0</th>\n",
       "      <td>flat</td>\n",
       "      <td>signature global park 4</td>\n",
       "      <td>sector 36</td>\n",
       "      <td>0.82</td>\n",
       "      <td>7585.0</td>\n",
       "      <td>1081.0</td>\n",
       "      <td>Super Built up area 1081(100.43 sq.m.)Carpet a...</td>\n",
       "      <td>3</td>\n",
       "      <td>2</td>\n",
       "      <td>2</td>\n",
       "      <td>...</td>\n",
       "      <td>1081.0</td>\n",
       "      <td>NaN</td>\n",
       "      <td>650.0</td>\n",
       "      <td>0</td>\n",
       "      <td>0</td>\n",
       "      <td>0</td>\n",
       "      <td>0</td>\n",
       "      <td>0</td>\n",
       "      <td>0</td>\n",
       "      <td>8</td>\n",
       "    </tr>\n",
       "    <tr>\n",
       "      <th>1</th>\n",
       "      <td>flat</td>\n",
       "      <td>smart world gems</td>\n",
       "      <td>sector 89</td>\n",
       "      <td>0.95</td>\n",
       "      <td>8600.0</td>\n",
       "      <td>1105.0</td>\n",
       "      <td>Carpet area: 1103 (102.47 sq.m.)</td>\n",
       "      <td>2</td>\n",
       "      <td>2</td>\n",
       "      <td>2</td>\n",
       "      <td>...</td>\n",
       "      <td>NaN</td>\n",
       "      <td>NaN</td>\n",
       "      <td>1103.0</td>\n",
       "      <td>1</td>\n",
       "      <td>1</td>\n",
       "      <td>0</td>\n",
       "      <td>0</td>\n",
       "      <td>0</td>\n",
       "      <td>0</td>\n",
       "      <td>38</td>\n",
       "    </tr>\n",
       "    <tr>\n",
       "      <th>2</th>\n",
       "      <td>flat</td>\n",
       "      <td>pyramid elite</td>\n",
       "      <td>sector 86</td>\n",
       "      <td>0.46</td>\n",
       "      <td>79.0</td>\n",
       "      <td>58228.0</td>\n",
       "      <td>Carpet area: 58141 (5401.48 sq.m.)</td>\n",
       "      <td>2</td>\n",
       "      <td>2</td>\n",
       "      <td>1</td>\n",
       "      <td>...</td>\n",
       "      <td>NaN</td>\n",
       "      <td>NaN</td>\n",
       "      <td>58141.0</td>\n",
       "      <td>0</td>\n",
       "      <td>0</td>\n",
       "      <td>0</td>\n",
       "      <td>0</td>\n",
       "      <td>0</td>\n",
       "      <td>0</td>\n",
       "      <td>15</td>\n",
       "    </tr>\n",
       "    <tr>\n",
       "      <th>3</th>\n",
       "      <td>flat</td>\n",
       "      <td>breez global hill view</td>\n",
       "      <td>sohna road</td>\n",
       "      <td>0.32</td>\n",
       "      <td>5470.0</td>\n",
       "      <td>585.0</td>\n",
       "      <td>Built Up area: 1000 (92.9 sq.m.)Carpet area: 5...</td>\n",
       "      <td>2</td>\n",
       "      <td>2</td>\n",
       "      <td>1</td>\n",
       "      <td>...</td>\n",
       "      <td>NaN</td>\n",
       "      <td>1000.0</td>\n",
       "      <td>585.0</td>\n",
       "      <td>0</td>\n",
       "      <td>0</td>\n",
       "      <td>0</td>\n",
       "      <td>0</td>\n",
       "      <td>0</td>\n",
       "      <td>0</td>\n",
       "      <td>49</td>\n",
       "    </tr>\n",
       "    <tr>\n",
       "      <th>4</th>\n",
       "      <td>flat</td>\n",
       "      <td>bestech park view sanskruti</td>\n",
       "      <td>sector 92</td>\n",
       "      <td>1.60</td>\n",
       "      <td>8020.0</td>\n",
       "      <td>1995.0</td>\n",
       "      <td>Super Built up area 1995(185.34 sq.m.)Built Up...</td>\n",
       "      <td>3</td>\n",
       "      <td>4</td>\n",
       "      <td>3+</td>\n",
       "      <td>...</td>\n",
       "      <td>1995.0</td>\n",
       "      <td>1615.0</td>\n",
       "      <td>1476.0</td>\n",
       "      <td>0</td>\n",
       "      <td>1</td>\n",
       "      <td>0</td>\n",
       "      <td>0</td>\n",
       "      <td>1</td>\n",
       "      <td>1</td>\n",
       "      <td>174</td>\n",
       "    </tr>\n",
       "  </tbody>\n",
       "</table>\n",
       "<p>5 rows × 23 columns</p>\n",
       "</div>"
      ],
      "text/plain": [
       "  property_type                      society      sector  price  \\\n",
       "0          flat      signature global park 4   sector 36   0.82   \n",
       "1          flat             smart world gems   sector 89   0.95   \n",
       "2          flat                pyramid elite   sector 86   0.46   \n",
       "3          flat       breez global hill view  sohna road   0.32   \n",
       "4          flat  bestech park view sanskruti   sector 92   1.60   \n",
       "\n",
       "   price_per_sqft     area                                       areaWithType  \\\n",
       "0          7585.0   1081.0  Super Built up area 1081(100.43 sq.m.)Carpet a...   \n",
       "1          8600.0   1105.0                   Carpet area: 1103 (102.47 sq.m.)   \n",
       "2            79.0  58228.0                 Carpet area: 58141 (5401.48 sq.m.)   \n",
       "3          5470.0    585.0  Built Up area: 1000 (92.9 sq.m.)Carpet area: 5...   \n",
       "4          8020.0   1995.0  Super Built up area 1995(185.34 sq.m.)Built Up...   \n",
       "\n",
       "   bedRoom  bathroom balcony  ...  super_built_up_area built_up_area  \\\n",
       "0        3         2       2  ...               1081.0           NaN   \n",
       "1        2         2       2  ...                  NaN           NaN   \n",
       "2        2         2       1  ...                  NaN           NaN   \n",
       "3        2         2       1  ...                  NaN        1000.0   \n",
       "4        3         4      3+  ...               1995.0        1615.0   \n",
       "\n",
       "  carpet_area  study room  servant room  store room  pooja room  others  \\\n",
       "0       650.0           0             0           0           0       0   \n",
       "1      1103.0           1             1           0           0       0   \n",
       "2     58141.0           0             0           0           0       0   \n",
       "3       585.0           0             0           0           0       0   \n",
       "4      1476.0           0             1           0           0       1   \n",
       "\n",
       "   furnishing_type  luxury_score  \n",
       "0                0             8  \n",
       "1                0            38  \n",
       "2                0            15  \n",
       "3                0            49  \n",
       "4                1           174  \n",
       "\n",
       "[5 rows x 23 columns]"
      ]
     },
     "execution_count": 126,
     "metadata": {},
     "output_type": "execute_result"
    }
   ],
   "source": [
    "df.head()"
   ]
  },
  {
   "cell_type": "markdown",
   "id": "55939f55",
   "metadata": {},
   "source": [
    "### balcony"
   ]
  },
  {
   "cell_type": "code",
   "execution_count": 127,
   "id": "6ee151d2",
   "metadata": {},
   "outputs": [
    {
     "data": {
      "text/plain": [
       "0"
      ]
     },
     "execution_count": 127,
     "metadata": {},
     "output_type": "execute_result"
    }
   ],
   "source": [
    "df['balcony'].isnull().sum()"
   ]
  },
  {
   "cell_type": "code",
   "execution_count": 129,
   "id": "a462267e",
   "metadata": {},
   "outputs": [
    {
     "data": {
      "text/plain": [
       "<AxesSubplot:>"
      ]
     },
     "execution_count": 129,
     "metadata": {},
     "output_type": "execute_result"
    },
    {
     "data": {
      "image/png": "[encoded data removed]",
      "text/plain": [
       "<Figure size 432x288 with 1 Axes>"
      ]
     },
     "metadata": {
      "needs_background": "light"
     },
     "output_type": "display_data"
    }
   ],
   "source": [
    "df['balcony'].value_counts().plot(kind='bar')"
   ]
  },
  {
   "cell_type": "code",
   "execution_count": 130,
   "id": "6259d58d",
   "metadata": {},
   "outputs": [
    {
     "data": {
      "text/plain": [
       "<AxesSubplot:ylabel='balcony'>"
      ]
     },
     "execution_count": 130,
     "metadata": {},
     "output_type": "execute_result"
    },
    {
     "data": {
      "image/png": "[encoded data removed]",
      "text/plain": [
       "<Figure size 432x288 with 1 Axes>"
      ]
     },
     "metadata": {},
     "output_type": "display_data"
    }
   ],
   "source": [
    "df['balcony'].value_counts(normalize=True).head().plot(kind='pie',autopct='%0.2f%%')"
   ]
  },
  {
   "cell_type": "code",
   "execution_count": 138,
   "id": "b08e29fc",
   "metadata": {},
   "outputs": [],
   "source": [
    "### floorNum"
   ]
  },
  {
   "cell_type": "code",
   "execution_count": 178,
   "id": "2795e161",
   "metadata": {},
   "outputs": [
    {
     "data": {
      "text/html": [
       "<div>\n",
       "<style scoped>\n",
       "    .dataframe tbody tr th:only-of-type {\n",
       "        vertical-align: middle;\n",
       "    }\n",
       "\n",
       "    .dataframe tbody tr th {\n",
       "        vertical-align: top;\n",
       "    }\n",
       "\n",
       "    .dataframe thead th {\n",
       "        text-align: right;\n",
       "    }\n",
       "</style>\n",
       "<table border=\"1\" class=\"dataframe\">\n",
       "  <thead>\n",
       "    <tr style=\"text-align: right;\">\n",
       "      <th></th>\n",
       "      <th>floorNum</th>\n",
       "      <th>facing</th>\n",
       "      <th>agePossession</th>\n",
       "      <th>super_built_up_area</th>\n",
       "      <th>built_up_area</th>\n",
       "      <th>carpet_area</th>\n",
       "      <th>study room</th>\n",
       "      <th>servant room</th>\n",
       "      <th>store room</th>\n",
       "      <th>pooja room</th>\n",
       "      <th>others</th>\n",
       "      <th>furnishing_type</th>\n",
       "      <th>luxury_score</th>\n",
       "    </tr>\n",
       "  </thead>\n",
       "  <tbody>\n",
       "    <tr>\n",
       "      <th>0</th>\n",
       "      <td>2.0</td>\n",
       "      <td>NA</td>\n",
       "      <td>New Property</td>\n",
       "      <td>1081.0</td>\n",
       "      <td>NaN</td>\n",
       "      <td>650.0</td>\n",
       "      <td>0</td>\n",
       "      <td>0</td>\n",
       "      <td>0</td>\n",
       "      <td>0</td>\n",
       "      <td>0</td>\n",
       "      <td>0</td>\n",
       "      <td>8</td>\n",
       "    </tr>\n",
       "    <tr>\n",
       "      <th>1</th>\n",
       "      <td>4.0</td>\n",
       "      <td>NA</td>\n",
       "      <td>New Property</td>\n",
       "      <td>NaN</td>\n",
       "      <td>NaN</td>\n",
       "      <td>1103.0</td>\n",
       "      <td>1</td>\n",
       "      <td>1</td>\n",
       "      <td>0</td>\n",
       "      <td>0</td>\n",
       "      <td>0</td>\n",
       "      <td>0</td>\n",
       "      <td>38</td>\n",
       "    </tr>\n",
       "    <tr>\n",
       "      <th>2</th>\n",
       "      <td>0.0</td>\n",
       "      <td>NA</td>\n",
       "      <td>Under Construction</td>\n",
       "      <td>NaN</td>\n",
       "      <td>NaN</td>\n",
       "      <td>58141.0</td>\n",
       "      <td>0</td>\n",
       "      <td>0</td>\n",
       "      <td>0</td>\n",
       "      <td>0</td>\n",
       "      <td>0</td>\n",
       "      <td>0</td>\n",
       "      <td>15</td>\n",
       "    </tr>\n",
       "    <tr>\n",
       "      <th>3</th>\n",
       "      <td>17.0</td>\n",
       "      <td>NA</td>\n",
       "      <td>New Property</td>\n",
       "      <td>NaN</td>\n",
       "      <td>1000.0</td>\n",
       "      <td>585.0</td>\n",
       "      <td>0</td>\n",
       "      <td>0</td>\n",
       "      <td>0</td>\n",
       "      <td>0</td>\n",
       "      <td>0</td>\n",
       "      <td>0</td>\n",
       "      <td>49</td>\n",
       "    </tr>\n",
       "    <tr>\n",
       "      <th>4</th>\n",
       "      <td>10.0</td>\n",
       "      <td>North-West</td>\n",
       "      <td>Relatively New</td>\n",
       "      <td>1995.0</td>\n",
       "      <td>1615.0</td>\n",
       "      <td>1476.0</td>\n",
       "      <td>0</td>\n",
       "      <td>1</td>\n",
       "      <td>0</td>\n",
       "      <td>0</td>\n",
       "      <td>1</td>\n",
       "      <td>1</td>\n",
       "      <td>174</td>\n",
       "    </tr>\n",
       "  </tbody>\n",
       "</table>\n",
       "</div>"
      ],
      "text/plain": [
       "   floorNum      facing       agePossession  super_built_up_area  \\\n",
       "0       2.0          NA        New Property               1081.0   \n",
       "1       4.0          NA        New Property                  NaN   \n",
       "2       0.0          NA  Under Construction                  NaN   \n",
       "3      17.0          NA        New Property                  NaN   \n",
       "4      10.0  North-West      Relatively New               1995.0   \n",
       "\n",
       "   built_up_area  carpet_area  study room  servant room  store room  \\\n",
       "0            NaN        650.0           0             0           0   \n",
       "1            NaN       1103.0           1             1           0   \n",
       "2            NaN      58141.0           0             0           0   \n",
       "3         1000.0        585.0           0             0           0   \n",
       "4         1615.0       1476.0           0             1           0   \n",
       "\n",
       "   pooja room  others  furnishing_type  luxury_score  \n",
       "0           0       0                0             8  \n",
       "1           0       0                0            38  \n",
       "2           0       0                0            15  \n",
       "3           0       0                0            49  \n",
       "4           0       1                1           174  "
      ]
     },
     "execution_count": 178,
     "metadata": {},
     "output_type": "execute_result"
    }
   ],
   "source": [
    "df.iloc[:,10:].head()"
   ]
  },
  {
   "cell_type": "code",
   "execution_count": 139,
   "id": "d038d3a1",
   "metadata": {},
   "outputs": [
    {
     "data": {
      "text/plain": [
       "19"
      ]
     },
     "execution_count": 139,
     "metadata": {},
     "output_type": "execute_result"
    }
   ],
   "source": [
    "df['floorNum'].isnull().sum()"
   ]
  },
  {
   "cell_type": "code",
   "execution_count": 140,
   "id": "b8334b15",
   "metadata": {},
   "outputs": [
    {
     "data": {
      "text/plain": [
       "count    3658.000000\n",
       "mean        6.798250\n",
       "std         6.012454\n",
       "min         0.000000\n",
       "25%         2.000000\n",
       "50%         5.000000\n",
       "75%        10.000000\n",
       "max        51.000000\n",
       "Name: floorNum, dtype: float64"
      ]
     },
     "execution_count": 140,
     "metadata": {},
     "output_type": "execute_result"
    }
   ],
   "source": [
    "df['floorNum'].describe()"
   ]
  },
  {
   "cell_type": "code",
   "execution_count": 141,
   "id": "94957df3",
   "metadata": {},
   "outputs": [
    {
     "data": {
      "text/plain": [
       "<AxesSubplot:>"
      ]
     },
     "execution_count": 141,
     "metadata": {},
     "output_type": "execute_result"
    },
    {
     "data": {
      "image/png": "[encoded data removed]",
      "text/plain": [
       "<Figure size 432x288 with 1 Axes>"
      ]
     },
     "metadata": {
      "needs_background": "light"
     },
     "output_type": "display_data"
    }
   ],
   "source": [
    "df['floorNum'].value_counts().sort_index().plot(kind='bar')"
   ]
  },
  {
   "cell_type": "code",
   "execution_count": 142,
   "id": "60eddfa7",
   "metadata": {},
   "outputs": [
    {
     "name": "stderr",
     "output_type": "stream",
     "text": [
      "C:\\Users\\Nitish\\anaconda3\\lib\\site-packages\\seaborn\\_decorators.py:36: FutureWarning: Pass the following variable as a keyword arg: x. From version 0.12, the only valid positional argument will be `data`, and passing other arguments without an explicit keyword will result in an error or misinterpretation.\n",
      "  warnings.warn(\n"
     ]
    },
    {
     "data": {
      "text/plain": [
       "<AxesSubplot:xlabel='floorNum'>"
      ]
     },
     "execution_count": 142,
     "metadata": {},
     "output_type": "execute_result"
    },
    {
     "data": {
      "image/png": "[encoded data removed]",
      "text/plain": [
       "<Figure size 432x288 with 1 Axes>"
      ]
     },
     "metadata": {
      "needs_background": "light"
     },
     "output_type": "display_data"
    }
   ],
   "source": [
    "sns.boxplot(df['floorNum'], color='lightgreen')"
   ]
  },
  {
   "cell_type": "markdown",
   "id": "04e65495",
   "metadata": {},
   "source": [
    "- The majority of the properties lie between the ground floor (0) and the 25th floor.\n",
    "- Floors 1 to 4 are particularly common, with the 3rd floor being the most frequent.\n",
    "- There are a few properties located at higher floors, but their frequency is much lower.\n",
    "- The box plot reveals that the majority of the properties are concentrated around the lower floors. The interquartile range (IQR) lies between approximately the 2nd and 10th floors.\n",
    "- Data points beyond the \"whiskers\" of the box plot, especially on the higher side, indicate potential outliers."
   ]
  },
  {
   "cell_type": "markdown",
   "id": "61599ee9",
   "metadata": {},
   "source": [
    "### facing"
   ]
  },
  {
   "cell_type": "code",
   "execution_count": 144,
   "id": "61624331",
   "metadata": {},
   "outputs": [
    {
     "data": {
      "text/plain": [
       "1045"
      ]
     },
     "execution_count": 144,
     "metadata": {},
     "output_type": "execute_result"
    }
   ],
   "source": [
    "df['facing'].isnull().sum()"
   ]
  },
  {
   "cell_type": "code",
   "execution_count": 145,
   "id": "a2ef3f80",
   "metadata": {},
   "outputs": [],
   "source": [
    "df['facing'].fillna('NA',inplace=True)"
   ]
  },
  {
   "cell_type": "code",
   "execution_count": 146,
   "id": "28bbd44d",
   "metadata": {},
   "outputs": [
    {
     "data": {
      "text/plain": [
       "NA            1045\n",
       "North-East     623\n",
       "East           623\n",
       "North          387\n",
       "West           249\n",
       "South          231\n",
       "North-West     193\n",
       "South-East     173\n",
       "South-West     153\n",
       "Name: facing, dtype: int64"
      ]
     },
     "execution_count": 146,
     "metadata": {},
     "output_type": "execute_result"
    }
   ],
   "source": [
    "df['facing'].value_counts()"
   ]
  },
  {
   "cell_type": "markdown",
   "id": "fe5548d1",
   "metadata": {},
   "source": [
    "### agePossession"
   ]
  },
  {
   "cell_type": "code",
   "execution_count": 148,
   "id": "6e7db74b",
   "metadata": {},
   "outputs": [
    {
     "data": {
      "text/plain": [
       "0"
      ]
     },
     "execution_count": 148,
     "metadata": {},
     "output_type": "execute_result"
    }
   ],
   "source": [
    "df['agePossession'].isnull().sum()"
   ]
  },
  {
   "cell_type": "code",
   "execution_count": 149,
   "id": "384c4c1d",
   "metadata": {},
   "outputs": [
    {
     "data": {
      "text/plain": [
       "Relatively New        1646\n",
       "New Property           593\n",
       "Moderately Old         563\n",
       "Undefined              306\n",
       "Old Property           303\n",
       "Under Construction     266\n",
       "Name: agePossession, dtype: int64"
      ]
     },
     "execution_count": 149,
     "metadata": {},
     "output_type": "execute_result"
    }
   ],
   "source": [
    "df['agePossession'].value_counts()"
   ]
  },
  {
   "cell_type": "markdown",
   "id": "a495a057",
   "metadata": {},
   "source": [
    "### areas"
   ]
  },
  {
   "cell_type": "code",
   "execution_count": 150,
   "id": "b2341d7e",
   "metadata": {},
   "outputs": [
    {
     "data": {
      "text/plain": [
       "1802"
      ]
     },
     "execution_count": 150,
     "metadata": {},
     "output_type": "execute_result"
    }
   ],
   "source": [
    "# super built up area\n",
    "df['super_built_up_area'].isnull().sum()"
   ]
  },
  {
   "cell_type": "code",
   "execution_count": 151,
   "id": "844f70bd",
   "metadata": {},
   "outputs": [
    {
     "data": {
      "text/plain": [
       "count     1875.000000\n",
       "mean      1925.237627\n",
       "std        764.172177\n",
       "min         89.000000\n",
       "25%       1479.500000\n",
       "50%       1828.000000\n",
       "75%       2215.000000\n",
       "max      10000.000000\n",
       "Name: super_built_up_area, dtype: float64"
      ]
     },
     "execution_count": 151,
     "metadata": {},
     "output_type": "execute_result"
    }
   ],
   "source": [
    "df['super_built_up_area'].describe()"
   ]
  },
  {
   "cell_type": "code",
   "execution_count": 153,
   "id": "f418a807",
   "metadata": {},
   "outputs": [
    {
     "data": {
      "text/plain": [
       "<AxesSubplot:xlabel='super_built_up_area', ylabel='Count'>"
      ]
     },
     "execution_count": 153,
     "metadata": {},
     "output_type": "execute_result"
    },
    {
     "data": {
      "image/png": "[encoded data removed]",
      "text/plain": [
       "<Figure size 432x288 with 1 Axes>"
      ]
     },
     "metadata": {
      "needs_background": "light"
     },
     "output_type": "display_data"
    }
   ],
   "source": [
    "sns.histplot(df['super_built_up_area'].dropna(), bins=50, color='skyblue', kde=True)"
   ]
  },
  {
   "cell_type": "code",
   "execution_count": 154,
   "id": "36553644",
   "metadata": {},
   "outputs": [
    {
     "name": "stderr",
     "output_type": "stream",
     "text": [
      "C:\\Users\\Nitish\\anaconda3\\lib\\site-packages\\seaborn\\_decorators.py:36: FutureWarning: Pass the following variable as a keyword arg: x. From version 0.12, the only valid positional argument will be `data`, and passing other arguments without an explicit keyword will result in an error or misinterpretation.\n",
      "  warnings.warn(\n"
     ]
    },
    {
     "data": {
      "text/plain": [
       "<AxesSubplot:xlabel='super_built_up_area'>"
      ]
     },
     "execution_count": 154,
     "metadata": {},
     "output_type": "execute_result"
    },
    {
     "data": {
      "image/png": "[encoded data removed]",
      "text/plain": [
       "<Figure size 432x288 with 1 Axes>"
      ]
     },
     "metadata": {
      "needs_background": "light"
     },
     "output_type": "display_data"
    }
   ],
   "source": [
    "sns.boxplot(df['super_built_up_area'].dropna(), color='lightgreen')"
   ]
  },
  {
   "cell_type": "markdown",
   "id": "e833804f",
   "metadata": {},
   "source": [
    "- Most properties have a super built-up area ranging between approximately 1,000 sq.ft and 2,500 sq.ft.\n",
    "- There are a few properties with a significantly larger area, leading to a right-skewed distribution.\n",
    "- The interquartile range (IQR) lies between roughly 1,480 sq.ft and 2,215 sq.ft, indicating that the middle 50% of the properties fall within this range.\n",
    "- There are several data points beyond the upper \"whisker\" of the box plot, indicating potential outliers. These are properties with an unusually large super built-up area."
   ]
  },
  {
   "cell_type": "code",
   "execution_count": 155,
   "id": "3d17d099",
   "metadata": {},
   "outputs": [
    {
     "data": {
      "text/plain": [
       "1987"
      ]
     },
     "execution_count": 155,
     "metadata": {},
     "output_type": "execute_result"
    }
   ],
   "source": [
    "# built up area\n",
    "df['built_up_area'].isnull().sum()"
   ]
  },
  {
   "cell_type": "code",
   "execution_count": 156,
   "id": "83944bae",
   "metadata": {},
   "outputs": [
    {
     "data": {
      "text/plain": [
       "count      1690.000000\n",
       "mean       2379.585816\n",
       "std       17942.880237\n",
       "min           2.000000\n",
       "25%        1100.000000\n",
       "50%        1650.000000\n",
       "75%        2400.000000\n",
       "max      737147.000000\n",
       "Name: built_up_area, dtype: float64"
      ]
     },
     "execution_count": 156,
     "metadata": {},
     "output_type": "execute_result"
    }
   ],
   "source": [
    "df['built_up_area'].describe()"
   ]
  },
  {
   "cell_type": "code",
   "execution_count": 157,
   "id": "8792556a",
   "metadata": {},
   "outputs": [
    {
     "data": {
      "text/plain": [
       "<AxesSubplot:xlabel='built_up_area', ylabel='Count'>"
      ]
     },
     "execution_count": 157,
     "metadata": {},
     "output_type": "execute_result"
    },
    {
     "data": {
      "image/png": "[encoded data removed]",
      "text/plain": [
       "<Figure size 432x288 with 1 Axes>"
      ]
     },
     "metadata": {
      "needs_background": "light"
     },
     "output_type": "display_data"
    }
   ],
   "source": [
    "sns.histplot(df['built_up_area'].dropna(), bins=50, color='skyblue', kde=False)"
   ]
  },
  {
   "cell_type": "code",
   "execution_count": 158,
   "id": "e68f6a27",
   "metadata": {},
   "outputs": [
    {
     "name": "stderr",
     "output_type": "stream",
     "text": [
      "C:\\Users\\Nitish\\anaconda3\\lib\\site-packages\\seaborn\\_decorators.py:36: FutureWarning: Pass the following variable as a keyword arg: x. From version 0.12, the only valid positional argument will be `data`, and passing other arguments without an explicit keyword will result in an error or misinterpretation.\n",
      "  warnings.warn(\n"
     ]
    },
    {
     "data": {
      "text/plain": [
       "<AxesSubplot:xlabel='built_up_area'>"
      ]
     },
     "execution_count": 158,
     "metadata": {},
     "output_type": "execute_result"
    },
    {
     "data": {
      "image/png": "[encoded data removed]",
      "text/plain": [
       "<Figure size 432x288 with 1 Axes>"
      ]
     },
     "metadata": {
      "needs_background": "light"
     },
     "output_type": "display_data"
    }
   ],
   "source": [
    "sns.boxplot(df['built_up_area'].dropna(), color='lightgreen')"
   ]
  },
  {
   "cell_type": "markdown",
   "id": "433bdf63",
   "metadata": {},
   "source": [
    "- Most properties have a built-up area ranging roughly between 500 sq.ft and 3,500 sq.ft.\n",
    "- There are very few properties with a much larger built-up area, leading to a highly right-skewed distribution.\n",
    "- The box plot confirms the presence of significant outliers on the higher side. The data's interquartile range (IQR) is relatively compact, but the \"whiskers\" of the box plot are stretched due to the outliers.\n",
    "\n",
    "\n",
    "The presence of extreme values, especially on the higher side, suggests that there may be outliers or data errors. This could also be due to some properties being exceptionally large, like a commercial complex or an entire building being listed."
   ]
  },
  {
   "cell_type": "code",
   "execution_count": 159,
   "id": "641fe937",
   "metadata": {},
   "outputs": [
    {
     "data": {
      "text/plain": [
       "1805"
      ]
     },
     "execution_count": 159,
     "metadata": {},
     "output_type": "execute_result"
    }
   ],
   "source": [
    "# carpet area\n",
    "df['carpet_area'].isnull().sum()"
   ]
  },
  {
   "cell_type": "code",
   "execution_count": 160,
   "id": "25762f4f",
   "metadata": {},
   "outputs": [
    {
     "data": {
      "text/plain": [
       "count      1872.000000\n",
       "mean       2529.179507\n",
       "std       22799.836449\n",
       "min          15.000000\n",
       "25%         843.000000\n",
       "50%        1300.000000\n",
       "75%        1790.000000\n",
       "max      607936.000000\n",
       "Name: carpet_area, dtype: float64"
      ]
     },
     "execution_count": 160,
     "metadata": {},
     "output_type": "execute_result"
    }
   ],
   "source": [
    "df['carpet_area'].describe()"
   ]
  },
  {
   "cell_type": "code",
   "execution_count": 161,
   "id": "ef834a74",
   "metadata": {},
   "outputs": [
    {
     "data": {
      "text/plain": [
       "<AxesSubplot:xlabel='carpet_area', ylabel='Count'>"
      ]
     },
     "execution_count": 161,
     "metadata": {},
     "output_type": "execute_result"
    },
    {
     "data": {
      "image/png": "[encoded data removed]",
      "text/plain": [
       "<Figure size 432x288 with 1 Axes>"
      ]
     },
     "metadata": {
      "needs_background": "light"
     },
     "output_type": "display_data"
    }
   ],
   "source": [
    "sns.histplot(df['carpet_area'].dropna(), bins=50, color='skyblue', kde=False)"
   ]
  },
  {
   "cell_type": "code",
   "execution_count": 162,
   "id": "087ce018",
   "metadata": {},
   "outputs": [
    {
     "name": "stderr",
     "output_type": "stream",
     "text": [
      "C:\\Users\\Nitish\\anaconda3\\lib\\site-packages\\seaborn\\_decorators.py:36: FutureWarning: Pass the following variable as a keyword arg: x. From version 0.12, the only valid positional argument will be `data`, and passing other arguments without an explicit keyword will result in an error or misinterpretation.\n",
      "  warnings.warn(\n"
     ]
    },
    {
     "data": {
      "text/plain": [
       "<AxesSubplot:xlabel='carpet_area'>"
      ]
     },
     "execution_count": 162,
     "metadata": {},
     "output_type": "execute_result"
    },
    {
     "data": {
      "image/png": "[encoded data removed]",
      "text/plain": [
       "<Figure size 432x288 with 1 Axes>"
      ]
     },
     "metadata": {
      "needs_background": "light"
     },
     "output_type": "display_data"
    }
   ],
   "source": [
    "sns.boxplot(df['carpet_area'].dropna(), color='lightgreen')"
   ]
  },
  {
   "cell_type": "code",
   "execution_count": 164,
   "id": "a7e7ab88",
   "metadata": {},
   "outputs": [
    {
     "data": {
      "text/html": [
       "<div>\n",
       "<style scoped>\n",
       "    .dataframe tbody tr th:only-of-type {\n",
       "        vertical-align: middle;\n",
       "    }\n",
       "\n",
       "    .dataframe tbody tr th {\n",
       "        vertical-align: top;\n",
       "    }\n",
       "\n",
       "    .dataframe thead th {\n",
       "        text-align: right;\n",
       "    }\n",
       "</style>\n",
       "<table border=\"1\" class=\"dataframe\">\n",
       "  <thead>\n",
       "    <tr style=\"text-align: right;\">\n",
       "      <th></th>\n",
       "      <th>study room</th>\n",
       "      <th>servant room</th>\n",
       "      <th>store room</th>\n",
       "      <th>pooja room</th>\n",
       "      <th>others</th>\n",
       "      <th>furnishing_type</th>\n",
       "      <th>luxury_score</th>\n",
       "    </tr>\n",
       "  </thead>\n",
       "  <tbody>\n",
       "    <tr>\n",
       "      <th>0</th>\n",
       "      <td>0</td>\n",
       "      <td>0</td>\n",
       "      <td>0</td>\n",
       "      <td>0</td>\n",
       "      <td>0</td>\n",
       "      <td>0</td>\n",
       "      <td>8</td>\n",
       "    </tr>\n",
       "    <tr>\n",
       "      <th>1</th>\n",
       "      <td>1</td>\n",
       "      <td>1</td>\n",
       "      <td>0</td>\n",
       "      <td>0</td>\n",
       "      <td>0</td>\n",
       "      <td>0</td>\n",
       "      <td>38</td>\n",
       "    </tr>\n",
       "    <tr>\n",
       "      <th>2</th>\n",
       "      <td>0</td>\n",
       "      <td>0</td>\n",
       "      <td>0</td>\n",
       "      <td>0</td>\n",
       "      <td>0</td>\n",
       "      <td>0</td>\n",
       "      <td>15</td>\n",
       "    </tr>\n",
       "    <tr>\n",
       "      <th>3</th>\n",
       "      <td>0</td>\n",
       "      <td>0</td>\n",
       "      <td>0</td>\n",
       "      <td>0</td>\n",
       "      <td>0</td>\n",
       "      <td>0</td>\n",
       "      <td>49</td>\n",
       "    </tr>\n",
       "    <tr>\n",
       "      <th>4</th>\n",
       "      <td>0</td>\n",
       "      <td>1</td>\n",
       "      <td>0</td>\n",
       "      <td>0</td>\n",
       "      <td>1</td>\n",
       "      <td>1</td>\n",
       "      <td>174</td>\n",
       "    </tr>\n",
       "    <tr>\n",
       "      <th>...</th>\n",
       "      <td>...</td>\n",
       "      <td>...</td>\n",
       "      <td>...</td>\n",
       "      <td>...</td>\n",
       "      <td>...</td>\n",
       "      <td>...</td>\n",
       "      <td>...</td>\n",
       "    </tr>\n",
       "    <tr>\n",
       "      <th>3798</th>\n",
       "      <td>0</td>\n",
       "      <td>0</td>\n",
       "      <td>0</td>\n",
       "      <td>0</td>\n",
       "      <td>0</td>\n",
       "      <td>0</td>\n",
       "      <td>73</td>\n",
       "    </tr>\n",
       "    <tr>\n",
       "      <th>3799</th>\n",
       "      <td>1</td>\n",
       "      <td>1</td>\n",
       "      <td>1</td>\n",
       "      <td>1</td>\n",
       "      <td>0</td>\n",
       "      <td>0</td>\n",
       "      <td>160</td>\n",
       "    </tr>\n",
       "    <tr>\n",
       "      <th>3800</th>\n",
       "      <td>0</td>\n",
       "      <td>0</td>\n",
       "      <td>0</td>\n",
       "      <td>0</td>\n",
       "      <td>0</td>\n",
       "      <td>1</td>\n",
       "      <td>67</td>\n",
       "    </tr>\n",
       "    <tr>\n",
       "      <th>3801</th>\n",
       "      <td>1</td>\n",
       "      <td>1</td>\n",
       "      <td>1</td>\n",
       "      <td>1</td>\n",
       "      <td>0</td>\n",
       "      <td>0</td>\n",
       "      <td>76</td>\n",
       "    </tr>\n",
       "    <tr>\n",
       "      <th>3802</th>\n",
       "      <td>0</td>\n",
       "      <td>0</td>\n",
       "      <td>0</td>\n",
       "      <td>0</td>\n",
       "      <td>0</td>\n",
       "      <td>1</td>\n",
       "      <td>126</td>\n",
       "    </tr>\n",
       "  </tbody>\n",
       "</table>\n",
       "<p>3677 rows × 7 columns</p>\n",
       "</div>"
      ],
      "text/plain": [
       "      study room  servant room  store room  pooja room  others  \\\n",
       "0              0             0           0           0       0   \n",
       "1              1             1           0           0       0   \n",
       "2              0             0           0           0       0   \n",
       "3              0             0           0           0       0   \n",
       "4              0             1           0           0       1   \n",
       "...          ...           ...         ...         ...     ...   \n",
       "3798           0             0           0           0       0   \n",
       "3799           1             1           1           1       0   \n",
       "3800           0             0           0           0       0   \n",
       "3801           1             1           1           1       0   \n",
       "3802           0             0           0           0       0   \n",
       "\n",
       "      furnishing_type  luxury_score  \n",
       "0                   0             8  \n",
       "1                   0            38  \n",
       "2                   0            15  \n",
       "3                   0            49  \n",
       "4                   1           174  \n",
       "...               ...           ...  \n",
       "3798                0            73  \n",
       "3799                0           160  \n",
       "3800                1            67  \n",
       "3801                0            76  \n",
       "3802                1           126  \n",
       "\n",
       "[3677 rows x 7 columns]"
      ]
     },
     "execution_count": 164,
     "metadata": {},
     "output_type": "execute_result"
    }
   ],
   "source": [
    "df.iloc[:,16:]"
   ]
  },
  {
   "cell_type": "markdown",
   "id": "11b5ec70",
   "metadata": {},
   "source": [
    "### additional rooms"
   ]
  },
  {
   "cell_type": "code",
   "execution_count": 167,
   "id": "6487fdca",
   "metadata": {},
   "outputs": [
    {
     "data": {
      "image/png": "[encoded data removed]",
      "text/plain": [
       "<Figure size 1440x864 with 5 Axes>"
      ]
     },
     "metadata": {},
     "output_type": "display_data"
    }
   ],
   "source": [
    "plt.figure(figsize=(20, 12))\n",
    "\n",
    "# Create a subplot of pie charts for each room type\n",
    "for idx, room in enumerate(['study room','servant room','store room','pooja room','others'], 1):\n",
    "    ax = plt.subplot(2, 3, idx)\n",
    "    df[room].value_counts().plot.pie(autopct='%1.1f%%', startangle=90, ax=ax)\n",
    "    plt.title(f'Distribution of {room.title()}')\n",
    "    plt.ylabel('')\n",
    "\n",
    "plt.tight_layout()\n",
    "plt.show()"
   ]
  },
  {
   "cell_type": "markdown",
   "id": "b7b1463e",
   "metadata": {},
   "source": [
    "### furnishing_type"
   ]
  },
  {
   "cell_type": "code",
   "execution_count": 168,
   "id": "a87e4146",
   "metadata": {},
   "outputs": [
    {
     "data": {
      "text/plain": [
       "0    2411\n",
       "1    1059\n",
       "2     207\n",
       "Name: furnishing_type, dtype: int64"
      ]
     },
     "execution_count": 168,
     "metadata": {},
     "output_type": "execute_result"
    }
   ],
   "source": [
    "df['furnishing_type'].value_counts()"
   ]
  },
  {
   "cell_type": "code",
   "execution_count": 169,
   "id": "2755c142",
   "metadata": {},
   "outputs": [
    {
     "data": {
      "text/plain": [
       "<AxesSubplot:ylabel='furnishing_type'>"
      ]
     },
     "execution_count": 169,
     "metadata": {},
     "output_type": "execute_result"
    },
    {
     "data": {
      "image/png": "[encoded data removed]",
      "text/plain": [
       "<Figure size 432x288 with 1 Axes>"
      ]
     },
     "metadata": {},
     "output_type": "display_data"
    }
   ],
   "source": [
    "df['furnishing_type'].value_counts().plot(kind='pie',autopct='%0.2f%%')"
   ]
  },
  {
   "cell_type": "markdown",
   "id": "45667571",
   "metadata": {},
   "source": [
    "### luxury score"
   ]
  },
  {
   "cell_type": "code",
   "execution_count": 170,
   "id": "6fd44801",
   "metadata": {},
   "outputs": [
    {
     "data": {
      "text/plain": [
       "0"
      ]
     },
     "execution_count": 170,
     "metadata": {},
     "output_type": "execute_result"
    }
   ],
   "source": [
    "df['luxury_score'].isnull().sum()"
   ]
  },
  {
   "cell_type": "code",
   "execution_count": 171,
   "id": "9b2088a9",
   "metadata": {},
   "outputs": [
    {
     "data": {
      "text/plain": [
       "count    3677.000000\n",
       "mean       71.512918\n",
       "std        53.059082\n",
       "min         0.000000\n",
       "25%        31.000000\n",
       "50%        59.000000\n",
       "75%       110.000000\n",
       "max       174.000000\n",
       "Name: luxury_score, dtype: float64"
      ]
     },
     "execution_count": 171,
     "metadata": {},
     "output_type": "execute_result"
    }
   ],
   "source": [
    "df['luxury_score'].describe()"
   ]
  },
  {
   "cell_type": "code",
   "execution_count": 172,
   "id": "ffb216f6",
   "metadata": {},
   "outputs": [
    {
     "data": {
      "text/plain": [
       "<AxesSubplot:xlabel='luxury_score', ylabel='Count'>"
      ]
     },
     "execution_count": 172,
     "metadata": {},
     "output_type": "execute_result"
    },
    {
     "data": {
      "image/png": "[encoded data removed]",
      "text/plain": [
       "<Figure size 432x288 with 1 Axes>"
      ]
     },
     "metadata": {
      "needs_background": "light"
     },
     "output_type": "display_data"
    }
   ],
   "source": [
    "sns.histplot(df['luxury_score'], bins=50, color='skyblue', kde=True)"
   ]
  },
  {
   "cell_type": "code",
   "execution_count": 173,
   "id": "582655a7",
   "metadata": {},
   "outputs": [
    {
     "name": "stderr",
     "output_type": "stream",
     "text": [
      "C:\\Users\\Nitish\\anaconda3\\lib\\site-packages\\seaborn\\_decorators.py:36: FutureWarning: Pass the following variable as a keyword arg: x. From version 0.12, the only valid positional argument will be `data`, and passing other arguments without an explicit keyword will result in an error or misinterpretation.\n",
      "  warnings.warn(\n"
     ]
    },
    {
     "data": {
      "text/plain": [
       "<AxesSubplot:xlabel='luxury_score'>"
      ]
     },
     "execution_count": 173,
     "metadata": {},
     "output_type": "execute_result"
    },
    {
     "data": {
      "image/png": "[encoded data removed]",
      "text/plain": [
       "<Figure size 432x288 with 1 Axes>"
      ]
     },
     "metadata": {
      "needs_background": "light"
     },
     "output_type": "display_data"
    }
   ],
   "source": [
    "sns.boxplot(df['luxury_score'], color='lightgreen')"
   ]
  },
  {
   "cell_type": "markdown",
   "id": "b61857c5",
   "metadata": {},
   "source": [
    "The luxury score distribution has multiple peaks, suggesting a multi-modal distribution. There's a significant number of properties with lower luxury scores (around 0-50), and another peak is observed around the 110-130 range.\n",
    "\n",
    "The box plot reveals that the majority of the properties have luxury scores between approximately 30 and 110. The interquartile range (IQR) lies between these values."
   ]
  },
  {
   "cell_type": "code",
   "execution_count": 179,
   "id": "6cf55e3d",
   "metadata": {},
   "outputs": [
    {
     "data": {
      "text/html": [
       "<div>\n",
       "<style scoped>\n",
       "    .dataframe tbody tr th:only-of-type {\n",
       "        vertical-align: middle;\n",
       "    }\n",
       "\n",
       "    .dataframe tbody tr th {\n",
       "        vertical-align: top;\n",
       "    }\n",
       "\n",
       "    .dataframe thead th {\n",
       "        text-align: right;\n",
       "    }\n",
       "</style>\n",
       "<table border=\"1\" class=\"dataframe\">\n",
       "  <thead>\n",
       "    <tr style=\"text-align: right;\">\n",
       "      <th></th>\n",
       "      <th>property_type</th>\n",
       "      <th>society</th>\n",
       "      <th>sector</th>\n",
       "      <th>price</th>\n",
       "      <th>price_per_sqft</th>\n",
       "      <th>area</th>\n",
       "      <th>areaWithType</th>\n",
       "      <th>bedRoom</th>\n",
       "      <th>bathroom</th>\n",
       "      <th>balcony</th>\n",
       "      <th>...</th>\n",
       "      <th>super_built_up_area</th>\n",
       "      <th>built_up_area</th>\n",
       "      <th>carpet_area</th>\n",
       "      <th>study room</th>\n",
       "      <th>servant room</th>\n",
       "      <th>store room</th>\n",
       "      <th>pooja room</th>\n",
       "      <th>others</th>\n",
       "      <th>furnishing_type</th>\n",
       "      <th>luxury_score</th>\n",
       "    </tr>\n",
       "  </thead>\n",
       "  <tbody>\n",
       "    <tr>\n",
       "      <th>0</th>\n",
       "      <td>flat</td>\n",
       "      <td>signature global park 4</td>\n",
       "      <td>sector 36</td>\n",
       "      <td>0.82</td>\n",
       "      <td>7585.0</td>\n",
       "      <td>1081.0</td>\n",
       "      <td>Super Built up area 1081(100.43 sq.m.)Carpet a...</td>\n",
       "      <td>3</td>\n",
       "      <td>2</td>\n",
       "      <td>2</td>\n",
       "      <td>...</td>\n",
       "      <td>1081.0</td>\n",
       "      <td>NaN</td>\n",
       "      <td>650.0</td>\n",
       "      <td>0</td>\n",
       "      <td>0</td>\n",
       "      <td>0</td>\n",
       "      <td>0</td>\n",
       "      <td>0</td>\n",
       "      <td>0</td>\n",
       "      <td>8</td>\n",
       "    </tr>\n",
       "    <tr>\n",
       "      <th>1</th>\n",
       "      <td>flat</td>\n",
       "      <td>smart world gems</td>\n",
       "      <td>sector 89</td>\n",
       "      <td>0.95</td>\n",
       "      <td>8600.0</td>\n",
       "      <td>1105.0</td>\n",
       "      <td>Carpet area: 1103 (102.47 sq.m.)</td>\n",
       "      <td>2</td>\n",
       "      <td>2</td>\n",
       "      <td>2</td>\n",
       "      <td>...</td>\n",
       "      <td>NaN</td>\n",
       "      <td>NaN</td>\n",
       "      <td>1103.0</td>\n",
       "      <td>1</td>\n",
       "      <td>1</td>\n",
       "      <td>0</td>\n",
       "      <td>0</td>\n",
       "      <td>0</td>\n",
       "      <td>0</td>\n",
       "      <td>38</td>\n",
       "    </tr>\n",
       "    <tr>\n",
       "      <th>2</th>\n",
       "      <td>flat</td>\n",
       "      <td>pyramid elite</td>\n",
       "      <td>sector 86</td>\n",
       "      <td>0.46</td>\n",
       "      <td>79.0</td>\n",
       "      <td>58228.0</td>\n",
       "      <td>Carpet area: 58141 (5401.48 sq.m.)</td>\n",
       "      <td>2</td>\n",
       "      <td>2</td>\n",
       "      <td>1</td>\n",
       "      <td>...</td>\n",
       "      <td>NaN</td>\n",
       "      <td>NaN</td>\n",
       "      <td>58141.0</td>\n",
       "      <td>0</td>\n",
       "      <td>0</td>\n",
       "      <td>0</td>\n",
       "      <td>0</td>\n",
       "      <td>0</td>\n",
       "      <td>0</td>\n",
       "      <td>15</td>\n",
       "    </tr>\n",
       "    <tr>\n",
       "      <th>3</th>\n",
       "      <td>flat</td>\n",
       "      <td>breez global hill view</td>\n",
       "      <td>sohna road</td>\n",
       "      <td>0.32</td>\n",
       "      <td>5470.0</td>\n",
       "      <td>585.0</td>\n",
       "      <td>Built Up area: 1000 (92.9 sq.m.)Carpet area: 5...</td>\n",
       "      <td>2</td>\n",
       "      <td>2</td>\n",
       "      <td>1</td>\n",
       "      <td>...</td>\n",
       "      <td>NaN</td>\n",
       "      <td>1000.0</td>\n",
       "      <td>585.0</td>\n",
       "      <td>0</td>\n",
       "      <td>0</td>\n",
       "      <td>0</td>\n",
       "      <td>0</td>\n",
       "      <td>0</td>\n",
       "      <td>0</td>\n",
       "      <td>49</td>\n",
       "    </tr>\n",
       "    <tr>\n",
       "      <th>4</th>\n",
       "      <td>flat</td>\n",
       "      <td>bestech park view sanskruti</td>\n",
       "      <td>sector 92</td>\n",
       "      <td>1.60</td>\n",
       "      <td>8020.0</td>\n",
       "      <td>1995.0</td>\n",
       "      <td>Super Built up area 1995(185.34 sq.m.)Built Up...</td>\n",
       "      <td>3</td>\n",
       "      <td>4</td>\n",
       "      <td>3+</td>\n",
       "      <td>...</td>\n",
       "      <td>1995.0</td>\n",
       "      <td>1615.0</td>\n",
       "      <td>1476.0</td>\n",
       "      <td>0</td>\n",
       "      <td>1</td>\n",
       "      <td>0</td>\n",
       "      <td>0</td>\n",
       "      <td>1</td>\n",
       "      <td>1</td>\n",
       "      <td>174</td>\n",
       "    </tr>\n",
       "  </tbody>\n",
       "</table>\n",
       "<p>5 rows × 23 columns</p>\n",
       "</div>"
      ],
      "text/plain": [
       "  property_type                      society      sector  price  \\\n",
       "0          flat      signature global park 4   sector 36   0.82   \n",
       "1          flat             smart world gems   sector 89   0.95   \n",
       "2          flat                pyramid elite   sector 86   0.46   \n",
       "3          flat       breez global hill view  sohna road   0.32   \n",
       "4          flat  bestech park view sanskruti   sector 92   1.60   \n",
       "\n",
       "   price_per_sqft     area                                       areaWithType  \\\n",
       "0          7585.0   1081.0  Super Built up area 1081(100.43 sq.m.)Carpet a...   \n",
       "1          8600.0   1105.0                   Carpet area: 1103 (102.47 sq.m.)   \n",
       "2            79.0  58228.0                 Carpet area: 58141 (5401.48 sq.m.)   \n",
       "3          5470.0    585.0  Built Up area: 1000 (92.9 sq.m.)Carpet area: 5...   \n",
       "4          8020.0   1995.0  Super Built up area 1995(185.34 sq.m.)Built Up...   \n",
       "\n",
       "   bedRoom  bathroom balcony  ...  super_built_up_area built_up_area  \\\n",
       "0        3         2       2  ...               1081.0           NaN   \n",
       "1        2         2       2  ...                  NaN           NaN   \n",
       "2        2         2       1  ...                  NaN           NaN   \n",
       "3        2         2       1  ...                  NaN        1000.0   \n",
       "4        3         4      3+  ...               1995.0        1615.0   \n",
       "\n",
       "  carpet_area  study room  servant room  store room  pooja room  others  \\\n",
       "0       650.0           0             0           0           0       0   \n",
       "1      1103.0           1             1           0           0       0   \n",
       "2     58141.0           0             0           0           0       0   \n",
       "3       585.0           0             0           0           0       0   \n",
       "4      1476.0           0             1           0           0       1   \n",
       "\n",
       "   furnishing_type  luxury_score  \n",
       "0                0             8  \n",
       "1                0            38  \n",
       "2                0            15  \n",
       "3                0            49  \n",
       "4                1           174  \n",
       "\n",
       "[5 rows x 23 columns]"
      ]
     },
     "execution_count": 179,
     "metadata": {},
     "output_type": "execute_result"
    }
   ],
   "source": [
    "df.head()"
   ]
  },
  {
   "cell_type": "code",
   "execution_count": null,
   "id": "4c65ac19",
   "metadata": {},
   "outputs": [],
   "source": []
  }
 ],
 "metadata": {
  "kernelspec": {
   "display_name": "Python 3 (ipykernel)",
   "language": "python",
   "name": "python3"
  },
  "language_info": {
   "codemirror_mode": {
    "name": "ipython",
    "version": 3
   },
   "file_extension": ".py",
   "mimetype": "text/x-python",
   "name": "python",
   "nbconvert_exporter": "python",
   "pygments_lexer": "ipython3",
   "version": "3.8.10"
  }
 },
 "nbformat": 4,
 "nbformat_minor": 5
}
